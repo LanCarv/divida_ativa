{
 "cells": [
  {
   "attachments": {},
   "cell_type": "markdown",
   "metadata": {},
   "source": [
    "# Obtenção de rating do contribuinte\n",
    "\n",
    "Com o objetivo de direcionar o modelo que ditá quais dívidas são melhores de recuperar, será realizado um rating que envolva apenas as variáveis do contribuinte."
   ]
  },
  {
   "cell_type": "code",
   "execution_count": 95,
   "metadata": {},
   "outputs": [],
   "source": [
    "import os\n",
    "import dotenv\n",
    "import zipfile\n",
    "import pandas as pd\n",
    "import numpy as np\n",
    "from datetime import date\n",
    "\n",
    "from sklearn.cluster import KMeans\n",
    "from sklearn.model_selection import train_test_split\n",
    "from sklearn.ensemble import RandomForestClassifier\n",
    "from sklearn.discriminant_analysis import LinearDiscriminantAnalysis\n",
    "from sklearn.preprocessing import OneHotEncoder\n",
    "\n",
    "import seaborn as sns\n",
    "from matplotlib import pyplot as plt\n",
    "import plotly.graph_objects as go\n",
    "\n",
    "import pickle\n",
    "import shutil"
   ]
  },
  {
   "cell_type": "code",
   "execution_count": 96,
   "metadata": {},
   "outputs": [],
   "source": [
    "import warnings\n",
    "warnings.filterwarnings(\"ignore\")"
   ]
  },
  {
   "cell_type": "code",
   "execution_count": 97,
   "metadata": {},
   "outputs": [
    {
     "data": {
      "text/plain": [
       "True"
      ]
     },
     "execution_count": 97,
     "metadata": {},
     "output_type": "execute_result"
    }
   ],
   "source": [
    "rootPath = os.getcwd()\n",
    "dataPath = os.path.join(rootPath, 'data')\n",
    "modelsPath = os.path.join(rootPath, 'models')\n",
    "env = os.path.join(rootPath, '.env')\n",
    "dotenv.load_dotenv(dotenv_path=env)"
   ]
  },
  {
   "cell_type": "code",
   "execution_count": 98,
   "metadata": {},
   "outputs": [],
   "source": [
    "import locale\n",
    "\n",
    "locale.setlocale(locale.LC_ALL, 'pt_BR.UTF-8')\n",
    "\n",
    "\n",
    "def formatar_moeda(valor):\n",
    "    return locale.currency(valor, grouping=True)"
   ]
  },
  {
   "attachments": {},
   "cell_type": "markdown",
   "metadata": {},
   "source": [
    "# 01) Importando dados"
   ]
  },
  {
   "cell_type": "code",
   "execution_count": 99,
   "metadata": {},
   "outputs": [],
   "source": [
    "zip_file = os.path.join(dataPath, 'base_treino.zip')\n",
    "z = zipfile.ZipFile(zip_file)"
   ]
  },
  {
   "cell_type": "code",
   "execution_count": 100,
   "metadata": {},
   "outputs": [],
   "source": [
    "def ler_bases_exportadas(nome_arquivo):\n",
    "    z.extract(nome_arquivo)\n",
    "    df = pd.read_csv(nome_arquivo, sep=',')\n",
    "    os.remove(nome_arquivo)\n",
    "    return df"
   ]
  },
  {
   "cell_type": "code",
   "execution_count": 101,
   "metadata": {},
   "outputs": [],
   "source": [
    "base_conjunta = ler_bases_exportadas('imovel_mercantil.csv')\n",
    "# base_imovel = ler_bases_exportadas('imovel.csv')\n",
    "# base_mercantil = ler_bases_exportadas('mercantil.csv')\n",
    "base_notas_fiscais = ler_bases_exportadas('emissao_notas.csv')"
   ]
  },
  {
   "cell_type": "code",
   "execution_count": 16,
   "metadata": {},
   "outputs": [
    {
     "data": {
      "text/html": [
       "<div>\n",
       "<style scoped>\n",
       "    .dataframe tbody tr th:only-of-type {\n",
       "        vertical-align: middle;\n",
       "    }\n",
       "\n",
       "    .dataframe tbody tr th {\n",
       "        vertical-align: top;\n",
       "    }\n",
       "\n",
       "    .dataframe thead th {\n",
       "        text-align: right;\n",
       "    }\n",
       "</style>\n",
       "<table border=\"1\" class=\"dataframe\">\n",
       "  <thead>\n",
       "    <tr style=\"text-align: right;\">\n",
       "      <th></th>\n",
       "      <th>cda</th>\n",
       "      <th>contagem</th>\n",
       "    </tr>\n",
       "  </thead>\n",
       "  <tbody>\n",
       "  </tbody>\n",
       "</table>\n",
       "</div>"
      ],
      "text/plain": [
       "Empty DataFrame\n",
       "Columns: [cda, contagem]\n",
       "Index: []"
      ]
     },
     "execution_count": 16,
     "metadata": {},
     "output_type": "execute_result"
    }
   ],
   "source": [
    "contagem_cda = base_conjunta['cda'].value_counts()\n",
    "registros_repetidos = contagem_cda[contagem_cda > 1]\n",
    "df_registros_repetidos = registros_repetidos.reset_index()\n",
    "df_registros_repetidos.columns = ['cda', 'contagem']\n",
    "df_registros_repetidos"
   ]
  },
  {
   "cell_type": "code",
   "execution_count": 17,
   "metadata": {},
   "outputs": [
    {
     "data": {
      "text/plain": [
       "Index(['cda', 'tipo_divida', 'id_contribuinte', 'atividade_principal',\n",
       "       'situacao', 'tipo_tributo', 'vlr_pago', 'valor_tot', 'vlr_tributo',\n",
       "       'vlr_taxa', 'competencia_divida', 'inscricao_divida',\n",
       "       'arrecadacao_divida', 'ajuizamento_divida', 'edificacao',\n",
       "       'cpf_cnpj_existe', 'protesto', 'ajuizamento', 'refis', 'deb_totais',\n",
       "       'deb_pagos', 'idade_divida', 'quantidade_reparcelamento'],\n",
       "      dtype='object')"
      ]
     },
     "execution_count": 17,
     "metadata": {},
     "output_type": "execute_result"
    }
   ],
   "source": [
    "base_conjunta.columns"
   ]
  },
  {
   "cell_type": "code",
   "execution_count": 102,
   "metadata": {},
   "outputs": [],
   "source": [
    "base_conjunta['data_divida'] = pd.to_datetime(base_conjunta['inscricao_divida'], infer_datetime_format = True)\n",
    "base_conjunta['ano_inscricao_da'] = base_conjunta['data_divida'].dt.year"
   ]
  },
  {
   "cell_type": "code",
   "execution_count": 58,
   "metadata": {},
   "outputs": [
    {
     "data": {
      "text/plain": [
       "'R$ 478.880.439,14'"
      ]
     },
     "execution_count": 58,
     "metadata": {},
     "output_type": "execute_result"
    }
   ],
   "source": [
    "#status_situacao0 = base_imovel[base_imovel['da_aberto'] == 1]\n",
    "status_situacao0 = base_conjunta[base_conjunta['da_aberto'] == 1]\n",
    "status_situacao0 = status_situacao0[status_situacao0['anos_idade_da'] < 15]\n",
    "status_situacao0 = status_situacao0[status_situacao0['cpf_cnpj_existe'] == 0]\n",
    "status_situacao0 = formatar_moeda(status_situacao0['valor_tot'].sum())\n",
    "status_situacao0"
   ]
  },
  {
   "attachments": {},
   "cell_type": "markdown",
   "metadata": {},
   "source": [
    "# 02) Criando variáveis para clusterização"
   ]
  },
  {
   "cell_type": "code",
   "execution_count": 103,
   "metadata": {},
   "outputs": [],
   "source": [
    "# incorporei a variáve tipo_divida que antes não tinha\n",
    "\n",
    "dados_pessoas = base_conjunta[['cda', 'id_contribuinte', 'situacao', 'cpf_cnpj_existe', 'edificacao', 'deb_totais', 'deb_pagos', 'valor_tot', 'vlr_pago', 'tipo_divida']]\n",
    "dados_pessoas['id_contribuinte'] = dados_pessoas['id_contribuinte'].astype(str)  # Convertendo para string\n",
    "\n",
    "dados_pessoas.dropna(subset=['id_contribuinte'], inplace=True)\n",
    "dados_pessoas.rename(columns={'id_contribuinte': 'id_pessoa'}, inplace=True)\n",
    "\n"
   ]
  },
  {
   "cell_type": "code",
   "execution_count": 83,
   "metadata": {},
   "outputs": [
    {
     "data": {
      "text/plain": [
       "Index(['cda', 'id_pessoa', 'situacao', 'cpf_cnpj_existe', 'edificacao',\n",
       "       'deb_totais', 'deb_pagos', 'valor_tot', 'vlr_pago', 'tipo_divida'],\n",
       "      dtype='object')"
      ]
     },
     "execution_count": 83,
     "metadata": {},
     "output_type": "execute_result"
    }
   ],
   "source": [
    "dados_pessoas.columns"
   ]
  },
  {
   "cell_type": "code",
   "execution_count": 78,
   "metadata": {},
   "outputs": [],
   "source": [
    "# # Renomeio a coluna criada anteriormente para valor_pago\n",
    "# dados_pessoas.rename(columns={'valor_pago_vista_parc':'valor_pago'}, inplace=True)"
   ]
  },
  {
   "cell_type": "code",
   "execution_count": 104,
   "metadata": {},
   "outputs": [],
   "source": [
    "# Calculo que apresenta quantas cdas o contribuinte tem\n",
    "\n",
    "frequencia_da_pessoa = dados_pessoas.groupby(['id_pessoa'])['cda'].nunique()\n",
    "total_debitos_pessoa = dados_pessoas.groupby(['id_pessoa'])['deb_totais'].sum()\n",
    "debitos_pagos_pessoa = dados_pessoas.groupby(['id_pessoa'])['deb_pagos'].sum()\n",
    "valor_total_pessoa = dados_pessoas.groupby(['id_pessoa'])['valor_tot'].sum()\n",
    "valor_pago_pessoa = dados_pessoas.groupby(['id_pessoa'])['vlr_pago'].sum()"
   ]
  },
  {
   "cell_type": "code",
   "execution_count": 105,
   "metadata": {},
   "outputs": [],
   "source": [
    "# Agrega informação da base de notas fiscais\n",
    "dados_pessoas = pd.merge(\n",
    "    left=dados_pessoas, left_on='id_pessoa', \n",
    "    right=base_notas_fiscais, right_on='id_pessoa', how='left'\n",
    ")"
   ]
  },
  {
   "cell_type": "code",
   "execution_count": 106,
   "metadata": {},
   "outputs": [
    {
     "data": {
      "text/plain": [
       "cda                      0\n",
       "id_pessoa                0\n",
       "situacao                 0\n",
       "cpf_cnpj_existe          0\n",
       "edificacao               0\n",
       "deb_totais               0\n",
       "deb_pagos                0\n",
       "valor_tot                0\n",
       "vlr_pago                 0\n",
       "tipo_divida              0\n",
       "qtd_notas_2anos    2278959\n",
       "dtype: int64"
      ]
     },
     "execution_count": 106,
     "metadata": {},
     "output_type": "execute_result"
    }
   ],
   "source": [
    "# Verifica valores zerados\n",
    "\n",
    "dados_pessoas.isnull().sum()"
   ]
  },
  {
   "cell_type": "code",
   "execution_count": 107,
   "metadata": {},
   "outputs": [],
   "source": [
    "# Substituindo por zero os valores nulos\n",
    "# dados_pessoas['edificacao'] = dados_pessoas['edificacao'].fillna(0)\n",
    "dados_pessoas['qtd_notas_2anos'] = dados_pessoas['qtd_notas_2anos'].fillna(0)"
   ]
  },
  {
   "cell_type": "code",
   "execution_count": 108,
   "metadata": {},
   "outputs": [],
   "source": [
    "# Cria variável de situação do contribuinte tratando mercantil e imovel em suas respectivas variáveis ( DEBATER COM EQUIPE )\n",
    "\n",
    "# MERCANTIL\n",
    "dados_pessoas.loc[(dados_pessoas['tipo_divida'] == 'mercantil' ) & (dados_pessoas['qtd_notas_2anos'] > 0) & (dados_pessoas['situacao'] == 'ATIVO'), 'situacao_ativa'] = 2\n",
    "dados_pessoas.loc[(dados_pessoas['tipo_divida'] == 'mercantil' ) & (dados_pessoas['qtd_notas_2anos'] > 0) & (dados_pessoas['situacao'] != 'ATIVO'), 'situacao_ativa'] = 1\n",
    "dados_pessoas.loc[(dados_pessoas['tipo_divida'] == 'mercantil' ) & (dados_pessoas['qtd_notas_2anos'] == 0) & (dados_pessoas['situacao'] == 'ATIVO'), 'situacao_ativa'] = 1\n",
    "dados_pessoas.loc[(dados_pessoas['tipo_divida'] == 'mercantil' ) & (dados_pessoas['qtd_notas_2anos'] == 0) & (dados_pessoas['situacao'] != 'ATIVO'), 'situacao_ativa'] = 0\n",
    "\n",
    "# IMOVEL\n",
    "dados_pessoas.loc[(dados_pessoas['tipo_divida'] == 'imovel' ) & (dados_pessoas['edificacao'] == 1), 'situacao_ativa'] = 2\n",
    "dados_pessoas.loc[(dados_pessoas['tipo_divida'] == 'imovel' ) & (dados_pessoas['edificacao'] == 0), 'situacao_ativa'] = 1\n",
    "dados_pessoas.loc[(dados_pessoas['tipo_divida'] == 'imovel' ) & (dados_pessoas['edificacao'] == 0) & (dados_pessoas['cpf_cnpj_existe'] == 0), 'situacao_ativa'] = 0\n",
    "\n",
    "# dados_pessoas.loc[(dados_pessoas['tipo_divida'] == 'imovel' ) & (dados_pessoas['edificacao'] == 1) & (dados_pessoas['situacao'] == 'ATIVO'), 'situacao_ativa'] = 2\n",
    "# dados_pessoas.loc[(dados_pessoas['tipo_divida'] == 'imovel' ) & (dados_pessoas['edificacao'] == 0) & (dados_pessoas['situacao'] == 'ATIVO'), 'situacao_ativa'] = 1\n",
    "# dados_pessoas.loc[(dados_pessoas['tipo_divida'] == 'imovel' ) & (dados_pessoas['edificacao'] == 1) & (dados_pessoas['situacao'] != 'ATIVO'), 'situacao_ativa'] = 0\n",
    "# dados_pessoas.loc[(dados_pessoas['tipo_divida'] == 'imovel' ) & (dados_pessoas['edificacao'] == 0) & (dados_pessoas['situacao'] != 'ATIVO'), 'situacao_ativa'] = 0\n",
    "\n",
    "# o que é nulo colocamos peso 0 \n",
    "dados_pessoas['situacao_ativa'] = dados_pessoas['situacao_ativa'].fillna(0)"
   ]
  },
  {
   "cell_type": "code",
   "execution_count": null,
   "metadata": {},
   "outputs": [],
   "source": [
    "# status_situacao0 = dados_pessoas[dados_pessoas['situacao_ativa'] == 0]\n",
    "# status_situacao0"
   ]
  },
  {
   "cell_type": "code",
   "execution_count": 22,
   "metadata": {},
   "outputs": [
    {
     "data": {
      "text/plain": [
       "INAPTO      711848\n",
       "SUSPENSO    145524\n",
       "BAIXADO      32470\n",
       "Name: situacao, dtype: int64"
      ]
     },
     "execution_count": 22,
     "metadata": {},
     "output_type": "execute_result"
    }
   ],
   "source": [
    "# contagem_situacao = status_situacao0['situacao'].value_counts()\n",
    "# contagem_situacao"
   ]
  },
  {
   "cell_type": "code",
   "execution_count": 23,
   "metadata": {},
   "outputs": [
    {
     "data": {
      "text/plain": [
       "mercantil    889842\n",
       "Name: tipo_divida, dtype: int64"
      ]
     },
     "execution_count": 23,
     "metadata": {},
     "output_type": "execute_result"
    }
   ],
   "source": [
    "# contagem_tipo_divida = status_situacao0['tipo_divida'].value_counts()\n",
    "# contagem_tipo_divida"
   ]
  },
  {
   "cell_type": "code",
   "execution_count": 109,
   "metadata": {},
   "outputs": [],
   "source": [
    "# Cria variável com peso sobre a situação real tratando cpf\n",
    "\n",
    "dados_pessoas['status_situacao'] = dados_pessoas['situacao_ativa'] + dados_pessoas['cpf_cnpj_existe'] \n",
    "dados_pessoas.loc[dados_pessoas['situacao_ativa'] == 0, 'status_situacao'] = 0\n",
    "# dados_pessoas.loc[(dados_pessoas['cpf_cnpj_existe'] == 0 ), 'status_situacao'] = 0"
   ]
  },
  {
   "cell_type": "code",
   "execution_count": null,
   "metadata": {},
   "outputs": [],
   "source": [
    "dados_pessoas"
   ]
  },
  {
   "cell_type": "markdown",
   "metadata": {},
   "source": [
    "---"
   ]
  },
  {
   "cell_type": "code",
   "execution_count": 110,
   "metadata": {},
   "outputs": [],
   "source": [
    "# Remove duplicatas dos dados finalizando o dataframe\n",
    "dados_pessoas.drop_duplicates(subset=['id_pessoa'], inplace=True)\n",
    "dados_pessoas = dados_pessoas.set_index('id_pessoa')\n",
    "\n",
    "dados_pessoas['frequencia_da_pessoa'] = frequencia_da_pessoa\n",
    "dados_pessoas['total_debitos_pessoa'] = total_debitos_pessoa\n",
    "dados_pessoas['debitos_pagos_pessoa'] = debitos_pagos_pessoa\n",
    "dados_pessoas['valor_total_pessoa'] = valor_total_pessoa\n",
    "dados_pessoas['valor_pago_pessoa'] = valor_pago_pessoa"
   ]
  },
  {
   "cell_type": "code",
   "execution_count": 111,
   "metadata": {},
   "outputs": [],
   "source": [
    "# Faz o calculo do historico de pagamento\n",
    "\n",
    "dados_pessoas.loc[(dados_pessoas['total_debitos_pessoa'].isna()) | (dados_pessoas['total_debitos_pessoa'] == 0) , 'total_debitos_pessoa'] = 1\n",
    "dados_pessoas.loc[(dados_pessoas['valor_total_pessoa'].isna()) | (dados_pessoas['valor_total_pessoa'] == 0) , 'valor_total_pessoa'] = 1\n",
    "\n",
    "dados_pessoas['historico_pagamento_em_qtd'] = dados_pessoas['debitos_pagos_pessoa'] / (dados_pessoas['total_debitos_pessoa'])\n",
    "dados_pessoas['historico_pagamento_em_valor'] = dados_pessoas['valor_pago_pessoa'] / (dados_pessoas['valor_total_pessoa'])"
   ]
  },
  {
   "cell_type": "code",
   "execution_count": 112,
   "metadata": {},
   "outputs": [],
   "source": [
    "# Monta dataframe para clusterização\n",
    "\n",
    "df_pipe_cluster = dados_pessoas.query(\"frequencia_da_pessoa > 1\")\n",
    "df_pipe_cluster = df_pipe_cluster[['status_situacao', 'historico_pagamento_em_qtd', 'historico_pagamento_em_valor']]"
   ]
  },
  {
   "cell_type": "code",
   "execution_count": 33,
   "metadata": {},
   "outputs": [],
   "source": [
    "# df_pipe_cluster.loc[df_pipe_cluster['historico_pagamento_em_valor'] > 1, 'historico_pagamento_em_valor'] = 1"
   ]
  },
  {
   "cell_type": "code",
   "execution_count": 113,
   "metadata": {},
   "outputs": [
    {
     "data": {
      "text/html": [
       "<div>\n",
       "<style scoped>\n",
       "    .dataframe tbody tr th:only-of-type {\n",
       "        vertical-align: middle;\n",
       "    }\n",
       "\n",
       "    .dataframe tbody tr th {\n",
       "        vertical-align: top;\n",
       "    }\n",
       "\n",
       "    .dataframe thead th {\n",
       "        text-align: right;\n",
       "    }\n",
       "</style>\n",
       "<table border=\"1\" class=\"dataframe\">\n",
       "  <thead>\n",
       "    <tr style=\"text-align: right;\">\n",
       "      <th></th>\n",
       "      <th>status_situacao</th>\n",
       "      <th>historico_pagamento_em_qtd</th>\n",
       "      <th>historico_pagamento_em_valor</th>\n",
       "    </tr>\n",
       "    <tr>\n",
       "      <th>id_pessoa</th>\n",
       "      <th></th>\n",
       "      <th></th>\n",
       "      <th></th>\n",
       "    </tr>\n",
       "  </thead>\n",
       "  <tbody>\n",
       "    <tr>\n",
       "      <th>ac28642d7c82b33f</th>\n",
       "      <td>3.0</td>\n",
       "      <td>0.000000</td>\n",
       "      <td>0.000000</td>\n",
       "    </tr>\n",
       "    <tr>\n",
       "      <th>fc4b99b807fbed41</th>\n",
       "      <td>0.0</td>\n",
       "      <td>0.000000</td>\n",
       "      <td>0.000000</td>\n",
       "    </tr>\n",
       "    <tr>\n",
       "      <th>96e8e553de69d7a4</th>\n",
       "      <td>0.0</td>\n",
       "      <td>0.000000</td>\n",
       "      <td>0.000000</td>\n",
       "    </tr>\n",
       "    <tr>\n",
       "      <th>6dbe14da38a31dc1</th>\n",
       "      <td>3.0</td>\n",
       "      <td>0.619718</td>\n",
       "      <td>0.115638</td>\n",
       "    </tr>\n",
       "    <tr>\n",
       "      <th>870c08c252b25ad1</th>\n",
       "      <td>3.0</td>\n",
       "      <td>0.622120</td>\n",
       "      <td>0.500272</td>\n",
       "    </tr>\n",
       "  </tbody>\n",
       "</table>\n",
       "</div>"
      ],
      "text/plain": [
       "                  status_situacao  historico_pagamento_em_qtd  \\\n",
       "id_pessoa                                                       \n",
       "ac28642d7c82b33f              3.0                    0.000000   \n",
       "fc4b99b807fbed41              0.0                    0.000000   \n",
       "96e8e553de69d7a4              0.0                    0.000000   \n",
       "6dbe14da38a31dc1              3.0                    0.619718   \n",
       "870c08c252b25ad1              3.0                    0.622120   \n",
       "\n",
       "                  historico_pagamento_em_valor  \n",
       "id_pessoa                                       \n",
       "ac28642d7c82b33f                      0.000000  \n",
       "fc4b99b807fbed41                      0.000000  \n",
       "96e8e553de69d7a4                      0.000000  \n",
       "6dbe14da38a31dc1                      0.115638  \n",
       "870c08c252b25ad1                      0.500272  "
      ]
     },
     "execution_count": 113,
     "metadata": {},
     "output_type": "execute_result"
    }
   ],
   "source": [
    "df_pipe_cluster.head()"
   ]
  },
  {
   "cell_type": "code",
   "execution_count": 114,
   "metadata": {},
   "outputs": [
    {
     "data": {
      "text/html": [
       "<div>\n",
       "<style scoped>\n",
       "    .dataframe tbody tr th:only-of-type {\n",
       "        vertical-align: middle;\n",
       "    }\n",
       "\n",
       "    .dataframe tbody tr th {\n",
       "        vertical-align: top;\n",
       "    }\n",
       "\n",
       "    .dataframe thead th {\n",
       "        text-align: right;\n",
       "    }\n",
       "</style>\n",
       "<table border=\"1\" class=\"dataframe\">\n",
       "  <thead>\n",
       "    <tr style=\"text-align: right;\">\n",
       "      <th></th>\n",
       "      <th>count</th>\n",
       "      <th>mean</th>\n",
       "      <th>std</th>\n",
       "      <th>min</th>\n",
       "      <th>25%</th>\n",
       "      <th>50%</th>\n",
       "      <th>75%</th>\n",
       "      <th>max</th>\n",
       "    </tr>\n",
       "  </thead>\n",
       "  <tbody>\n",
       "    <tr>\n",
       "      <th>status_situacao</th>\n",
       "      <td>349837.0</td>\n",
       "      <td>1.504232</td>\n",
       "      <td>1.383882</td>\n",
       "      <td>0.0</td>\n",
       "      <td>0.0</td>\n",
       "      <td>2.0</td>\n",
       "      <td>3.000000</td>\n",
       "      <td>3.0</td>\n",
       "    </tr>\n",
       "    <tr>\n",
       "      <th>historico_pagamento_em_qtd</th>\n",
       "      <td>349837.0</td>\n",
       "      <td>0.255423</td>\n",
       "      <td>0.356742</td>\n",
       "      <td>0.0</td>\n",
       "      <td>0.0</td>\n",
       "      <td>0.0</td>\n",
       "      <td>0.500000</td>\n",
       "      <td>1.0</td>\n",
       "    </tr>\n",
       "    <tr>\n",
       "      <th>historico_pagamento_em_valor</th>\n",
       "      <td>349837.0</td>\n",
       "      <td>0.147998</td>\n",
       "      <td>0.263659</td>\n",
       "      <td>0.0</td>\n",
       "      <td>0.0</td>\n",
       "      <td>0.0</td>\n",
       "      <td>0.182127</td>\n",
       "      <td>1.0</td>\n",
       "    </tr>\n",
       "  </tbody>\n",
       "</table>\n",
       "</div>"
      ],
      "text/plain": [
       "                                 count      mean       std  min  25%  50%  \\\n",
       "status_situacao               349837.0  1.504232  1.383882  0.0  0.0  2.0   \n",
       "historico_pagamento_em_qtd    349837.0  0.255423  0.356742  0.0  0.0  0.0   \n",
       "historico_pagamento_em_valor  349837.0  0.147998  0.263659  0.0  0.0  0.0   \n",
       "\n",
       "                                   75%  max  \n",
       "status_situacao               3.000000  3.0  \n",
       "historico_pagamento_em_qtd    0.500000  1.0  \n",
       "historico_pagamento_em_valor  0.182127  1.0  "
      ]
     },
     "execution_count": 114,
     "metadata": {},
     "output_type": "execute_result"
    }
   ],
   "source": [
    "# pipe\n",
    "df_pipe_cluster.describe().T"
   ]
  },
  {
   "attachments": {},
   "cell_type": "markdown",
   "metadata": {},
   "source": [
    "# 03) Clusterização dos contribuintes"
   ]
  },
  {
   "cell_type": "code",
   "execution_count": 115,
   "metadata": {},
   "outputs": [
    {
     "name": "stdout",
     "output_type": "stream",
     "text": [
      "Treinamento do agrupador para K= 2 finalizado\n",
      "Inércia calculada para o agrupador de K= 2. Inércia: 101730.40682690097\n",
      "Score calculado para o agrupador de K= 2. Socre: -101730.40682690099\n",
      "Treinamento do agrupador para K= 3 finalizado\n",
      "Inércia calculada para o agrupador de K= 3. Inércia: 58129.22074670863\n",
      "Score calculado para o agrupador de K= 3. Socre: -58129.22074670863\n",
      "Treinamento do agrupador para K= 4 finalizado\n",
      "Inércia calculada para o agrupador de K= 4. Inércia: 31013.160943517018\n",
      "Score calculado para o agrupador de K= 4. Socre: -31013.160943517018\n",
      "Treinamento do agrupador para K= 5 finalizado\n",
      "Inércia calculada para o agrupador de K= 5. Inércia: 21290.056745651524\n",
      "Score calculado para o agrupador de K= 5. Socre: -21290.056745651524\n",
      "Treinamento do agrupador para K= 6 finalizado\n",
      "Inércia calculada para o agrupador de K= 6. Inércia: 14687.263602523557\n",
      "Score calculado para o agrupador de K= 6. Socre: -14687.263602523555\n",
      "Treinamento do agrupador para K= 7 finalizado\n",
      "Inércia calculada para o agrupador de K= 7. Inércia: 10448.74126922386\n",
      "Score calculado para o agrupador de K= 7. Socre: -10448.74126922386\n",
      "Treinamento do agrupador para K= 8 finalizado\n",
      "Inércia calculada para o agrupador de K= 8. Inércia: 8712.358068819032\n",
      "Score calculado para o agrupador de K= 8. Socre: -8712.35806881903\n",
      "Treinamento do agrupador para K= 9 finalizado\n",
      "Inércia calculada para o agrupador de K= 9. Inércia: 7263.439252448232\n",
      "Score calculado para o agrupador de K= 9. Socre: -7263.439252448233\n",
      "Treinamento do agrupador para K= 10 finalizado\n",
      "Inércia calculada para o agrupador de K= 10. Inércia: 6272.4152673706185\n",
      "Score calculado para o agrupador de K= 10. Socre: -6272.4152673706185\n",
      "Treinamento do agrupador para K= 11 finalizado\n",
      "Inércia calculada para o agrupador de K= 11. Inércia: 5319.310537114381\n",
      "Score calculado para o agrupador de K= 11. Socre: -5319.310537114382\n",
      "Treinamento do agrupador para K= 12 finalizado\n",
      "Inércia calculada para o agrupador de K= 12. Inércia: 4655.884009374978\n",
      "Score calculado para o agrupador de K= 12. Socre: -4655.884009374978\n",
      "Treinamento do agrupador para K= 13 finalizado\n",
      "Inércia calculada para o agrupador de K= 13. Inércia: 4035.5640890767663\n",
      "Score calculado para o agrupador de K= 13. Socre: -4035.5640890767654\n",
      "Treinamento do agrupador para K= 14 finalizado\n",
      "Inércia calculada para o agrupador de K= 14. Inércia: 3550.725118658759\n",
      "Score calculado para o agrupador de K= 14. Socre: -3550.7251186587587\n",
      "Treinamento do agrupador para K= 15 finalizado\n",
      "Inércia calculada para o agrupador de K= 15. Inércia: 3103.024754886787\n",
      "Score calculado para o agrupador de K= 15. Socre: -3103.024754886787\n"
     ]
    }
   ],
   "source": [
    "faixa_n_clusters = [i for i in range(2,16)]\n",
    "valores_inercia = []\n",
    "valores_score = []\n",
    "\n",
    "for k in faixa_n_clusters:\n",
    "    agrupador = KMeans(n_clusters=k, random_state=1337)\n",
    "    label = agrupador.fit_predict(df_pipe_cluster)\n",
    "    print(f\"Treinamento do agrupador para K= {k} finalizado\")\n",
    "    \n",
    "    media_inercia = agrupador.inertia_\n",
    "    valores_inercia.append(media_inercia)\n",
    "    print(f\"Inércia calculada para o agrupador de K= {k}. Inércia: {media_inercia}\")\n",
    "\n",
    "    media_score = agrupador.score(df_pipe_cluster)\n",
    "    valores_score.append(media_score)\n",
    "    print(f\"Score calculado para o agrupador de K= {k}. Socre: {media_score}\")"
   ]
  },
  {
   "cell_type": "code",
   "execution_count": 116,
   "metadata": {},
   "outputs": [
    {
     "data": {
      "application/vnd.plotly.v1+json": {
       "config": {
        "plotlyServerURL": "https://plot.ly"
       },
       "data": [
        {
         "type": "scatter",
         "x": [
          2,
          3,
          4,
          5,
          6,
          7,
          8,
          9,
          10,
          11,
          12,
          13,
          14,
          15
         ],
         "y": [
          101730.40682690097,
          58129.22074670863,
          31013.160943517018,
          21290.056745651524,
          14687.263602523557,
          10448.74126922386,
          8712.358068819032,
          7263.439252448232,
          6272.4152673706185,
          5319.310537114381,
          4655.884009374978,
          4035.5640890767663,
          3550.725118658759,
          3103.024754886787
         ]
        }
       ],
       "layout": {
        "font": {
         "color": "#7f7f7f",
         "family": "Courier New, monospace",
         "size": 18
        },
        "template": {
         "data": {
          "bar": [
           {
            "error_x": {
             "color": "#2a3f5f"
            },
            "error_y": {
             "color": "#2a3f5f"
            },
            "marker": {
             "line": {
              "color": "#E5ECF6",
              "width": 0.5
             },
             "pattern": {
              "fillmode": "overlay",
              "size": 10,
              "solidity": 0.2
             }
            },
            "type": "bar"
           }
          ],
          "barpolar": [
           {
            "marker": {
             "line": {
              "color": "#E5ECF6",
              "width": 0.5
             },
             "pattern": {
              "fillmode": "overlay",
              "size": 10,
              "solidity": 0.2
             }
            },
            "type": "barpolar"
           }
          ],
          "carpet": [
           {
            "aaxis": {
             "endlinecolor": "#2a3f5f",
             "gridcolor": "white",
             "linecolor": "white",
             "minorgridcolor": "white",
             "startlinecolor": "#2a3f5f"
            },
            "baxis": {
             "endlinecolor": "#2a3f5f",
             "gridcolor": "white",
             "linecolor": "white",
             "minorgridcolor": "white",
             "startlinecolor": "#2a3f5f"
            },
            "type": "carpet"
           }
          ],
          "choropleth": [
           {
            "colorbar": {
             "outlinewidth": 0,
             "ticks": ""
            },
            "type": "choropleth"
           }
          ],
          "contour": [
           {
            "colorbar": {
             "outlinewidth": 0,
             "ticks": ""
            },
            "colorscale": [
             [
              0,
              "#0d0887"
             ],
             [
              0.1111111111111111,
              "#46039f"
             ],
             [
              0.2222222222222222,
              "#7201a8"
             ],
             [
              0.3333333333333333,
              "#9c179e"
             ],
             [
              0.4444444444444444,
              "#bd3786"
             ],
             [
              0.5555555555555556,
              "#d8576b"
             ],
             [
              0.6666666666666666,
              "#ed7953"
             ],
             [
              0.7777777777777778,
              "#fb9f3a"
             ],
             [
              0.8888888888888888,
              "#fdca26"
             ],
             [
              1,
              "#f0f921"
             ]
            ],
            "type": "contour"
           }
          ],
          "contourcarpet": [
           {
            "colorbar": {
             "outlinewidth": 0,
             "ticks": ""
            },
            "type": "contourcarpet"
           }
          ],
          "heatmap": [
           {
            "colorbar": {
             "outlinewidth": 0,
             "ticks": ""
            },
            "colorscale": [
             [
              0,
              "#0d0887"
             ],
             [
              0.1111111111111111,
              "#46039f"
             ],
             [
              0.2222222222222222,
              "#7201a8"
             ],
             [
              0.3333333333333333,
              "#9c179e"
             ],
             [
              0.4444444444444444,
              "#bd3786"
             ],
             [
              0.5555555555555556,
              "#d8576b"
             ],
             [
              0.6666666666666666,
              "#ed7953"
             ],
             [
              0.7777777777777778,
              "#fb9f3a"
             ],
             [
              0.8888888888888888,
              "#fdca26"
             ],
             [
              1,
              "#f0f921"
             ]
            ],
            "type": "heatmap"
           }
          ],
          "heatmapgl": [
           {
            "colorbar": {
             "outlinewidth": 0,
             "ticks": ""
            },
            "colorscale": [
             [
              0,
              "#0d0887"
             ],
             [
              0.1111111111111111,
              "#46039f"
             ],
             [
              0.2222222222222222,
              "#7201a8"
             ],
             [
              0.3333333333333333,
              "#9c179e"
             ],
             [
              0.4444444444444444,
              "#bd3786"
             ],
             [
              0.5555555555555556,
              "#d8576b"
             ],
             [
              0.6666666666666666,
              "#ed7953"
             ],
             [
              0.7777777777777778,
              "#fb9f3a"
             ],
             [
              0.8888888888888888,
              "#fdca26"
             ],
             [
              1,
              "#f0f921"
             ]
            ],
            "type": "heatmapgl"
           }
          ],
          "histogram": [
           {
            "marker": {
             "pattern": {
              "fillmode": "overlay",
              "size": 10,
              "solidity": 0.2
             }
            },
            "type": "histogram"
           }
          ],
          "histogram2d": [
           {
            "colorbar": {
             "outlinewidth": 0,
             "ticks": ""
            },
            "colorscale": [
             [
              0,
              "#0d0887"
             ],
             [
              0.1111111111111111,
              "#46039f"
             ],
             [
              0.2222222222222222,
              "#7201a8"
             ],
             [
              0.3333333333333333,
              "#9c179e"
             ],
             [
              0.4444444444444444,
              "#bd3786"
             ],
             [
              0.5555555555555556,
              "#d8576b"
             ],
             [
              0.6666666666666666,
              "#ed7953"
             ],
             [
              0.7777777777777778,
              "#fb9f3a"
             ],
             [
              0.8888888888888888,
              "#fdca26"
             ],
             [
              1,
              "#f0f921"
             ]
            ],
            "type": "histogram2d"
           }
          ],
          "histogram2dcontour": [
           {
            "colorbar": {
             "outlinewidth": 0,
             "ticks": ""
            },
            "colorscale": [
             [
              0,
              "#0d0887"
             ],
             [
              0.1111111111111111,
              "#46039f"
             ],
             [
              0.2222222222222222,
              "#7201a8"
             ],
             [
              0.3333333333333333,
              "#9c179e"
             ],
             [
              0.4444444444444444,
              "#bd3786"
             ],
             [
              0.5555555555555556,
              "#d8576b"
             ],
             [
              0.6666666666666666,
              "#ed7953"
             ],
             [
              0.7777777777777778,
              "#fb9f3a"
             ],
             [
              0.8888888888888888,
              "#fdca26"
             ],
             [
              1,
              "#f0f921"
             ]
            ],
            "type": "histogram2dcontour"
           }
          ],
          "mesh3d": [
           {
            "colorbar": {
             "outlinewidth": 0,
             "ticks": ""
            },
            "type": "mesh3d"
           }
          ],
          "parcoords": [
           {
            "line": {
             "colorbar": {
              "outlinewidth": 0,
              "ticks": ""
             }
            },
            "type": "parcoords"
           }
          ],
          "pie": [
           {
            "automargin": true,
            "type": "pie"
           }
          ],
          "scatter": [
           {
            "fillpattern": {
             "fillmode": "overlay",
             "size": 10,
             "solidity": 0.2
            },
            "type": "scatter"
           }
          ],
          "scatter3d": [
           {
            "line": {
             "colorbar": {
              "outlinewidth": 0,
              "ticks": ""
             }
            },
            "marker": {
             "colorbar": {
              "outlinewidth": 0,
              "ticks": ""
             }
            },
            "type": "scatter3d"
           }
          ],
          "scattercarpet": [
           {
            "marker": {
             "colorbar": {
              "outlinewidth": 0,
              "ticks": ""
             }
            },
            "type": "scattercarpet"
           }
          ],
          "scattergeo": [
           {
            "marker": {
             "colorbar": {
              "outlinewidth": 0,
              "ticks": ""
             }
            },
            "type": "scattergeo"
           }
          ],
          "scattergl": [
           {
            "marker": {
             "colorbar": {
              "outlinewidth": 0,
              "ticks": ""
             }
            },
            "type": "scattergl"
           }
          ],
          "scattermapbox": [
           {
            "marker": {
             "colorbar": {
              "outlinewidth": 0,
              "ticks": ""
             }
            },
            "type": "scattermapbox"
           }
          ],
          "scatterpolar": [
           {
            "marker": {
             "colorbar": {
              "outlinewidth": 0,
              "ticks": ""
             }
            },
            "type": "scatterpolar"
           }
          ],
          "scatterpolargl": [
           {
            "marker": {
             "colorbar": {
              "outlinewidth": 0,
              "ticks": ""
             }
            },
            "type": "scatterpolargl"
           }
          ],
          "scatterternary": [
           {
            "marker": {
             "colorbar": {
              "outlinewidth": 0,
              "ticks": ""
             }
            },
            "type": "scatterternary"
           }
          ],
          "surface": [
           {
            "colorbar": {
             "outlinewidth": 0,
             "ticks": ""
            },
            "colorscale": [
             [
              0,
              "#0d0887"
             ],
             [
              0.1111111111111111,
              "#46039f"
             ],
             [
              0.2222222222222222,
              "#7201a8"
             ],
             [
              0.3333333333333333,
              "#9c179e"
             ],
             [
              0.4444444444444444,
              "#bd3786"
             ],
             [
              0.5555555555555556,
              "#d8576b"
             ],
             [
              0.6666666666666666,
              "#ed7953"
             ],
             [
              0.7777777777777778,
              "#fb9f3a"
             ],
             [
              0.8888888888888888,
              "#fdca26"
             ],
             [
              1,
              "#f0f921"
             ]
            ],
            "type": "surface"
           }
          ],
          "table": [
           {
            "cells": {
             "fill": {
              "color": "#EBF0F8"
             },
             "line": {
              "color": "white"
             }
            },
            "header": {
             "fill": {
              "color": "#C8D4E3"
             },
             "line": {
              "color": "white"
             }
            },
            "type": "table"
           }
          ]
         },
         "layout": {
          "annotationdefaults": {
           "arrowcolor": "#2a3f5f",
           "arrowhead": 0,
           "arrowwidth": 1
          },
          "autotypenumbers": "strict",
          "coloraxis": {
           "colorbar": {
            "outlinewidth": 0,
            "ticks": ""
           }
          },
          "colorscale": {
           "diverging": [
            [
             0,
             "#8e0152"
            ],
            [
             0.1,
             "#c51b7d"
            ],
            [
             0.2,
             "#de77ae"
            ],
            [
             0.3,
             "#f1b6da"
            ],
            [
             0.4,
             "#fde0ef"
            ],
            [
             0.5,
             "#f7f7f7"
            ],
            [
             0.6,
             "#e6f5d0"
            ],
            [
             0.7,
             "#b8e186"
            ],
            [
             0.8,
             "#7fbc41"
            ],
            [
             0.9,
             "#4d9221"
            ],
            [
             1,
             "#276419"
            ]
           ],
           "sequential": [
            [
             0,
             "#0d0887"
            ],
            [
             0.1111111111111111,
             "#46039f"
            ],
            [
             0.2222222222222222,
             "#7201a8"
            ],
            [
             0.3333333333333333,
             "#9c179e"
            ],
            [
             0.4444444444444444,
             "#bd3786"
            ],
            [
             0.5555555555555556,
             "#d8576b"
            ],
            [
             0.6666666666666666,
             "#ed7953"
            ],
            [
             0.7777777777777778,
             "#fb9f3a"
            ],
            [
             0.8888888888888888,
             "#fdca26"
            ],
            [
             1,
             "#f0f921"
            ]
           ],
           "sequentialminus": [
            [
             0,
             "#0d0887"
            ],
            [
             0.1111111111111111,
             "#46039f"
            ],
            [
             0.2222222222222222,
             "#7201a8"
            ],
            [
             0.3333333333333333,
             "#9c179e"
            ],
            [
             0.4444444444444444,
             "#bd3786"
            ],
            [
             0.5555555555555556,
             "#d8576b"
            ],
            [
             0.6666666666666666,
             "#ed7953"
            ],
            [
             0.7777777777777778,
             "#fb9f3a"
            ],
            [
             0.8888888888888888,
             "#fdca26"
            ],
            [
             1,
             "#f0f921"
            ]
           ]
          },
          "colorway": [
           "#636efa",
           "#EF553B",
           "#00cc96",
           "#ab63fa",
           "#FFA15A",
           "#19d3f3",
           "#FF6692",
           "#B6E880",
           "#FF97FF",
           "#FECB52"
          ],
          "font": {
           "color": "#2a3f5f"
          },
          "geo": {
           "bgcolor": "white",
           "lakecolor": "white",
           "landcolor": "#E5ECF6",
           "showlakes": true,
           "showland": true,
           "subunitcolor": "white"
          },
          "hoverlabel": {
           "align": "left"
          },
          "hovermode": "closest",
          "mapbox": {
           "style": "light"
          },
          "paper_bgcolor": "white",
          "plot_bgcolor": "#E5ECF6",
          "polar": {
           "angularaxis": {
            "gridcolor": "white",
            "linecolor": "white",
            "ticks": ""
           },
           "bgcolor": "#E5ECF6",
           "radialaxis": {
            "gridcolor": "white",
            "linecolor": "white",
            "ticks": ""
           }
          },
          "scene": {
           "xaxis": {
            "backgroundcolor": "#E5ECF6",
            "gridcolor": "white",
            "gridwidth": 2,
            "linecolor": "white",
            "showbackground": true,
            "ticks": "",
            "zerolinecolor": "white"
           },
           "yaxis": {
            "backgroundcolor": "#E5ECF6",
            "gridcolor": "white",
            "gridwidth": 2,
            "linecolor": "white",
            "showbackground": true,
            "ticks": "",
            "zerolinecolor": "white"
           },
           "zaxis": {
            "backgroundcolor": "#E5ECF6",
            "gridcolor": "white",
            "gridwidth": 2,
            "linecolor": "white",
            "showbackground": true,
            "ticks": "",
            "zerolinecolor": "white"
           }
          },
          "shapedefaults": {
           "line": {
            "color": "#2a3f5f"
           }
          },
          "ternary": {
           "aaxis": {
            "gridcolor": "white",
            "linecolor": "white",
            "ticks": ""
           },
           "baxis": {
            "gridcolor": "white",
            "linecolor": "white",
            "ticks": ""
           },
           "bgcolor": "#E5ECF6",
           "caxis": {
            "gridcolor": "white",
            "linecolor": "white",
            "ticks": ""
           }
          },
          "title": {
           "x": 0.05
          },
          "xaxis": {
           "automargin": true,
           "gridcolor": "white",
           "linecolor": "white",
           "ticks": "",
           "title": {
            "standoff": 15
           },
           "zerolinecolor": "white",
           "zerolinewidth": 2
          },
          "yaxis": {
           "automargin": true,
           "gridcolor": "white",
           "linecolor": "white",
           "ticks": "",
           "title": {
            "standoff": 15
           },
           "zerolinecolor": "white",
           "zerolinewidth": 2
          }
         }
        },
        "title": {
         "text": "INDICADOR: Inercia para K grupos"
        },
        "xaxis": {
         "title": {
          "text": "Valores de K"
         }
        },
        "yaxis": {
         "title": {
          "text": "Inércia"
         }
        }
       }
      }
     },
     "metadata": {},
     "output_type": "display_data"
    }
   ],
   "source": [
    "fig =go.Figure()\n",
    "fig.add_trace(go.Scatter(x = faixa_n_clusters, y = valores_inercia))\n",
    "fig.update_layout(\n",
    "    title=\"INDICADOR: Inercia para K grupos\",\n",
    "    xaxis_title=\"Valores de K\",\n",
    "    yaxis_title=\"Inércia\",\n",
    "    font=dict(\n",
    "        family=\"Courier New, monospace\",\n",
    "        size=18,\n",
    "        color=\"#7f7f7f\"\n",
    "    )\n",
    ")\n",
    "fig.show()"
   ]
  },
  {
   "cell_type": "code",
   "execution_count": 117,
   "metadata": {},
   "outputs": [
    {
     "data": {
      "application/vnd.plotly.v1+json": {
       "config": {
        "plotlyServerURL": "https://plot.ly"
       },
       "data": [
        {
         "type": "scatter",
         "x": [
          2,
          3,
          4,
          5,
          6,
          7,
          8,
          9,
          10,
          11,
          12,
          13,
          14,
          15
         ],
         "y": [
          -101730.40682690099,
          -58129.22074670863,
          -31013.160943517018,
          -21290.056745651524,
          -14687.263602523555,
          -10448.74126922386,
          -8712.35806881903,
          -7263.439252448233,
          -6272.4152673706185,
          -5319.310537114382,
          -4655.884009374978,
          -4035.5640890767654,
          -3550.7251186587587,
          -3103.024754886787
         ]
        }
       ],
       "layout": {
        "font": {
         "color": "#7f7f7f",
         "family": "Courier New, monospace",
         "size": 18
        },
        "template": {
         "data": {
          "bar": [
           {
            "error_x": {
             "color": "#2a3f5f"
            },
            "error_y": {
             "color": "#2a3f5f"
            },
            "marker": {
             "line": {
              "color": "#E5ECF6",
              "width": 0.5
             },
             "pattern": {
              "fillmode": "overlay",
              "size": 10,
              "solidity": 0.2
             }
            },
            "type": "bar"
           }
          ],
          "barpolar": [
           {
            "marker": {
             "line": {
              "color": "#E5ECF6",
              "width": 0.5
             },
             "pattern": {
              "fillmode": "overlay",
              "size": 10,
              "solidity": 0.2
             }
            },
            "type": "barpolar"
           }
          ],
          "carpet": [
           {
            "aaxis": {
             "endlinecolor": "#2a3f5f",
             "gridcolor": "white",
             "linecolor": "white",
             "minorgridcolor": "white",
             "startlinecolor": "#2a3f5f"
            },
            "baxis": {
             "endlinecolor": "#2a3f5f",
             "gridcolor": "white",
             "linecolor": "white",
             "minorgridcolor": "white",
             "startlinecolor": "#2a3f5f"
            },
            "type": "carpet"
           }
          ],
          "choropleth": [
           {
            "colorbar": {
             "outlinewidth": 0,
             "ticks": ""
            },
            "type": "choropleth"
           }
          ],
          "contour": [
           {
            "colorbar": {
             "outlinewidth": 0,
             "ticks": ""
            },
            "colorscale": [
             [
              0,
              "#0d0887"
             ],
             [
              0.1111111111111111,
              "#46039f"
             ],
             [
              0.2222222222222222,
              "#7201a8"
             ],
             [
              0.3333333333333333,
              "#9c179e"
             ],
             [
              0.4444444444444444,
              "#bd3786"
             ],
             [
              0.5555555555555556,
              "#d8576b"
             ],
             [
              0.6666666666666666,
              "#ed7953"
             ],
             [
              0.7777777777777778,
              "#fb9f3a"
             ],
             [
              0.8888888888888888,
              "#fdca26"
             ],
             [
              1,
              "#f0f921"
             ]
            ],
            "type": "contour"
           }
          ],
          "contourcarpet": [
           {
            "colorbar": {
             "outlinewidth": 0,
             "ticks": ""
            },
            "type": "contourcarpet"
           }
          ],
          "heatmap": [
           {
            "colorbar": {
             "outlinewidth": 0,
             "ticks": ""
            },
            "colorscale": [
             [
              0,
              "#0d0887"
             ],
             [
              0.1111111111111111,
              "#46039f"
             ],
             [
              0.2222222222222222,
              "#7201a8"
             ],
             [
              0.3333333333333333,
              "#9c179e"
             ],
             [
              0.4444444444444444,
              "#bd3786"
             ],
             [
              0.5555555555555556,
              "#d8576b"
             ],
             [
              0.6666666666666666,
              "#ed7953"
             ],
             [
              0.7777777777777778,
              "#fb9f3a"
             ],
             [
              0.8888888888888888,
              "#fdca26"
             ],
             [
              1,
              "#f0f921"
             ]
            ],
            "type": "heatmap"
           }
          ],
          "heatmapgl": [
           {
            "colorbar": {
             "outlinewidth": 0,
             "ticks": ""
            },
            "colorscale": [
             [
              0,
              "#0d0887"
             ],
             [
              0.1111111111111111,
              "#46039f"
             ],
             [
              0.2222222222222222,
              "#7201a8"
             ],
             [
              0.3333333333333333,
              "#9c179e"
             ],
             [
              0.4444444444444444,
              "#bd3786"
             ],
             [
              0.5555555555555556,
              "#d8576b"
             ],
             [
              0.6666666666666666,
              "#ed7953"
             ],
             [
              0.7777777777777778,
              "#fb9f3a"
             ],
             [
              0.8888888888888888,
              "#fdca26"
             ],
             [
              1,
              "#f0f921"
             ]
            ],
            "type": "heatmapgl"
           }
          ],
          "histogram": [
           {
            "marker": {
             "pattern": {
              "fillmode": "overlay",
              "size": 10,
              "solidity": 0.2
             }
            },
            "type": "histogram"
           }
          ],
          "histogram2d": [
           {
            "colorbar": {
             "outlinewidth": 0,
             "ticks": ""
            },
            "colorscale": [
             [
              0,
              "#0d0887"
             ],
             [
              0.1111111111111111,
              "#46039f"
             ],
             [
              0.2222222222222222,
              "#7201a8"
             ],
             [
              0.3333333333333333,
              "#9c179e"
             ],
             [
              0.4444444444444444,
              "#bd3786"
             ],
             [
              0.5555555555555556,
              "#d8576b"
             ],
             [
              0.6666666666666666,
              "#ed7953"
             ],
             [
              0.7777777777777778,
              "#fb9f3a"
             ],
             [
              0.8888888888888888,
              "#fdca26"
             ],
             [
              1,
              "#f0f921"
             ]
            ],
            "type": "histogram2d"
           }
          ],
          "histogram2dcontour": [
           {
            "colorbar": {
             "outlinewidth": 0,
             "ticks": ""
            },
            "colorscale": [
             [
              0,
              "#0d0887"
             ],
             [
              0.1111111111111111,
              "#46039f"
             ],
             [
              0.2222222222222222,
              "#7201a8"
             ],
             [
              0.3333333333333333,
              "#9c179e"
             ],
             [
              0.4444444444444444,
              "#bd3786"
             ],
             [
              0.5555555555555556,
              "#d8576b"
             ],
             [
              0.6666666666666666,
              "#ed7953"
             ],
             [
              0.7777777777777778,
              "#fb9f3a"
             ],
             [
              0.8888888888888888,
              "#fdca26"
             ],
             [
              1,
              "#f0f921"
             ]
            ],
            "type": "histogram2dcontour"
           }
          ],
          "mesh3d": [
           {
            "colorbar": {
             "outlinewidth": 0,
             "ticks": ""
            },
            "type": "mesh3d"
           }
          ],
          "parcoords": [
           {
            "line": {
             "colorbar": {
              "outlinewidth": 0,
              "ticks": ""
             }
            },
            "type": "parcoords"
           }
          ],
          "pie": [
           {
            "automargin": true,
            "type": "pie"
           }
          ],
          "scatter": [
           {
            "fillpattern": {
             "fillmode": "overlay",
             "size": 10,
             "solidity": 0.2
            },
            "type": "scatter"
           }
          ],
          "scatter3d": [
           {
            "line": {
             "colorbar": {
              "outlinewidth": 0,
              "ticks": ""
             }
            },
            "marker": {
             "colorbar": {
              "outlinewidth": 0,
              "ticks": ""
             }
            },
            "type": "scatter3d"
           }
          ],
          "scattercarpet": [
           {
            "marker": {
             "colorbar": {
              "outlinewidth": 0,
              "ticks": ""
             }
            },
            "type": "scattercarpet"
           }
          ],
          "scattergeo": [
           {
            "marker": {
             "colorbar": {
              "outlinewidth": 0,
              "ticks": ""
             }
            },
            "type": "scattergeo"
           }
          ],
          "scattergl": [
           {
            "marker": {
             "colorbar": {
              "outlinewidth": 0,
              "ticks": ""
             }
            },
            "type": "scattergl"
           }
          ],
          "scattermapbox": [
           {
            "marker": {
             "colorbar": {
              "outlinewidth": 0,
              "ticks": ""
             }
            },
            "type": "scattermapbox"
           }
          ],
          "scatterpolar": [
           {
            "marker": {
             "colorbar": {
              "outlinewidth": 0,
              "ticks": ""
             }
            },
            "type": "scatterpolar"
           }
          ],
          "scatterpolargl": [
           {
            "marker": {
             "colorbar": {
              "outlinewidth": 0,
              "ticks": ""
             }
            },
            "type": "scatterpolargl"
           }
          ],
          "scatterternary": [
           {
            "marker": {
             "colorbar": {
              "outlinewidth": 0,
              "ticks": ""
             }
            },
            "type": "scatterternary"
           }
          ],
          "surface": [
           {
            "colorbar": {
             "outlinewidth": 0,
             "ticks": ""
            },
            "colorscale": [
             [
              0,
              "#0d0887"
             ],
             [
              0.1111111111111111,
              "#46039f"
             ],
             [
              0.2222222222222222,
              "#7201a8"
             ],
             [
              0.3333333333333333,
              "#9c179e"
             ],
             [
              0.4444444444444444,
              "#bd3786"
             ],
             [
              0.5555555555555556,
              "#d8576b"
             ],
             [
              0.6666666666666666,
              "#ed7953"
             ],
             [
              0.7777777777777778,
              "#fb9f3a"
             ],
             [
              0.8888888888888888,
              "#fdca26"
             ],
             [
              1,
              "#f0f921"
             ]
            ],
            "type": "surface"
           }
          ],
          "table": [
           {
            "cells": {
             "fill": {
              "color": "#EBF0F8"
             },
             "line": {
              "color": "white"
             }
            },
            "header": {
             "fill": {
              "color": "#C8D4E3"
             },
             "line": {
              "color": "white"
             }
            },
            "type": "table"
           }
          ]
         },
         "layout": {
          "annotationdefaults": {
           "arrowcolor": "#2a3f5f",
           "arrowhead": 0,
           "arrowwidth": 1
          },
          "autotypenumbers": "strict",
          "coloraxis": {
           "colorbar": {
            "outlinewidth": 0,
            "ticks": ""
           }
          },
          "colorscale": {
           "diverging": [
            [
             0,
             "#8e0152"
            ],
            [
             0.1,
             "#c51b7d"
            ],
            [
             0.2,
             "#de77ae"
            ],
            [
             0.3,
             "#f1b6da"
            ],
            [
             0.4,
             "#fde0ef"
            ],
            [
             0.5,
             "#f7f7f7"
            ],
            [
             0.6,
             "#e6f5d0"
            ],
            [
             0.7,
             "#b8e186"
            ],
            [
             0.8,
             "#7fbc41"
            ],
            [
             0.9,
             "#4d9221"
            ],
            [
             1,
             "#276419"
            ]
           ],
           "sequential": [
            [
             0,
             "#0d0887"
            ],
            [
             0.1111111111111111,
             "#46039f"
            ],
            [
             0.2222222222222222,
             "#7201a8"
            ],
            [
             0.3333333333333333,
             "#9c179e"
            ],
            [
             0.4444444444444444,
             "#bd3786"
            ],
            [
             0.5555555555555556,
             "#d8576b"
            ],
            [
             0.6666666666666666,
             "#ed7953"
            ],
            [
             0.7777777777777778,
             "#fb9f3a"
            ],
            [
             0.8888888888888888,
             "#fdca26"
            ],
            [
             1,
             "#f0f921"
            ]
           ],
           "sequentialminus": [
            [
             0,
             "#0d0887"
            ],
            [
             0.1111111111111111,
             "#46039f"
            ],
            [
             0.2222222222222222,
             "#7201a8"
            ],
            [
             0.3333333333333333,
             "#9c179e"
            ],
            [
             0.4444444444444444,
             "#bd3786"
            ],
            [
             0.5555555555555556,
             "#d8576b"
            ],
            [
             0.6666666666666666,
             "#ed7953"
            ],
            [
             0.7777777777777778,
             "#fb9f3a"
            ],
            [
             0.8888888888888888,
             "#fdca26"
            ],
            [
             1,
             "#f0f921"
            ]
           ]
          },
          "colorway": [
           "#636efa",
           "#EF553B",
           "#00cc96",
           "#ab63fa",
           "#FFA15A",
           "#19d3f3",
           "#FF6692",
           "#B6E880",
           "#FF97FF",
           "#FECB52"
          ],
          "font": {
           "color": "#2a3f5f"
          },
          "geo": {
           "bgcolor": "white",
           "lakecolor": "white",
           "landcolor": "#E5ECF6",
           "showlakes": true,
           "showland": true,
           "subunitcolor": "white"
          },
          "hoverlabel": {
           "align": "left"
          },
          "hovermode": "closest",
          "mapbox": {
           "style": "light"
          },
          "paper_bgcolor": "white",
          "plot_bgcolor": "#E5ECF6",
          "polar": {
           "angularaxis": {
            "gridcolor": "white",
            "linecolor": "white",
            "ticks": ""
           },
           "bgcolor": "#E5ECF6",
           "radialaxis": {
            "gridcolor": "white",
            "linecolor": "white",
            "ticks": ""
           }
          },
          "scene": {
           "xaxis": {
            "backgroundcolor": "#E5ECF6",
            "gridcolor": "white",
            "gridwidth": 2,
            "linecolor": "white",
            "showbackground": true,
            "ticks": "",
            "zerolinecolor": "white"
           },
           "yaxis": {
            "backgroundcolor": "#E5ECF6",
            "gridcolor": "white",
            "gridwidth": 2,
            "linecolor": "white",
            "showbackground": true,
            "ticks": "",
            "zerolinecolor": "white"
           },
           "zaxis": {
            "backgroundcolor": "#E5ECF6",
            "gridcolor": "white",
            "gridwidth": 2,
            "linecolor": "white",
            "showbackground": true,
            "ticks": "",
            "zerolinecolor": "white"
           }
          },
          "shapedefaults": {
           "line": {
            "color": "#2a3f5f"
           }
          },
          "ternary": {
           "aaxis": {
            "gridcolor": "white",
            "linecolor": "white",
            "ticks": ""
           },
           "baxis": {
            "gridcolor": "white",
            "linecolor": "white",
            "ticks": ""
           },
           "bgcolor": "#E5ECF6",
           "caxis": {
            "gridcolor": "white",
            "linecolor": "white",
            "ticks": ""
           }
          },
          "title": {
           "x": 0.05
          },
          "xaxis": {
           "automargin": true,
           "gridcolor": "white",
           "linecolor": "white",
           "ticks": "",
           "title": {
            "standoff": 15
           },
           "zerolinecolor": "white",
           "zerolinewidth": 2
          },
          "yaxis": {
           "automargin": true,
           "gridcolor": "white",
           "linecolor": "white",
           "ticks": "",
           "title": {
            "standoff": 15
           },
           "zerolinecolor": "white",
           "zerolinewidth": 2
          }
         }
        },
        "title": {
         "text": "Indicador: Erro quadratico médio para K grupos"
        },
        "xaxis": {
         "title": {
          "text": "Valores de K"
         }
        },
        "yaxis": {
         "title": {
          "text": "MSE"
         }
        }
       }
      }
     },
     "metadata": {},
     "output_type": "display_data"
    }
   ],
   "source": [
    "fig =go.Figure()\n",
    "fig.add_trace(go.Scatter(x = faixa_n_clusters, y = valores_score))\n",
    "fig.update_layout(\n",
    "    title=\"Indicador: Erro quadratico médio para K grupos\",\n",
    "    xaxis_title=\"Valores de K\",\n",
    "    yaxis_title=\"MSE\",\n",
    "    font=dict(\n",
    "        family=\"Courier New, monospace\",\n",
    "        size=18,\n",
    "        color=\"#7f7f7f\"\n",
    "    )\n",
    ")\n",
    "fig.show()"
   ]
  },
  {
   "cell_type": "code",
   "execution_count": 118,
   "metadata": {},
   "outputs": [],
   "source": [
    "def optimal_number_of_clusters(wcss):\n",
    "    x1, y1 = 2, wcss[0]\n",
    "    x2, y2 = 15, wcss[len(wcss)-1]\n",
    "\n",
    "    distances = []\n",
    "    for i in range(len(wcss)):\n",
    "        x0 = i+2\n",
    "        y0 = wcss[i]\n",
    "        numerator = abs((y2-y1)*x0 - (x2-x1)*y0 + x2*y1 - y2*x1)\n",
    "        denominator = np.sqrt((y2 - y1)**2 + (x2 - x1)**2)\n",
    "        distances.append(numerator/denominator)\n",
    "    \n",
    "    return distances.index(max(distances)) + 2"
   ]
  },
  {
   "cell_type": "code",
   "execution_count": 119,
   "metadata": {},
   "outputs": [
    {
     "name": "stdout",
     "output_type": "stream",
     "text": [
      "Melhor valor de K: 5\n"
     ]
    }
   ],
   "source": [
    "valor_ideal_k = optimal_number_of_clusters(valores_inercia)\n",
    "\n",
    "print(\"Melhor valor de K:\", valor_ideal_k)"
   ]
  },
  {
   "cell_type": "code",
   "execution_count": 120,
   "metadata": {},
   "outputs": [],
   "source": [
    "# Construindo o melhor agrupador de clusteres\n",
    "valor_de_k = 4\n",
    "\n",
    "agrupador = KMeans(n_clusters=valor_de_k, random_state=1337)\n",
    "agrupador.fit_transform(df_pipe_cluster)\n",
    "\n",
    "# Obtendo o ponto central dos clusteres\n",
    "centros = agrupador.cluster_centers_\n",
    "df_centroide = pd.DataFrame(centros, columns = df_pipe_cluster.columns).round(3)\n",
    "df_centroide['cluster'] = df_centroide.index\n",
    "\n",
    "# Obtendo o label para cada pessoa\n",
    "df_pipe_cluster['label_cluster'] = agrupador.labels_"
   ]
  },
  {
   "cell_type": "code",
   "execution_count": 122,
   "metadata": {},
   "outputs": [
    {
     "data": {
      "text/html": [
       "<div>\n",
       "<style scoped>\n",
       "    .dataframe tbody tr th:only-of-type {\n",
       "        vertical-align: middle;\n",
       "    }\n",
       "\n",
       "    .dataframe tbody tr th {\n",
       "        vertical-align: top;\n",
       "    }\n",
       "\n",
       "    .dataframe thead th {\n",
       "        text-align: right;\n",
       "    }\n",
       "</style>\n",
       "<table border=\"1\" class=\"dataframe\">\n",
       "  <thead>\n",
       "    <tr style=\"text-align: right;\">\n",
       "      <th></th>\n",
       "      <th>status_situacao</th>\n",
       "      <th>historico_pagamento_em_qtd</th>\n",
       "      <th>historico_pagamento_em_valor</th>\n",
       "      <th>cluster</th>\n",
       "    </tr>\n",
       "  </thead>\n",
       "  <tbody>\n",
       "    <tr>\n",
       "      <th>0</th>\n",
       "      <td>0.006</td>\n",
       "      <td>0.113</td>\n",
       "      <td>0.045</td>\n",
       "      <td>0</td>\n",
       "    </tr>\n",
       "    <tr>\n",
       "      <th>1</th>\n",
       "      <td>3.000</td>\n",
       "      <td>0.139</td>\n",
       "      <td>0.067</td>\n",
       "      <td>1</td>\n",
       "    </tr>\n",
       "    <tr>\n",
       "      <th>2</th>\n",
       "      <td>2.954</td>\n",
       "      <td>0.873</td>\n",
       "      <td>0.605</td>\n",
       "      <td>2</td>\n",
       "    </tr>\n",
       "    <tr>\n",
       "      <th>3</th>\n",
       "      <td>1.999</td>\n",
       "      <td>0.177</td>\n",
       "      <td>0.077</td>\n",
       "      <td>3</td>\n",
       "    </tr>\n",
       "  </tbody>\n",
       "</table>\n",
       "</div>"
      ],
      "text/plain": [
       "   status_situacao  historico_pagamento_em_qtd  historico_pagamento_em_valor  \\\n",
       "0            0.006                       0.113                         0.045   \n",
       "1            3.000                       0.139                         0.067   \n",
       "2            2.954                       0.873                         0.605   \n",
       "3            1.999                       0.177                         0.077   \n",
       "\n",
       "   cluster  \n",
       "0        0  \n",
       "1        1  \n",
       "2        2  \n",
       "3        3  "
      ]
     },
     "execution_count": 122,
     "metadata": {},
     "output_type": "execute_result"
    }
   ],
   "source": [
    "df_centroide"
   ]
  },
  {
   "attachments": {},
   "cell_type": "markdown",
   "metadata": {},
   "source": [
    "Na totalidade temos +1 cluster especial que é do contribuinte que apareceu a primiera vez em DA"
   ]
  },
  {
   "cell_type": "code",
   "execution_count": 123,
   "metadata": {},
   "outputs": [],
   "source": [
    "dicionario_clusteres ={\n",
    "    4: 'PRIMEIRA DIVIDA',\n",
    "    0: 'PIOR PAGADOR',\n",
    "    1: 'PAGADOR INTERMEDIARIO',\n",
    "    3: 'BOM PAGADOR',\n",
    "    2: 'MELHOR PAGADOR'\n",
    "}"
   ]
  },
  {
   "cell_type": "code",
   "execution_count": 124,
   "metadata": {},
   "outputs": [
    {
     "data": {
      "text/html": [
       "<div>\n",
       "<style scoped>\n",
       "    .dataframe tbody tr th:only-of-type {\n",
       "        vertical-align: middle;\n",
       "    }\n",
       "\n",
       "    .dataframe tbody tr th {\n",
       "        vertical-align: top;\n",
       "    }\n",
       "\n",
       "    .dataframe thead th {\n",
       "        text-align: right;\n",
       "    }\n",
       "</style>\n",
       "<table border=\"1\" class=\"dataframe\">\n",
       "  <thead>\n",
       "    <tr style=\"text-align: right;\">\n",
       "      <th></th>\n",
       "      <th></th>\n",
       "      <th>label_cluster</th>\n",
       "      <th>perc</th>\n",
       "    </tr>\n",
       "    <tr>\n",
       "      <th>label_cluster</th>\n",
       "      <th>label_cluster</th>\n",
       "      <th></th>\n",
       "      <th></th>\n",
       "    </tr>\n",
       "  </thead>\n",
       "  <tbody>\n",
       "    <tr>\n",
       "      <th>0</th>\n",
       "      <th>0</th>\n",
       "      <td>155504</td>\n",
       "      <td>0.444504</td>\n",
       "    </tr>\n",
       "    <tr>\n",
       "      <th>1</th>\n",
       "      <th>1</th>\n",
       "      <td>81359</td>\n",
       "      <td>0.232563</td>\n",
       "    </tr>\n",
       "    <tr>\n",
       "      <th>2</th>\n",
       "      <th>2</th>\n",
       "      <td>57936</td>\n",
       "      <td>0.165609</td>\n",
       "    </tr>\n",
       "    <tr>\n",
       "      <th>3</th>\n",
       "      <th>3</th>\n",
       "      <td>55038</td>\n",
       "      <td>0.157325</td>\n",
       "    </tr>\n",
       "  </tbody>\n",
       "</table>\n",
       "</div>"
      ],
      "text/plain": [
       "                             label_cluster      perc\n",
       "label_cluster label_cluster                         \n",
       "0             0                     155504  0.444504\n",
       "1             1                      81359  0.232563\n",
       "2             2                      57936  0.165609\n",
       "3             3                      55038  0.157325"
      ]
     },
     "execution_count": 124,
     "metadata": {},
     "output_type": "execute_result"
    }
   ],
   "source": [
    "df_cluster = df_pipe_cluster.groupby('label_cluster')['label_cluster'].value_counts().to_frame()\n",
    "total = df_cluster['label_cluster'].sum()\n",
    "df_cluster['perc'] = df_cluster['label_cluster']/total\n",
    "df_cluster"
   ]
  },
  {
   "attachments": {},
   "cell_type": "markdown",
   "metadata": {},
   "source": [
    "Classificações dos contribuintes com base no melhor ao pior pagador, baseado no seu histórico e na sua situação atual."
   ]
  },
  {
   "attachments": {},
   "cell_type": "markdown",
   "metadata": {},
   "source": [
    "# 04) Cria classificador de class do contribuinte"
   ]
  },
  {
   "cell_type": "code",
   "execution_count": 125,
   "metadata": {},
   "outputs": [],
   "source": [
    "# Constroi o modelo que prevê qual o grupo do contribuinte\n",
    "\n",
    "x_cluster = df_pipe_cluster.drop(columns=['label_cluster'])\n",
    "y_cluster = df_pipe_cluster['label_cluster']\n",
    "\n",
    "X_train, X_test, y_train, y_test = train_test_split(x_cluster, y_cluster, test_size=0.3, random_state=1337)"
   ]
  },
  {
   "cell_type": "code",
   "execution_count": 126,
   "metadata": {},
   "outputs": [
    {
     "name": "stdout",
     "output_type": "stream",
     "text": [
      "Score de validacao: 0.9996665142160226\n"
     ]
    }
   ],
   "source": [
    "model_predict_contribuinte = RandomForestClassifier(random_state=1337)\n",
    "model_predict_contribuinte.fit(X_train, y_train)\n",
    "\n",
    "score_validacao = model_predict_contribuinte.score(X_test, y_test)\n",
    "print(\"Score de validacao:\", score_validacao)"
   ]
  },
  {
   "cell_type": "code",
   "execution_count": 127,
   "metadata": {},
   "outputs": [],
   "source": [
    "# Previsão da classificação para a base total de contribuintes\n",
    "\n",
    "matriz_previsao_class = dados_pessoas[['status_situacao', 'historico_pagamento_em_qtd', 'historico_pagamento_em_valor']]\n",
    "dados_pessoas['class_contribuinte'] = model_predict_contribuinte.predict(matriz_previsao_class)\n",
    "dados_pessoas.loc[dados_pessoas['frequencia_da_pessoa'] == 1, 'class_contribuinte'] = 4\n"
   ]
  },
  {
   "cell_type": "code",
   "execution_count": 128,
   "metadata": {},
   "outputs": [
    {
     "data": {
      "text/html": [
       "<div>\n",
       "<style scoped>\n",
       "    .dataframe tbody tr th:only-of-type {\n",
       "        vertical-align: middle;\n",
       "    }\n",
       "\n",
       "    .dataframe tbody tr th {\n",
       "        vertical-align: top;\n",
       "    }\n",
       "\n",
       "    .dataframe thead th {\n",
       "        text-align: right;\n",
       "    }\n",
       "</style>\n",
       "<table border=\"1\" class=\"dataframe\">\n",
       "  <thead>\n",
       "    <tr style=\"text-align: right;\">\n",
       "      <th></th>\n",
       "      <th></th>\n",
       "      <th>num_contrib</th>\n",
       "      <th>perc</th>\n",
       "    </tr>\n",
       "    <tr>\n",
       "      <th>class_contribuinte</th>\n",
       "      <th>class_contribuinte</th>\n",
       "      <th></th>\n",
       "      <th></th>\n",
       "    </tr>\n",
       "  </thead>\n",
       "  <tbody>\n",
       "    <tr>\n",
       "      <th>4</th>\n",
       "      <th>4</th>\n",
       "      <td>74222</td>\n",
       "      <td>1.0</td>\n",
       "    </tr>\n",
       "  </tbody>\n",
       "</table>\n",
       "</div>"
      ],
      "text/plain": [
       "                                       num_contrib  perc\n",
       "class_contribuinte class_contribuinte                   \n",
       "4                  4                         74222   1.0"
      ]
     },
     "execution_count": 128,
     "metadata": {},
     "output_type": "execute_result"
    }
   ],
   "source": [
    "primeira_divida = dados_pessoas[dados_pessoas['frequencia_da_pessoa'] == 1]\n",
    "\n",
    "# Como ficou a nossa classificação originalmente\n",
    "\n",
    "df_primeira_divida = primeira_divida.groupby('class_contribuinte')['class_contribuinte'].value_counts().to_frame()#.reset_index()\n",
    "df_primeira_divida.rename(columns = {'class_contribuinte':'num_contrib'}, inplace = True)\n",
    "total = df_primeira_divida['num_contrib'].sum()\n",
    "df_primeira_divida['perc'] = np.round(df_primeira_divida['num_contrib']/total, 3)\n",
    "df_primeira_divida"
   ]
  },
  {
   "cell_type": "code",
   "execution_count": 129,
   "metadata": {},
   "outputs": [
    {
     "data": {
      "text/html": [
       "<div>\n",
       "<style scoped>\n",
       "    .dataframe tbody tr th:only-of-type {\n",
       "        vertical-align: middle;\n",
       "    }\n",
       "\n",
       "    .dataframe tbody tr th {\n",
       "        vertical-align: top;\n",
       "    }\n",
       "\n",
       "    .dataframe thead th {\n",
       "        text-align: right;\n",
       "    }\n",
       "</style>\n",
       "<table border=\"1\" class=\"dataframe\">\n",
       "  <thead>\n",
       "    <tr style=\"text-align: right;\">\n",
       "      <th></th>\n",
       "      <th></th>\n",
       "      <th>num_contrib</th>\n",
       "      <th>perc</th>\n",
       "    </tr>\n",
       "    <tr>\n",
       "      <th>class_contribuinte</th>\n",
       "      <th>class_contribuinte</th>\n",
       "      <th></th>\n",
       "      <th></th>\n",
       "    </tr>\n",
       "  </thead>\n",
       "  <tbody>\n",
       "    <tr>\n",
       "      <th>0</th>\n",
       "      <th>0</th>\n",
       "      <td>155504</td>\n",
       "      <td>0.367</td>\n",
       "    </tr>\n",
       "    <tr>\n",
       "      <th>1</th>\n",
       "      <th>1</th>\n",
       "      <td>81357</td>\n",
       "      <td>0.192</td>\n",
       "    </tr>\n",
       "    <tr>\n",
       "      <th>2</th>\n",
       "      <th>2</th>\n",
       "      <td>57939</td>\n",
       "      <td>0.137</td>\n",
       "    </tr>\n",
       "    <tr>\n",
       "      <th>3</th>\n",
       "      <th>3</th>\n",
       "      <td>55037</td>\n",
       "      <td>0.130</td>\n",
       "    </tr>\n",
       "    <tr>\n",
       "      <th>4</th>\n",
       "      <th>4</th>\n",
       "      <td>74222</td>\n",
       "      <td>0.175</td>\n",
       "    </tr>\n",
       "  </tbody>\n",
       "</table>\n",
       "</div>"
      ],
      "text/plain": [
       "                                       num_contrib   perc\n",
       "class_contribuinte class_contribuinte                    \n",
       "0                  0                        155504  0.367\n",
       "1                  1                         81357  0.192\n",
       "2                  2                         57939  0.137\n",
       "3                  3                         55037  0.130\n",
       "4                  4                         74222  0.175"
      ]
     },
     "execution_count": 129,
     "metadata": {},
     "output_type": "execute_result"
    }
   ],
   "source": [
    "\n",
    "# Como ficou a nossa classificação originalmente\n",
    "\n",
    "df_descritiva = dados_pessoas.groupby('class_contribuinte')['class_contribuinte'].value_counts().to_frame()#.reset_index()\n",
    "df_descritiva.rename(columns = {'class_contribuinte':'num_contrib'}, inplace = True)\n",
    "total = df_descritiva['num_contrib'].sum()\n",
    "df_descritiva['perc'] = np.round(df_descritiva['num_contrib']/total, 3)\n",
    "df_descritiva"
   ]
  },
  {
   "cell_type": "code",
   "execution_count": 130,
   "metadata": {},
   "outputs": [],
   "source": [
    "# Nomeando a classificação com label de prioridade\n",
    "dados_pessoas.loc[dados_pessoas['class_contribuinte'] == 4, 'class_contribuinte_nome'] = 'PRIMEIRA DIVIDA'\n",
    "dados_pessoas.loc[dados_pessoas['class_contribuinte'] == 0, 'class_contribuinte_nome'] = 'PIOR PAGADOR'\n",
    "dados_pessoas.loc[dados_pessoas['class_contribuinte'] == 1, 'class_contribuinte_nome'] = 'PAGADOR INTERMEDIARIO'\n",
    "dados_pessoas.loc[dados_pessoas['class_contribuinte'] == 3, 'class_contribuinte_nome'] = 'BOM PAGADOR'\n",
    "dados_pessoas.loc[dados_pessoas['class_contribuinte'] == 2, 'class_contribuinte_nome'] = 'MELHOR PAGADOR'"
   ]
  },
  {
   "cell_type": "code",
   "execution_count": 131,
   "metadata": {},
   "outputs": [],
   "source": [
    "df_classificao_contribuinte = dados_pessoas[['class_contribuinte_nome']].reset_index()"
   ]
  },
  {
   "cell_type": "code",
   "execution_count": 132,
   "metadata": {},
   "outputs": [
    {
     "data": {
      "text/html": [
       "<div>\n",
       "<style scoped>\n",
       "    .dataframe tbody tr th:only-of-type {\n",
       "        vertical-align: middle;\n",
       "    }\n",
       "\n",
       "    .dataframe tbody tr th {\n",
       "        vertical-align: top;\n",
       "    }\n",
       "\n",
       "    .dataframe thead th {\n",
       "        text-align: right;\n",
       "    }\n",
       "</style>\n",
       "<table border=\"1\" class=\"dataframe\">\n",
       "  <thead>\n",
       "    <tr style=\"text-align: right;\">\n",
       "      <th></th>\n",
       "      <th>id_pessoa</th>\n",
       "      <th>class_contribuinte_nome</th>\n",
       "    </tr>\n",
       "  </thead>\n",
       "  <tbody>\n",
       "    <tr>\n",
       "      <th>0</th>\n",
       "      <td>ac28642d7c82b33f</td>\n",
       "      <td>PAGADOR INTERMEDIARIO</td>\n",
       "    </tr>\n",
       "    <tr>\n",
       "      <th>1</th>\n",
       "      <td>fc4b99b807fbed41</td>\n",
       "      <td>PIOR PAGADOR</td>\n",
       "    </tr>\n",
       "    <tr>\n",
       "      <th>2</th>\n",
       "      <td>96e8e553de69d7a4</td>\n",
       "      <td>PIOR PAGADOR</td>\n",
       "    </tr>\n",
       "    <tr>\n",
       "      <th>3</th>\n",
       "      <td>6dbe14da38a31dc1</td>\n",
       "      <td>PAGADOR INTERMEDIARIO</td>\n",
       "    </tr>\n",
       "    <tr>\n",
       "      <th>4</th>\n",
       "      <td>870c08c252b25ad1</td>\n",
       "      <td>MELHOR PAGADOR</td>\n",
       "    </tr>\n",
       "    <tr>\n",
       "      <th>...</th>\n",
       "      <td>...</td>\n",
       "      <td>...</td>\n",
       "    </tr>\n",
       "    <tr>\n",
       "      <th>424054</th>\n",
       "      <td>2fba3f9602ee622b</td>\n",
       "      <td>PRIMEIRA DIVIDA</td>\n",
       "    </tr>\n",
       "    <tr>\n",
       "      <th>424055</th>\n",
       "      <td>d6e7cb2581a47f25</td>\n",
       "      <td>PRIMEIRA DIVIDA</td>\n",
       "    </tr>\n",
       "    <tr>\n",
       "      <th>424056</th>\n",
       "      <td>89a2cb2e2e9475a8</td>\n",
       "      <td>PRIMEIRA DIVIDA</td>\n",
       "    </tr>\n",
       "    <tr>\n",
       "      <th>424057</th>\n",
       "      <td>22e610a1d7dc59f1</td>\n",
       "      <td>PRIMEIRA DIVIDA</td>\n",
       "    </tr>\n",
       "    <tr>\n",
       "      <th>424058</th>\n",
       "      <td>8e19c7f463144fe3</td>\n",
       "      <td>PRIMEIRA DIVIDA</td>\n",
       "    </tr>\n",
       "  </tbody>\n",
       "</table>\n",
       "<p>424059 rows × 2 columns</p>\n",
       "</div>"
      ],
      "text/plain": [
       "               id_pessoa class_contribuinte_nome\n",
       "0       ac28642d7c82b33f   PAGADOR INTERMEDIARIO\n",
       "1       fc4b99b807fbed41            PIOR PAGADOR\n",
       "2       96e8e553de69d7a4            PIOR PAGADOR\n",
       "3       6dbe14da38a31dc1   PAGADOR INTERMEDIARIO\n",
       "4       870c08c252b25ad1          MELHOR PAGADOR\n",
       "...                  ...                     ...\n",
       "424054  2fba3f9602ee622b         PRIMEIRA DIVIDA\n",
       "424055  d6e7cb2581a47f25         PRIMEIRA DIVIDA\n",
       "424056  89a2cb2e2e9475a8         PRIMEIRA DIVIDA\n",
       "424057  22e610a1d7dc59f1         PRIMEIRA DIVIDA\n",
       "424058  8e19c7f463144fe3         PRIMEIRA DIVIDA\n",
       "\n",
       "[424059 rows x 2 columns]"
      ]
     },
     "execution_count": 132,
     "metadata": {},
     "output_type": "execute_result"
    }
   ],
   "source": [
    "df_classificao_contribuinte"
   ]
  },
  {
   "cell_type": "code",
   "execution_count": 133,
   "metadata": {},
   "outputs": [
    {
     "data": {
      "text/plain": [
       "Index(['cda', 'tipo_divida', 'id_contribuinte', 'atividade_principal',\n",
       "       'situacao', 'tipo_tributo', 'vlr_pago', 'valor_tot', 'vlr_tributo',\n",
       "       'vlr_taxa', 'competencia_divida', 'inscricao_divida',\n",
       "       'arrecadacao_divida', 'ajuizamento_divida', 'edificacao',\n",
       "       'cpf_cnpj_existe', 'protesto', 'ajuizamento', 'refis', 'deb_totais',\n",
       "       'deb_pagos', 'idade_divida', 'quantidade_reparcelamento', 'data_divida',\n",
       "       'ano_inscricao_da'],\n",
       "      dtype='object')"
      ]
     },
     "execution_count": 133,
     "metadata": {},
     "output_type": "execute_result"
    }
   ],
   "source": [
    "base_conjunta.columns"
   ]
  },
  {
   "attachments": {},
   "cell_type": "markdown",
   "metadata": {},
   "source": [
    "# 05) Análise discriminante da classificação do contribuintes para o % Pago das dívidas de cada CDA"
   ]
  },
  {
   "cell_type": "code",
   "execution_count": 134,
   "metadata": {},
   "outputs": [],
   "source": [
    "# Calcula variável target y\n",
    "base_conjunta['percentual_pago_cda'] = base_conjunta['vlr_pago'] / base_conjunta['valor_tot']"
   ]
  },
  {
   "cell_type": "code",
   "execution_count": 135,
   "metadata": {},
   "outputs": [
    {
     "data": {
      "text/html": [
       "<div>\n",
       "<style scoped>\n",
       "    .dataframe tbody tr th:only-of-type {\n",
       "        vertical-align: middle;\n",
       "    }\n",
       "\n",
       "    .dataframe tbody tr th {\n",
       "        vertical-align: top;\n",
       "    }\n",
       "\n",
       "    .dataframe thead th {\n",
       "        text-align: right;\n",
       "    }\n",
       "</style>\n",
       "<table border=\"1\" class=\"dataframe\">\n",
       "  <thead>\n",
       "    <tr style=\"text-align: right;\">\n",
       "      <th></th>\n",
       "      <th>cda</th>\n",
       "      <th>tipo_divida</th>\n",
       "      <th>vlr_pago</th>\n",
       "      <th>valor_tot</th>\n",
       "      <th>percentual_pago_cda</th>\n",
       "    </tr>\n",
       "  </thead>\n",
       "  <tbody>\n",
       "    <tr>\n",
       "      <th>0</th>\n",
       "      <td>00000123c3d4731c6b3a8e268c80aedf1</td>\n",
       "      <td>imovel</td>\n",
       "      <td>0.0</td>\n",
       "      <td>2048.73</td>\n",
       "      <td>0.0</td>\n",
       "    </tr>\n",
       "    <tr>\n",
       "      <th>1</th>\n",
       "      <td>00000123c3d4731c6b3a8e268c80aedf2</td>\n",
       "      <td>mercantil</td>\n",
       "      <td>0.0</td>\n",
       "      <td>2515.85</td>\n",
       "      <td>0.0</td>\n",
       "    </tr>\n",
       "    <tr>\n",
       "      <th>2</th>\n",
       "      <td>00000b44c5ba1e669ceed47545e621dd2</td>\n",
       "      <td>mercantil</td>\n",
       "      <td>0.0</td>\n",
       "      <td>1278.97</td>\n",
       "      <td>0.0</td>\n",
       "    </tr>\n",
       "    <tr>\n",
       "      <th>3</th>\n",
       "      <td>000014e359592e62d8a3e5cebc255ca6E</td>\n",
       "      <td>mercantil</td>\n",
       "      <td>0.0</td>\n",
       "      <td>847.02</td>\n",
       "      <td>0.0</td>\n",
       "    </tr>\n",
       "    <tr>\n",
       "      <th>4</th>\n",
       "      <td>0000331f601a73e52b46f673bf0c61251</td>\n",
       "      <td>imovel</td>\n",
       "      <td>0.0</td>\n",
       "      <td>344.12</td>\n",
       "      <td>0.0</td>\n",
       "    </tr>\n",
       "    <tr>\n",
       "      <th>...</th>\n",
       "      <td>...</td>\n",
       "      <td>...</td>\n",
       "      <td>...</td>\n",
       "      <td>...</td>\n",
       "      <td>...</td>\n",
       "    </tr>\n",
       "    <tr>\n",
       "      <th>2414893</th>\n",
       "      <td>ffffd8af5760cada9fcacff532cf50c41</td>\n",
       "      <td>imovel</td>\n",
       "      <td>0.0</td>\n",
       "      <td>1728.13</td>\n",
       "      <td>0.0</td>\n",
       "    </tr>\n",
       "    <tr>\n",
       "      <th>2414894</th>\n",
       "      <td>ffffdb721b90282718565e26094f06ee2</td>\n",
       "      <td>mercantil</td>\n",
       "      <td>0.0</td>\n",
       "      <td>240.77</td>\n",
       "      <td>0.0</td>\n",
       "    </tr>\n",
       "    <tr>\n",
       "      <th>2414895</th>\n",
       "      <td>ffffdc78aa7a90e26b3a8e268c80aedf1</td>\n",
       "      <td>imovel</td>\n",
       "      <td>0.0</td>\n",
       "      <td>9390.43</td>\n",
       "      <td>0.0</td>\n",
       "    </tr>\n",
       "    <tr>\n",
       "      <th>2414896</th>\n",
       "      <td>fffff192f894983c9ceed47545e621dd1</td>\n",
       "      <td>imovel</td>\n",
       "      <td>0.0</td>\n",
       "      <td>16594.80</td>\n",
       "      <td>0.0</td>\n",
       "    </tr>\n",
       "    <tr>\n",
       "      <th>2414897</th>\n",
       "      <td>ffffff9f9c5c6cd39ceed47545e621dd1</td>\n",
       "      <td>imovel</td>\n",
       "      <td>1468.9</td>\n",
       "      <td>1468.90</td>\n",
       "      <td>1.0</td>\n",
       "    </tr>\n",
       "  </tbody>\n",
       "</table>\n",
       "<p>2414898 rows × 5 columns</p>\n",
       "</div>"
      ],
      "text/plain": [
       "                                       cda tipo_divida  vlr_pago  valor_tot  \\\n",
       "0        00000123c3d4731c6b3a8e268c80aedf1      imovel       0.0    2048.73   \n",
       "1        00000123c3d4731c6b3a8e268c80aedf2   mercantil       0.0    2515.85   \n",
       "2        00000b44c5ba1e669ceed47545e621dd2   mercantil       0.0    1278.97   \n",
       "3        000014e359592e62d8a3e5cebc255ca6E   mercantil       0.0     847.02   \n",
       "4        0000331f601a73e52b46f673bf0c61251      imovel       0.0     344.12   \n",
       "...                                    ...         ...       ...        ...   \n",
       "2414893  ffffd8af5760cada9fcacff532cf50c41      imovel       0.0    1728.13   \n",
       "2414894  ffffdb721b90282718565e26094f06ee2   mercantil       0.0     240.77   \n",
       "2414895  ffffdc78aa7a90e26b3a8e268c80aedf1      imovel       0.0    9390.43   \n",
       "2414896  fffff192f894983c9ceed47545e621dd1      imovel       0.0   16594.80   \n",
       "2414897  ffffff9f9c5c6cd39ceed47545e621dd1      imovel    1468.9    1468.90   \n",
       "\n",
       "         percentual_pago_cda  \n",
       "0                        0.0  \n",
       "1                        0.0  \n",
       "2                        0.0  \n",
       "3                        0.0  \n",
       "4                        0.0  \n",
       "...                      ...  \n",
       "2414893                  0.0  \n",
       "2414894                  0.0  \n",
       "2414895                  0.0  \n",
       "2414896                  0.0  \n",
       "2414897                  1.0  \n",
       "\n",
       "[2414898 rows x 5 columns]"
      ]
     },
     "execution_count": 135,
     "metadata": {},
     "output_type": "execute_result"
    }
   ],
   "source": [
    "base_conjunta[['cda', 'tipo_divida', 'vlr_pago', 'valor_tot', 'percentual_pago_cda' ]]"
   ]
  },
  {
   "cell_type": "code",
   "execution_count": null,
   "metadata": {},
   "outputs": [],
   "source": [
    "# # Substitui por zero os valores nulos em que a divisão for zero\n",
    "# base_conjunta['percentual_pago_cda'] = base_conjunta['percentual_pago_cda'].fillna(0)"
   ]
  },
  {
   "cell_type": "code",
   "execution_count": 72,
   "metadata": {},
   "outputs": [
    {
     "data": {
      "text/plain": [
       "Index(['cda', 'tipo_divida', 'id_contribuinte', 'atividade_principal',\n",
       "       'situacao', 'tipo_tributo', 'vlr_pago', 'valor_tot', 'vlr_tributo',\n",
       "       'vlr_taxa', 'competencia_divida', 'inscricao_divida',\n",
       "       'arrecadacao_divida', 'ajuizamento_divida', 'edificacao',\n",
       "       'cpf_cnpj_existe', 'protesto', 'ajuizamento', 'refis', 'deb_totais',\n",
       "       'deb_pagos', 'idade_divida', 'quantidade_reparcelamento', 'data_divida',\n",
       "       'ano_inscricao_da', 'percentual_pago_cda'],\n",
       "      dtype='object')"
      ]
     },
     "execution_count": 72,
     "metadata": {},
     "output_type": "execute_result"
    }
   ],
   "source": [
    "base_conjunta.columns"
   ]
  },
  {
   "cell_type": "code",
   "execution_count": 136,
   "metadata": {},
   "outputs": [
    {
     "data": {
      "text/html": [
       "<div>\n",
       "<style scoped>\n",
       "    .dataframe tbody tr th:only-of-type {\n",
       "        vertical-align: middle;\n",
       "    }\n",
       "\n",
       "    .dataframe tbody tr th {\n",
       "        vertical-align: top;\n",
       "    }\n",
       "\n",
       "    .dataframe thead th {\n",
       "        text-align: right;\n",
       "    }\n",
       "</style>\n",
       "<table border=\"1\" class=\"dataframe\">\n",
       "  <thead>\n",
       "    <tr style=\"text-align: right;\">\n",
       "      <th></th>\n",
       "      <th>cda</th>\n",
       "      <th>tipo_divida</th>\n",
       "      <th>valor_tot</th>\n",
       "      <th>vlr_pago</th>\n",
       "      <th>vlr_tributo</th>\n",
       "      <th>vlr_taxa</th>\n",
       "      <th>idade_divida</th>\n",
       "      <th>inscricao_divida</th>\n",
       "      <th>percentual_pago_cda</th>\n",
       "    </tr>\n",
       "  </thead>\n",
       "  <tbody>\n",
       "    <tr>\n",
       "      <th>1840081</th>\n",
       "      <td>c321f72f88d3f46d9ceed47545e621dd1</td>\n",
       "      <td>imovel</td>\n",
       "      <td>0.0</td>\n",
       "      <td>0.0</td>\n",
       "      <td>0.0</td>\n",
       "      <td>0.0</td>\n",
       "      <td>18.0</td>\n",
       "      <td>2005-09-30</td>\n",
       "      <td>NaN</td>\n",
       "    </tr>\n",
       "  </tbody>\n",
       "</table>\n",
       "</div>"
      ],
      "text/plain": [
       "                                       cda tipo_divida  valor_tot  vlr_pago  \\\n",
       "1840081  c321f72f88d3f46d9ceed47545e621dd1      imovel        0.0       0.0   \n",
       "\n",
       "         vlr_tributo  vlr_taxa  idade_divida inscricao_divida  \\\n",
       "1840081          0.0       0.0          18.0       2005-09-30   \n",
       "\n",
       "         percentual_pago_cda  \n",
       "1840081                  NaN  "
      ]
     },
     "execution_count": 136,
     "metadata": {},
     "output_type": "execute_result"
    }
   ],
   "source": [
    "df = base_conjunta[base_conjunta['percentual_pago_cda'].isna()]\n",
    "df[['cda', 'tipo_divida', 'valor_tot', 'vlr_pago', 'vlr_tributo', 'vlr_taxa', 'idade_divida', 'inscricao_divida', 'percentual_pago_cda']]"
   ]
  },
  {
   "cell_type": "code",
   "execution_count": 143,
   "metadata": {},
   "outputs": [],
   "source": [
    "base_conjunta['percentual_pago_cda'] = base_conjunta['percentual_pago_cda'].fillna(0)"
   ]
  },
  {
   "cell_type": "code",
   "execution_count": 144,
   "metadata": {},
   "outputs": [
    {
     "data": {
      "text/html": [
       "<div>\n",
       "<style scoped>\n",
       "    .dataframe tbody tr th:only-of-type {\n",
       "        vertical-align: middle;\n",
       "    }\n",
       "\n",
       "    .dataframe tbody tr th {\n",
       "        vertical-align: top;\n",
       "    }\n",
       "\n",
       "    .dataframe thead th {\n",
       "        text-align: right;\n",
       "    }\n",
       "</style>\n",
       "<table border=\"1\" class=\"dataframe\">\n",
       "  <thead>\n",
       "    <tr style=\"text-align: right;\">\n",
       "      <th></th>\n",
       "      <th>cda</th>\n",
       "      <th>tipo_divida</th>\n",
       "      <th>id_contribuinte</th>\n",
       "      <th>atividade_principal</th>\n",
       "      <th>situacao</th>\n",
       "      <th>tipo_tributo</th>\n",
       "      <th>vlr_pago</th>\n",
       "      <th>valor_tot</th>\n",
       "      <th>vlr_tributo</th>\n",
       "      <th>vlr_taxa</th>\n",
       "      <th>...</th>\n",
       "      <th>protesto</th>\n",
       "      <th>ajuizamento</th>\n",
       "      <th>refis</th>\n",
       "      <th>deb_totais</th>\n",
       "      <th>deb_pagos</th>\n",
       "      <th>idade_divida</th>\n",
       "      <th>quantidade_reparcelamento</th>\n",
       "      <th>data_divida</th>\n",
       "      <th>ano_inscricao_da</th>\n",
       "      <th>percentual_pago_cda</th>\n",
       "    </tr>\n",
       "  </thead>\n",
       "  <tbody>\n",
       "  </tbody>\n",
       "</table>\n",
       "<p>0 rows × 26 columns</p>\n",
       "</div>"
      ],
      "text/plain": [
       "Empty DataFrame\n",
       "Columns: [cda, tipo_divida, id_contribuinte, atividade_principal, situacao, tipo_tributo, vlr_pago, valor_tot, vlr_tributo, vlr_taxa, competencia_divida, inscricao_divida, arrecadacao_divida, ajuizamento_divida, edificacao, cpf_cnpj_existe, protesto, ajuizamento, refis, deb_totais, deb_pagos, idade_divida, quantidade_reparcelamento, data_divida, ano_inscricao_da, percentual_pago_cda]\n",
       "Index: []\n",
       "\n",
       "[0 rows x 26 columns]"
      ]
     },
     "execution_count": 144,
     "metadata": {},
     "output_type": "execute_result"
    }
   ],
   "source": [
    "df2 = base_conjunta[base_conjunta['percentual_pago_cda'] == np.inf]\n",
    "df2[['cda', 'tipo_divida', 'valor_tot', 'vlr_pago', 'vlr_tributo', 'vlr_taxa', 'idade_divida', 'inscricao_divida', 'percentual_pago_cda']]\n",
    "# df2 = formatar_moeda(df2['vlr_tributo'].sum())\n",
    "df2"
   ]
  },
  {
   "cell_type": "code",
   "execution_count": 145,
   "metadata": {},
   "outputs": [],
   "source": [
    "# Separação dos dados para a análise discriminante dos grupos de contribuintes\n",
    "\n",
    "df_analise_discriminante = pd.merge(\n",
    "    left=base_conjunta, left_on='id_contribuinte', right=df_classificao_contribuinte, right_on='id_pessoa', how='left'\n",
    ")\n",
    "\n",
    "df_analise_discriminante = df_analise_discriminante[['percentual_pago_cda', 'class_contribuinte_nome']]"
   ]
  },
  {
   "cell_type": "code",
   "execution_count": 146,
   "metadata": {},
   "outputs": [
    {
     "data": {
      "text/html": [
       "<div>\n",
       "<style scoped>\n",
       "    .dataframe tbody tr th:only-of-type {\n",
       "        vertical-align: middle;\n",
       "    }\n",
       "\n",
       "    .dataframe tbody tr th {\n",
       "        vertical-align: top;\n",
       "    }\n",
       "\n",
       "    .dataframe thead th {\n",
       "        text-align: right;\n",
       "    }\n",
       "</style>\n",
       "<table border=\"1\" class=\"dataframe\">\n",
       "  <thead>\n",
       "    <tr style=\"text-align: right;\">\n",
       "      <th></th>\n",
       "      <th>class_contribuinte_nome</th>\n",
       "      <th>BOM PAGADOR</th>\n",
       "      <th>MELHOR PAGADOR</th>\n",
       "      <th>PAGADOR INTERMEDIARIO</th>\n",
       "      <th>PIOR PAGADOR</th>\n",
       "      <th>PRIMEIRA DIVIDA</th>\n",
       "    </tr>\n",
       "  </thead>\n",
       "  <tbody>\n",
       "    <tr>\n",
       "      <th rowspan=\"8\" valign=\"top\">percentual_pago_cda</th>\n",
       "      <th>count</th>\n",
       "      <td>439688.000000</td>\n",
       "      <td>276703.000000</td>\n",
       "      <td>674495.000000</td>\n",
       "      <td>949790.000000</td>\n",
       "      <td>74222.000000</td>\n",
       "    </tr>\n",
       "    <tr>\n",
       "      <th>mean</th>\n",
       "      <td>0.076223</td>\n",
       "      <td>0.603698</td>\n",
       "      <td>0.093626</td>\n",
       "      <td>0.050595</td>\n",
       "      <td>0.351527</td>\n",
       "    </tr>\n",
       "    <tr>\n",
       "      <th>std</th>\n",
       "      <td>0.231124</td>\n",
       "      <td>0.399810</td>\n",
       "      <td>0.254588</td>\n",
       "      <td>0.196850</td>\n",
       "      <td>0.439288</td>\n",
       "    </tr>\n",
       "    <tr>\n",
       "      <th>min</th>\n",
       "      <td>0.000000</td>\n",
       "      <td>0.000000</td>\n",
       "      <td>0.000000</td>\n",
       "      <td>0.000000</td>\n",
       "      <td>0.000000</td>\n",
       "    </tr>\n",
       "    <tr>\n",
       "      <th>25%</th>\n",
       "      <td>0.000000</td>\n",
       "      <td>0.231267</td>\n",
       "      <td>0.000000</td>\n",
       "      <td>0.000000</td>\n",
       "      <td>0.000000</td>\n",
       "    </tr>\n",
       "    <tr>\n",
       "      <th>50%</th>\n",
       "      <td>0.000000</td>\n",
       "      <td>0.654910</td>\n",
       "      <td>0.000000</td>\n",
       "      <td>0.000000</td>\n",
       "      <td>0.000000</td>\n",
       "    </tr>\n",
       "    <tr>\n",
       "      <th>75%</th>\n",
       "      <td>0.000000</td>\n",
       "      <td>1.000000</td>\n",
       "      <td>0.000000</td>\n",
       "      <td>0.000000</td>\n",
       "      <td>1.000000</td>\n",
       "    </tr>\n",
       "    <tr>\n",
       "      <th>max</th>\n",
       "      <td>1.000000</td>\n",
       "      <td>1.000000</td>\n",
       "      <td>1.000000</td>\n",
       "      <td>1.000000</td>\n",
       "      <td>1.000000</td>\n",
       "    </tr>\n",
       "  </tbody>\n",
       "</table>\n",
       "</div>"
      ],
      "text/plain": [
       "class_contribuinte_nome      BOM PAGADOR  MELHOR PAGADOR  \\\n",
       "percentual_pago_cda count  439688.000000   276703.000000   \n",
       "                    mean        0.076223        0.603698   \n",
       "                    std         0.231124        0.399810   \n",
       "                    min         0.000000        0.000000   \n",
       "                    25%         0.000000        0.231267   \n",
       "                    50%         0.000000        0.654910   \n",
       "                    75%         0.000000        1.000000   \n",
       "                    max         1.000000        1.000000   \n",
       "\n",
       "class_contribuinte_nome    PAGADOR INTERMEDIARIO   PIOR PAGADOR  \\\n",
       "percentual_pago_cda count          674495.000000  949790.000000   \n",
       "                    mean                0.093626       0.050595   \n",
       "                    std                 0.254588       0.196850   \n",
       "                    min                 0.000000       0.000000   \n",
       "                    25%                 0.000000       0.000000   \n",
       "                    50%                 0.000000       0.000000   \n",
       "                    75%                 0.000000       0.000000   \n",
       "                    max                 1.000000       1.000000   \n",
       "\n",
       "class_contribuinte_nome    PRIMEIRA DIVIDA  \n",
       "percentual_pago_cda count     74222.000000  \n",
       "                    mean          0.351527  \n",
       "                    std           0.439288  \n",
       "                    min           0.000000  \n",
       "                    25%           0.000000  \n",
       "                    50%           0.000000  \n",
       "                    75%           1.000000  \n",
       "                    max           1.000000  "
      ]
     },
     "execution_count": 146,
     "metadata": {},
     "output_type": "execute_result"
    }
   ],
   "source": [
    "df_analise_discriminante.groupby(\"class_contribuinte_nome\").describe().T"
   ]
  },
  {
   "cell_type": "code",
   "execution_count": 147,
   "metadata": {},
   "outputs": [],
   "source": [
    "# Dummyzando a variável de classificação \n",
    "\n",
    "ohe = OneHotEncoder(dtype=int)\n",
    "\n",
    "colunas_ohe = ohe.fit_transform(df_analise_discriminante[['class_contribuinte_nome']]).toarray()\n",
    "df_2 = pd.DataFrame(colunas_ohe, columns=ohe.get_feature_names_out(['class_contribuinte_nome']))\n",
    "\n",
    "df_n_categorico = df_analise_discriminante.drop(columns=['class_contribuinte_nome'], axis=1)\n",
    "df_pipe_discriminante = pd.concat([df_n_categorico, df_2], axis=1)"
   ]
  },
  {
   "cell_type": "code",
   "execution_count": 148,
   "metadata": {},
   "outputs": [],
   "source": [
    "x_analise_discriminante = df_pipe_discriminante.drop(columns=['percentual_pago_cda'])\n",
    "y_analise_discriminante = df_pipe_discriminante['percentual_pago_cda'].astype('int')"
   ]
  },
  {
   "cell_type": "code",
   "execution_count": 149,
   "metadata": {},
   "outputs": [
    {
     "data": {
      "text/plain": [
       "LinearDiscriminantAnalysis()"
      ]
     },
     "execution_count": 149,
     "metadata": {},
     "output_type": "execute_result"
    }
   ],
   "source": [
    "analise_discriminante = LinearDiscriminantAnalysis()\n",
    "analise_discriminante.fit(x_analise_discriminante, y_analise_discriminante)"
   ]
  },
  {
   "cell_type": "code",
   "execution_count": 150,
   "metadata": {},
   "outputs": [],
   "source": [
    "dados_analise_disc = {'variavel': analise_discriminante.feature_names_in_, 'coeficiente' : analise_discriminante.coef_[0].round(5)}\n",
    "pesos_analise_disc = pd.DataFrame(dados_analise_disc).sort_values('variavel').reset_index().drop(columns=['index'])"
   ]
  },
  {
   "cell_type": "code",
   "execution_count": 151,
   "metadata": {},
   "outputs": [
    {
     "data": {
      "text/html": [
       "<div>\n",
       "<style scoped>\n",
       "    .dataframe tbody tr th:only-of-type {\n",
       "        vertical-align: middle;\n",
       "    }\n",
       "\n",
       "    .dataframe tbody tr th {\n",
       "        vertical-align: top;\n",
       "    }\n",
       "\n",
       "    .dataframe thead th {\n",
       "        text-align: right;\n",
       "    }\n",
       "</style>\n",
       "<table border=\"1\" class=\"dataframe\">\n",
       "  <thead>\n",
       "    <tr style=\"text-align: right;\">\n",
       "      <th></th>\n",
       "      <th>variavel</th>\n",
       "      <th>coeficiente</th>\n",
       "    </tr>\n",
       "  </thead>\n",
       "  <tbody>\n",
       "    <tr>\n",
       "      <th>0</th>\n",
       "      <td>class_contribuinte_nome_BOM PAGADOR</td>\n",
       "      <td>-0.81024</td>\n",
       "    </tr>\n",
       "    <tr>\n",
       "      <th>1</th>\n",
       "      <td>class_contribuinte_nome_MELHOR PAGADOR</td>\n",
       "      <td>4.68032</td>\n",
       "    </tr>\n",
       "    <tr>\n",
       "      <th>2</th>\n",
       "      <td>class_contribuinte_nome_PAGADOR INTERMEDIARIO</td>\n",
       "      <td>-0.60632</td>\n",
       "    </tr>\n",
       "    <tr>\n",
       "      <th>3</th>\n",
       "      <td>class_contribuinte_nome_PIOR PAGADOR</td>\n",
       "      <td>-0.98031</td>\n",
       "    </tr>\n",
       "    <tr>\n",
       "      <th>4</th>\n",
       "      <td>class_contribuinte_nome_PRIMEIRA DIVIDA</td>\n",
       "      <td>2.54487</td>\n",
       "    </tr>\n",
       "  </tbody>\n",
       "</table>\n",
       "</div>"
      ],
      "text/plain": [
       "                                        variavel  coeficiente\n",
       "0            class_contribuinte_nome_BOM PAGADOR     -0.81024\n",
       "1         class_contribuinte_nome_MELHOR PAGADOR      4.68032\n",
       "2  class_contribuinte_nome_PAGADOR INTERMEDIARIO     -0.60632\n",
       "3           class_contribuinte_nome_PIOR PAGADOR     -0.98031\n",
       "4        class_contribuinte_nome_PRIMEIRA DIVIDA      2.54487"
      ]
     },
     "execution_count": 151,
     "metadata": {},
     "output_type": "execute_result"
    }
   ],
   "source": [
    "pesos_analise_disc"
   ]
  },
  {
   "attachments": {},
   "cell_type": "markdown",
   "metadata": {},
   "source": [
    "Conclusão: O modelo pode se utilizar do fator de multiplicação do rating do contribuinte para identificar O melhor pagador, o pior pagador, e a primeira dívida. Os demais são intermediários e terão o mesmo peso de atribuição. "
   ]
  },
  {
   "attachments": {},
   "cell_type": "markdown",
   "metadata": {},
   "source": [
    "**Como fica a modelagem da regressão**\n",
    "\n",
    "Variável target:\n",
    "- % pago da dívida ativa\n",
    "\n",
    "Variáveis explicativas: \n",
    "- Rating do contribuinte baseado no Cluster encontrado\n",
    "- Idade da dívida em anos\n",
    "- % De pagamento dos processos de parcelamento (em valor)\n",
    "- Quantidade de reparcelamentos\n",
    "- Tipo de dívida"
   ]
  },
  {
   "attachments": {},
   "cell_type": "markdown",
   "metadata": {},
   "source": [
    "# 06) Salva o modelo de classificação dos contribuintes"
   ]
  },
  {
   "cell_type": "code",
   "execution_count": 152,
   "metadata": {},
   "outputs": [],
   "source": [
    "def salva_modelo_serializado(nome_modelo_serializado, modelo):\n",
    "    sav_best_model = open(nome_modelo_serializado, 'wb')\n",
    "    pickle.dump(modelo, sav_best_model)\n",
    "    sav_best_model.close()\n",
    "\n",
    "    #os.makedirs(modelsPath) # nao entendi e tive que colocar isso pra abrir um novo diretorio\n",
    "    pathModelo = modelsPath+\"\\\\\"+os.path.join(nome_modelo_serializado)\n",
    "    shutil.move(os.path.abspath(nome_modelo_serializado), pathModelo)"
   ]
  },
  {
   "cell_type": "code",
   "execution_count": 153,
   "metadata": {},
   "outputs": [],
   "source": [
    "salva_modelo_serializado(\"classificador-contribuinte-v2.pkl\", model_predict_contribuinte)"
   ]
  }
 ],
 "metadata": {
  "kernelspec": {
   "display_name": "ml-recife",
   "language": "python",
   "name": "python3"
  },
  "language_info": {
   "codemirror_mode": {
    "name": "ipython",
    "version": 3
   },
   "file_extension": ".py",
   "mimetype": "text/x-python",
   "name": "python",
   "nbconvert_exporter": "python",
   "pygments_lexer": "ipython3",
   "version": "3.10.0"
  },
  "orig_nbformat": 4
 },
 "nbformat": 4,
 "nbformat_minor": 2
}
