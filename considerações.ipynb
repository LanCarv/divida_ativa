{
 "cells": [
  {
   "cell_type": "markdown",
   "metadata": {},
   "source": [
    "variaveis = ['area_construida', 'reco_divida_ativa', 'reco_debito','reco_credito', 'num_imoveis', 'vlr_lancado',\n",
    "            'idade_imovel', 'hist_cota_unica', 'percentual_pago', 'hist_valor_total']\n",
    "            \n",
    "Métricas de validação do modelo:\n",
    "R2 -> 0.5374387040144042\n",
    "RMSE -> 19.24837959836942\n",
    "CCC -> 0.6925114034689361"
   ]
  },
  {
   "cell_type": "markdown",
   "metadata": {},
   "source": [
    "variaveis = ['area_construida', 'reco_divida_ativa', 'reco_debito','reco_credito', 'num_imoveis', 'hist_pagamento', 'hist_lancado',\n",
    "            'idade_imovel', 'hist_cota_unica', 'percentual_pago']\n",
    "\n",
    "Métricas de validação do modelo:\n",
    "R2 -> 0.5137693359726172\n",
    "RMSE -> 19.709897857615665\n",
    "CCC -> 0.6779163274073358"
   ]
  },
  {
   "cell_type": "markdown",
   "metadata": {},
   "source": [
    "variaveis = ['reco_divida_ativa', 'reco_debito','reco_credito', 'num_imoveis', 'hist_pagamento', 'percentual_pago']\n",
    "Métricas de validação do modelo:\n",
    "R2 -> 0.4713847650397083\n",
    "RMSE -> 20.55100379279017\n",
    "CCC -> 0.640631440272716"
   ]
  },
  {
   "cell_type": "markdown",
   "metadata": {},
   "source": [
    "hist_pagamento ajustado:\n",
    "variaveis = ['area_construida', 'reco_divida_ativa', 'reco_debito','reco_credito', 'num_imoveis', 'hist_pagamento', 'hist_lancado',\n",
    "            'idade_imovel', 'hist_cota_unica', 'percentual_pago']\n",
    "\n",
    "Métricas de validação do modelo:\n",
    "R2 -> 0.641121143474633\n",
    "RMSE -> 0.1693312591681337\n",
    "CCC -> 0.7804294638492749"
   ]
  },
  {
   "cell_type": "markdown",
   "metadata": {},
   "source": [
    "Modelo aprendendo com apenas o ano de 2022\n",
    "variaveis = ['area_construida', 'reco_debito','reco_credito', 'num_imoveis', 'hist_pagamento', 'hist_lancado',\n",
    "            'idade_imovel', 'hist_cota_unica', 'percentual_pago']\n",
    "\n",
    "Métricas de validação do modelo:\n",
    "R2 -> 0.7498792140291218\n",
    "RMSE -> 0.2144829637351935\n",
    "CCC -> 0.8561196283816305"
   ]
  }
 ],
 "metadata": {
  "language_info": {
   "name": "python"
  }
 },
 "nbformat": 4,
 "nbformat_minor": 2
}
