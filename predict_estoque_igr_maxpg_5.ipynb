{
 "cells": [
  {
   "attachments": {},
   "cell_type": "markdown",
   "metadata": {},
   "source": [
    "# Estudo da composição das previsões do rating final\n",
    "\n",
    "O objetivo é realizar previsões para toda base gerando um rating unindo o contribuinte e posteriormente o igr gerado na regressão"
   ]
  },
  {
   "cell_type": "code",
   "execution_count": 1,
   "metadata": {},
   "outputs": [
    {
     "name": "stdout",
     "output_type": "stream",
     "text": [
      "Processo iniciado\n"
     ]
    }
   ],
   "source": [
    "import os\n",
    "import dotenv\n",
    "import boto3\n",
    "from io import BytesIO\n",
    "import pandas as pd\n",
    "import numpy as np\n",
    "from datetime import date\n",
    "import zipfile\n",
    "from sklearn.preprocessing import StandardScaler, RobustScaler\n",
    "import pickle\n",
    "\n",
    "import locale\n",
    "locale.setlocale(locale.LC_ALL, 'pt_BR.utf8')\n",
    "\n",
    "import warnings\n",
    "\n",
    "warnings.filterwarnings(\"ignore\")\n",
    "\n",
    "print(\"Processo iniciado\")\n",
    "\n",
    "# Define diretorios\n",
    "rootPath = os.getcwd()\n",
    "dataPath = os.path.join(rootPath, 'data')\n",
    "modelsPath = os.path.join(rootPath, 'models')\n",
    "env = os.path.join(rootPath, '.env')\n",
    "dotenv.load_dotenv(dotenv_path=env)\n",
    "\n",
    "def formatar_moeda(valor):\n",
    "    return locale.currency(valor, grouping=True)"
   ]
  },
  {
   "cell_type": "code",
   "execution_count": null,
   "metadata": {},
   "outputs": [],
   "source": [
    "# print(\"Carregando dados para previsões\")\n",
    "\n",
    "# # Prepara os dados para realizar as previsões\n",
    "# zip_file = os.path.join(dataPath, 'estoque_da3.zip') # 14bi\n",
    "# z = zipfile.ZipFile(zip_file)\n",
    "\n",
    "\n",
    "# def ler_bases_exportadas(nome_arquivo):\n",
    "#     z.extract(nome_arquivo)\n",
    "#     df = pd.read_csv(nome_arquivo, sep=',')\n",
    "#     os.remove(nome_arquivo)\n",
    "#     return df\n",
    "\n",
    "\n",
    "# base_conjunta = ler_bases_exportadas('estoque-divida.csv')"
   ]
  },
  {
   "cell_type": "code",
   "execution_count": 2,
   "metadata": {},
   "outputs": [],
   "source": [
    "s3 = boto3.resource(\n",
    "    service_name='s3',\n",
    "    region_name='us-east-1',\n",
    "    aws_access_key_id=os.getenv(\"AWS_ACESS_KEY\"),\n",
    "    aws_secret_access_key=os.getenv(\"AWS_SECRET_ACESS_KEY\")\n",
    "    )\n",
    "\n",
    "def read_s3(bucket_name, folder_name, file_name):\n",
    "    file_key_aws = folder_name + file_name\n",
    "    obj = s3.Bucket(bucket_name).Object(file_key_aws).get()\n",
    "    df = pd.read_csv(obj['Body'], sep=';')\n",
    "    return df"
   ]
  },
  {
   "cell_type": "code",
   "execution_count": 3,
   "metadata": {},
   "outputs": [
    {
     "name": "stdout",
     "output_type": "stream",
     "text": [
      "Carregando dados para previsões\n"
     ]
    }
   ],
   "source": [
    "print(\"Carregando dados para previsões\")\n",
    "\n",
    "dados_predict = read_s3(\n",
    "     bucket_name=os.getenv(\"S3_BUCKET_NAME\"), \n",
    "     folder_name=os.getenv(\"S3_FOLDER_NAME\"), \n",
    "     file_name='feature_store_igr_prime_ab1_maxpg_lari.csv')"
   ]
  },
  {
   "cell_type": "code",
   "execution_count": 4,
   "metadata": {},
   "outputs": [],
   "source": [
    "dados_contribuinte = read_s3(\n",
    "    bucket_name = os.getenv(\"S3_BUCKET_NAME\"), \n",
    "    folder_name = os.getenv(\"S3_FOLDER_NAME\"), \n",
    "    file_name = 'feature_store_contribuinte_prime_k4_maxpg_lari.csv')"
   ]
  },
  {
   "cell_type": "code",
   "execution_count": 6,
   "metadata": {},
   "outputs": [
    {
     "data": {
      "text/plain": [
       "'R$ 13.863.282.107,90'"
      ]
     },
     "execution_count": 6,
     "metadata": {},
     "output_type": "execute_result"
    }
   ],
   "source": [
    "formatar_moeda(dados_predict['valor_aberto'].sum())"
   ]
  },
  {
   "cell_type": "code",
   "execution_count": 5,
   "metadata": {},
   "outputs": [
    {
     "data": {
      "text/plain": [
       "967079"
      ]
     },
     "execution_count": 5,
     "metadata": {},
     "output_type": "execute_result"
    }
   ],
   "source": [
    "dados_predict.shape[0]"
   ]
  },
  {
   "cell_type": "code",
   "execution_count": 6,
   "metadata": {},
   "outputs": [],
   "source": [
    "# Renomeia colunas para nome mais adequados e filtra dataframe\n",
    "colunas_nome = {\n",
    "    'valor_tot': 'valor_total_da',\n",
    "}\n",
    "dados_predict = dados_predict.rename(columns=colunas_nome)"
   ]
  },
  {
   "cell_type": "code",
   "execution_count": 7,
   "metadata": {},
   "outputs": [],
   "source": [
    "# Filtrando variáveis de interesse para a modelagem\n",
    "df_divida = dados_predict[['cda', \n",
    "                          'tipo_divida',\n",
    "                          'id_pessoa', \n",
    "                          'da_aberto',\n",
    "                          'percentual_pago_cda', \n",
    "                          'valor_total_da', \n",
    "                          'idade_divida'#, \n",
    "                          #'quantidade_reparcelamento' \n",
    "                          ]] "
   ]
  },
  {
   "cell_type": "code",
   "execution_count": 8,
   "metadata": {},
   "outputs": [],
   "source": [
    "dados_contribuinte_da_ab_1 = dados_contribuinte[dados_contribuinte['da_aberto'] == 1]"
   ]
  },
  {
   "cell_type": "code",
   "execution_count": 9,
   "metadata": {},
   "outputs": [
    {
     "data": {
      "text/plain": [
       "279212"
      ]
     },
     "execution_count": 9,
     "metadata": {},
     "output_type": "execute_result"
    }
   ],
   "source": [
    "dados_contribuinte_da_ab_1.shape[0]"
   ]
  },
  {
   "cell_type": "code",
   "execution_count": 10,
   "metadata": {},
   "outputs": [],
   "source": [
    "df_contribuinte = dados_contribuinte_da_ab_1[['id_pessoa', \n",
    "                                      'tipo_divida',\n",
    "                                      'num_dist_cda', \n",
    "                                      'quantidade_reparcelamento',\n",
    "                                      #'historico_pagamento_em_qtd',\n",
    "                                       'historico_pagamento_em_valor',\n",
    "                                       'situacao_cobranca',\n",
    "                                       'class_contribuinte',\n",
    "                                       'class_contribuinte_peso']]"
   ]
  },
  {
   "cell_type": "code",
   "execution_count": 11,
   "metadata": {},
   "outputs": [
    {
     "data": {
      "text/plain": [
       "Index(['cda', 'tipo_divida', 'id_pessoa', 'da_aberto', 'percentual_pago_cda',\n",
       "       'valor_total_da', 'idade_divida', 'num_dist_cda',\n",
       "       'quantidade_reparcelamento', 'historico_pagamento_em_valor',\n",
       "       'situacao_cobranca', 'class_contribuinte', 'class_contribuinte_peso'],\n",
       "      dtype='object')"
      ]
     },
     "execution_count": 11,
     "metadata": {},
     "output_type": "execute_result"
    }
   ],
   "source": [
    "df = pd.merge(df_divida, df_contribuinte, on=['id_pessoa', 'tipo_divida'], how = \"left\")\n",
    "df.columns"
   ]
  },
  {
   "cell_type": "code",
   "execution_count": 12,
   "metadata": {},
   "outputs": [],
   "source": [
    "# Métricas p acompanhar\n",
    "num_cda_01 = df['cda'].nunique() # 967.079\n",
    "num_pessoa_01 = df['id_pessoa'].nunique() # 255.253\n",
    "vlr_da_01 = df['valor_total_da'].sum() # 'R$ 13.863.337.109,58'"
   ]
  },
  {
   "cell_type": "code",
   "execution_count": 15,
   "metadata": {},
   "outputs": [
    {
     "data": {
      "text/plain": [
       "967079"
      ]
     },
     "execution_count": 15,
     "metadata": {},
     "output_type": "execute_result"
    }
   ],
   "source": [
    "num_cda_01"
   ]
  },
  {
   "cell_type": "code",
   "execution_count": 13,
   "metadata": {},
   "outputs": [
    {
     "data": {
      "text/plain": [
       "255253"
      ]
     },
     "execution_count": 13,
     "metadata": {},
     "output_type": "execute_result"
    }
   ],
   "source": [
    "num_pessoa_01"
   ]
  },
  {
   "cell_type": "code",
   "execution_count": 14,
   "metadata": {},
   "outputs": [
    {
     "data": {
      "text/plain": [
       "'R$ 13.863.337.109,58'"
      ]
     },
     "execution_count": 14,
     "metadata": {},
     "output_type": "execute_result"
    }
   ],
   "source": [
    "formatar_moeda(vlr_da_01)"
   ]
  },
  {
   "cell_type": "code",
   "execution_count": 15,
   "metadata": {},
   "outputs": [
    {
     "data": {
      "text/plain": [
       "Index(['cda', 'tipo_divida', 'id_pessoa', 'da_aberto', 'percentual_pago_cda',\n",
       "       'valor_total_da', 'idade_divida', 'num_dist_cda',\n",
       "       'quantidade_reparcelamento', 'historico_pagamento_em_valor',\n",
       "       'situacao_cobranca', 'class_contribuinte', 'class_contribuinte_peso'],\n",
       "      dtype='object')"
      ]
     },
     "execution_count": 15,
     "metadata": {},
     "output_type": "execute_result"
    }
   ],
   "source": [
    "df.columns"
   ]
  },
  {
   "cell_type": "code",
   "execution_count": 16,
   "metadata": {},
   "outputs": [
    {
     "name": "stdout",
     "output_type": "stream",
     "text": [
      "Preparação do pipeline de previsões\n"
     ]
    },
    {
     "data": {
      "text/plain": [
       "967079"
      ]
     },
     "execution_count": 16,
     "metadata": {},
     "output_type": "execute_result"
    }
   ],
   "source": [
    "print(\"Preparação do pipeline de previsões\")\n",
    "# Filtra os dados que precisamos para previsão\n",
    "df_feature_store = df[['valor_total_da', \n",
    "                       'idade_divida', #'anos_idade_da',\n",
    "                        'quantidade_reparcelamento',\n",
    "                       'num_dist_cda', #'frequencia_da_pessoa',\n",
    "                        #'historico_pagamento_em_qtd', \n",
    "                        'situacao_cobranca', #'status_situacao',\n",
    "                       'historico_pagamento_em_valor', \n",
    "                       'class_contribuinte_peso']]\n",
    "df_feature_store.shape[0]\n"
   ]
  },
  {
   "cell_type": "code",
   "execution_count": 17,
   "metadata": {},
   "outputs": [],
   "source": [
    "# Normaliza os dados para previsão utilizando o StandardScaler\n",
    "normalizador = StandardScaler() # RobustScaler()\n",
    "normalizador.fit(df_feature_store)\n",
    "dados_normalizados = normalizador.fit_transform(df_feature_store)\n",
    "\n",
    "colunas = list(normalizador.get_feature_names_out())\n",
    "df_normalizado = pd.DataFrame(dados_normalizados, columns=colunas)"
   ]
  },
  {
   "cell_type": "code",
   "execution_count": 18,
   "metadata": {},
   "outputs": [
    {
     "data": {
      "text/plain": [
       "967079"
      ]
     },
     "execution_count": 18,
     "metadata": {},
     "output_type": "execute_result"
    }
   ],
   "source": [
    "df_normalizado.shape[0]"
   ]
  },
  {
   "cell_type": "code",
   "execution_count": 19,
   "metadata": {},
   "outputs": [
    {
     "name": "stdout",
     "output_type": "stream",
     "text": [
      "Carrega o modelo e realiza a previsão do Índice Geral de Recuperação (IGR)\n"
     ]
    }
   ],
   "source": [
    "print(\"Carrega o modelo e realiza a previsão do Índice Geral de Recuperação (IGR)\")\n",
    "\n",
    "\n",
    "def abre_modelo(nome_modelo, path_modelo, zip_name=None):\n",
    "    if zip_name:\n",
    "        zip_file = os.path.join(path_modelo, zip_name)\n",
    "        z = zipfile.ZipFile(zip_file)\n",
    "        z.extract(nome_modelo)\n",
    "    else:\n",
    "        nome_modelo = os.path.join(path_modelo, nome_modelo)\n",
    "\n",
    "    modelo = pickle.load(open(nome_modelo, 'rb'))\n",
    "    return modelo\n",
    "\n",
    "\n",
    "model_predict_igr = abre_modelo(\"modeloDA-igr-divida-prime_maxpg_lari.pkl\", modelsPath)"
   ]
  },
  {
   "cell_type": "code",
   "execution_count": 20,
   "metadata": {},
   "outputs": [],
   "source": [
    "# Realizando previsões\n",
    "previsoes = model_predict_igr.predict(df_normalizado)\n",
    "df['igr'] = previsoes"
   ]
  },
  {
   "cell_type": "code",
   "execution_count": 22,
   "metadata": {},
   "outputs": [
    {
     "data": {
      "text/html": [
       "<div>\n",
       "<style scoped>\n",
       "    .dataframe tbody tr th:only-of-type {\n",
       "        vertical-align: middle;\n",
       "    }\n",
       "\n",
       "    .dataframe tbody tr th {\n",
       "        vertical-align: top;\n",
       "    }\n",
       "\n",
       "    .dataframe thead th {\n",
       "        text-align: right;\n",
       "    }\n",
       "</style>\n",
       "<table border=\"1\" class=\"dataframe\">\n",
       "  <thead>\n",
       "    <tr style=\"text-align: right;\">\n",
       "      <th></th>\n",
       "      <th>cda</th>\n",
       "      <th>tipo_divida</th>\n",
       "      <th>id_pessoa</th>\n",
       "      <th>da_aberto</th>\n",
       "      <th>percentual_pago_cda</th>\n",
       "      <th>valor_total_da</th>\n",
       "      <th>idade_divida</th>\n",
       "      <th>num_dist_cda</th>\n",
       "      <th>quantidade_reparcelamento</th>\n",
       "      <th>historico_pagamento_em_valor</th>\n",
       "      <th>situacao_cobranca</th>\n",
       "      <th>class_contribuinte</th>\n",
       "      <th>class_contribuinte_peso</th>\n",
       "      <th>igr</th>\n",
       "    </tr>\n",
       "  </thead>\n",
       "  <tbody>\n",
       "    <tr>\n",
       "      <th>77158</th>\n",
       "      <td>1491939ceb02c7cfe52281a70553db462</td>\n",
       "      <td>mercantil</td>\n",
       "      <td>2f48e5117fc31832</td>\n",
       "      <td>1</td>\n",
       "      <td>0.0</td>\n",
       "      <td>3298.56</td>\n",
       "      <td>1.0</td>\n",
       "      <td>1</td>\n",
       "      <td>0</td>\n",
       "      <td>0.0</td>\n",
       "      <td>0.0</td>\n",
       "      <td>4</td>\n",
       "      <td>0.10483</td>\n",
       "      <td>0.0</td>\n",
       "    </tr>\n",
       "  </tbody>\n",
       "</table>\n",
       "</div>"
      ],
      "text/plain": [
       "                                     cda tipo_divida         id_pessoa  \\\n",
       "77158  1491939ceb02c7cfe52281a70553db462   mercantil  2f48e5117fc31832   \n",
       "\n",
       "       da_aberto  percentual_pago_cda  valor_total_da  idade_divida  \\\n",
       "77158          1                  0.0         3298.56           1.0   \n",
       "\n",
       "       num_dist_cda  quantidade_reparcelamento  historico_pagamento_em_valor  \\\n",
       "77158             1                          0                           0.0   \n",
       "\n",
       "       situacao_cobranca  class_contribuinte  class_contribuinte_peso  igr  \n",
       "77158                0.0                   4                  0.10483  0.0  "
      ]
     },
     "execution_count": 22,
     "metadata": {},
     "output_type": "execute_result"
    }
   ],
   "source": [
    "df[df['cda'] == '1491939ceb02c7cfe52281a70553db462']"
   ]
  },
  {
   "cell_type": "code",
   "execution_count": 23,
   "metadata": {},
   "outputs": [],
   "source": [
    "df.loc[df['situacao_cobranca'] == 0, 'igr'] = 0"
   ]
  },
  {
   "cell_type": "code",
   "execution_count": 24,
   "metadata": {},
   "outputs": [],
   "source": [
    "df.loc[df['idade_divida'] >= 15, 'igr'] = 0"
   ]
  },
  {
   "cell_type": "code",
   "execution_count": 25,
   "metadata": {},
   "outputs": [
    {
     "data": {
      "text/plain": [
       "967079"
      ]
     },
     "execution_count": 25,
     "metadata": {},
     "output_type": "execute_result"
    }
   ],
   "source": [
    "df.shape[0]"
   ]
  },
  {
   "cell_type": "code",
   "execution_count": 26,
   "metadata": {},
   "outputs": [
    {
     "data": {
      "text/html": [
       "<div>\n",
       "<style scoped>\n",
       "    .dataframe tbody tr th:only-of-type {\n",
       "        vertical-align: middle;\n",
       "    }\n",
       "\n",
       "    .dataframe tbody tr th {\n",
       "        vertical-align: top;\n",
       "    }\n",
       "\n",
       "    .dataframe thead th {\n",
       "        text-align: right;\n",
       "    }\n",
       "</style>\n",
       "<table border=\"1\" class=\"dataframe\">\n",
       "  <thead>\n",
       "    <tr style=\"text-align: right;\">\n",
       "      <th></th>\n",
       "      <th>cda</th>\n",
       "      <th>tipo_divida</th>\n",
       "      <th>id_pessoa</th>\n",
       "      <th>da_aberto</th>\n",
       "      <th>percentual_pago_cda</th>\n",
       "      <th>valor_total_da</th>\n",
       "      <th>idade_divida</th>\n",
       "      <th>num_dist_cda</th>\n",
       "      <th>quantidade_reparcelamento</th>\n",
       "      <th>historico_pagamento_em_valor</th>\n",
       "      <th>situacao_cobranca</th>\n",
       "      <th>class_contribuinte</th>\n",
       "      <th>class_contribuinte_peso</th>\n",
       "      <th>igr</th>\n",
       "    </tr>\n",
       "  </thead>\n",
       "  <tbody>\n",
       "    <tr>\n",
       "      <th>77158</th>\n",
       "      <td>1491939ceb02c7cfe52281a70553db462</td>\n",
       "      <td>mercantil</td>\n",
       "      <td>2f48e5117fc31832</td>\n",
       "      <td>1</td>\n",
       "      <td>0.0</td>\n",
       "      <td>3298.56</td>\n",
       "      <td>1.0</td>\n",
       "      <td>1</td>\n",
       "      <td>0</td>\n",
       "      <td>0.0</td>\n",
       "      <td>0.0</td>\n",
       "      <td>4</td>\n",
       "      <td>0.10483</td>\n",
       "      <td>0.0</td>\n",
       "    </tr>\n",
       "  </tbody>\n",
       "</table>\n",
       "</div>"
      ],
      "text/plain": [
       "                                     cda tipo_divida         id_pessoa  \\\n",
       "77158  1491939ceb02c7cfe52281a70553db462   mercantil  2f48e5117fc31832   \n",
       "\n",
       "       da_aberto  percentual_pago_cda  valor_total_da  idade_divida  \\\n",
       "77158          1                  0.0         3298.56           1.0   \n",
       "\n",
       "       num_dist_cda  quantidade_reparcelamento  historico_pagamento_em_valor  \\\n",
       "77158             1                          0                           0.0   \n",
       "\n",
       "       situacao_cobranca  class_contribuinte  class_contribuinte_peso  igr  \n",
       "77158                0.0                   4                  0.10483  0.0  "
      ]
     },
     "execution_count": 26,
     "metadata": {},
     "output_type": "execute_result"
    }
   ],
   "source": [
    "df[df['cda'] == '1491939ceb02c7cfe52281a70553db462']"
   ]
  },
  {
   "cell_type": "code",
   "execution_count": 26,
   "metadata": {},
   "outputs": [
    {
     "data": {
      "text/plain": [
       "Index(['id_pessoa', 'tipo_divida', 'num_dist_cda', 'quantidade_reparcelamento',\n",
       "       'valor_tot', 'valor_pago', 'qtd_notas_2anos', 'edificacao', 'situacao',\n",
       "       'cpf_cnpj_existe', 'endereco_existe', 'perfil_acessivel',\n",
       "       'situacao_cobranca', 'historico_pagamento_em_valor',\n",
       "       'class_situacao_cobranca', 'class_contribuinte', 'da_aberto',\n",
       "       'class_contribuinte_nome', 'class_contribuinte_perfil',\n",
       "       'percentual_pago_cda', 'class_contribuinte_peso'],\n",
       "      dtype='object')"
      ]
     },
     "execution_count": 26,
     "metadata": {},
     "output_type": "execute_result"
    }
   ],
   "source": [
    "dados_contribuinte.columns"
   ]
  },
  {
   "cell_type": "code",
   "execution_count": 27,
   "metadata": {},
   "outputs": [
    {
     "data": {
      "text/html": [
       "<div>\n",
       "<style scoped>\n",
       "    .dataframe tbody tr th:only-of-type {\n",
       "        vertical-align: middle;\n",
       "    }\n",
       "\n",
       "    .dataframe tbody tr th {\n",
       "        vertical-align: top;\n",
       "    }\n",
       "\n",
       "    .dataframe thead th {\n",
       "        text-align: right;\n",
       "    }\n",
       "</style>\n",
       "<table border=\"1\" class=\"dataframe\">\n",
       "  <thead>\n",
       "    <tr style=\"text-align: right;\">\n",
       "      <th></th>\n",
       "      <th>class_contribuinte</th>\n",
       "      <th>class_contribuinte_nome</th>\n",
       "      <th>class_contribuinte_perfil</th>\n",
       "      <th>id_pessoa</th>\n",
       "      <th>ordem_contrib</th>\n",
       "      <th>perc</th>\n",
       "    </tr>\n",
       "  </thead>\n",
       "  <tbody>\n",
       "    <tr>\n",
       "      <th>4</th>\n",
       "      <td>4</td>\n",
       "      <td>PRIMEIRA DIVIDA</td>\n",
       "      <td>NOVO EM DÍVIDA</td>\n",
       "      <td>161663</td>\n",
       "      <td>0</td>\n",
       "      <td>0.29868</td>\n",
       "    </tr>\n",
       "    <tr>\n",
       "      <th>2</th>\n",
       "      <td>2</td>\n",
       "      <td>DEVEDOR EXCEL</td>\n",
       "      <td>PAGA NAO REPARC</td>\n",
       "      <td>128380</td>\n",
       "      <td>1</td>\n",
       "      <td>0.23719</td>\n",
       "    </tr>\n",
       "    <tr>\n",
       "      <th>1</th>\n",
       "      <td>1</td>\n",
       "      <td>DEVEDOR BOM</td>\n",
       "      <td>PAGA REPARC</td>\n",
       "      <td>33664</td>\n",
       "      <td>2</td>\n",
       "      <td>0.06220</td>\n",
       "    </tr>\n",
       "    <tr>\n",
       "      <th>3</th>\n",
       "      <td>3</td>\n",
       "      <td>DEVEDOR RUIM</td>\n",
       "      <td>REPARCELADOR</td>\n",
       "      <td>3922</td>\n",
       "      <td>3</td>\n",
       "      <td>0.00725</td>\n",
       "    </tr>\n",
       "    <tr>\n",
       "      <th>0</th>\n",
       "      <td>0</td>\n",
       "      <td>DEVEDOR PESSIMO</td>\n",
       "      <td>NAO PAGA</td>\n",
       "      <td>213633</td>\n",
       "      <td>4</td>\n",
       "      <td>0.39469</td>\n",
       "    </tr>\n",
       "  </tbody>\n",
       "</table>\n",
       "</div>"
      ],
      "text/plain": [
       "   class_contribuinte class_contribuinte_nome class_contribuinte_perfil  \\\n",
       "4                   4         PRIMEIRA DIVIDA            NOVO EM DÍVIDA   \n",
       "2                   2           DEVEDOR EXCEL           PAGA NAO REPARC   \n",
       "1                   1             DEVEDOR BOM               PAGA REPARC   \n",
       "3                   3            DEVEDOR RUIM              REPARCELADOR   \n",
       "0                   0         DEVEDOR PESSIMO                  NAO PAGA   \n",
       "\n",
       "   id_pessoa  ordem_contrib     perc  \n",
       "4     161663              0  0.29868  \n",
       "2     128380              1  0.23719  \n",
       "1      33664              2  0.06220  \n",
       "3       3922              3  0.00725  \n",
       "0     213633              4  0.39469  "
      ]
     },
     "execution_count": 27,
     "metadata": {},
     "output_type": "execute_result"
    }
   ],
   "source": [
    "# #dados_contribuinte.loc[dados_contribuinte['class_contribuinte'] == 4, ['class_contribuinte', 'class_contribuinte_nome', 'class_contribuinte_perfil']]\n",
    "# contrib = dados_contribuinte.groupby(['class_contribuinte', 'class_contribuinte_nome', 'class_contribuinte_perfil'])['id_pessoa'].nunique().to_frame().reset_index()\n",
    "\n",
    "# dict = {\"class_contribuinte_nome\": ['PRIMEIRA DIVIDA', 'DEVEDOR EXCEL', \n",
    "#                                     'DEVEDOR BOM', 'DEVEDOR RUIM', 'DEVEDOR PESSIMO'],\n",
    "#         \"ordem_contrib\": [0, 1, 2 ,3, 4]}\n",
    "\n",
    "# df_ord_class_contrib = pd.DataFrame(dict)\n",
    "\n",
    "# contrib = pd.merge(contrib, df_ord_class_contrib, on = 'class_contribuinte_nome').sort_values(by = \"ordem_contrib\")\n",
    "# total = contrib['id_pessoa'].sum()\n",
    "# contrib['perc'] = np.round(contrib['id_pessoa']/total, 5)\n",
    "# contrib"
   ]
  },
  {
   "cell_type": "markdown",
   "metadata": {},
   "source": [
    "# Rótulos da Dívida"
   ]
  },
  {
   "cell_type": "code",
   "execution_count": 29,
   "metadata": {},
   "outputs": [],
   "source": [
    "def make_rating_divida_original(dataframe):\n",
    "\n",
    "    dataframe.loc[dataframe['igr'] == 0, 'rating_divida'] = 'BAIXISSIMA'\n",
    "\n",
    "    # Devedor Excelente (PAGA NAO REPARC)\n",
    "    dataframe.loc[(dataframe['rating_divida'].isnull()) & (dataframe['class_contribuinte'] == 2), 'rating_divida'] = 'ALTISSIMA'\n",
    "\n",
    "    # Devedor bom (PAGA REPARC)\n",
    "    dataframe.loc[(dataframe['class_contribuinte'] == 1) & (dataframe['igr'] >= 0.5), 'rating_divida'] = 'ALTISSIMA'\n",
    "    dataframe.loc[(dataframe['class_contribuinte'] == 1) & (dataframe['igr'] < 0.5) & (dataframe['igr'] >= 0.1), 'rating_divida'] = 'ALTA'\n",
    "    dataframe.loc[(dataframe['class_contribuinte'] == 1) & (dataframe['igr'] < 0.1) & (dataframe['igr'] != 0), 'rating_divida'] = 'MEDIA'\n",
    "\n",
    "    # Devedor ruim (REPARCELADOR)\n",
    "    dataframe.loc[(dataframe['class_contribuinte'] == 3) & (dataframe['igr'] >= 0.5), 'rating_divida'] = 'ALTA'\n",
    "    dataframe.loc[(dataframe['class_contribuinte'] == 3) & (dataframe['igr'] < 0.5) & (dataframe['igr'] >= 0.05), 'rating_divida'] = 'MEDIA'\n",
    "    dataframe.loc[(dataframe['class_contribuinte'] == 3) & (dataframe['igr'] < 0.05) & (dataframe['igr'] != 0), 'rating_divida'] = 'BAIXA'\n",
    "\n",
    "    # Devedor Péssimo (NAO PAGA)\n",
    "    dataframe.loc[(dataframe['class_contribuinte'] == 0) & (dataframe['igr'] != 0), 'rating_divida'] = 'BAIXA'\n",
    "\n",
    "    ## PRIMEIRA DIVIDA (class_contribuinte == 4)\n",
    "    dataframe.loc[(dataframe['class_contribuinte'] == 4) & (dataframe['igr'] >= 0.3), 'rating_divida'] = 'ALTISSIMA'\n",
    "    dataframe.loc[(dataframe['class_contribuinte'] == 4) & (dataframe['igr'] >= 0.1) & (dataframe['igr'] < 0.3) , 'rating_divida'] = 'ALTA'\n",
    "    dataframe.loc[(dataframe['class_contribuinte'] == 4) & (dataframe['igr'] != 0) & (dataframe['igr'] < 0.1) , 'rating_divida'] = 'MEDIA'\n",
    "\n",
    "# dicionario_clusteres = {\n",
    "#     'class_contribuinte': [0, 1, 2, 3, 4],\n",
    "#     'class_contribuinte_nome': ['DEVEDOR PESSIMO',\n",
    "#                                 'DEVEDOR BOM',\n",
    "#                                 'DEVEDOR EXCEL',\n",
    "#                                 'DEVEDOR RUIM',\n",
    "#                                 'PRIMEIRA DIVIDA'],\n",
    " \n",
    "#     'class_contribuinte_perfil': ['NAO PAGA',\n",
    "#                                 'PAGA REPARCELADO',\n",
    "#                                 'PAGA NAO REPARCELA',\n",
    "#                                 'REPARCELADOR',\n",
    "#                                 'NOVO EM DIVIDA']\n",
    "# }\n",
    " \n",
    "# df_dicionario_clusteres = pd.DataFrame(dicionario_clusteres)\n",
    "# df_dicionario_clusteres\n",
    "\n",
    "\n",
    "    return dataframe\n"
   ]
  },
  {
   "cell_type": "markdown",
   "metadata": {},
   "source": [
    "### Outra abordagem"
   ]
  },
  {
   "cell_type": "code",
   "execution_count": 33,
   "metadata": {},
   "outputs": [],
   "source": [
    "def make_rating_divida_quantil(dataframe):\n",
    "    \n",
    "    dataframe.loc[dataframe['igr'] == 0, 'rating_divida'] = 'BAIXISSIMA'\n",
    "\n",
    "    # Devedor Excelente (PAGA NAO REPARC)\n",
    "    dataframe.loc[(dataframe['rating_divida'].isnull()) & (dataframe['class_contribuinte'] == 2), 'rating_divida'] = 'ALTISSIMA'\n",
    "\n",
    "\n",
    "    # Devedor bom (PAGA REPARC)\n",
    "    q075_dev_bom = dataframe.loc[(dataframe['class_contribuinte'] == 1), 'igr'].quantile(0.75)\n",
    "    q050_dev_bom = dataframe.loc[(dataframe['class_contribuinte'] == 1), 'igr'].quantile(0.5)\n",
    "\n",
    "    dataframe.loc[(dataframe['class_contribuinte'] == 1) & (dataframe['igr'] >= q075_dev_bom), 'rating_divida'] = 'ALTISSIMA'\n",
    "    dataframe.loc[(dataframe['class_contribuinte'] == 1) & (dataframe['igr'] < q075_dev_bom) & (dataframe['igr'] >= q050_dev_bom), 'rating_divida'] = 'ALTA'\n",
    "    dataframe.loc[(dataframe['class_contribuinte'] == 1) & (dataframe['igr'] < q050_dev_bom) & (dataframe['igr'] != 0), 'rating_divida'] = 'MEDIA'\n",
    "\n",
    "\n",
    "    # Devedor ruim (REPARCELADOR)\n",
    "    q075_dev_ruim = dataframe.loc[(dataframe['class_contribuinte'] == 3), 'igr'].quantile(0.75)\n",
    "    q050_dev_ruim = dataframe.loc[(dataframe['class_contribuinte'] == 3), 'igr'].quantile(0.5)\n",
    "\n",
    "    dataframe.loc[(dataframe['class_contribuinte'] == 3) & (dataframe['igr'] >= q075_dev_ruim), 'rating_divida'] = 'ALTA'\n",
    "    dataframe.loc[(dataframe['class_contribuinte'] == 3) & (dataframe['igr'] < q075_dev_ruim) & (dataframe['igr'] >= q050_dev_ruim), 'rating_divida'] = 'MEDIA'\n",
    "    dataframe.loc[(dataframe['class_contribuinte'] == 3) & (dataframe['igr'] < q050_dev_ruim) & (dataframe['igr'] != 0), 'rating_divida'] = 'BAIXA'\n",
    "\n",
    "\n",
    "    # Devedor Péssimo (NAO PAGA)\n",
    "    dataframe.loc[(dataframe['class_contribuinte'] == 0) & (dataframe['igr'] != 0), 'rating_divida'] = 'BAIXA'\n",
    "\n",
    "\n",
    "    ## PRIMEIRA DIVIDA (class_contribuinte == 4)\n",
    "    dataframe.loc[(dataframe['class_contribuinte'] == 4), 'rating_divida'] = 'ALTA'\n",
    "\n",
    "\n",
    "    return dataframe"
   ]
  },
  {
   "cell_type": "code",
   "execution_count": 55,
   "metadata": {},
   "outputs": [
    {
     "name": "stdout",
     "output_type": "stream",
     "text": [
      "Classificação do rating da dívida parametrizando junto a classificação do contribuinte - método ORIGINAL\n"
     ]
    },
    {
     "data": {
      "text/html": [
       "<div>\n",
       "<style scoped>\n",
       "    .dataframe tbody tr th:only-of-type {\n",
       "        vertical-align: middle;\n",
       "    }\n",
       "\n",
       "    .dataframe tbody tr th {\n",
       "        vertical-align: top;\n",
       "    }\n",
       "\n",
       "    .dataframe thead th {\n",
       "        text-align: right;\n",
       "    }\n",
       "</style>\n",
       "<table border=\"1\" class=\"dataframe\">\n",
       "  <thead>\n",
       "    <tr style=\"text-align: right;\">\n",
       "      <th></th>\n",
       "      <th>cda</th>\n",
       "      <th>tipo_divida</th>\n",
       "      <th>id_pessoa</th>\n",
       "      <th>da_aberto</th>\n",
       "      <th>percentual_pago_cda</th>\n",
       "      <th>valor_total_da</th>\n",
       "      <th>idade_divida</th>\n",
       "      <th>num_dist_cda</th>\n",
       "      <th>quantidade_reparcelamento</th>\n",
       "      <th>historico_pagamento_em_valor</th>\n",
       "      <th>situacao_cobranca</th>\n",
       "      <th>class_contribuinte</th>\n",
       "      <th>class_contribuinte_peso</th>\n",
       "      <th>igr</th>\n",
       "      <th>rating_divida</th>\n",
       "    </tr>\n",
       "  </thead>\n",
       "  <tbody>\n",
       "    <tr>\n",
       "      <th>0</th>\n",
       "      <td>00000123c3d4731c6b3a8e268c80aedf1</td>\n",
       "      <td>imovel</td>\n",
       "      <td>ac28642d7c82b33f</td>\n",
       "      <td>1</td>\n",
       "      <td>0.0</td>\n",
       "      <td>2048.73</td>\n",
       "      <td>1.0</td>\n",
       "      <td>2</td>\n",
       "      <td>0</td>\n",
       "      <td>0.0</td>\n",
       "      <td>4.0</td>\n",
       "      <td>2</td>\n",
       "      <td>1.56033</td>\n",
       "      <td>0.670109</td>\n",
       "      <td>ALTISSIMA</td>\n",
       "    </tr>\n",
       "    <tr>\n",
       "      <th>1</th>\n",
       "      <td>00000123c3d4731c6b3a8e268c80aedf2</td>\n",
       "      <td>mercantil</td>\n",
       "      <td>fc4b99b807fbed41</td>\n",
       "      <td>1</td>\n",
       "      <td>0.0</td>\n",
       "      <td>2515.85</td>\n",
       "      <td>1.0</td>\n",
       "      <td>3</td>\n",
       "      <td>0</td>\n",
       "      <td>0.0</td>\n",
       "      <td>0.0</td>\n",
       "      <td>0</td>\n",
       "      <td>-1.27335</td>\n",
       "      <td>0.000000</td>\n",
       "      <td>BAIXISSIMA</td>\n",
       "    </tr>\n",
       "    <tr>\n",
       "      <th>2</th>\n",
       "      <td>000014e359592e62d8a3e5cebc255ca6E</td>\n",
       "      <td>mercantil</td>\n",
       "      <td>6dbe14da38a31dc1</td>\n",
       "      <td>1</td>\n",
       "      <td>0.0</td>\n",
       "      <td>847.02</td>\n",
       "      <td>0.0</td>\n",
       "      <td>4</td>\n",
       "      <td>3</td>\n",
       "      <td>0.0</td>\n",
       "      <td>0.0</td>\n",
       "      <td>0</td>\n",
       "      <td>-1.27335</td>\n",
       "      <td>0.000000</td>\n",
       "      <td>BAIXISSIMA</td>\n",
       "    </tr>\n",
       "    <tr>\n",
       "      <th>3</th>\n",
       "      <td>0000331f601a73e52b46f673bf0c61252</td>\n",
       "      <td>mercantil</td>\n",
       "      <td>e8424494daac9641</td>\n",
       "      <td>1</td>\n",
       "      <td>0.0</td>\n",
       "      <td>5385.81</td>\n",
       "      <td>11.0</td>\n",
       "      <td>4</td>\n",
       "      <td>0</td>\n",
       "      <td>0.0</td>\n",
       "      <td>0.0</td>\n",
       "      <td>0</td>\n",
       "      <td>-1.27335</td>\n",
       "      <td>0.000000</td>\n",
       "      <td>BAIXISSIMA</td>\n",
       "    </tr>\n",
       "    <tr>\n",
       "      <th>4</th>\n",
       "      <td>00003d46e618da886b3a8e268c80aedf1</td>\n",
       "      <td>imovel</td>\n",
       "      <td>d8b23eda9800b9e3</td>\n",
       "      <td>1</td>\n",
       "      <td>0.0</td>\n",
       "      <td>6434.96</td>\n",
       "      <td>12.0</td>\n",
       "      <td>4</td>\n",
       "      <td>0</td>\n",
       "      <td>0.0</td>\n",
       "      <td>0.0</td>\n",
       "      <td>0</td>\n",
       "      <td>-1.27335</td>\n",
       "      <td>0.000000</td>\n",
       "      <td>BAIXISSIMA</td>\n",
       "    </tr>\n",
       "    <tr>\n",
       "      <th>...</th>\n",
       "      <td>...</td>\n",
       "      <td>...</td>\n",
       "      <td>...</td>\n",
       "      <td>...</td>\n",
       "      <td>...</td>\n",
       "      <td>...</td>\n",
       "      <td>...</td>\n",
       "      <td>...</td>\n",
       "      <td>...</td>\n",
       "      <td>...</td>\n",
       "      <td>...</td>\n",
       "      <td>...</td>\n",
       "      <td>...</td>\n",
       "      <td>...</td>\n",
       "      <td>...</td>\n",
       "    </tr>\n",
       "    <tr>\n",
       "      <th>967074</th>\n",
       "      <td>ffffca43e897bbf0d8a3e5cebc255ca61</td>\n",
       "      <td>imovel</td>\n",
       "      <td>cad70f5b8701af03</td>\n",
       "      <td>1</td>\n",
       "      <td>0.0</td>\n",
       "      <td>5082.97</td>\n",
       "      <td>11.0</td>\n",
       "      <td>5</td>\n",
       "      <td>0</td>\n",
       "      <td>0.0</td>\n",
       "      <td>0.0</td>\n",
       "      <td>0</td>\n",
       "      <td>-1.27335</td>\n",
       "      <td>0.000000</td>\n",
       "      <td>BAIXISSIMA</td>\n",
       "    </tr>\n",
       "    <tr>\n",
       "      <th>967075</th>\n",
       "      <td>ffffca43e897bbf0d8a3e5cebc255ca62</td>\n",
       "      <td>mercantil</td>\n",
       "      <td>e750ab1d88feb1ba</td>\n",
       "      <td>1</td>\n",
       "      <td>0.0</td>\n",
       "      <td>7634.36</td>\n",
       "      <td>11.0</td>\n",
       "      <td>6</td>\n",
       "      <td>0</td>\n",
       "      <td>0.0</td>\n",
       "      <td>0.0</td>\n",
       "      <td>0</td>\n",
       "      <td>-1.27335</td>\n",
       "      <td>0.000000</td>\n",
       "      <td>BAIXISSIMA</td>\n",
       "    </tr>\n",
       "    <tr>\n",
       "      <th>967076</th>\n",
       "      <td>ffffd79d8aa612ac9fcacff532cf50c42</td>\n",
       "      <td>mercantil</td>\n",
       "      <td>cc5afb41f6fbc367</td>\n",
       "      <td>1</td>\n",
       "      <td>0.0</td>\n",
       "      <td>1080.38</td>\n",
       "      <td>1.0</td>\n",
       "      <td>3</td>\n",
       "      <td>2</td>\n",
       "      <td>0.0</td>\n",
       "      <td>0.0</td>\n",
       "      <td>0</td>\n",
       "      <td>-1.27335</td>\n",
       "      <td>0.000000</td>\n",
       "      <td>BAIXISSIMA</td>\n",
       "    </tr>\n",
       "    <tr>\n",
       "      <th>967077</th>\n",
       "      <td>ffffdc78aa7a90e26b3a8e268c80aedf1</td>\n",
       "      <td>imovel</td>\n",
       "      <td>9b512f210b460120</td>\n",
       "      <td>1</td>\n",
       "      <td>0.0</td>\n",
       "      <td>9390.43</td>\n",
       "      <td>25.0</td>\n",
       "      <td>5</td>\n",
       "      <td>0</td>\n",
       "      <td>0.0</td>\n",
       "      <td>4.0</td>\n",
       "      <td>2</td>\n",
       "      <td>1.56033</td>\n",
       "      <td>0.000000</td>\n",
       "      <td>BAIXISSIMA</td>\n",
       "    </tr>\n",
       "    <tr>\n",
       "      <th>967078</th>\n",
       "      <td>fffff192f894983c9ceed47545e621dd1</td>\n",
       "      <td>imovel</td>\n",
       "      <td>dd5538d2d38803a7</td>\n",
       "      <td>1</td>\n",
       "      <td>0.0</td>\n",
       "      <td>16594.80</td>\n",
       "      <td>15.0</td>\n",
       "      <td>3</td>\n",
       "      <td>0</td>\n",
       "      <td>0.0</td>\n",
       "      <td>4.0</td>\n",
       "      <td>2</td>\n",
       "      <td>1.56033</td>\n",
       "      <td>0.000000</td>\n",
       "      <td>BAIXISSIMA</td>\n",
       "    </tr>\n",
       "  </tbody>\n",
       "</table>\n",
       "<p>967079 rows × 15 columns</p>\n",
       "</div>"
      ],
      "text/plain": [
       "                                      cda tipo_divida         id_pessoa  \\\n",
       "0       00000123c3d4731c6b3a8e268c80aedf1      imovel  ac28642d7c82b33f   \n",
       "1       00000123c3d4731c6b3a8e268c80aedf2   mercantil  fc4b99b807fbed41   \n",
       "2       000014e359592e62d8a3e5cebc255ca6E   mercantil  6dbe14da38a31dc1   \n",
       "3       0000331f601a73e52b46f673bf0c61252   mercantil  e8424494daac9641   \n",
       "4       00003d46e618da886b3a8e268c80aedf1      imovel  d8b23eda9800b9e3   \n",
       "...                                   ...         ...               ...   \n",
       "967074  ffffca43e897bbf0d8a3e5cebc255ca61      imovel  cad70f5b8701af03   \n",
       "967075  ffffca43e897bbf0d8a3e5cebc255ca62   mercantil  e750ab1d88feb1ba   \n",
       "967076  ffffd79d8aa612ac9fcacff532cf50c42   mercantil  cc5afb41f6fbc367   \n",
       "967077  ffffdc78aa7a90e26b3a8e268c80aedf1      imovel  9b512f210b460120   \n",
       "967078  fffff192f894983c9ceed47545e621dd1      imovel  dd5538d2d38803a7   \n",
       "\n",
       "        da_aberto  percentual_pago_cda  valor_total_da  idade_divida  \\\n",
       "0               1                  0.0         2048.73           1.0   \n",
       "1               1                  0.0         2515.85           1.0   \n",
       "2               1                  0.0          847.02           0.0   \n",
       "3               1                  0.0         5385.81          11.0   \n",
       "4               1                  0.0         6434.96          12.0   \n",
       "...           ...                  ...             ...           ...   \n",
       "967074          1                  0.0         5082.97          11.0   \n",
       "967075          1                  0.0         7634.36          11.0   \n",
       "967076          1                  0.0         1080.38           1.0   \n",
       "967077          1                  0.0         9390.43          25.0   \n",
       "967078          1                  0.0        16594.80          15.0   \n",
       "\n",
       "        num_dist_cda  quantidade_reparcelamento  historico_pagamento_em_valor  \\\n",
       "0                  2                          0                           0.0   \n",
       "1                  3                          0                           0.0   \n",
       "2                  4                          3                           0.0   \n",
       "3                  4                          0                           0.0   \n",
       "4                  4                          0                           0.0   \n",
       "...              ...                        ...                           ...   \n",
       "967074             5                          0                           0.0   \n",
       "967075             6                          0                           0.0   \n",
       "967076             3                          2                           0.0   \n",
       "967077             5                          0                           0.0   \n",
       "967078             3                          0                           0.0   \n",
       "\n",
       "        situacao_cobranca  class_contribuinte  class_contribuinte_peso  \\\n",
       "0                     4.0                   2                  1.56033   \n",
       "1                     0.0                   0                 -1.27335   \n",
       "2                     0.0                   0                 -1.27335   \n",
       "3                     0.0                   0                 -1.27335   \n",
       "4                     0.0                   0                 -1.27335   \n",
       "...                   ...                 ...                      ...   \n",
       "967074                0.0                   0                 -1.27335   \n",
       "967075                0.0                   0                 -1.27335   \n",
       "967076                0.0                   0                 -1.27335   \n",
       "967077                4.0                   2                  1.56033   \n",
       "967078                4.0                   2                  1.56033   \n",
       "\n",
       "             igr rating_divida  \n",
       "0       0.670109     ALTISSIMA  \n",
       "1       0.000000    BAIXISSIMA  \n",
       "2       0.000000    BAIXISSIMA  \n",
       "3       0.000000    BAIXISSIMA  \n",
       "4       0.000000    BAIXISSIMA  \n",
       "...          ...           ...  \n",
       "967074  0.000000    BAIXISSIMA  \n",
       "967075  0.000000    BAIXISSIMA  \n",
       "967076  0.000000    BAIXISSIMA  \n",
       "967077  0.000000    BAIXISSIMA  \n",
       "967078  0.000000    BAIXISSIMA  \n",
       "\n",
       "[967079 rows x 15 columns]"
      ]
     },
     "execution_count": 55,
     "metadata": {},
     "output_type": "execute_result"
    }
   ],
   "source": [
    "print(\"Classificação do rating da dívida parametrizando junto a classificação do contribuinte - método ORIGINAL\")\n",
    "df_original = make_rating_divida_original(df)\n",
    "df_original"
   ]
  },
  {
   "cell_type": "code",
   "execution_count": 56,
   "metadata": {},
   "outputs": [
    {
     "data": {
      "text/html": [
       "<div>\n",
       "<style scoped>\n",
       "    .dataframe tbody tr th:only-of-type {\n",
       "        vertical-align: middle;\n",
       "    }\n",
       "\n",
       "    .dataframe tbody tr th {\n",
       "        vertical-align: top;\n",
       "    }\n",
       "\n",
       "    .dataframe thead th {\n",
       "        text-align: right;\n",
       "    }\n",
       "</style>\n",
       "<table border=\"1\" class=\"dataframe\">\n",
       "  <thead>\n",
       "    <tr style=\"text-align: right;\">\n",
       "      <th></th>\n",
       "      <th>cda</th>\n",
       "      <th>tipo_divida</th>\n",
       "      <th>id_pessoa</th>\n",
       "      <th>da_aberto</th>\n",
       "      <th>percentual_pago_cda</th>\n",
       "      <th>valor_total_da</th>\n",
       "      <th>idade_divida</th>\n",
       "      <th>num_dist_cda</th>\n",
       "      <th>quantidade_reparcelamento</th>\n",
       "      <th>historico_pagamento_em_valor</th>\n",
       "      <th>situacao_cobranca</th>\n",
       "      <th>class_contribuinte</th>\n",
       "      <th>class_contribuinte_peso</th>\n",
       "      <th>igr</th>\n",
       "      <th>rating_divida</th>\n",
       "    </tr>\n",
       "  </thead>\n",
       "  <tbody>\n",
       "    <tr>\n",
       "      <th>77158</th>\n",
       "      <td>1491939ceb02c7cfe52281a70553db462</td>\n",
       "      <td>mercantil</td>\n",
       "      <td>2f48e5117fc31832</td>\n",
       "      <td>1</td>\n",
       "      <td>0.0</td>\n",
       "      <td>3298.56</td>\n",
       "      <td>1.0</td>\n",
       "      <td>1</td>\n",
       "      <td>0</td>\n",
       "      <td>0.0</td>\n",
       "      <td>0.0</td>\n",
       "      <td>4</td>\n",
       "      <td>0.10483</td>\n",
       "      <td>0.0</td>\n",
       "      <td>BAIXISSIMA</td>\n",
       "    </tr>\n",
       "  </tbody>\n",
       "</table>\n",
       "</div>"
      ],
      "text/plain": [
       "                                     cda tipo_divida         id_pessoa  \\\n",
       "77158  1491939ceb02c7cfe52281a70553db462   mercantil  2f48e5117fc31832   \n",
       "\n",
       "       da_aberto  percentual_pago_cda  valor_total_da  idade_divida  \\\n",
       "77158          1                  0.0         3298.56           1.0   \n",
       "\n",
       "       num_dist_cda  quantidade_reparcelamento  historico_pagamento_em_valor  \\\n",
       "77158             1                          0                           0.0   \n",
       "\n",
       "       situacao_cobranca  class_contribuinte  class_contribuinte_peso  igr  \\\n",
       "77158                0.0                   4                  0.10483  0.0   \n",
       "\n",
       "      rating_divida  \n",
       "77158    BAIXISSIMA  "
      ]
     },
     "execution_count": 56,
     "metadata": {},
     "output_type": "execute_result"
    }
   ],
   "source": [
    "df_original[df_original['cda'] == '1491939ceb02c7cfe52281a70553db462']"
   ]
  },
  {
   "cell_type": "code",
   "execution_count": 57,
   "metadata": {},
   "outputs": [],
   "source": [
    "# print(\"Classificação do rating da dívida parametrizando junto a classificação do contribuinte - método QUANTIL\")\n",
    "# df_quantil = make_rating_divida_quantil(df)\n",
    "# df_quantil"
   ]
  },
  {
   "cell_type": "markdown",
   "metadata": {},
   "source": [
    "### Comparar versão original com quantil "
   ]
  },
  {
   "cell_type": "code",
   "execution_count": 35,
   "metadata": {},
   "outputs": [],
   "source": [
    "# df_orig_comparar = df_original[['cda', 'tipo_divida', 'id_pessoa', 'rating_divida']]\n",
    "# df_orig_comparar = df_orig_comparar.rename(columns = {'rating_divida':'rating_divida_orig'})"
   ]
  },
  {
   "cell_type": "code",
   "execution_count": 36,
   "metadata": {},
   "outputs": [],
   "source": [
    "# df_quantil_comparar = df_quantil[['cda', 'tipo_divida', 'id_pessoa', 'rating_divida']]\n",
    "# df_quantil_comparar = df_quantil_comparar.rename(columns = {'rating_divida':'rating_divida_quantil'})"
   ]
  },
  {
   "cell_type": "code",
   "execution_count": 37,
   "metadata": {},
   "outputs": [],
   "source": [
    "# comparar = pd.merge(df_orig_comparar, df_quantil_comparar, on = ['cda', 'tipo_divida', 'id_pessoa'], how = 'outer')\n",
    "\n",
    "# rotulos_diferentes = comparar[comparar['rating_divida_orig'] != comparar['rating_divida_quantil']]"
   ]
  },
  {
   "cell_type": "code",
   "execution_count": 38,
   "metadata": {},
   "outputs": [
    {
     "data": {
      "text/html": [
       "<div>\n",
       "<style scoped>\n",
       "    .dataframe tbody tr th:only-of-type {\n",
       "        vertical-align: middle;\n",
       "    }\n",
       "\n",
       "    .dataframe tbody tr th {\n",
       "        vertical-align: top;\n",
       "    }\n",
       "\n",
       "    .dataframe thead th {\n",
       "        text-align: right;\n",
       "    }\n",
       "</style>\n",
       "<table border=\"1\" class=\"dataframe\">\n",
       "  <thead>\n",
       "    <tr style=\"text-align: right;\">\n",
       "      <th></th>\n",
       "      <th>cda</th>\n",
       "      <th>tipo_divida</th>\n",
       "      <th>id_pessoa</th>\n",
       "      <th>rating_divida_orig</th>\n",
       "      <th>rating_divida_quantil</th>\n",
       "    </tr>\n",
       "  </thead>\n",
       "  <tbody>\n",
       "    <tr>\n",
       "      <th>0</th>\n",
       "      <td>00000123c3d4731c6b3a8e268c80aedf1</td>\n",
       "      <td>imovel</td>\n",
       "      <td>ac28642d7c82b33f</td>\n",
       "      <td>ALTISSIMA</td>\n",
       "      <td>ALTISSIMA</td>\n",
       "    </tr>\n",
       "    <tr>\n",
       "      <th>1</th>\n",
       "      <td>00000123c3d4731c6b3a8e268c80aedf2</td>\n",
       "      <td>mercantil</td>\n",
       "      <td>fc4b99b807fbed41</td>\n",
       "      <td>BAIXISSIMA</td>\n",
       "      <td>BAIXISSIMA</td>\n",
       "    </tr>\n",
       "    <tr>\n",
       "      <th>2</th>\n",
       "      <td>000014e359592e62d8a3e5cebc255ca6E</td>\n",
       "      <td>mercantil</td>\n",
       "      <td>6dbe14da38a31dc1</td>\n",
       "      <td>BAIXISSIMA</td>\n",
       "      <td>BAIXISSIMA</td>\n",
       "    </tr>\n",
       "    <tr>\n",
       "      <th>3</th>\n",
       "      <td>0000331f601a73e52b46f673bf0c61252</td>\n",
       "      <td>mercantil</td>\n",
       "      <td>e8424494daac9641</td>\n",
       "      <td>BAIXISSIMA</td>\n",
       "      <td>BAIXISSIMA</td>\n",
       "    </tr>\n",
       "    <tr>\n",
       "      <th>4</th>\n",
       "      <td>00003d46e618da886b3a8e268c80aedf1</td>\n",
       "      <td>imovel</td>\n",
       "      <td>d8b23eda9800b9e3</td>\n",
       "      <td>BAIXISSIMA</td>\n",
       "      <td>BAIXISSIMA</td>\n",
       "    </tr>\n",
       "    <tr>\n",
       "      <th>...</th>\n",
       "      <td>...</td>\n",
       "      <td>...</td>\n",
       "      <td>...</td>\n",
       "      <td>...</td>\n",
       "      <td>...</td>\n",
       "    </tr>\n",
       "    <tr>\n",
       "      <th>967074</th>\n",
       "      <td>ffffca43e897bbf0d8a3e5cebc255ca61</td>\n",
       "      <td>imovel</td>\n",
       "      <td>cad70f5b8701af03</td>\n",
       "      <td>BAIXISSIMA</td>\n",
       "      <td>BAIXISSIMA</td>\n",
       "    </tr>\n",
       "    <tr>\n",
       "      <th>967075</th>\n",
       "      <td>ffffca43e897bbf0d8a3e5cebc255ca62</td>\n",
       "      <td>mercantil</td>\n",
       "      <td>e750ab1d88feb1ba</td>\n",
       "      <td>BAIXISSIMA</td>\n",
       "      <td>BAIXISSIMA</td>\n",
       "    </tr>\n",
       "    <tr>\n",
       "      <th>967076</th>\n",
       "      <td>ffffd79d8aa612ac9fcacff532cf50c42</td>\n",
       "      <td>mercantil</td>\n",
       "      <td>cc5afb41f6fbc367</td>\n",
       "      <td>BAIXISSIMA</td>\n",
       "      <td>BAIXISSIMA</td>\n",
       "    </tr>\n",
       "    <tr>\n",
       "      <th>967077</th>\n",
       "      <td>ffffdc78aa7a90e26b3a8e268c80aedf1</td>\n",
       "      <td>imovel</td>\n",
       "      <td>9b512f210b460120</td>\n",
       "      <td>BAIXISSIMA</td>\n",
       "      <td>BAIXISSIMA</td>\n",
       "    </tr>\n",
       "    <tr>\n",
       "      <th>967078</th>\n",
       "      <td>fffff192f894983c9ceed47545e621dd1</td>\n",
       "      <td>imovel</td>\n",
       "      <td>dd5538d2d38803a7</td>\n",
       "      <td>BAIXISSIMA</td>\n",
       "      <td>BAIXISSIMA</td>\n",
       "    </tr>\n",
       "  </tbody>\n",
       "</table>\n",
       "<p>967079 rows × 5 columns</p>\n",
       "</div>"
      ],
      "text/plain": [
       "                                      cda tipo_divida         id_pessoa  \\\n",
       "0       00000123c3d4731c6b3a8e268c80aedf1      imovel  ac28642d7c82b33f   \n",
       "1       00000123c3d4731c6b3a8e268c80aedf2   mercantil  fc4b99b807fbed41   \n",
       "2       000014e359592e62d8a3e5cebc255ca6E   mercantil  6dbe14da38a31dc1   \n",
       "3       0000331f601a73e52b46f673bf0c61252   mercantil  e8424494daac9641   \n",
       "4       00003d46e618da886b3a8e268c80aedf1      imovel  d8b23eda9800b9e3   \n",
       "...                                   ...         ...               ...   \n",
       "967074  ffffca43e897bbf0d8a3e5cebc255ca61      imovel  cad70f5b8701af03   \n",
       "967075  ffffca43e897bbf0d8a3e5cebc255ca62   mercantil  e750ab1d88feb1ba   \n",
       "967076  ffffd79d8aa612ac9fcacff532cf50c42   mercantil  cc5afb41f6fbc367   \n",
       "967077  ffffdc78aa7a90e26b3a8e268c80aedf1      imovel  9b512f210b460120   \n",
       "967078  fffff192f894983c9ceed47545e621dd1      imovel  dd5538d2d38803a7   \n",
       "\n",
       "       rating_divida_orig rating_divida_quantil  \n",
       "0               ALTISSIMA             ALTISSIMA  \n",
       "1              BAIXISSIMA            BAIXISSIMA  \n",
       "2              BAIXISSIMA            BAIXISSIMA  \n",
       "3              BAIXISSIMA            BAIXISSIMA  \n",
       "4              BAIXISSIMA            BAIXISSIMA  \n",
       "...                   ...                   ...  \n",
       "967074         BAIXISSIMA            BAIXISSIMA  \n",
       "967075         BAIXISSIMA            BAIXISSIMA  \n",
       "967076         BAIXISSIMA            BAIXISSIMA  \n",
       "967077         BAIXISSIMA            BAIXISSIMA  \n",
       "967078         BAIXISSIMA            BAIXISSIMA  \n",
       "\n",
       "[967079 rows x 5 columns]"
      ]
     },
     "execution_count": 38,
     "metadata": {},
     "output_type": "execute_result"
    }
   ],
   "source": [
    "# comparar#[['rating_divida_orig', 'rating_divida_quantil']].value_counts().to_frame().reset_index().sort_values(by = ['rating_divida_orig', 'rating_divida_quantil'])"
   ]
  },
  {
   "cell_type": "code",
   "execution_count": 58,
   "metadata": {},
   "outputs": [],
   "source": [
    "# contingency_table = pd.crosstab(comparar['rating_divida_orig'], comparar['rating_divida_quantil'])\n",
    "# contingency_table"
   ]
  },
  {
   "cell_type": "markdown",
   "metadata": {},
   "source": [
    "# Métricas"
   ]
  },
  {
   "cell_type": "code",
   "execution_count": 59,
   "metadata": {},
   "outputs": [
    {
     "data": {
      "text/html": [
       "<div>\n",
       "<style scoped>\n",
       "    .dataframe tbody tr th:only-of-type {\n",
       "        vertical-align: middle;\n",
       "    }\n",
       "\n",
       "    .dataframe tbody tr th {\n",
       "        vertical-align: top;\n",
       "    }\n",
       "\n",
       "    .dataframe thead th {\n",
       "        text-align: right;\n",
       "    }\n",
       "</style>\n",
       "<table border=\"1\" class=\"dataframe\">\n",
       "  <thead>\n",
       "    <tr style=\"text-align: right;\">\n",
       "      <th></th>\n",
       "      <th>rating_divida</th>\n",
       "      <th>ordem_rating</th>\n",
       "    </tr>\n",
       "  </thead>\n",
       "  <tbody>\n",
       "    <tr>\n",
       "      <th>0</th>\n",
       "      <td>ALTISSIMA</td>\n",
       "      <td>0</td>\n",
       "    </tr>\n",
       "    <tr>\n",
       "      <th>1</th>\n",
       "      <td>ALTA</td>\n",
       "      <td>1</td>\n",
       "    </tr>\n",
       "    <tr>\n",
       "      <th>2</th>\n",
       "      <td>MEDIA</td>\n",
       "      <td>2</td>\n",
       "    </tr>\n",
       "    <tr>\n",
       "      <th>3</th>\n",
       "      <td>BAIXA</td>\n",
       "      <td>3</td>\n",
       "    </tr>\n",
       "    <tr>\n",
       "      <th>4</th>\n",
       "      <td>BAIXISSIMA</td>\n",
       "      <td>4</td>\n",
       "    </tr>\n",
       "  </tbody>\n",
       "</table>\n",
       "</div>"
      ],
      "text/plain": [
       "  rating_divida  ordem_rating\n",
       "0     ALTISSIMA             0\n",
       "1          ALTA             1\n",
       "2         MEDIA             2\n",
       "3         BAIXA             3\n",
       "4    BAIXISSIMA             4"
      ]
     },
     "execution_count": 59,
     "metadata": {},
     "output_type": "execute_result"
    }
   ],
   "source": [
    "dict = {\"rating_divida\": ['ALTISSIMA', 'ALTA', 'MEDIA', 'BAIXA', 'BAIXISSIMA'],\n",
    "        \"ordem_rating\": [0, 1, 2, 3, 4]}\n",
    "\n",
    "df_ordenar_rating_divida = pd.DataFrame(dict)\n",
    "df_ordenar_rating_divida"
   ]
  },
  {
   "cell_type": "code",
   "execution_count": 60,
   "metadata": {},
   "outputs": [],
   "source": [
    "def numcdas_por_ratingdivida(DF, df_ordenar_rating_divida):\n",
    "\n",
    "    # Num CDAs\n",
    "    df_cdasabertas_ratdiv = DF.groupby('rating_divida')['cda'].nunique().to_frame().reset_index()\n",
    "    total_cda = df_cdasabertas_ratdiv['cda'].sum()\n",
    "    df_cdasabertas_ratdiv['total_cda'] = total_cda\n",
    "    df_cdasabertas_ratdiv['perc_cda'] = np.round(df_cdasabertas_ratdiv['cda']/total_cda, 4)\n",
    "\n",
    "    df_cdasabertas_ratdiv = pd.merge(df_cdasabertas_ratdiv, df_ordenar_rating_divida, on = 'rating_divida').sort_values(by = \"ordem_rating\")\n",
    "\n",
    "    return df_cdasabertas_ratdiv"
   ]
  },
  {
   "cell_type": "code",
   "execution_count": 61,
   "metadata": {},
   "outputs": [],
   "source": [
    "def vlrmonet_por_ratingdivida(DF, df_ordenar_rating_divida):\n",
    "\n",
    "    # Valor monetário\n",
    "    estoque_rat_div = DF.groupby('rating_divida')['valor_total_da'].sum().to_frame().reset_index()\n",
    "    total_vlr_tot_da = estoque_rat_div['valor_total_da'].sum()\n",
    "    estoque_rat_div['total_vlr_tot_da'] = total_vlr_tot_da\n",
    "    estoque_rat_div['perc_vlr_tot_da'] = np.round(estoque_rat_div['valor_total_da']/total_vlr_tot_da, 4)\n",
    "\n",
    "    estoque_rat_div['valor_total_da_format'] = estoque_rat_div['valor_total_da'].apply(formatar_moeda, 0)\n",
    "    estoque_rat_div['total_vlr_tot_da_format'] = estoque_rat_div['total_vlr_tot_da'].apply(formatar_moeda, 0)\n",
    "\n",
    "    estoque_rat_div = pd.merge(estoque_rat_div, df_ordenar_rating_divida, on = 'rating_divida').sort_values(by = \"ordem_rating\")\n",
    "\n",
    "    return estoque_rat_div"
   ]
  },
  {
   "cell_type": "markdown",
   "metadata": {},
   "source": [
    "### Original"
   ]
  },
  {
   "cell_type": "code",
   "execution_count": 62,
   "metadata": {},
   "outputs": [],
   "source": [
    "df_orig_da1 = df_original[df_original['da_aberto'] == 1]"
   ]
  },
  {
   "cell_type": "code",
   "execution_count": 63,
   "metadata": {},
   "outputs": [
    {
     "data": {
      "text/html": [
       "<div>\n",
       "<style scoped>\n",
       "    .dataframe tbody tr th:only-of-type {\n",
       "        vertical-align: middle;\n",
       "    }\n",
       "\n",
       "    .dataframe tbody tr th {\n",
       "        vertical-align: top;\n",
       "    }\n",
       "\n",
       "    .dataframe thead th {\n",
       "        text-align: right;\n",
       "    }\n",
       "</style>\n",
       "<table border=\"1\" class=\"dataframe\">\n",
       "  <thead>\n",
       "    <tr style=\"text-align: right;\">\n",
       "      <th></th>\n",
       "      <th>rating_divida</th>\n",
       "      <th>cda</th>\n",
       "      <th>total_cda</th>\n",
       "      <th>perc_cda</th>\n",
       "      <th>ordem_rating</th>\n",
       "    </tr>\n",
       "  </thead>\n",
       "  <tbody>\n",
       "    <tr>\n",
       "      <th>1</th>\n",
       "      <td>ALTISSIMA</td>\n",
       "      <td>328276</td>\n",
       "      <td>967079</td>\n",
       "      <td>0.3395</td>\n",
       "      <td>0</td>\n",
       "    </tr>\n",
       "    <tr>\n",
       "      <th>0</th>\n",
       "      <td>ALTA</td>\n",
       "      <td>3684</td>\n",
       "      <td>967079</td>\n",
       "      <td>0.0038</td>\n",
       "      <td>1</td>\n",
       "    </tr>\n",
       "    <tr>\n",
       "      <th>4</th>\n",
       "      <td>MEDIA</td>\n",
       "      <td>1145</td>\n",
       "      <td>967079</td>\n",
       "      <td>0.0012</td>\n",
       "      <td>2</td>\n",
       "    </tr>\n",
       "    <tr>\n",
       "      <th>2</th>\n",
       "      <td>BAIXA</td>\n",
       "      <td>69225</td>\n",
       "      <td>967079</td>\n",
       "      <td>0.0716</td>\n",
       "      <td>3</td>\n",
       "    </tr>\n",
       "    <tr>\n",
       "      <th>3</th>\n",
       "      <td>BAIXISSIMA</td>\n",
       "      <td>564749</td>\n",
       "      <td>967079</td>\n",
       "      <td>0.5840</td>\n",
       "      <td>4</td>\n",
       "    </tr>\n",
       "  </tbody>\n",
       "</table>\n",
       "</div>"
      ],
      "text/plain": [
       "  rating_divida     cda  total_cda  perc_cda  ordem_rating\n",
       "1     ALTISSIMA  328276     967079    0.3395             0\n",
       "0          ALTA    3684     967079    0.0038             1\n",
       "4         MEDIA    1145     967079    0.0012             2\n",
       "2         BAIXA   69225     967079    0.0716             3\n",
       "3    BAIXISSIMA  564749     967079    0.5840             4"
      ]
     },
     "execution_count": 63,
     "metadata": {},
     "output_type": "execute_result"
    }
   ],
   "source": [
    "numcdas_por_ratingdivida(df_orig_da1, df_ordenar_rating_divida)"
   ]
  },
  {
   "cell_type": "code",
   "execution_count": 64,
   "metadata": {},
   "outputs": [
    {
     "data": {
      "text/html": [
       "<div>\n",
       "<style scoped>\n",
       "    .dataframe tbody tr th:only-of-type {\n",
       "        vertical-align: middle;\n",
       "    }\n",
       "\n",
       "    .dataframe tbody tr th {\n",
       "        vertical-align: top;\n",
       "    }\n",
       "\n",
       "    .dataframe thead th {\n",
       "        text-align: right;\n",
       "    }\n",
       "</style>\n",
       "<table border=\"1\" class=\"dataframe\">\n",
       "  <thead>\n",
       "    <tr style=\"text-align: right;\">\n",
       "      <th></th>\n",
       "      <th>rating_divida</th>\n",
       "      <th>valor_total_da</th>\n",
       "      <th>total_vlr_tot_da</th>\n",
       "      <th>perc_vlr_tot_da</th>\n",
       "      <th>valor_total_da_format</th>\n",
       "      <th>total_vlr_tot_da_format</th>\n",
       "      <th>ordem_rating</th>\n",
       "    </tr>\n",
       "  </thead>\n",
       "  <tbody>\n",
       "    <tr>\n",
       "      <th>1</th>\n",
       "      <td>ALTISSIMA</td>\n",
       "      <td>2.657912e+09</td>\n",
       "      <td>1.386334e+10</td>\n",
       "      <td>0.1917</td>\n",
       "      <td>R$ 2.657.911.904,05</td>\n",
       "      <td>R$ 13.863.337.109,58</td>\n",
       "      <td>0</td>\n",
       "    </tr>\n",
       "    <tr>\n",
       "      <th>0</th>\n",
       "      <td>ALTA</td>\n",
       "      <td>3.680595e+07</td>\n",
       "      <td>1.386334e+10</td>\n",
       "      <td>0.0027</td>\n",
       "      <td>R$ 36.805.954,85</td>\n",
       "      <td>R$ 13.863.337.109,58</td>\n",
       "      <td>1</td>\n",
       "    </tr>\n",
       "    <tr>\n",
       "      <th>4</th>\n",
       "      <td>MEDIA</td>\n",
       "      <td>6.186265e+06</td>\n",
       "      <td>1.386334e+10</td>\n",
       "      <td>0.0004</td>\n",
       "      <td>R$ 6.186.265,44</td>\n",
       "      <td>R$ 13.863.337.109,58</td>\n",
       "      <td>2</td>\n",
       "    </tr>\n",
       "    <tr>\n",
       "      <th>2</th>\n",
       "      <td>BAIXA</td>\n",
       "      <td>7.361907e+08</td>\n",
       "      <td>1.386334e+10</td>\n",
       "      <td>0.0531</td>\n",
       "      <td>R$ 736.190.683,17</td>\n",
       "      <td>R$ 13.863.337.109,58</td>\n",
       "      <td>3</td>\n",
       "    </tr>\n",
       "    <tr>\n",
       "      <th>3</th>\n",
       "      <td>BAIXISSIMA</td>\n",
       "      <td>1.042624e+10</td>\n",
       "      <td>1.386334e+10</td>\n",
       "      <td>0.7521</td>\n",
       "      <td>R$ 10.426.242.302,07</td>\n",
       "      <td>R$ 13.863.337.109,58</td>\n",
       "      <td>4</td>\n",
       "    </tr>\n",
       "  </tbody>\n",
       "</table>\n",
       "</div>"
      ],
      "text/plain": [
       "  rating_divida  valor_total_da  total_vlr_tot_da  perc_vlr_tot_da  \\\n",
       "1     ALTISSIMA    2.657912e+09      1.386334e+10           0.1917   \n",
       "0          ALTA    3.680595e+07      1.386334e+10           0.0027   \n",
       "4         MEDIA    6.186265e+06      1.386334e+10           0.0004   \n",
       "2         BAIXA    7.361907e+08      1.386334e+10           0.0531   \n",
       "3    BAIXISSIMA    1.042624e+10      1.386334e+10           0.7521   \n",
       "\n",
       "  valor_total_da_format total_vlr_tot_da_format  ordem_rating  \n",
       "1   R$ 2.657.911.904,05    R$ 13.863.337.109,58             0  \n",
       "0      R$ 36.805.954,85    R$ 13.863.337.109,58             1  \n",
       "4       R$ 6.186.265,44    R$ 13.863.337.109,58             2  \n",
       "2     R$ 736.190.683,17    R$ 13.863.337.109,58             3  \n",
       "3  R$ 10.426.242.302,07    R$ 13.863.337.109,58             4  "
      ]
     },
     "execution_count": 64,
     "metadata": {},
     "output_type": "execute_result"
    }
   ],
   "source": [
    "vlrmonet_por_ratingdivida(df_orig_da1, df_ordenar_rating_divida)"
   ]
  },
  {
   "cell_type": "markdown",
   "metadata": {},
   "source": [
    "### Quantil"
   ]
  },
  {
   "cell_type": "code",
   "execution_count": 46,
   "metadata": {},
   "outputs": [],
   "source": [
    "# df_quant_da1 = df_quantil[df_quantil['da_aberto'] == 1]"
   ]
  },
  {
   "cell_type": "code",
   "execution_count": 65,
   "metadata": {},
   "outputs": [],
   "source": [
    "# numcdas_por_ratingdivida(df_quant_da1, df_ordenar_rating_divida)"
   ]
  },
  {
   "cell_type": "code",
   "execution_count": 66,
   "metadata": {},
   "outputs": [],
   "source": [
    "# vlrmonet_por_ratingdivida(df_quant_da1, df_ordenar_rating_divida)"
   ]
  },
  {
   "cell_type": "markdown",
   "metadata": {},
   "source": [
    "### Métricas"
   ]
  },
  {
   "cell_type": "code",
   "execution_count": 67,
   "metadata": {},
   "outputs": [
    {
     "data": {
      "text/html": [
       "<div>\n",
       "<style scoped>\n",
       "    .dataframe tbody tr th:only-of-type {\n",
       "        vertical-align: middle;\n",
       "    }\n",
       "\n",
       "    .dataframe tbody tr th {\n",
       "        vertical-align: top;\n",
       "    }\n",
       "\n",
       "    .dataframe thead th {\n",
       "        text-align: right;\n",
       "    }\n",
       "</style>\n",
       "<table border=\"1\" class=\"dataframe\">\n",
       "  <thead>\n",
       "    <tr style=\"text-align: right;\">\n",
       "      <th></th>\n",
       "      <th>rating_divida</th>\n",
       "      <th>cda</th>\n",
       "      <th>perc</th>\n",
       "    </tr>\n",
       "  </thead>\n",
       "  <tbody>\n",
       "    <tr>\n",
       "      <th>0</th>\n",
       "      <td>ALTA</td>\n",
       "      <td>3684</td>\n",
       "      <td>0.00381</td>\n",
       "    </tr>\n",
       "    <tr>\n",
       "      <th>1</th>\n",
       "      <td>ALTISSIMA</td>\n",
       "      <td>328276</td>\n",
       "      <td>0.33945</td>\n",
       "    </tr>\n",
       "    <tr>\n",
       "      <th>2</th>\n",
       "      <td>BAIXA</td>\n",
       "      <td>69225</td>\n",
       "      <td>0.07158</td>\n",
       "    </tr>\n",
       "    <tr>\n",
       "      <th>3</th>\n",
       "      <td>BAIXISSIMA</td>\n",
       "      <td>564749</td>\n",
       "      <td>0.58397</td>\n",
       "    </tr>\n",
       "    <tr>\n",
       "      <th>4</th>\n",
       "      <td>MEDIA</td>\n",
       "      <td>1145</td>\n",
       "      <td>0.00118</td>\n",
       "    </tr>\n",
       "  </tbody>\n",
       "</table>\n",
       "</div>"
      ],
      "text/plain": [
       "  rating_divida     cda     perc\n",
       "0          ALTA    3684  0.00381\n",
       "1     ALTISSIMA  328276  0.33945\n",
       "2         BAIXA   69225  0.07158\n",
       "3    BAIXISSIMA  564749  0.58397\n",
       "4         MEDIA    1145  0.00118"
      ]
     },
     "execution_count": 67,
     "metadata": {},
     "output_type": "execute_result"
    }
   ],
   "source": [
    "metricas_predict = df.groupby('rating_divida')['cda'].nunique().to_frame().reset_index()\n",
    "total = metricas_predict['cda'].sum()\n",
    "metricas_predict['perc'] = np.round(metricas_predict['cda']/total, 5)\n",
    "metricas_predict"
   ]
  },
  {
   "cell_type": "code",
   "execution_count": 68,
   "metadata": {},
   "outputs": [
    {
     "data": {
      "text/html": [
       "<div>\n",
       "<style scoped>\n",
       "    .dataframe tbody tr th:only-of-type {\n",
       "        vertical-align: middle;\n",
       "    }\n",
       "\n",
       "    .dataframe tbody tr th {\n",
       "        vertical-align: top;\n",
       "    }\n",
       "\n",
       "    .dataframe thead th {\n",
       "        text-align: right;\n",
       "    }\n",
       "</style>\n",
       "<table border=\"1\" class=\"dataframe\">\n",
       "  <thead>\n",
       "    <tr style=\"text-align: right;\">\n",
       "      <th></th>\n",
       "      <th>cda</th>\n",
       "      <th>tipo_divida</th>\n",
       "      <th>id_pessoa</th>\n",
       "      <th>da_aberto</th>\n",
       "      <th>percentual_pago_cda</th>\n",
       "      <th>valor_total_da</th>\n",
       "      <th>idade_divida</th>\n",
       "      <th>num_dist_cda</th>\n",
       "      <th>quantidade_reparcelamento</th>\n",
       "      <th>historico_pagamento_em_valor</th>\n",
       "      <th>situacao_cobranca</th>\n",
       "      <th>class_contribuinte</th>\n",
       "      <th>class_contribuinte_peso</th>\n",
       "      <th>igr</th>\n",
       "      <th>rating_divida</th>\n",
       "    </tr>\n",
       "  </thead>\n",
       "  <tbody>\n",
       "    <tr>\n",
       "      <th>77158</th>\n",
       "      <td>1491939ceb02c7cfe52281a70553db462</td>\n",
       "      <td>mercantil</td>\n",
       "      <td>2f48e5117fc31832</td>\n",
       "      <td>1</td>\n",
       "      <td>0.0</td>\n",
       "      <td>3298.56</td>\n",
       "      <td>1.0</td>\n",
       "      <td>1</td>\n",
       "      <td>0</td>\n",
       "      <td>0.0</td>\n",
       "      <td>0.0</td>\n",
       "      <td>4</td>\n",
       "      <td>0.10483</td>\n",
       "      <td>0.0</td>\n",
       "      <td>BAIXISSIMA</td>\n",
       "    </tr>\n",
       "  </tbody>\n",
       "</table>\n",
       "</div>"
      ],
      "text/plain": [
       "                                     cda tipo_divida         id_pessoa  \\\n",
       "77158  1491939ceb02c7cfe52281a70553db462   mercantil  2f48e5117fc31832   \n",
       "\n",
       "       da_aberto  percentual_pago_cda  valor_total_da  idade_divida  \\\n",
       "77158          1                  0.0         3298.56           1.0   \n",
       "\n",
       "       num_dist_cda  quantidade_reparcelamento  historico_pagamento_em_valor  \\\n",
       "77158             1                          0                           0.0   \n",
       "\n",
       "       situacao_cobranca  class_contribuinte  class_contribuinte_peso  igr  \\\n",
       "77158                0.0                   4                  0.10483  0.0   \n",
       "\n",
       "      rating_divida  \n",
       "77158    BAIXISSIMA  "
      ]
     },
     "execution_count": 68,
     "metadata": {},
     "output_type": "execute_result"
    }
   ],
   "source": [
    "df_orig_da1[df_orig_da1['cda'] == '1491939ceb02c7cfe52281a70553db462']"
   ]
  },
  {
   "cell_type": "code",
   "execution_count": 72,
   "metadata": {},
   "outputs": [
    {
     "data": {
      "text/plain": [
       "Index(['cda', 'tipo_divida', 'id_pessoa', 'da_aberto', 'percentual_pago_cda',\n",
       "       'valor_total_da', 'idade_divida', 'num_dist_cda',\n",
       "       'quantidade_reparcelamento', 'historico_pagamento_em_valor',\n",
       "       'situacao_cobranca', 'class_contribuinte', 'class_contribuinte_peso',\n",
       "       'igr', 'rating_divida'],\n",
       "      dtype='object')"
      ]
     },
     "execution_count": 72,
     "metadata": {},
     "output_type": "execute_result"
    }
   ],
   "source": [
    "df_orig_da1.columns"
   ]
  },
  {
   "cell_type": "code",
   "execution_count": 73,
   "metadata": {},
   "outputs": [
    {
     "data": {
      "text/html": [
       "<div>\n",
       "<style scoped>\n",
       "    .dataframe tbody tr th:only-of-type {\n",
       "        vertical-align: middle;\n",
       "    }\n",
       "\n",
       "    .dataframe tbody tr th {\n",
       "        vertical-align: top;\n",
       "    }\n",
       "\n",
       "    .dataframe thead th {\n",
       "        text-align: right;\n",
       "    }\n",
       "</style>\n",
       "<table border=\"1\" class=\"dataframe\">\n",
       "  <thead>\n",
       "    <tr style=\"text-align: right;\">\n",
       "      <th></th>\n",
       "      <th>cda</th>\n",
       "      <th>tipo_divida</th>\n",
       "      <th>id_pessoa</th>\n",
       "      <th>da_aberto</th>\n",
       "      <th>percentual_pago_cda</th>\n",
       "      <th>valor_total_da</th>\n",
       "      <th>idade_divida</th>\n",
       "      <th>num_dist_cda</th>\n",
       "      <th>quantidade_reparcelamento</th>\n",
       "      <th>historico_pagamento_em_valor</th>\n",
       "      <th>situacao_cobranca</th>\n",
       "      <th>class_contribuinte</th>\n",
       "      <th>class_contribuinte_peso</th>\n",
       "      <th>igr</th>\n",
       "      <th>rating_divida</th>\n",
       "    </tr>\n",
       "  </thead>\n",
       "  <tbody>\n",
       "    <tr>\n",
       "      <th>77522</th>\n",
       "      <td>14a8fa60925e446f9fcacff532cf50c42</td>\n",
       "      <td>mercantil</td>\n",
       "      <td>a6b1c07dd9a81e87</td>\n",
       "      <td>1</td>\n",
       "      <td>0.0</td>\n",
       "      <td>3298.56</td>\n",
       "      <td>1.0</td>\n",
       "      <td>1</td>\n",
       "      <td>0</td>\n",
       "      <td>0.0</td>\n",
       "      <td>0.0</td>\n",
       "      <td>4</td>\n",
       "      <td>0.10483</td>\n",
       "      <td>0.0</td>\n",
       "      <td>BAIXISSIMA</td>\n",
       "    </tr>\n",
       "  </tbody>\n",
       "</table>\n",
       "</div>"
      ],
      "text/plain": [
       "                                     cda tipo_divida         id_pessoa  \\\n",
       "77522  14a8fa60925e446f9fcacff532cf50c42   mercantil  a6b1c07dd9a81e87   \n",
       "\n",
       "       da_aberto  percentual_pago_cda  valor_total_da  idade_divida  \\\n",
       "77522          1                  0.0         3298.56           1.0   \n",
       "\n",
       "       num_dist_cda  quantidade_reparcelamento  historico_pagamento_em_valor  \\\n",
       "77522             1                          0                           0.0   \n",
       "\n",
       "       situacao_cobranca  class_contribuinte  class_contribuinte_peso  igr  \\\n",
       "77522                0.0                   4                  0.10483  0.0   \n",
       "\n",
       "      rating_divida  \n",
       "77522    BAIXISSIMA  "
      ]
     },
     "execution_count": 73,
     "metadata": {},
     "output_type": "execute_result"
    }
   ],
   "source": [
    "df_original[df_original['cda'] == '14a8fa60925e446f9fcacff532cf50c42']"
   ]
  },
  {
   "cell_type": "code",
   "execution_count": 74,
   "metadata": {},
   "outputs": [
    {
     "name": "stdout",
     "output_type": "stream",
     "text": [
      "Inicia a conexão com S3 para inscrição dos dados com as previsões\n",
      "Upload de dados efetuados no s3\n",
      "Processo finalizado\n",
      "Arquivo disponível para download e análise\n"
     ]
    }
   ],
   "source": [
    "print(\"Inicia a conexão com S3 para inscrição dos dados com as previsões\")\n",
    "\n",
    "# Cria conexão ao s3 e preenche a tabela com os dados\n",
    "\n",
    "def up_s3_files(dataframe, bucket_name, folder_name, file_name):\n",
    "    csv_buffer = BytesIO()\n",
    "    dataframe.to_csv(csv_buffer, sep=';', index=False)\n",
    "    file_key_aws = folder_name + file_name\n",
    "    s3.Object(bucket_name, file_key_aws).put(Body=csv_buffer.getvalue())\n",
    "\n",
    "\n",
    "up_s3_files(dataframe = df_original,\n",
    "            bucket_name = os.getenv(\"S3_BUCKET_NAME\"),\n",
    "            folder_name = os.getenv(\"S3_FOLDER_NAME\"),\n",
    "            file_name = 'prime_maxpg_lari.csv')\n",
    "\n",
    "print(\"Upload de dados efetuados no s3\")\n",
    "print(\"Processo finalizado\")\n",
    "print(\"Arquivo disponível para download e análise\")"
   ]
  }
 ],
 "metadata": {
  "kernelspec": {
   "display_name": "ml-recife",
   "language": "python",
   "name": "python3"
  },
  "language_info": {
   "codemirror_mode": {
    "name": "ipython",
    "version": 3
   },
   "file_extension": ".py",
   "mimetype": "text/x-python",
   "name": "python",
   "nbconvert_exporter": "python",
   "pygments_lexer": "ipython3",
   "version": "3.10.0"
  },
  "orig_nbformat": 4
 },
 "nbformat": 4,
 "nbformat_minor": 2
}
