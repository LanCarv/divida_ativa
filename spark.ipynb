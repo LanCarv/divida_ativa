{
 "cells": [
  {
   "cell_type": "code",
   "execution_count": 1,
   "metadata": {},
   "outputs": [],
   "source": [
    "import pyspark"
   ]
  },
  {
   "cell_type": "code",
   "execution_count": 2,
   "metadata": {},
   "outputs": [],
   "source": [
    "import os\n",
    "from pyspark.sql import SparkSession\n",
    "\n",
    "spark = SparkSession.builder.appName(\"ConsultaTipoImovel\").getOrCreate()\n",
    "\n",
    "# JDBC JAVA\n",
    "jdbc_url = \"jdbc:postgresql://localhost:6543/dbaquila\"\n",
    "jdbc_properties = {\"user\": \"us_aquila\", \"password\": \"aquila#2023\", \"driver\": \"org.postgresql.Driver\"}\n",
    "\n",
    "ssh_command = \"ssh -i /path/to/id_rsa -L 6543:localhost:6543 -N -f -l ubuntu 3.82.169.227\"\n",
    "os.system(ssh_command)\n",
    "\n",
    "query = \"\"\"\n",
    "SELECT * FROM vwm_iss_v1\n",
    "\"\"\"\n",
    "# Execute a consulta usando JDBC\n",
    "df_result = spark.read.format(\"jdbc\").option(\"url\", jdbc_url).option(\"dbtable\", f\"({query}) as tmp_query\").load()\n",
    "\n",
    "df_result.show()\n",
    "spark.stop()\n"
   ]
  },
  {
   "cell_type": "code",
   "execution_count": 5,
   "metadata": {},
   "outputs": [
    {
     "ename": "SyntaxError",
     "evalue": "Missing parentheses in call to 'print'. Did you mean print(...)? (__init__.py, line 1187)",
     "output_type": "error",
     "traceback": [
      "Traceback \u001b[1;36m(most recent call last)\u001b[0m:\n",
      "\u001b[0m  File \u001b[0;32m~\\AppData\\Roaming\\Python\\Python310\\site-packages\\IPython\\core\\interactiveshell.py:3508\u001b[0m in \u001b[0;35mrun_code\u001b[0m\n    exec(code_obj, self.user_global_ns, self.user_ns)\u001b[0m\n",
      "\u001b[0m  Cell \u001b[0;32mIn[5], line 4\u001b[0m\n    tbl_bairros = pd.read_excel(arq_bairros)\u001b[0m\n",
      "\u001b[0m  File \u001b[0;32mc:\\Users\\Consultor\\AppData\\Local\\Programs\\Python\\Python310\\lib\\site-packages\\pandas\\io\\excel\\_base.py:504\u001b[0m in \u001b[0;35mread_excel\u001b[0m\n    io = ExcelFile(\u001b[0m\n",
      "\u001b[0m  File \u001b[0;32mc:\\Users\\Consultor\\AppData\\Local\\Programs\\Python\\Python310\\lib\\site-packages\\pandas\\io\\excel\\_base.py:1550\u001b[0m in \u001b[0;35m__init__\u001b[0m\n    if import_optional_dependency(\"xlrd\", errors=\"ignore\") is None:\u001b[0m\n",
      "\u001b[0m  File \u001b[0;32mc:\\Users\\Consultor\\AppData\\Local\\Programs\\Python\\Python310\\lib\\site-packages\\pandas\\compat\\_optional.py:132\u001b[0m in \u001b[0;35mimport_optional_dependency\u001b[0m\n    module = importlib.import_module(name)\u001b[0m\n",
      "\u001b[0m  File \u001b[0;32mc:\\Users\\Consultor\\AppData\\Local\\Programs\\Python\\Python310\\lib\\importlib\\__init__.py:126\u001b[0m in \u001b[0;35mimport_module\u001b[0m\n    return _bootstrap._gcd_import(name[level:], package, level)\u001b[0m\n",
      "\u001b[0m  File \u001b[0;32m<frozen importlib._bootstrap>:1050\u001b[0m in \u001b[0;35m_gcd_import\u001b[0m\n",
      "\u001b[0m  File \u001b[0;32m<frozen importlib._bootstrap>:1027\u001b[0m in \u001b[0;35m_find_and_load\u001b[0m\n",
      "\u001b[0m  File \u001b[0;32m<frozen importlib._bootstrap>:1006\u001b[0m in \u001b[0;35m_find_and_load_unlocked\u001b[0m\n",
      "\u001b[0m  File \u001b[0;32m<frozen importlib._bootstrap>:688\u001b[0m in \u001b[0;35m_load_unlocked\u001b[0m\n",
      "\u001b[0m  File \u001b[0;32m<frozen importlib._bootstrap_external>:879\u001b[0m in \u001b[0;35mexec_module\u001b[0m\n",
      "\u001b[0m  File \u001b[0;32m<frozen importlib._bootstrap_external>:1017\u001b[0m in \u001b[0;35mget_code\u001b[0m\n",
      "\u001b[0m  File \u001b[0;32m<frozen importlib._bootstrap_external>:947\u001b[0m in \u001b[0;35msource_to_code\u001b[0m\n",
      "\u001b[1;36m  File \u001b[1;32m<frozen importlib._bootstrap>:241\u001b[1;36m in \u001b[1;35m_call_with_frames_removed\u001b[1;36m\n",
      "\u001b[1;36m  File \u001b[1;32mc:\\Users\\Consultor\\AppData\\Local\\Programs\\Python\\Python310\\lib\\site-packages\\xlrd\\__init__.py:1187\u001b[1;36m\u001b[0m\n\u001b[1;33m    print \"EXTERNSHEET(b7-):\"\u001b[0m\n\u001b[1;37m    ^\u001b[0m\n\u001b[1;31mSyntaxError\u001b[0m\u001b[1;31m:\u001b[0m Missing parentheses in call to 'print'. Did you mean print(...)?\n"
     ]
    }
   ],
   "source": [
    "import pandas as pd\n",
    "\n",
    "arq_bairros = r'C:\\Users\\Consultor\\Documents\\bases_pesquisa\\bairros.xlsx'\n",
    "tbl_bairros = pd.read_excel(arq_bairros)\n",
    "print(tbl_bairros)"
   ]
  }
 ],
 "metadata": {
  "kernelspec": {
   "display_name": "Python 3",
   "language": "python",
   "name": "python3"
  },
  "language_info": {
   "codemirror_mode": {
    "name": "ipython",
    "version": 3
   },
   "file_extension": ".py",
   "mimetype": "text/x-python",
   "name": "python",
   "nbconvert_exporter": "python",
   "pygments_lexer": "ipython3",
   "version": "3.10.0"
  }
 },
 "nbformat": 4,
 "nbformat_minor": 2
}
