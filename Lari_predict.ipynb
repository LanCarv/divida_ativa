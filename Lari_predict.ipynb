{
 "cells": [
  {
   "attachments": {},
   "cell_type": "markdown",
   "metadata": {},
   "source": [
    "# Estudo da composição das previsões do rating final\n",
    "\n",
    "O objetivo é realizar previsões para toda base gerando um rating unindo o contribuinte e posteriormente o igr gerado na regressão"
   ]
  },
  {
   "cell_type": "code",
   "execution_count": 9,
   "metadata": {},
   "outputs": [
    {
     "name": "stdout",
     "output_type": "stream",
     "text": [
      "Processo iniciado\n"
     ]
    }
   ],
   "source": [
    "import os\n",
    "import dotenv\n",
    "import boto3\n",
    "from io import BytesIO\n",
    "import pandas as pd\n",
    "import numpy as np\n",
    "from datetime import date\n",
    "import zipfile\n",
    "from sklearn.preprocessing import StandardScaler, RobustScaler\n",
    "import pickle\n",
    "\n",
    "import locale\n",
    "locale.setlocale(locale.LC_ALL, 'pt_BR.utf8')\n",
    "\n",
    "import warnings\n",
    "\n",
    "warnings.filterwarnings(\"ignore\")\n",
    "\n",
    "print(\"Processo iniciado\")\n",
    "\n",
    "# Define diretorios\n",
    "rootPath = os.getcwd()\n",
    "dataPath = os.path.join(rootPath, 'data')\n",
    "modelsPath = os.path.join(rootPath, 'models')\n",
    "env = os.path.join(rootPath, '.env')\n",
    "dotenv.load_dotenv(dotenv_path=env)\n",
    "\n",
    "def formatar_moeda(valor):\n",
    "    return locale.currency(valor, grouping=True)"
   ]
  },
  {
   "cell_type": "code",
   "execution_count": null,
   "metadata": {},
   "outputs": [],
   "source": [
    "# print(\"Carregando dados para previsões\")\n",
    "\n",
    "# # Prepara os dados para realizar as previsões\n",
    "# zip_file = os.path.join(dataPath, 'estoque_da3.zip') # 14bi\n",
    "# z = zipfile.ZipFile(zip_file)\n",
    "\n",
    "\n",
    "# def ler_bases_exportadas(nome_arquivo):\n",
    "#     z.extract(nome_arquivo)\n",
    "#     df = pd.read_csv(nome_arquivo, sep=',')\n",
    "#     os.remove(nome_arquivo)\n",
    "#     return df\n",
    "\n",
    "\n",
    "# base_conjunta = ler_bases_exportadas('estoque-divida.csv')"
   ]
  },
  {
   "cell_type": "code",
   "execution_count": 2,
   "metadata": {},
   "outputs": [],
   "source": [
    "s3 = boto3.resource(\n",
    "    service_name='s3',\n",
    "    region_name='us-east-1',\n",
    "    aws_access_key_id=os.getenv(\"AWS_ACESS_KEY\"),\n",
    "    aws_secret_access_key=os.getenv(\"AWS_SECRET_ACESS_KEY\")\n",
    "    )\n",
    "\n",
    "def read_s3(bucket_name, folder_name, file_name):\n",
    "    file_key_aws = folder_name + file_name\n",
    "    obj = s3.Bucket(bucket_name).Object(file_key_aws).get()\n",
    "    df = pd.read_csv(obj['Body'], sep=';')\n",
    "    return df"
   ]
  },
  {
   "cell_type": "code",
   "execution_count": 3,
   "metadata": {},
   "outputs": [
    {
     "name": "stdout",
     "output_type": "stream",
     "text": [
      "Carregando dados para previsões\n"
     ]
    }
   ],
   "source": [
    "print(\"Carregando dados para previsões\")\n",
    "\n",
    "dados_predict = read_s3(\n",
    "     bucket_name=os.getenv(\"S3_BUCKET_NAME\"), \n",
    "     folder_name=os.getenv(\"S3_FOLDER_NAME\"), \n",
    "     file_name='feature_store_igr_prime_ab1_maxpg.csv')"
   ]
  },
  {
   "cell_type": "code",
   "execution_count": 4,
   "metadata": {},
   "outputs": [],
   "source": [
    "dados_contribuinte = read_s3(\n",
    "    bucket_name=os.getenv(\"S3_BUCKET_NAME\"), \n",
    "    folder_name=os.getenv(\"S3_FOLDER_NAME\"), \n",
    "    file_name='feature_store_contribuinte_prime_k4_maxpg.csv')"
   ]
  },
  {
   "cell_type": "code",
   "execution_count": 36,
   "metadata": {},
   "outputs": [
    {
     "data": {
      "text/plain": [
       "Index(['id_pessoa', 'tipo_divida', 'num_dist_cda', 'quantidade_reparcelamento',\n",
       "       'valor_tot', 'valor_pago', 'qtd_notas_2anos', 'edificacao', 'situacao',\n",
       "       'cpf_cnpj_existe', 'endereco_existe', 'perfil_acessivel',\n",
       "       'situacao_cobranca', 'historico_pagamento_em_valor',\n",
       "       'class_contribuinte', 'da_aberto', 'class_contribuinte_nome',\n",
       "       'percentual_pago_cda', 'ordem_contrib', 'class_contribuinte_peso'],\n",
       "      dtype='object')"
      ]
     },
     "execution_count": 36,
     "metadata": {},
     "output_type": "execute_result"
    }
   ],
   "source": [
    "dados_contribuinte.columns"
   ]
  },
  {
   "cell_type": "code",
   "execution_count": 10,
   "metadata": {},
   "outputs": [
    {
     "data": {
      "text/plain": [
       "'R$ 11.731.536.958,15'"
      ]
     },
     "execution_count": 10,
     "metadata": {},
     "output_type": "execute_result"
    }
   ],
   "source": [
    "formatar_moeda(dados_predict['valor_aberto'].sum())"
   ]
  },
  {
   "cell_type": "code",
   "execution_count": null,
   "metadata": {},
   "outputs": [],
   "source": [
    "#print(\"Inicia transformação das variáveis sobre a dívida\")\n",
    "#print(\"Processamento das variáveis sobre a dívida\")\n",
    "\n",
    "# Gera as variáveis de tempo\n",
    "#base_conjunta['data_divida'] = pd.to_datetime(base_conjunta['inscricao_divida'], infer_datetime_format = True)\n",
    "#base_conjunta['ano_inscricao_da'] = base_conjunta['data_divida'].dt.year"
   ]
  },
  {
   "cell_type": "code",
   "execution_count": 13,
   "metadata": {},
   "outputs": [],
   "source": [
    "# # Seleciona dados sobre a divida\n",
    "# dados_divida = dados_predict[\n",
    "#     ['cda', 'id_contribuinte', 'cpf_cnpj_existe',\n",
    "#      'da_aberto', 'atividade_principal', 'valor_tot','vlr_pago', 'vlr_tributo', 'vlr_taxa', 'arrecadacao_divida',\n",
    "#      'ajuizamento_divida', 'ajuizamento', 'protesto', 'competencia_divida', 'refis',\n",
    "#      'tipo_divida', \n",
    "#      #'ano_inscricao_da', \n",
    "#      'quantidade_reparcelamento', 'situacao',\n",
    "#      'anos_idade_da']]\n",
    "# dados_divida.dropna(subset=['id_contribuinte'], inplace=True)\n",
    "# dados_divida['id_contribuinte'] = dados_divida['id_contribuinte'].astype(str)  # persistindo tipo de dados"
   ]
  },
  {
   "cell_type": "code",
   "execution_count": null,
   "metadata": {},
   "outputs": [],
   "source": [
    "# Calcula a idade da dívida ativa\n",
    "#dados_divida['ano_atual'] = date.today().year\n",
    "#dados_divida['anos_idade_da'] = dados_divida['ano_atual'] - dados_divida['ano_inscricao_da']\n",
    "#dados_divida = dados_divida.drop(columns=['ano_atual'])"
   ]
  },
  {
   "cell_type": "code",
   "execution_count": 14,
   "metadata": {},
   "outputs": [],
   "source": [
    "# Renomeia colunas para nome mais adequados e filtra dataframe\n",
    "colunas_nome = {\n",
    "    'valor_tot': 'valor_total_da',\n",
    "}\n",
    "dados_predict = dados_predict.rename(columns=colunas_nome)"
   ]
  },
  {
   "cell_type": "code",
   "execution_count": null,
   "metadata": {},
   "outputs": [],
   "source": [
    "# Obtem os dados de parcelamento das dívidas ativas\n",
    "\n",
    "# df_parcelas = base_parcelas[['cda', 'id_pessoa', 'tipo_divida', 'quantidade_reparcelamentos']]\n",
    "# df_parcelas.drop_duplicates(subset='cda', inplace=True)\n",
    "# df_parcelas.dropna(subset='cda', inplace=True)\n",
    "\n",
    "# df_divida_ativa = pd.merge(\n",
    "#         df_divida_ativa,    \n",
    "#         df_parcelas,    \n",
    "#         how='left',    \n",
    "#         left_on=['cda', 'tipo_divida', 'id_contribuinte'],    \n",
    "#         right_on=['cda', 'tipo_divida', 'id_pessoa'],    \n",
    "#         suffixes=('', '_PARC'))"
   ]
  },
  {
   "cell_type": "code",
   "execution_count": 15,
   "metadata": {},
   "outputs": [],
   "source": [
    "# Filtrando variáveis de interesse para a modelagem\n",
    "df_divida = dados_predict[['cda', \n",
    "                          'tipo_divida',\n",
    "                          'id_pessoa', \n",
    "                          'da_aberto',\n",
    "                          'percentual_pago_cda', \n",
    "                          'valor_total_da', \n",
    "                          'idade_divida'#, \n",
    "                          #'quantidade_reparcelamento' \n",
    "                          ]] "
   ]
  },
  {
   "cell_type": "code",
   "execution_count": 37,
   "metadata": {},
   "outputs": [],
   "source": [
    "df_contribuinte = dados_contribuinte[['id_pessoa', \n",
    "                                      'tipo_divida',\n",
    "                                      'num_dist_cda', \n",
    "                                      'quantidade_reparcelamento',\n",
    "                                      #'historico_pagamento_em_qtd',\n",
    "                                       'historico_pagamento_em_valor',\n",
    "                                       'situacao_cobranca',\n",
    "                                       'class_contribuinte',\n",
    "                                       'class_contribuinte_peso']]"
   ]
  },
  {
   "cell_type": "code",
   "execution_count": 38,
   "metadata": {},
   "outputs": [
    {
     "data": {
      "text/plain": [
       "Index(['cda', 'tipo_divida', 'id_pessoa', 'da_aberto', 'percentual_pago_cda',\n",
       "       'valor_total_da', 'idade_divida', 'num_dist_cda',\n",
       "       'quantidade_reparcelamento', 'historico_pagamento_em_valor',\n",
       "       'situacao_cobranca', 'class_contribuinte', 'class_contribuinte_peso'],\n",
       "      dtype='object')"
      ]
     },
     "execution_count": 38,
     "metadata": {},
     "output_type": "execute_result"
    }
   ],
   "source": [
    "df = pd.merge(left = df_divida, right = df_contribuinte, on=['id_pessoa', 'tipo_divida'])\n",
    "df.columns"
   ]
  },
  {
   "cell_type": "code",
   "execution_count": null,
   "metadata": {},
   "outputs": [],
   "source": [
    "# print(\"Processamento das variáveis sobre o contribuinte\")\n",
    "\n",
    "# # Cria conexão com o banco e prepara os dados\n",
    "\n",
    "# def read_s3_files(bucket_name, folder_name, file_name):\n",
    "#     file_key_aws = folder_name + file_name\n",
    "#     obj = s3.Bucket(bucket_name).Object(file_key_aws).get()\n",
    "#     df = pd.read_csv(obj['Body'], sep=';')\n",
    "#     return df\n",
    "\n",
    "\n",
    "\n",
    "# dados_contribuinte = read_s3(\n",
    "#     bucket_name=os.getenv(\"S3_BUCKET_NAME\"), \n",
    "#     folder_name=os.getenv(\"S3_FOLDER_NAME\"), \n",
    "#     file_name='feature_store_contribuinte_prime_k4_maxpg.csv')\n"
   ]
  },
  {
   "cell_type": "code",
   "execution_count": null,
   "metadata": {},
   "outputs": [],
   "source": [
    "# df_divida_ativa.columns"
   ]
  },
  {
   "cell_type": "code",
   "execution_count": null,
   "metadata": {},
   "outputs": [],
   "source": [
    "# dados_contribuinte.columns"
   ]
  },
  {
   "cell_type": "code",
   "execution_count": null,
   "metadata": {},
   "outputs": [],
   "source": [
    "# contribuinte_aux =  dados_contribuinte[['id_pessoa', 'edificacao',\n",
    "#                                             'qtd_notas_2anos', 'situacao_ativa', 'status_situacao',\n",
    "#                                              'frequencia_da_pessoa', 'historico_pagamento_em_qtd',\n",
    "#                                              'historico_pagamento_em_valor', 'class_contribuinte',\n",
    "#                                             'class_contribuinte_nome', 'class_contribuinte_peso']]"
   ]
  },
  {
   "cell_type": "code",
   "execution_count": null,
   "metadata": {},
   "outputs": [],
   "source": [
    "# contribuinte_aux"
   ]
  },
  {
   "cell_type": "code",
   "execution_count": null,
   "metadata": {},
   "outputs": [],
   "source": [
    "# # Realiza o merge dos dados da dívida com os dados do contribuinte\n",
    "\n",
    "# df = pd.merge(\n",
    "#     left=df_divida_ativa,\n",
    "#     right=contribuinte_aux,\n",
    "#     left_on='id_contribuinte',\n",
    "#     right_on='id_pessoa',\n",
    "#     how='left')"
   ]
  },
  {
   "cell_type": "code",
   "execution_count": 39,
   "metadata": {},
   "outputs": [
    {
     "data": {
      "text/plain": [
       "Index(['cda', 'tipo_divida', 'id_pessoa', 'da_aberto', 'percentual_pago_cda',\n",
       "       'valor_total_da', 'idade_divida', 'num_dist_cda',\n",
       "       'quantidade_reparcelamento', 'historico_pagamento_em_valor',\n",
       "       'situacao_cobranca', 'class_contribuinte', 'class_contribuinte_peso'],\n",
       "      dtype='object')"
      ]
     },
     "execution_count": 39,
     "metadata": {},
     "output_type": "execute_result"
    }
   ],
   "source": [
    "df.columns"
   ]
  },
  {
   "cell_type": "code",
   "execution_count": 22,
   "metadata": {},
   "outputs": [],
   "source": [
    "# # Ajustando pesos dos contribuintes, foi dado ao primeira dívida o mesmo peso do bom pagador, isso procede?\n",
    "# df.loc[df['frequencia_da_pessoa'] <= 1, 'class_contribuinte_nome'] == 'PRIMEIRA DIVIDA'\n",
    "# df.loc[df['class_contribuinte_nome'] == 'PRIMEIRA DIVIDA', 'class_contribuinte_peso'] == 2.54487\n",
    "\n",
    "# df['class_contribuinte_nome'] = df['class_contribuinte_nome'].fillna('PIOR PAGADOR')\n",
    "# df.loc[df['class_contribuinte_nome'] == 'PIOR PAGADOR', 'class_contribuinte_peso'] == -0.98031\n",
    "# df.fillna(0, inplace=True)"
   ]
  },
  {
   "cell_type": "code",
   "execution_count": 40,
   "metadata": {},
   "outputs": [
    {
     "name": "stdout",
     "output_type": "stream",
     "text": [
      "Preparação do pipeline de previsões\n"
     ]
    }
   ],
   "source": [
    "print(\"Preparação do pipeline de previsões\")\n",
    "# Filtra os dados que precisamos para previsão\n",
    "df_feature_store = df[['valor_total_da', \n",
    "                       'idade_divida', #'anos_idade_da',\n",
    "                        'quantidade_reparcelamento',\n",
    "                       'num_dist_cda', #'frequencia_da_pessoa',\n",
    "                        #'historico_pagamento_em_qtd', \n",
    "                        'situacao_cobranca', #'status_situacao',\n",
    "                       'historico_pagamento_em_valor', \n",
    "                       'class_contribuinte_peso']]\n",
    "\n"
   ]
  },
  {
   "cell_type": "code",
   "execution_count": 41,
   "metadata": {},
   "outputs": [],
   "source": [
    "# Normaliza os dados para previsão utilizando o StandardScaler\n",
    "normalizador = StandardScaler() # RobustScaler()\n",
    "normalizador.fit(df_feature_store)\n",
    "dados_normalizados = normalizador.fit_transform(df_feature_store)\n",
    "\n",
    "colunas = list(normalizador.get_feature_names_out())\n",
    "df_normalizado = pd.DataFrame(dados_normalizados, columns=colunas)"
   ]
  },
  {
   "cell_type": "code",
   "execution_count": 42,
   "metadata": {},
   "outputs": [
    {
     "name": "stdout",
     "output_type": "stream",
     "text": [
      "Carrega o modelo e realiza a previsão do Índice Geral de Recuperação (IGR)\n"
     ]
    }
   ],
   "source": [
    "print(\"Carrega o modelo e realiza a previsão do Índice Geral de Recuperação (IGR)\")\n",
    "\n",
    "\n",
    "def abre_modelo(nome_modelo, path_modelo, zip_name=None):\n",
    "    if zip_name:\n",
    "        zip_file = os.path.join(path_modelo, zip_name)\n",
    "        z = zipfile.ZipFile(zip_file)\n",
    "        z.extract(nome_modelo)\n",
    "    else:\n",
    "        nome_modelo = os.path.join(path_modelo, nome_modelo)\n",
    "\n",
    "    modelo = pickle.load(open(nome_modelo, 'rb'))\n",
    "    return modelo\n",
    "\n",
    "\n",
    "model_predict_igr = abre_modelo(\"modeloDA-igr-divida-prime_maxpg.pkl\", modelsPath)"
   ]
  },
  {
   "cell_type": "code",
   "execution_count": 43,
   "metadata": {},
   "outputs": [
    {
     "name": "stdout",
     "output_type": "stream",
     "text": [
      "Início do processo de classificação do rating da dívida parametrizando junto a classificação do contribuinte\n"
     ]
    }
   ],
   "source": [
    "# Realizando previsões\n",
    "previsoes = model_predict_igr.predict(df_normalizado)\n",
    "df['igr'] = previsoes\n",
    "df.loc[df['situacao_cobranca'] == 0, 'igr'] = 0\n",
    "df.loc[df['idade_divida'] >= 15, 'igr'] = 0\n",
    "\n",
    "print(\"Início do processo de classificação do rating da dívida parametrizando junto a classificação do contribuinte\")\n",
    "\n",
    "def make_rating_divida(dataframe):\n",
    "    dataframe.loc[dataframe['igr'] == 0, 'rating_divida'] = 'BAIXISSIMA'\n",
    "\n",
    "    # Melhor Pagador\n",
    "    dataframe.loc[(dataframe['rating_divida'].isnull()) & (dataframe['class_contribuinte'] == 2), 'rating_divida'] = 'ALTISSIMA'\n",
    "\n",
    "    # Pior Pagador\n",
    "    dataframe.loc[(dataframe['class_contribuinte'] == 0) & (dataframe['igr'] != 0), 'rating_divida'] = 'BAIXA'\n",
    "\n",
    "    # dataframe.loc[(dataframe['class_contribuinte'] == 3) & (dataframe['igr'] >= 0.5), 'rating_divida'] = 'ALTISSIMA'\n",
    "    # dataframe.loc[(dataframe['class_contribuinte'] == 3) & (dataframe['igr'] < 0.5) & (dataframe['igr'] >= 0.1), 'rating_divida'] = 'ALTA'\n",
    "    # dataframe.loc[(dataframe['class_contribuinte'] == 3) & (dataframe['igr'] < 0.1) & (dataframe['igr'] != 0), 'rating_divida'] = 'MEDIA'\n",
    "\n",
    "    # Pagador intermediario\n",
    "    dataframe.loc[(dataframe['class_contribuinte'] == 1) & (dataframe['igr'] >= 0.5), 'rating_divida'] = 'ALTA'\n",
    "    dataframe.loc[(dataframe['class_contribuinte'] == 1) & (dataframe['igr'] < 0.5) & (dataframe['igr'] >= 0.05), 'rating_divida'] = 'MEDIA'\n",
    "    dataframe.loc[(dataframe['class_contribuinte'] == 1) & (dataframe['igr'] < 0.1) & (dataframe['igr'] != 0), 'rating_divida'] = 'BAIXA'\n",
    "\n",
    "    # Bom pagador\n",
    "    dataframe.loc[(dataframe['class_contribuinte'] == 3) & (dataframe['igr'] >= 0.5), 'rating_divida'] = 'ALTISSIMA'\n",
    "    dataframe.loc[(dataframe['class_contribuinte'] == 3) & (dataframe['igr'] < 0.5) & (dataframe['igr'] >= 0.05), 'rating_divida'] = 'ALTA'\n",
    "    dataframe.loc[(dataframe['class_contribuinte'] == 3) & (dataframe['igr'] < 0.05) & (dataframe['igr'] != 0), 'rating_divida'] = 'MEDIA'\n",
    "\n",
    "    # Primeira Dívida\n",
    "    dataframe.loc[(dataframe['class_contribuinte'] == 4) & (dataframe['igr'] >= 0.3), 'rating_divida'] = 'ALTA'\n",
    "    dataframe.loc[(dataframe['class_contribuinte'] == 4) & (dataframe['igr'] < 0.3) & dataframe['igr'] >= 0.1, 'rating_divida'] = 'MEDIA'\n",
    "    dataframe.loc[(dataframe['class_contribuinte'] == 4) & (dataframe['igr'] < 0.1) & (dataframe['igr'] != 0), 'rating_divida'] = 'BAIXA'\n",
    "    return dataframe\n",
    "\n",
    "\n",
    "df = make_rating_divida(df)"
   ]
  },
  {
   "cell_type": "code",
   "execution_count": 44,
   "metadata": {},
   "outputs": [
    {
     "data": {
      "text/html": [
       "<div>\n",
       "<style scoped>\n",
       "    .dataframe tbody tr th:only-of-type {\n",
       "        vertical-align: middle;\n",
       "    }\n",
       "\n",
       "    .dataframe tbody tr th {\n",
       "        vertical-align: top;\n",
       "    }\n",
       "\n",
       "    .dataframe thead th {\n",
       "        text-align: right;\n",
       "    }\n",
       "</style>\n",
       "<table border=\"1\" class=\"dataframe\">\n",
       "  <thead>\n",
       "    <tr style=\"text-align: right;\">\n",
       "      <th></th>\n",
       "      <th>cda</th>\n",
       "      <th>tipo_divida</th>\n",
       "      <th>id_pessoa</th>\n",
       "      <th>da_aberto</th>\n",
       "      <th>percentual_pago_cda</th>\n",
       "      <th>valor_total_da</th>\n",
       "      <th>idade_divida</th>\n",
       "      <th>num_dist_cda</th>\n",
       "      <th>quantidade_reparcelamento</th>\n",
       "      <th>historico_pagamento_em_valor</th>\n",
       "      <th>situacao_cobranca</th>\n",
       "      <th>class_contribuinte</th>\n",
       "      <th>class_contribuinte_peso</th>\n",
       "      <th>igr</th>\n",
       "      <th>rating_divida</th>\n",
       "    </tr>\n",
       "  </thead>\n",
       "  <tbody>\n",
       "    <tr>\n",
       "      <th>0</th>\n",
       "      <td>00000123c3d4731c6b3a8e268c80aedf1</td>\n",
       "      <td>imovel</td>\n",
       "      <td>ac28642d7c82b33f</td>\n",
       "      <td>1</td>\n",
       "      <td>0.000488</td>\n",
       "      <td>2048.73</td>\n",
       "      <td>1.0</td>\n",
       "      <td>3</td>\n",
       "      <td>0</td>\n",
       "      <td>0.00000</td>\n",
       "      <td>4.0</td>\n",
       "      <td>0</td>\n",
       "      <td>1.60383</td>\n",
       "      <td>0.369626</td>\n",
       "      <td>BAIXA</td>\n",
       "    </tr>\n",
       "    <tr>\n",
       "      <th>1</th>\n",
       "      <td>00000123c3d4731c6b3a8e268c80aedf1</td>\n",
       "      <td>imovel</td>\n",
       "      <td>ac28642d7c82b33f</td>\n",
       "      <td>1</td>\n",
       "      <td>0.000488</td>\n",
       "      <td>2048.73</td>\n",
       "      <td>1.0</td>\n",
       "      <td>2</td>\n",
       "      <td>0</td>\n",
       "      <td>0.00000</td>\n",
       "      <td>4.0</td>\n",
       "      <td>0</td>\n",
       "      <td>1.60383</td>\n",
       "      <td>0.369626</td>\n",
       "      <td>BAIXA</td>\n",
       "    </tr>\n",
       "    <tr>\n",
       "      <th>2</th>\n",
       "      <td>2d144048238f263b6b3a8e268c80aedf1</td>\n",
       "      <td>imovel</td>\n",
       "      <td>ac28642d7c82b33f</td>\n",
       "      <td>1</td>\n",
       "      <td>0.000866</td>\n",
       "      <td>1154.80</td>\n",
       "      <td>2.0</td>\n",
       "      <td>3</td>\n",
       "      <td>0</td>\n",
       "      <td>0.00000</td>\n",
       "      <td>4.0</td>\n",
       "      <td>0</td>\n",
       "      <td>1.60383</td>\n",
       "      <td>0.339500</td>\n",
       "      <td>BAIXA</td>\n",
       "    </tr>\n",
       "    <tr>\n",
       "      <th>3</th>\n",
       "      <td>2d144048238f263b6b3a8e268c80aedf1</td>\n",
       "      <td>imovel</td>\n",
       "      <td>ac28642d7c82b33f</td>\n",
       "      <td>1</td>\n",
       "      <td>0.000866</td>\n",
       "      <td>1154.80</td>\n",
       "      <td>2.0</td>\n",
       "      <td>2</td>\n",
       "      <td>0</td>\n",
       "      <td>0.00000</td>\n",
       "      <td>4.0</td>\n",
       "      <td>0</td>\n",
       "      <td>1.60383</td>\n",
       "      <td>0.339500</td>\n",
       "      <td>BAIXA</td>\n",
       "    </tr>\n",
       "    <tr>\n",
       "      <th>4</th>\n",
       "      <td>00000123c3d4731c6b3a8e268c80aedf2</td>\n",
       "      <td>mercantil</td>\n",
       "      <td>fc4b99b807fbed41</td>\n",
       "      <td>1</td>\n",
       "      <td>0.000397</td>\n",
       "      <td>2515.85</td>\n",
       "      <td>1.0</td>\n",
       "      <td>5</td>\n",
       "      <td>0</td>\n",
       "      <td>0.00000</td>\n",
       "      <td>0.0</td>\n",
       "      <td>1</td>\n",
       "      <td>-1.21937</td>\n",
       "      <td>0.000000</td>\n",
       "      <td>BAIXISSIMA</td>\n",
       "    </tr>\n",
       "    <tr>\n",
       "      <th>...</th>\n",
       "      <td>...</td>\n",
       "      <td>...</td>\n",
       "      <td>...</td>\n",
       "      <td>...</td>\n",
       "      <td>...</td>\n",
       "      <td>...</td>\n",
       "      <td>...</td>\n",
       "      <td>...</td>\n",
       "      <td>...</td>\n",
       "      <td>...</td>\n",
       "      <td>...</td>\n",
       "      <td>...</td>\n",
       "      <td>...</td>\n",
       "      <td>...</td>\n",
       "      <td>...</td>\n",
       "    </tr>\n",
       "    <tr>\n",
       "      <th>1517370</th>\n",
       "      <td>fffbc656a38a48fe9989bae6f4af91ee1</td>\n",
       "      <td>imovel</td>\n",
       "      <td>a408222571c32c15</td>\n",
       "      <td>1</td>\n",
       "      <td>0.010465</td>\n",
       "      <td>95.56</td>\n",
       "      <td>1.0</td>\n",
       "      <td>1</td>\n",
       "      <td>0</td>\n",
       "      <td>0.00000</td>\n",
       "      <td>4.0</td>\n",
       "      <td>4</td>\n",
       "      <td>-0.04597</td>\n",
       "      <td>0.815613</td>\n",
       "      <td>ALTA</td>\n",
       "    </tr>\n",
       "    <tr>\n",
       "      <th>1517371</th>\n",
       "      <td>fffc43ac68640f569fcacff532cf50c42</td>\n",
       "      <td>mercantil</td>\n",
       "      <td>7297863dc9809347</td>\n",
       "      <td>1</td>\n",
       "      <td>0.000045</td>\n",
       "      <td>22275.52</td>\n",
       "      <td>9.0</td>\n",
       "      <td>1</td>\n",
       "      <td>0</td>\n",
       "      <td>0.00000</td>\n",
       "      <td>0.0</td>\n",
       "      <td>4</td>\n",
       "      <td>-0.04597</td>\n",
       "      <td>0.000000</td>\n",
       "      <td>BAIXISSIMA</td>\n",
       "    </tr>\n",
       "    <tr>\n",
       "      <th>1517372</th>\n",
       "      <td>fffc43ac68640f569fcacff532cf50c42</td>\n",
       "      <td>mercantil</td>\n",
       "      <td>7297863dc9809347</td>\n",
       "      <td>1</td>\n",
       "      <td>0.000045</td>\n",
       "      <td>22275.52</td>\n",
       "      <td>9.0</td>\n",
       "      <td>1</td>\n",
       "      <td>0</td>\n",
       "      <td>0.00000</td>\n",
       "      <td>0.0</td>\n",
       "      <td>4</td>\n",
       "      <td>-0.04597</td>\n",
       "      <td>0.000000</td>\n",
       "      <td>BAIXISSIMA</td>\n",
       "    </tr>\n",
       "    <tr>\n",
       "      <th>1517373</th>\n",
       "      <td>fffe210df01bf5f52b46f673bf0c61251</td>\n",
       "      <td>imovel</td>\n",
       "      <td>485b19f05dea4e80</td>\n",
       "      <td>1</td>\n",
       "      <td>0.000271</td>\n",
       "      <td>3688.60</td>\n",
       "      <td>1.0</td>\n",
       "      <td>5</td>\n",
       "      <td>0</td>\n",
       "      <td>0.49278</td>\n",
       "      <td>4.0</td>\n",
       "      <td>0</td>\n",
       "      <td>1.60383</td>\n",
       "      <td>0.471832</td>\n",
       "      <td>BAIXA</td>\n",
       "    </tr>\n",
       "    <tr>\n",
       "      <th>1517374</th>\n",
       "      <td>fffe210df01bf5f52b46f673bf0c61251</td>\n",
       "      <td>imovel</td>\n",
       "      <td>485b19f05dea4e80</td>\n",
       "      <td>1</td>\n",
       "      <td>0.000271</td>\n",
       "      <td>3688.60</td>\n",
       "      <td>1.0</td>\n",
       "      <td>4</td>\n",
       "      <td>0</td>\n",
       "      <td>0.00000</td>\n",
       "      <td>4.0</td>\n",
       "      <td>0</td>\n",
       "      <td>1.60383</td>\n",
       "      <td>0.483159</td>\n",
       "      <td>BAIXA</td>\n",
       "    </tr>\n",
       "  </tbody>\n",
       "</table>\n",
       "<p>1517375 rows × 15 columns</p>\n",
       "</div>"
      ],
      "text/plain": [
       "                                       cda tipo_divida         id_pessoa  \\\n",
       "0        00000123c3d4731c6b3a8e268c80aedf1      imovel  ac28642d7c82b33f   \n",
       "1        00000123c3d4731c6b3a8e268c80aedf1      imovel  ac28642d7c82b33f   \n",
       "2        2d144048238f263b6b3a8e268c80aedf1      imovel  ac28642d7c82b33f   \n",
       "3        2d144048238f263b6b3a8e268c80aedf1      imovel  ac28642d7c82b33f   \n",
       "4        00000123c3d4731c6b3a8e268c80aedf2   mercantil  fc4b99b807fbed41   \n",
       "...                                    ...         ...               ...   \n",
       "1517370  fffbc656a38a48fe9989bae6f4af91ee1      imovel  a408222571c32c15   \n",
       "1517371  fffc43ac68640f569fcacff532cf50c42   mercantil  7297863dc9809347   \n",
       "1517372  fffc43ac68640f569fcacff532cf50c42   mercantil  7297863dc9809347   \n",
       "1517373  fffe210df01bf5f52b46f673bf0c61251      imovel  485b19f05dea4e80   \n",
       "1517374  fffe210df01bf5f52b46f673bf0c61251      imovel  485b19f05dea4e80   \n",
       "\n",
       "         da_aberto  percentual_pago_cda  valor_total_da  idade_divida  \\\n",
       "0                1             0.000488         2048.73           1.0   \n",
       "1                1             0.000488         2048.73           1.0   \n",
       "2                1             0.000866         1154.80           2.0   \n",
       "3                1             0.000866         1154.80           2.0   \n",
       "4                1             0.000397         2515.85           1.0   \n",
       "...            ...                  ...             ...           ...   \n",
       "1517370          1             0.010465           95.56           1.0   \n",
       "1517371          1             0.000045        22275.52           9.0   \n",
       "1517372          1             0.000045        22275.52           9.0   \n",
       "1517373          1             0.000271         3688.60           1.0   \n",
       "1517374          1             0.000271         3688.60           1.0   \n",
       "\n",
       "         num_dist_cda  quantidade_reparcelamento  \\\n",
       "0                   3                          0   \n",
       "1                   2                          0   \n",
       "2                   3                          0   \n",
       "3                   2                          0   \n",
       "4                   5                          0   \n",
       "...               ...                        ...   \n",
       "1517370             1                          0   \n",
       "1517371             1                          0   \n",
       "1517372             1                          0   \n",
       "1517373             5                          0   \n",
       "1517374             4                          0   \n",
       "\n",
       "         historico_pagamento_em_valor  situacao_cobranca  class_contribuinte  \\\n",
       "0                             0.00000                4.0                   0   \n",
       "1                             0.00000                4.0                   0   \n",
       "2                             0.00000                4.0                   0   \n",
       "3                             0.00000                4.0                   0   \n",
       "4                             0.00000                0.0                   1   \n",
       "...                               ...                ...                 ...   \n",
       "1517370                       0.00000                4.0                   4   \n",
       "1517371                       0.00000                0.0                   4   \n",
       "1517372                       0.00000                0.0                   4   \n",
       "1517373                       0.49278                4.0                   0   \n",
       "1517374                       0.00000                4.0                   0   \n",
       "\n",
       "         class_contribuinte_peso       igr rating_divida  \n",
       "0                        1.60383  0.369626         BAIXA  \n",
       "1                        1.60383  0.369626         BAIXA  \n",
       "2                        1.60383  0.339500         BAIXA  \n",
       "3                        1.60383  0.339500         BAIXA  \n",
       "4                       -1.21937  0.000000    BAIXISSIMA  \n",
       "...                          ...       ...           ...  \n",
       "1517370                 -0.04597  0.815613          ALTA  \n",
       "1517371                 -0.04597  0.000000    BAIXISSIMA  \n",
       "1517372                 -0.04597  0.000000    BAIXISSIMA  \n",
       "1517373                  1.60383  0.471832         BAIXA  \n",
       "1517374                  1.60383  0.483159         BAIXA  \n",
       "\n",
       "[1517375 rows x 15 columns]"
      ]
     },
     "execution_count": 44,
     "metadata": {},
     "output_type": "execute_result"
    }
   ],
   "source": [
    "df"
   ]
  },
  {
   "cell_type": "code",
   "execution_count": 50,
   "metadata": {},
   "outputs": [
    {
     "data": {
      "text/html": [
       "<div>\n",
       "<style scoped>\n",
       "    .dataframe tbody tr th:only-of-type {\n",
       "        vertical-align: middle;\n",
       "    }\n",
       "\n",
       "    .dataframe tbody tr th {\n",
       "        vertical-align: top;\n",
       "    }\n",
       "\n",
       "    .dataframe thead th {\n",
       "        text-align: right;\n",
       "    }\n",
       "</style>\n",
       "<table border=\"1\" class=\"dataframe\">\n",
       "  <thead>\n",
       "    <tr style=\"text-align: right;\">\n",
       "      <th></th>\n",
       "      <th>rating_divida</th>\n",
       "      <th>cda</th>\n",
       "      <th>perc</th>\n",
       "    </tr>\n",
       "  </thead>\n",
       "  <tbody>\n",
       "    <tr>\n",
       "      <th>0</th>\n",
       "      <td>ALTA</td>\n",
       "      <td>76262</td>\n",
       "      <td>0.08469</td>\n",
       "    </tr>\n",
       "    <tr>\n",
       "      <th>1</th>\n",
       "      <td>ALTISSIMA</td>\n",
       "      <td>19079</td>\n",
       "      <td>0.02119</td>\n",
       "    </tr>\n",
       "    <tr>\n",
       "      <th>2</th>\n",
       "      <td>BAIXA</td>\n",
       "      <td>330598</td>\n",
       "      <td>0.36715</td>\n",
       "    </tr>\n",
       "    <tr>\n",
       "      <th>3</th>\n",
       "      <td>BAIXISSIMA</td>\n",
       "      <td>447720</td>\n",
       "      <td>0.49722</td>\n",
       "    </tr>\n",
       "    <tr>\n",
       "      <th>4</th>\n",
       "      <td>MEDIA</td>\n",
       "      <td>26787</td>\n",
       "      <td>0.02975</td>\n",
       "    </tr>\n",
       "  </tbody>\n",
       "</table>\n",
       "</div>"
      ],
      "text/plain": [
       "  rating_divida     cda     perc\n",
       "0          ALTA   76262  0.08469\n",
       "1     ALTISSIMA   19079  0.02119\n",
       "2         BAIXA  330598  0.36715\n",
       "3    BAIXISSIMA  447720  0.49722\n",
       "4         MEDIA   26787  0.02975"
      ]
     },
     "execution_count": 50,
     "metadata": {},
     "output_type": "execute_result"
    }
   ],
   "source": [
    "metricas_predict = df.groupby('rating_divida')['cda'].nunique().to_frame().reset_index()\n",
    "total = metricas_predict['cda'].sum()\n",
    "metricas_predict['perc'] = np.round(metricas_predict['cda']/total, 5)\n",
    "metricas_predict"
   ]
  },
  {
   "cell_type": "code",
   "execution_count": 52,
   "metadata": {},
   "outputs": [
    {
     "name": "stdout",
     "output_type": "stream",
     "text": [
      "Inicia a conexão com S3 para inscrição dos dados com as previsões\n",
      "Upload de dados efetuados no s3\n",
      "Processo finalizado\n",
      "Arquivo disponível para download e análise\n"
     ]
    }
   ],
   "source": [
    "print(\"Inicia a conexão com S3 para inscrição dos dados com as previsões\")\n",
    "\n",
    "# Cria conexão ao s3 e preenche a tabela com os dados\n",
    "\n",
    "def up_s3_files(dataframe, bucket_name, folder_name, file_name):\n",
    "    csv_buffer = BytesIO()\n",
    "    dataframe.to_csv(csv_buffer, sep=';', index=False)\n",
    "    file_key_aws = folder_name + file_name\n",
    "    s3.Object(bucket_name, file_key_aws).put(Body=csv_buffer.getvalue())\n",
    "\n",
    "\n",
    "up_s3_files(dataframe=df,\n",
    "            bucket_name=os.getenv(\"S3_BUCKET_NAME\"),\n",
    "            folder_name=os.getenv(\"S3_FOLDER_NAME\"),\n",
    "            file_name='prime_maxpg.csv')\n",
    "\n",
    "print(\"Upload de dados efetuados no s3\")\n",
    "print(\"Processo finalizado\")\n",
    "print(\"Arquivo disponível para download e análise\")"
   ]
  }
 ],
 "metadata": {
  "kernelspec": {
   "display_name": "ml-recife",
   "language": "python",
   "name": "python3"
  },
  "language_info": {
   "codemirror_mode": {
    "name": "ipython",
    "version": 3
   },
   "file_extension": ".py",
   "mimetype": "text/x-python",
   "name": "python",
   "nbconvert_exporter": "python",
   "pygments_lexer": "ipython3",
   "version": "3.10.0"
  },
  "orig_nbformat": 4
 },
 "nbformat": 4,
 "nbformat_minor": 2
}
