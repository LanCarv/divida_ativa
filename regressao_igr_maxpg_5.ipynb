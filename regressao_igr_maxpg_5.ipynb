{
 "cells": [
  {
   "attachments": {},
   "cell_type": "markdown",
   "metadata": {},
   "source": [
    "# Treinar modelo de recuperação"
   ]
  },
  {
   "cell_type": "code",
   "execution_count": 1,
   "metadata": {},
   "outputs": [
    {
     "data": {
      "text/plain": [
       "'pt_BR.utf8'"
      ]
     },
     "execution_count": 1,
     "metadata": {},
     "output_type": "execute_result"
    }
   ],
   "source": [
    "import os\n",
    "import dotenv\n",
    "\n",
    "import boto3\n",
    "import pandas as pd\n",
    "import numpy as np\n",
    "\n",
    "from sklearn.pipeline import Pipeline\n",
    "from sklearn.model_selection import train_test_split\n",
    "from sklearn.preprocessing import StandardScaler, MinMaxScaler, RobustScaler\n",
    "from sklearn.metrics import r2_score, mean_squared_error\n",
    "\n",
    "from sklearn.dummy import DummyRegressor\n",
    "from sklearn.ensemble import RandomForestRegressor\n",
    "\n",
    "import seaborn as sns\n",
    "from matplotlib import pyplot as plt\n",
    "\n",
    "import pickle\n",
    "import shutil\n",
    "\n",
    "import zipfile\n",
    "\n",
    "import locale\n",
    "locale.setlocale(locale.LC_ALL, 'pt_BR.utf8')"
   ]
  },
  {
   "cell_type": "code",
   "execution_count": 2,
   "metadata": {},
   "outputs": [],
   "source": [
    "# sklearn.linear_model\n",
    "# import LogisticRegression"
   ]
  },
  {
   "cell_type": "code",
   "execution_count": 3,
   "metadata": {},
   "outputs": [],
   "source": [
    "import warnings\n",
    "warnings.filterwarnings(\"ignore\")"
   ]
  },
  {
   "cell_type": "code",
   "execution_count": 4,
   "metadata": {},
   "outputs": [
    {
     "name": "stdout",
     "output_type": "stream",
     "text": [
      "Iniciando carregamento dos dados\n"
     ]
    }
   ],
   "source": [
    "rootPath = os.getcwd()\n",
    "dataPath = os.path.join(rootPath, 'data')\n",
    "modelsPath = os.path.join(rootPath, 'models')\n",
    "env = os.path.join(rootPath, '.env')\n",
    "dotenv.load_dotenv(dotenv_path = env)\n",
    "\n",
    "\n",
    "print(\"Iniciando carregamento dos dados\")\n",
    "zip_file = os.path.join(dataPath, 'rating_igr_25_10.zip')\n",
    "z = zipfile.ZipFile(zip_file)"
   ]
  },
  {
   "cell_type": "markdown",
   "metadata": {},
   "source": [
    "# 00) Auxiliar"
   ]
  },
  {
   "cell_type": "code",
   "execution_count": 5,
   "metadata": {},
   "outputs": [],
   "source": [
    "def formatar_moeda(valor):\n",
    "    return locale.currency(valor, grouping=True)\n",
    "\n",
    "def cria_chave(row):\n",
    "    return str(row['cda']) + ' - ' + str(row['id_pessoa'])\n",
    "\n",
    "def paste_intervalo(row):\n",
    "    return \"[\" + str(row['inf']) + \", \" + str(row['sup']) + \")\"\n",
    "\n",
    "def ler_bases_exportadas(nome_arquivo):\n",
    "    z.extract(nome_arquivo)\n",
    "    df = pd.read_csv(nome_arquivo, sep=',')\n",
    "    os.remove(nome_arquivo)\n",
    "    return df"
   ]
  },
  {
   "attachments": {},
   "cell_type": "markdown",
   "metadata": {},
   "source": [
    "# 01) Importando dados"
   ]
  },
  {
   "cell_type": "code",
   "execution_count": 6,
   "metadata": {},
   "outputs": [],
   "source": [
    "s3 = boto3.resource(\n",
    "    service_name='s3',\n",
    "    region_name='us-east-1',\n",
    "    aws_access_key_id=os.getenv(\"AWS_ACESS_KEY\"),\n",
    "    aws_secret_access_key=os.getenv(\"AWS_SECRET_ACESS_KEY\")\n",
    "    )\n",
    "\n",
    "def read_s3(bucket_name, folder_name, file_name):\n",
    "    file_key_aws = folder_name + file_name\n",
    "    obj = s3.Bucket(bucket_name).Object(file_key_aws).get()\n",
    "    df = pd.read_csv(obj['Body'], sep=';')\n",
    "    return df"
   ]
  },
  {
   "cell_type": "code",
   "execution_count": 7,
   "metadata": {},
   "outputs": [],
   "source": [
    "dados_contribuinte = read_s3(\n",
    "    bucket_name=os.getenv(\"S3_BUCKET_NAME\"), \n",
    "    folder_name=os.getenv(\"S3_FOLDER_NAME\"), \n",
    "    file_name='feature_store_contribuinte_prime_k5_maxpg_luan.csv')"
   ]
  },
  {
   "cell_type": "code",
   "execution_count": 8,
   "metadata": {},
   "outputs": [],
   "source": [
    "dados_divida = read_s3(\n",
    "    bucket_name=os.getenv(\"S3_BUCKET_NAME\"), \n",
    "    folder_name=os.getenv(\"S3_FOLDER_NAME\"), \n",
    "    file_name='feature_store_igr_prime_ab0_maxpg_lari.csv')"
   ]
  },
  {
   "cell_type": "markdown",
   "metadata": {},
   "source": [
    "### Um contribuinte de mercantil em 2 clusters (pq ajustamos os agrupamentos com da_aberto == 0)"
   ]
  },
  {
   "cell_type": "code",
   "execution_count": 9,
   "metadata": {},
   "outputs": [
    {
     "data": {
      "text/html": [
       "<div>\n",
       "<style scoped>\n",
       "    .dataframe tbody tr th:only-of-type {\n",
       "        vertical-align: middle;\n",
       "    }\n",
       "\n",
       "    .dataframe tbody tr th {\n",
       "        vertical-align: top;\n",
       "    }\n",
       "\n",
       "    .dataframe thead th {\n",
       "        text-align: right;\n",
       "    }\n",
       "</style>\n",
       "<table border=\"1\" class=\"dataframe\">\n",
       "  <thead>\n",
       "    <tr style=\"text-align: right;\">\n",
       "      <th></th>\n",
       "      <th>id_pessoa</th>\n",
       "      <th>tipo_divida</th>\n",
       "      <th>num_dist_cda</th>\n",
       "      <th>quantidade_reparcelamento</th>\n",
       "      <th>valor_tot</th>\n",
       "      <th>valor_pago</th>\n",
       "      <th>qtd_notas_2anos</th>\n",
       "      <th>edificacao</th>\n",
       "      <th>situacao</th>\n",
       "      <th>cpf_cnpj_existe</th>\n",
       "      <th>...</th>\n",
       "      <th>perfil_acessivel</th>\n",
       "      <th>situacao_cobranca</th>\n",
       "      <th>historico_pagamento_em_valor</th>\n",
       "      <th>class_situacao_cobranca</th>\n",
       "      <th>class_contribuinte</th>\n",
       "      <th>da_aberto</th>\n",
       "      <th>class_contribuinte_nome</th>\n",
       "      <th>class_contribuinte_perfil</th>\n",
       "      <th>percentual_pago_cda</th>\n",
       "      <th>class_contribuinte_peso</th>\n",
       "    </tr>\n",
       "  </thead>\n",
       "  <tbody>\n",
       "    <tr>\n",
       "      <th>300757</th>\n",
       "      <td>00000b449b8ad90b</td>\n",
       "      <td>mercantil</td>\n",
       "      <td>2</td>\n",
       "      <td>0</td>\n",
       "      <td>5219.24</td>\n",
       "      <td>0.0</td>\n",
       "      <td>0.0</td>\n",
       "      <td>0.0</td>\n",
       "      <td>SUSPENSO</td>\n",
       "      <td>1</td>\n",
       "      <td>...</td>\n",
       "      <td>0.0</td>\n",
       "      <td>0.0</td>\n",
       "      <td>0.0</td>\n",
       "      <td>INACESSÍVEL</td>\n",
       "      <td>2</td>\n",
       "      <td>0</td>\n",
       "      <td>DEVEDOR PESSIMO</td>\n",
       "      <td>NÃO PAGA</td>\n",
       "      <td>0.0</td>\n",
       "      <td>-1.20205</td>\n",
       "    </tr>\n",
       "    <tr>\n",
       "      <th>455292</th>\n",
       "      <td>00000b449b8ad90b</td>\n",
       "      <td>mercantil</td>\n",
       "      <td>4</td>\n",
       "      <td>0</td>\n",
       "      <td>27506.70</td>\n",
       "      <td>0.0</td>\n",
       "      <td>0.0</td>\n",
       "      <td>0.0</td>\n",
       "      <td>SUSPENSO</td>\n",
       "      <td>1</td>\n",
       "      <td>...</td>\n",
       "      <td>0.0</td>\n",
       "      <td>0.0</td>\n",
       "      <td>0.0</td>\n",
       "      <td>INACESSÍVEL</td>\n",
       "      <td>2</td>\n",
       "      <td>1</td>\n",
       "      <td>DEVEDOR PESSIMO</td>\n",
       "      <td>NÃO PAGA</td>\n",
       "      <td>0.0</td>\n",
       "      <td>-1.20205</td>\n",
       "    </tr>\n",
       "  </tbody>\n",
       "</table>\n",
       "<p>2 rows × 21 columns</p>\n",
       "</div>"
      ],
      "text/plain": [
       "               id_pessoa tipo_divida  num_dist_cda  quantidade_reparcelamento  \\\n",
       "300757  00000b449b8ad90b   mercantil             2                          0   \n",
       "455292  00000b449b8ad90b   mercantil             4                          0   \n",
       "\n",
       "        valor_tot  valor_pago  qtd_notas_2anos  edificacao  situacao  \\\n",
       "300757    5219.24         0.0              0.0         0.0  SUSPENSO   \n",
       "455292   27506.70         0.0              0.0         0.0  SUSPENSO   \n",
       "\n",
       "        cpf_cnpj_existe  ...  perfil_acessivel  situacao_cobranca  \\\n",
       "300757                1  ...               0.0                0.0   \n",
       "455292                1  ...               0.0                0.0   \n",
       "\n",
       "        historico_pagamento_em_valor  class_situacao_cobranca  \\\n",
       "300757                           0.0              INACESSÍVEL   \n",
       "455292                           0.0              INACESSÍVEL   \n",
       "\n",
       "       class_contribuinte  da_aberto  class_contribuinte_nome  \\\n",
       "300757                  2          0          DEVEDOR PESSIMO   \n",
       "455292                  2          1          DEVEDOR PESSIMO   \n",
       "\n",
       "       class_contribuinte_perfil percentual_pago_cda  class_contribuinte_peso  \n",
       "300757                  NÃO PAGA                 0.0                 -1.20205  \n",
       "455292                  NÃO PAGA                 0.0                 -1.20205  \n",
       "\n",
       "[2 rows x 21 columns]"
      ]
     },
     "execution_count": 9,
     "metadata": {},
     "output_type": "execute_result"
    }
   ],
   "source": [
    "dados_contribuinte[dados_contribuinte['id_pessoa'] == '00000b449b8ad90b']"
   ]
  },
  {
   "cell_type": "code",
   "execution_count": 10,
   "metadata": {},
   "outputs": [],
   "source": [
    "num_ocorr_id_pessoa_tipo_divida = dados_contribuinte[['id_pessoa', 'tipo_divida']].value_counts().to_frame()\n",
    "num_ocorr_id_pessoa_tipo_divida = num_ocorr_id_pessoa_tipo_divida.fillna(0)\n",
    "#num_ocorr_id_pessoa_tipo_divida[(num_ocorr_id_pessoa_tipo_divida == 2)]\n",
    "#num_ocorr_id_pessoa_tipo_divida# = num_ocorr_id_pessoa_tipo_divida.rename(columns = {'0': 'num_ocorr'})"
   ]
  },
  {
   "cell_type": "markdown",
   "metadata": {},
   "source": [
    "## Acompanhar o número de linhas p evitar perdas"
   ]
  },
  {
   "cell_type": "code",
   "execution_count": 11,
   "metadata": {},
   "outputs": [
    {
     "data": {
      "text/plain": [
       "734359"
      ]
     },
     "execution_count": 11,
     "metadata": {},
     "output_type": "execute_result"
    }
   ],
   "source": [
    "dados_contribuinte.shape[0]"
   ]
  },
  {
   "cell_type": "code",
   "execution_count": 12,
   "metadata": {},
   "outputs": [
    {
     "data": {
      "text/plain": [
       "455147"
      ]
     },
     "execution_count": 12,
     "metadata": {},
     "output_type": "execute_result"
    }
   ],
   "source": [
    "dados_contribuinte[dados_contribuinte['da_aberto'] == 0].shape[0]"
   ]
  },
  {
   "cell_type": "code",
   "execution_count": 13,
   "metadata": {},
   "outputs": [
    {
     "data": {
      "text/plain": [
       "279212"
      ]
     },
     "execution_count": 13,
     "metadata": {},
     "output_type": "execute_result"
    }
   ],
   "source": [
    "dados_contribuinte[dados_contribuinte['da_aberto'] == 1].shape[0]"
   ]
  },
  {
   "cell_type": "code",
   "execution_count": 14,
   "metadata": {},
   "outputs": [
    {
     "data": {
      "text/plain": [
       "id_pessoa         tipo_divida\n",
       "00000b449b8ad90b  mercantil      2\n",
       "8ca3e74b6f4192e7  imovel         2\n",
       "8ca6269f70a0e942  mercantil      2\n",
       "8ca5c3b2e1368d54  imovel         2\n",
       "8ca58d9d4154d47e  imovel         2\n",
       "                                ..\n",
       "94a038262410be96  imovel         1\n",
       "94a06ec4e0fe7d21  imovel         1\n",
       "94a07e6cf1a5c13f  mercantil      1\n",
       "94a0b9ed58897cdb  mercantil      1\n",
       "7fce88a7b3da02f7  mercantil      1\n",
       "Length: 494695, dtype: int64"
      ]
     },
     "execution_count": 14,
     "metadata": {},
     "output_type": "execute_result"
    }
   ],
   "source": [
    "dados_contribuinte[['id_pessoa', 'tipo_divida']].value_counts()"
   ]
  },
  {
   "cell_type": "code",
   "execution_count": 15,
   "metadata": {},
   "outputs": [
    {
     "data": {
      "text/plain": [
       "id_pessoa         tipo_divida\n",
       "00000b449b8ad90b  mercantil      1\n",
       "aabecfebc17fb110  imovel         1\n",
       "aac06f03864a3f9a  imovel         1\n",
       "aac03fcaf2a7b7cf  mercantil      1\n",
       "                  imovel         1\n",
       "                                ..\n",
       "557b925505187e2e  mercantil      1\n",
       "                  imovel         1\n",
       "557b902fe79d2674  imovel         1\n",
       "557b8b4dc872fafd  imovel         1\n",
       "fffff2fc6feb103c  imovel         1\n",
       "Length: 455147, dtype: int64"
      ]
     },
     "execution_count": 15,
     "metadata": {},
     "output_type": "execute_result"
    }
   ],
   "source": [
    "dados_contribuinte.loc[dados_contribuinte['da_aberto'] == 0, ['id_pessoa', 'tipo_divida']].value_counts()"
   ]
  },
  {
   "cell_type": "code",
   "execution_count": 16,
   "metadata": {},
   "outputs": [
    {
     "data": {
      "text/plain": [
       "id_pessoa         tipo_divida\n",
       "00000b449b8ad90b  mercantil      1\n",
       "aa5daf51bfe5dcfb  imovel         1\n",
       "aa5eda1aafaba02a  mercantil      1\n",
       "aa5e9cc0411c2e05  mercantil      1\n",
       "aa5e9120e09f922f  mercantil      1\n",
       "                                ..\n",
       "553b88ad4b7be43a  mercantil      1\n",
       "553b95884c96b982  imovel         1\n",
       "553bc85dd5fcc0af  imovel         1\n",
       "553c8e060b440331  mercantil      1\n",
       "fffff2fc6feb103c  imovel         1\n",
       "Length: 279212, dtype: int64"
      ]
     },
     "execution_count": 16,
     "metadata": {},
     "output_type": "execute_result"
    }
   ],
   "source": [
    "dados_contribuinte.loc[dados_contribuinte['da_aberto'] == 1, ['id_pessoa', 'tipo_divida']].value_counts()"
   ]
  },
  {
   "cell_type": "code",
   "execution_count": 17,
   "metadata": {},
   "outputs": [
    {
     "data": {
      "text/plain": [
       "1609354"
      ]
     },
     "execution_count": 17,
     "metadata": {},
     "output_type": "execute_result"
    }
   ],
   "source": [
    "dados_divida.shape[0]"
   ]
  },
  {
   "cell_type": "code",
   "execution_count": 18,
   "metadata": {},
   "outputs": [
    {
     "data": {
      "text/plain": [
       "1609354"
      ]
     },
     "execution_count": 18,
     "metadata": {},
     "output_type": "execute_result"
    }
   ],
   "source": [
    "dados_divida['cda'].nunique()"
   ]
  },
  {
   "cell_type": "code",
   "execution_count": 19,
   "metadata": {},
   "outputs": [
    {
     "data": {
      "text/plain": [
       "1609354"
      ]
     },
     "execution_count": 19,
     "metadata": {},
     "output_type": "execute_result"
    }
   ],
   "source": [
    "dados_divida.loc[dados_divida['da_aberto'] == 0, 'cda'].nunique()"
   ]
  },
  {
   "cell_type": "code",
   "execution_count": null,
   "metadata": {},
   "outputs": [],
   "source": [
    "# # Quantidade de Reparcelamento por CDA\n",
    "# base_conjunta = ler_bases_exportadas('conjunta.csv')\n",
    "# reparc_por_cda = base_conjunta[['cda', 'quantidade_reparcelamento']]\n",
    "\n",
    "# dados_divida = pd.merge(dados_divida, reparc_por_cda, on = 'cda', how = 'left')\n",
    "# dados_divida"
   ]
  },
  {
   "cell_type": "code",
   "execution_count": null,
   "metadata": {},
   "outputs": [],
   "source": [
    "#dados_divida = ler_bases_exportadas('conjunta_da_aberto.csv')"
   ]
  },
  {
   "attachments": {},
   "cell_type": "markdown",
   "metadata": {},
   "source": [
    "# 02) Processamento da feature store"
   ]
  },
  {
   "cell_type": "code",
   "execution_count": 20,
   "metadata": {},
   "outputs": [
    {
     "name": "stdout",
     "output_type": "stream",
     "text": [
      "Variáveis sobre as dívidas:\n",
      "\n",
      " Index(['cda', 'tipo_divida', 'id_pessoa', 'atividade_principal', 'situacao',\n",
      "       'protesto', 'idade_divida', 'da_aberto', 'valor_total_da', 'valor_pago',\n",
      "       'valor_aberto', 'dif_tot_pago', 'dif_tot_pago_aberto',\n",
      "       'percentual_pago_cda', 'percentual_pago_cda_faixas'],\n",
      "      dtype='object')\n"
     ]
    }
   ],
   "source": [
    "print(\"Variáveis sobre as dívidas:\")\n",
    "print(\"\\n\", dados_divida.columns)"
   ]
  },
  {
   "cell_type": "code",
   "execution_count": 21,
   "metadata": {},
   "outputs": [
    {
     "name": "stdout",
     "output_type": "stream",
     "text": [
      "Variáveis dos contribuintes:\n",
      "\n",
      " Index(['id_pessoa', 'tipo_divida', 'num_dist_cda', 'quantidade_reparcelamento',\n",
      "       'valor_tot', 'valor_pago', 'qtd_notas_2anos', 'edificacao', 'situacao',\n",
      "       'cpf_cnpj_existe', 'endereco_existe', 'perfil_acessivel',\n",
      "       'situacao_cobranca', 'historico_pagamento_em_valor',\n",
      "       'class_situacao_cobranca', 'class_contribuinte', 'da_aberto',\n",
      "       'class_contribuinte_nome', 'class_contribuinte_perfil',\n",
      "       'percentual_pago_cda', 'class_contribuinte_peso'],\n",
      "      dtype='object')\n"
     ]
    }
   ],
   "source": [
    "print(\"Variáveis dos contribuintes:\")\n",
    "print(\"\\n\", dados_contribuinte.columns)"
   ]
  },
  {
   "cell_type": "code",
   "execution_count": 22,
   "metadata": {},
   "outputs": [],
   "source": [
    "# Filtrando variáveis de interesse para a modelagem\n",
    "df_divida = dados_divida[['cda', \n",
    "                          'tipo_divida',\n",
    "                          'id_pessoa', \n",
    "                          'da_aberto',\n",
    "                          'percentual_pago_cda', \n",
    "                          'valor_total_da', \n",
    "                          'idade_divida'#, \n",
    "                          #'quantidade_reparcelamento' \n",
    "                          ]] "
   ]
  },
  {
   "cell_type": "code",
   "execution_count": 23,
   "metadata": {},
   "outputs": [
    {
     "data": {
      "text/plain": [
       "1609354"
      ]
     },
     "execution_count": 23,
     "metadata": {},
     "output_type": "execute_result"
    }
   ],
   "source": [
    "df_divida.shape[0]"
   ]
  },
  {
   "cell_type": "code",
   "execution_count": 24,
   "metadata": {},
   "outputs": [],
   "source": [
    "dados_contribuinte_da_ab_0 = dados_contribuinte[dados_contribuinte['da_aberto'] == 0]"
   ]
  },
  {
   "cell_type": "code",
   "execution_count": 25,
   "metadata": {},
   "outputs": [
    {
     "data": {
      "text/plain": [
       "455147"
      ]
     },
     "execution_count": 25,
     "metadata": {},
     "output_type": "execute_result"
    }
   ],
   "source": [
    "dados_contribuinte_da_ab_0.shape[0]"
   ]
  },
  {
   "cell_type": "code",
   "execution_count": 26,
   "metadata": {},
   "outputs": [],
   "source": [
    "df_contribuinte = dados_contribuinte_da_ab_0[['id_pessoa', \n",
    "                                      'tipo_divida',\n",
    "                                      'num_dist_cda', \n",
    "                                      'quantidade_reparcelamento',\n",
    "                                      #'historico_pagamento_em_qtd',\n",
    "                                       'historico_pagamento_em_valor',\n",
    "                                       'situacao_cobranca',\n",
    "                                       'class_contribuinte_peso']]\n",
    "#df_contribuinte = df_contribuinte.rename(columns = {'quantidade_reparcelamento':'total_reparc_contrib'})"
   ]
  },
  {
   "cell_type": "code",
   "execution_count": 27,
   "metadata": {},
   "outputs": [
    {
     "data": {
      "text/plain": [
       "455147"
      ]
     },
     "execution_count": 27,
     "metadata": {},
     "output_type": "execute_result"
    }
   ],
   "source": [
    "df_contribuinte.shape[0]"
   ]
  },
  {
   "cell_type": "markdown",
   "metadata": {},
   "source": [
    "# Mudando o historico dos 1ª dívida"
   ]
  },
  {
   "cell_type": "code",
   "execution_count": 28,
   "metadata": {},
   "outputs": [
    {
     "data": {
      "text/plain": [
       "Index(['id_pessoa', 'tipo_divida', 'num_dist_cda', 'quantidade_reparcelamento',\n",
       "       'valor_tot', 'valor_pago', 'qtd_notas_2anos', 'edificacao', 'situacao',\n",
       "       'cpf_cnpj_existe', 'endereco_existe', 'perfil_acessivel',\n",
       "       'situacao_cobranca', 'historico_pagamento_em_valor',\n",
       "       'class_situacao_cobranca', 'class_contribuinte', 'da_aberto',\n",
       "       'class_contribuinte_nome', 'class_contribuinte_perfil',\n",
       "       'percentual_pago_cda', 'class_contribuinte_peso'],\n",
       "      dtype='object')"
      ]
     },
     "execution_count": 28,
     "metadata": {},
     "output_type": "execute_result"
    }
   ],
   "source": [
    "dados_contribuinte.columns"
   ]
  },
  {
   "cell_type": "code",
   "execution_count": 29,
   "metadata": {},
   "outputs": [
    {
     "data": {
      "text/plain": [
       "4    0.497521\n",
       "Name: historico_pagamento_em_valor, dtype: float64"
      ]
     },
     "execution_count": 29,
     "metadata": {},
     "output_type": "execute_result"
    }
   ],
   "source": [
    "q075 = dados_contribuinte.groupby(['class_contribuinte', 'class_contribuinte_nome'])['historico_pagamento_em_valor'].quantile(.75).to_frame().reset_index()\n",
    "q075_bom = q075.loc[q075['class_contribuinte_nome'] == 'DEVEDOR BOM', 'historico_pagamento_em_valor']\n",
    "q075_bom"
   ]
  },
  {
   "cell_type": "markdown",
   "metadata": {},
   "source": [
    "### Imputando 'historico_pagamento_em_valor' dos 1ª dívida como 0 quantil 0.75 do BOM DEVEDOR\n",
    "\n",
    "#### São 74.134 construibuintes com esse perfil "
   ]
  },
  {
   "cell_type": "code",
   "execution_count": 30,
   "metadata": {},
   "outputs": [
    {
     "data": {
      "text/html": [
       "<div>\n",
       "<style scoped>\n",
       "    .dataframe tbody tr th:only-of-type {\n",
       "        vertical-align: middle;\n",
       "    }\n",
       "\n",
       "    .dataframe tbody tr th {\n",
       "        vertical-align: top;\n",
       "    }\n",
       "\n",
       "    .dataframe thead th {\n",
       "        text-align: right;\n",
       "    }\n",
       "</style>\n",
       "<table border=\"1\" class=\"dataframe\">\n",
       "  <thead>\n",
       "    <tr style=\"text-align: right;\">\n",
       "      <th></th>\n",
       "      <th>id_pessoa</th>\n",
       "      <th>tipo_divida</th>\n",
       "      <th>num_dist_cda</th>\n",
       "      <th>quantidade_reparcelamento</th>\n",
       "      <th>historico_pagamento_em_valor</th>\n",
       "      <th>situacao_cobranca</th>\n",
       "      <th>class_contribuinte_peso</th>\n",
       "    </tr>\n",
       "  </thead>\n",
       "  <tbody>\n",
       "    <tr>\n",
       "      <th>101659</th>\n",
       "      <td>4a2a9e7f2449075b</td>\n",
       "      <td>imovel</td>\n",
       "      <td>1</td>\n",
       "      <td>2</td>\n",
       "      <td>0.484762</td>\n",
       "      <td>4.0</td>\n",
       "      <td>0.53375</td>\n",
       "    </tr>\n",
       "    <tr>\n",
       "      <th>101661</th>\n",
       "      <td>b62b48996dd0137d</td>\n",
       "      <td>mercantil</td>\n",
       "      <td>1</td>\n",
       "      <td>2</td>\n",
       "      <td>0.484731</td>\n",
       "      <td>3.0</td>\n",
       "      <td>0.53375</td>\n",
       "    </tr>\n",
       "    <tr>\n",
       "      <th>101677</th>\n",
       "      <td>dbb2673dea4e9ac0</td>\n",
       "      <td>mercantil</td>\n",
       "      <td>1</td>\n",
       "      <td>2</td>\n",
       "      <td>0.484585</td>\n",
       "      <td>2.0</td>\n",
       "      <td>0.53375</td>\n",
       "    </tr>\n",
       "    <tr>\n",
       "      <th>101703</th>\n",
       "      <td>fcafa84207675274</td>\n",
       "      <td>imovel</td>\n",
       "      <td>1</td>\n",
       "      <td>2</td>\n",
       "      <td>0.484389</td>\n",
       "      <td>4.0</td>\n",
       "      <td>0.53375</td>\n",
       "    </tr>\n",
       "    <tr>\n",
       "      <th>101714</th>\n",
       "      <td>d822f4ff3eb1d142</td>\n",
       "      <td>imovel</td>\n",
       "      <td>1</td>\n",
       "      <td>2</td>\n",
       "      <td>0.484262</td>\n",
       "      <td>4.0</td>\n",
       "      <td>0.53375</td>\n",
       "    </tr>\n",
       "    <tr>\n",
       "      <th>...</th>\n",
       "      <td>...</td>\n",
       "      <td>...</td>\n",
       "      <td>...</td>\n",
       "      <td>...</td>\n",
       "      <td>...</td>\n",
       "      <td>...</td>\n",
       "      <td>...</td>\n",
       "    </tr>\n",
       "    <tr>\n",
       "      <th>455126</th>\n",
       "      <td>70dfa0dd50acdc81</td>\n",
       "      <td>imovel</td>\n",
       "      <td>1</td>\n",
       "      <td>0</td>\n",
       "      <td>0.000000</td>\n",
       "      <td>4.0</td>\n",
       "      <td>0.53375</td>\n",
       "    </tr>\n",
       "    <tr>\n",
       "      <th>455134</th>\n",
       "      <td>70e836b105bf5957</td>\n",
       "      <td>mercantil</td>\n",
       "      <td>1</td>\n",
       "      <td>0</td>\n",
       "      <td>0.000000</td>\n",
       "      <td>3.0</td>\n",
       "      <td>0.53375</td>\n",
       "    </tr>\n",
       "    <tr>\n",
       "      <th>455136</th>\n",
       "      <td>70e7b7e331f1a65f</td>\n",
       "      <td>mercantil</td>\n",
       "      <td>1</td>\n",
       "      <td>0</td>\n",
       "      <td>0.000000</td>\n",
       "      <td>0.0</td>\n",
       "      <td>0.53375</td>\n",
       "    </tr>\n",
       "    <tr>\n",
       "      <th>455142</th>\n",
       "      <td>70e6b402b1909b3e</td>\n",
       "      <td>mercantil</td>\n",
       "      <td>1</td>\n",
       "      <td>0</td>\n",
       "      <td>0.000000</td>\n",
       "      <td>0.0</td>\n",
       "      <td>0.53375</td>\n",
       "    </tr>\n",
       "    <tr>\n",
       "      <th>455144</th>\n",
       "      <td>70e5e39ede87cc82</td>\n",
       "      <td>mercantil</td>\n",
       "      <td>1</td>\n",
       "      <td>0</td>\n",
       "      <td>0.000000</td>\n",
       "      <td>0.0</td>\n",
       "      <td>0.53375</td>\n",
       "    </tr>\n",
       "  </tbody>\n",
       "</table>\n",
       "<p>74134 rows × 7 columns</p>\n",
       "</div>"
      ],
      "text/plain": [
       "               id_pessoa tipo_divida  num_dist_cda  quantidade_reparcelamento  \\\n",
       "101659  4a2a9e7f2449075b      imovel             1                          2   \n",
       "101661  b62b48996dd0137d   mercantil             1                          2   \n",
       "101677  dbb2673dea4e9ac0   mercantil             1                          2   \n",
       "101703  fcafa84207675274      imovel             1                          2   \n",
       "101714  d822f4ff3eb1d142      imovel             1                          2   \n",
       "...                  ...         ...           ...                        ...   \n",
       "455126  70dfa0dd50acdc81      imovel             1                          0   \n",
       "455134  70e836b105bf5957   mercantil             1                          0   \n",
       "455136  70e7b7e331f1a65f   mercantil             1                          0   \n",
       "455142  70e6b402b1909b3e   mercantil             1                          0   \n",
       "455144  70e5e39ede87cc82   mercantil             1                          0   \n",
       "\n",
       "        historico_pagamento_em_valor  situacao_cobranca  \\\n",
       "101659                      0.484762                4.0   \n",
       "101661                      0.484731                3.0   \n",
       "101677                      0.484585                2.0   \n",
       "101703                      0.484389                4.0   \n",
       "101714                      0.484262                4.0   \n",
       "...                              ...                ...   \n",
       "455126                      0.000000                4.0   \n",
       "455134                      0.000000                3.0   \n",
       "455136                      0.000000                0.0   \n",
       "455142                      0.000000                0.0   \n",
       "455144                      0.000000                0.0   \n",
       "\n",
       "        class_contribuinte_peso  \n",
       "101659                  0.53375  \n",
       "101661                  0.53375  \n",
       "101677                  0.53375  \n",
       "101703                  0.53375  \n",
       "101714                  0.53375  \n",
       "...                         ...  \n",
       "455126                  0.53375  \n",
       "455134                  0.53375  \n",
       "455136                  0.53375  \n",
       "455142                  0.53375  \n",
       "455144                  0.53375  \n",
       "\n",
       "[74134 rows x 7 columns]"
      ]
     },
     "execution_count": 30,
     "metadata": {},
     "output_type": "execute_result"
    }
   ],
   "source": [
    "df_contribuinte[(df_contribuinte['num_dist_cda'] == 1) & (df_contribuinte['historico_pagamento_em_valor'] < 0.484834)]"
   ]
  },
  {
   "cell_type": "code",
   "execution_count": 31,
   "metadata": {},
   "outputs": [],
   "source": [
    "df_contribuinte.loc[(df_contribuinte['num_dist_cda'] == 1) & (df_contribuinte['historico_pagamento_em_valor'] < 0.484834), 'historico_pagamento_em_valor'] = 0.484834"
   ]
  },
  {
   "cell_type": "code",
   "execution_count": 32,
   "metadata": {},
   "outputs": [],
   "source": [
    "# Trazendo dados de parcelas\n",
    "#df_divida = pd.merge(df_divida, base_parcelas, \n",
    "#         on = ['cda', 'id_pessoa'], how = 'left')\n",
    "\n",
    "df_contribuinte['quantidade_reparcelamento'] = df_contribuinte['quantidade_reparcelamento'].fillna(0)"
   ]
  },
  {
   "cell_type": "code",
   "execution_count": 33,
   "metadata": {},
   "outputs": [
    {
     "data": {
      "text/plain": [
       "Index(['cda', 'tipo_divida', 'id_pessoa', 'da_aberto', 'percentual_pago_cda',\n",
       "       'valor_total_da', 'idade_divida', 'num_dist_cda',\n",
       "       'quantidade_reparcelamento', 'historico_pagamento_em_valor',\n",
       "       'situacao_cobranca', 'class_contribuinte_peso'],\n",
       "      dtype='object')"
      ]
     },
     "execution_count": 33,
     "metadata": {},
     "output_type": "execute_result"
    }
   ],
   "source": [
    "# Juntar informacoes de 'divida' e 'contribuinte'\n",
    "#df = pd.merge(left =df_divida, right=df_contribuinte, left_on='id_pessoa', right_on='id_pessoa')\n",
    "\n",
    "df = pd.merge(df_divida, df_contribuinte, on=['id_pessoa', 'tipo_divida'], how = 'left')\n",
    "df.columns"
   ]
  },
  {
   "cell_type": "code",
   "execution_count": 34,
   "metadata": {},
   "outputs": [
    {
     "data": {
      "text/plain": [
       "1609354"
      ]
     },
     "execution_count": 34,
     "metadata": {},
     "output_type": "execute_result"
    }
   ],
   "source": [
    "df_divida.shape[0]"
   ]
  },
  {
   "cell_type": "code",
   "execution_count": 35,
   "metadata": {},
   "outputs": [],
   "source": [
    "# Métricas p acompanhar\n",
    "num_cda_01 = df['cda'].nunique() # hj: 1.608.610 # antes: 2.415.779\n",
    "num_pessoa_01 = df['id_pessoa'].nunique() # hj: 396.691  # antes: 424.210\n",
    "vlr_da_01 = df['valor_total_da'].sum() # 'R$ 17.911.603.296,66'"
   ]
  },
  {
   "cell_type": "code",
   "execution_count": 36,
   "metadata": {},
   "outputs": [
    {
     "data": {
      "text/plain": [
       "1609354"
      ]
     },
     "execution_count": 36,
     "metadata": {},
     "output_type": "execute_result"
    }
   ],
   "source": [
    "num_cda_01"
   ]
  },
  {
   "cell_type": "code",
   "execution_count": 37,
   "metadata": {},
   "outputs": [
    {
     "data": {
      "text/plain": [
       "396792"
      ]
     },
     "execution_count": 37,
     "metadata": {},
     "output_type": "execute_result"
    }
   ],
   "source": [
    "num_pessoa_01"
   ]
  },
  {
   "cell_type": "code",
   "execution_count": 38,
   "metadata": {},
   "outputs": [
    {
     "data": {
      "text/plain": [
       "'R$ 11.763.979.704,63'"
      ]
     },
     "execution_count": 38,
     "metadata": {},
     "output_type": "execute_result"
    }
   ],
   "source": [
    "formatar_moeda(vlr_da_01)"
   ]
  },
  {
   "cell_type": "markdown",
   "metadata": {},
   "source": [
    "### Valor Monetário dos dados de treino por tipo de dívida"
   ]
  },
  {
   "cell_type": "code",
   "execution_count": 39,
   "metadata": {},
   "outputs": [
    {
     "data": {
      "text/html": [
       "<div>\n",
       "<style scoped>\n",
       "    .dataframe tbody tr th:only-of-type {\n",
       "        vertical-align: middle;\n",
       "    }\n",
       "\n",
       "    .dataframe tbody tr th {\n",
       "        vertical-align: top;\n",
       "    }\n",
       "\n",
       "    .dataframe thead th {\n",
       "        text-align: right;\n",
       "    }\n",
       "</style>\n",
       "<table border=\"1\" class=\"dataframe\">\n",
       "  <thead>\n",
       "    <tr style=\"text-align: right;\">\n",
       "      <th></th>\n",
       "      <th>tipo_divida</th>\n",
       "      <th>valor_total_da</th>\n",
       "      <th>perc_da</th>\n",
       "    </tr>\n",
       "  </thead>\n",
       "  <tbody>\n",
       "    <tr>\n",
       "      <th>0</th>\n",
       "      <td>imovel</td>\n",
       "      <td>R$ 5.555.069.129,02</td>\n",
       "      <td>0.47221</td>\n",
       "    </tr>\n",
       "    <tr>\n",
       "      <th>1</th>\n",
       "      <td>mercantil</td>\n",
       "      <td>R$ 6.208.910.575,61</td>\n",
       "      <td>0.52779</td>\n",
       "    </tr>\n",
       "  </tbody>\n",
       "</table>\n",
       "</div>"
      ],
      "text/plain": [
       "  tipo_divida       valor_total_da  perc_da\n",
       "0      imovel  R$ 5.555.069.129,02  0.47221\n",
       "1   mercantil  R$ 6.208.910.575,61  0.52779"
      ]
     },
     "execution_count": 39,
     "metadata": {},
     "output_type": "execute_result"
    }
   ],
   "source": [
    "df_prop_estoque = df.groupby(['tipo_divida'])['valor_total_da'].sum().to_frame().reset_index()\n",
    "estoque_total = df_prop_estoque['valor_total_da'].sum()\n",
    "df_prop_estoque['perc_da'] = np.round(df_prop_estoque['valor_total_da']/estoque_total, 5)\n",
    "\n",
    "\n",
    "df_prop_estoque['valor_total_da'] = df_prop_estoque['valor_total_da'].apply(formatar_moeda)\n",
    "df_prop_estoque"
   ]
  },
  {
   "cell_type": "code",
   "execution_count": 40,
   "metadata": {},
   "outputs": [
    {
     "data": {
      "text/plain": [
       "Index(['cda', 'tipo_divida', 'id_pessoa', 'da_aberto', 'percentual_pago_cda',\n",
       "       'valor_total_da', 'idade_divida', 'num_dist_cda',\n",
       "       'quantidade_reparcelamento', 'historico_pagamento_em_valor',\n",
       "       'situacao_cobranca', 'class_contribuinte_peso'],\n",
       "      dtype='object')"
      ]
     },
     "execution_count": 40,
     "metadata": {},
     "output_type": "execute_result"
    }
   ],
   "source": [
    "df.columns"
   ]
  },
  {
   "cell_type": "code",
   "execution_count": 41,
   "metadata": {},
   "outputs": [],
   "source": [
    "data_percentil = {\n",
    "    'inf': [0, 0.01, 0.25, 0.5, 0.75, 0.99, 1],\n",
    "    'sup': [0.01, 0.25, 0.5, 0.75, 0.99, 1, 1.01]\n",
    "}\n",
    "\n",
    "# Creating a DataFrame from the dictionary\n",
    "df_cut_percentil = pd.DataFrame(data_percentil)\n",
    "df_cut_percentil['intervalo'] = df_cut_percentil.apply(paste_intervalo, axis = 1)\n",
    "\n",
    "# Define the bins and labels for groups\n",
    "igr_bins = [0, 0.01, 0.25, 0.5, 0.75, 0.99, 1, 1.01]\n",
    "igr_labels = df_cut_percentil['intervalo']\n",
    "\n",
    "df['percentual_pago_cda_faixas'] = pd.cut(df['percentual_pago_cda'],\n",
    "                                bins = igr_bins,\n",
    "                                labels = igr_labels,\n",
    "                                right = False)"
   ]
  },
  {
   "cell_type": "code",
   "execution_count": 42,
   "metadata": {},
   "outputs": [
    {
     "data": {
      "text/html": [
       "<div>\n",
       "<style scoped>\n",
       "    .dataframe tbody tr th:only-of-type {\n",
       "        vertical-align: middle;\n",
       "    }\n",
       "\n",
       "    .dataframe tbody tr th {\n",
       "        vertical-align: top;\n",
       "    }\n",
       "\n",
       "    .dataframe thead th {\n",
       "        text-align: right;\n",
       "    }\n",
       "</style>\n",
       "<table border=\"1\" class=\"dataframe\">\n",
       "  <thead>\n",
       "    <tr style=\"text-align: right;\">\n",
       "      <th></th>\n",
       "      <th>percentual_pago_cda_faixas</th>\n",
       "      <th>total</th>\n",
       "      <th>perc</th>\n",
       "    </tr>\n",
       "    <tr>\n",
       "      <th>percentual_pago_cda_faixas</th>\n",
       "      <th></th>\n",
       "      <th></th>\n",
       "      <th></th>\n",
       "    </tr>\n",
       "  </thead>\n",
       "  <tbody>\n",
       "    <tr>\n",
       "      <th>[0.0, 0.01)</th>\n",
       "      <td>994029</td>\n",
       "      <td>1609354</td>\n",
       "      <td>0.6177</td>\n",
       "    </tr>\n",
       "    <tr>\n",
       "      <th>[0.01, 0.25)</th>\n",
       "      <td>157574</td>\n",
       "      <td>1609354</td>\n",
       "      <td>0.0979</td>\n",
       "    </tr>\n",
       "    <tr>\n",
       "      <th>[0.25, 0.5)</th>\n",
       "      <td>101210</td>\n",
       "      <td>1609354</td>\n",
       "      <td>0.0629</td>\n",
       "    </tr>\n",
       "    <tr>\n",
       "      <th>[0.5, 0.75)</th>\n",
       "      <td>57879</td>\n",
       "      <td>1609354</td>\n",
       "      <td>0.0360</td>\n",
       "    </tr>\n",
       "    <tr>\n",
       "      <th>[0.75, 0.99)</th>\n",
       "      <td>2788</td>\n",
       "      <td>1609354</td>\n",
       "      <td>0.0017</td>\n",
       "    </tr>\n",
       "    <tr>\n",
       "      <th>[0.99, 1.0)</th>\n",
       "      <td>3</td>\n",
       "      <td>1609354</td>\n",
       "      <td>0.0000</td>\n",
       "    </tr>\n",
       "    <tr>\n",
       "      <th>[1.0, 1.01)</th>\n",
       "      <td>295871</td>\n",
       "      <td>1609354</td>\n",
       "      <td>0.1838</td>\n",
       "    </tr>\n",
       "  </tbody>\n",
       "</table>\n",
       "</div>"
      ],
      "text/plain": [
       "                            percentual_pago_cda_faixas    total    perc\n",
       "percentual_pago_cda_faixas                                             \n",
       "[0.0, 0.01)                                     994029  1609354  0.6177\n",
       "[0.01, 0.25)                                    157574  1609354  0.0979\n",
       "[0.25, 0.5)                                     101210  1609354  0.0629\n",
       "[0.5, 0.75)                                      57879  1609354  0.0360\n",
       "[0.75, 0.99)                                      2788  1609354  0.0017\n",
       "[0.99, 1.0)                                          3  1609354  0.0000\n",
       "[1.0, 1.01)                                     295871  1609354  0.1838"
      ]
     },
     "execution_count": 42,
     "metadata": {},
     "output_type": "execute_result"
    }
   ],
   "source": [
    "df_metrics = df.groupby('percentual_pago_cda_faixas')['percentual_pago_cda_faixas'].count().to_frame()\n",
    "total = df_metrics['percentual_pago_cda_faixas'].sum()  \n",
    "df_metrics['total'] = total\n",
    "df_metrics['perc'] = np.round(df_metrics['percentual_pago_cda_faixas']/total, 4)\n",
    "df_metrics"
   ]
  },
  {
   "cell_type": "markdown",
   "metadata": {},
   "source": [
    "# Filtrando os últimos 10 anos"
   ]
  },
  {
   "cell_type": "code",
   "execution_count": 43,
   "metadata": {},
   "outputs": [
    {
     "data": {
      "text/plain": [
       "1609354"
      ]
     },
     "execution_count": 43,
     "metadata": {},
     "output_type": "execute_result"
    }
   ],
   "source": [
    "df.shape[0]"
   ]
  },
  {
   "cell_type": "code",
   "execution_count": 44,
   "metadata": {},
   "outputs": [
    {
     "data": {
      "text/plain": [
       "1609354"
      ]
     },
     "execution_count": 44,
     "metadata": {},
     "output_type": "execute_result"
    }
   ],
   "source": [
    "# CDAs que vamos treinar\n",
    "da_aberto_0 = df[df['da_aberto'] == 0]\n",
    "da_aberto_0.shape[0]"
   ]
  },
  {
   "cell_type": "code",
   "execution_count": 45,
   "metadata": {},
   "outputs": [],
   "source": [
    "# Filtrando apenas dados recentes para treinamento\n",
    "df = da_aberto_0.query(\"idade_divida < 10\")"
   ]
  },
  {
   "cell_type": "code",
   "execution_count": 46,
   "metadata": {},
   "outputs": [
    {
     "data": {
      "text/plain": [
       "898809"
      ]
     },
     "execution_count": 46,
     "metadata": {},
     "output_type": "execute_result"
    }
   ],
   "source": [
    "df.shape[0] # 10 anos: 1.546.507 # 15 anos: 2.061.060"
   ]
  },
  {
   "cell_type": "code",
   "execution_count": 47,
   "metadata": {},
   "outputs": [
    {
     "data": {
      "text/html": [
       "<div>\n",
       "<style scoped>\n",
       "    .dataframe tbody tr th:only-of-type {\n",
       "        vertical-align: middle;\n",
       "    }\n",
       "\n",
       "    .dataframe tbody tr th {\n",
       "        vertical-align: top;\n",
       "    }\n",
       "\n",
       "    .dataframe thead th {\n",
       "        text-align: right;\n",
       "    }\n",
       "</style>\n",
       "<table border=\"1\" class=\"dataframe\">\n",
       "  <thead>\n",
       "    <tr style=\"text-align: right;\">\n",
       "      <th></th>\n",
       "      <th>percentual_pago_cda_faixas</th>\n",
       "      <th>perc</th>\n",
       "    </tr>\n",
       "    <tr>\n",
       "      <th>percentual_pago_cda_faixas</th>\n",
       "      <th></th>\n",
       "      <th></th>\n",
       "    </tr>\n",
       "  </thead>\n",
       "  <tbody>\n",
       "    <tr>\n",
       "      <th>[0.0, 0.01)</th>\n",
       "      <td>576388</td>\n",
       "      <td>0.6413</td>\n",
       "    </tr>\n",
       "    <tr>\n",
       "      <th>[0.01, 0.25)</th>\n",
       "      <td>63445</td>\n",
       "      <td>0.0706</td>\n",
       "    </tr>\n",
       "    <tr>\n",
       "      <th>[0.25, 0.5)</th>\n",
       "      <td>34825</td>\n",
       "      <td>0.0387</td>\n",
       "    </tr>\n",
       "    <tr>\n",
       "      <th>[0.5, 0.75)</th>\n",
       "      <td>36872</td>\n",
       "      <td>0.0410</td>\n",
       "    </tr>\n",
       "    <tr>\n",
       "      <th>[0.75, 0.99)</th>\n",
       "      <td>1276</td>\n",
       "      <td>0.0014</td>\n",
       "    </tr>\n",
       "    <tr>\n",
       "      <th>[0.99, 1.0)</th>\n",
       "      <td>0</td>\n",
       "      <td>0.0000</td>\n",
       "    </tr>\n",
       "    <tr>\n",
       "      <th>[1.0, 1.01)</th>\n",
       "      <td>186003</td>\n",
       "      <td>0.2069</td>\n",
       "    </tr>\n",
       "  </tbody>\n",
       "</table>\n",
       "</div>"
      ],
      "text/plain": [
       "                            percentual_pago_cda_faixas    perc\n",
       "percentual_pago_cda_faixas                                    \n",
       "[0.0, 0.01)                                     576388  0.6413\n",
       "[0.01, 0.25)                                     63445  0.0706\n",
       "[0.25, 0.5)                                      34825  0.0387\n",
       "[0.5, 0.75)                                      36872  0.0410\n",
       "[0.75, 0.99)                                      1276  0.0014\n",
       "[0.99, 1.0)                                          0  0.0000\n",
       "[1.0, 1.01)                                     186003  0.2069"
      ]
     },
     "execution_count": 47,
     "metadata": {},
     "output_type": "execute_result"
    }
   ],
   "source": [
    "df_metrics2 = df.groupby('percentual_pago_cda_faixas')['percentual_pago_cda_faixas'].count().to_frame()\n",
    "total2 = df_metrics2['percentual_pago_cda_faixas'].sum()  \n",
    "df_metrics2['perc'] = np.round(df_metrics2['percentual_pago_cda_faixas']/total2, 4)\n",
    "df_metrics2"
   ]
  },
  {
   "cell_type": "markdown",
   "metadata": {},
   "source": [
    "### Filtrando p os últimos 10 anos: 15% dos dados entre 0 e 1"
   ]
  },
  {
   "cell_type": "code",
   "execution_count": 48,
   "metadata": {},
   "outputs": [
    {
     "data": {
      "text/plain": [
       "'R$ 3.428.559.249,74'"
      ]
     },
     "execution_count": 48,
     "metadata": {},
     "output_type": "execute_result"
    }
   ],
   "source": [
    "# Estoque considerando os últimos 10 anos\n",
    "est_10anos = df['valor_total_da'].sum()\n",
    "est_10anos = locale.currency(est_10anos, grouping=True)\n",
    "est_10anos # 'R$ 5.992.946.539,56'"
   ]
  },
  {
   "cell_type": "code",
   "execution_count": null,
   "metadata": {},
   "outputs": [],
   "source": [
    "# print(\"Informações sobre o dataframe:\\n\")\n",
    "# df.info()\n",
    "\n",
    "# print(\"\\nEstatísticas descritivas:\")\n",
    "# df.describe().T"
   ]
  },
  {
   "cell_type": "code",
   "execution_count": null,
   "metadata": {},
   "outputs": [],
   "source": [
    "# # Para retirar variáveis que não serão usadas no modelo:\n",
    "# # Vou criar uma chave auxiliar - just in case\n",
    "\n",
    "# df['chave_aux'] = df.apply(cria_chave, axis = 1)\n",
    "# # Definir a coluna 'chave_aux' como índice\n",
    "# df.set_index('chave_aux', inplace=True)\n",
    "# df"
   ]
  },
  {
   "cell_type": "code",
   "execution_count": 49,
   "metadata": {},
   "outputs": [
    {
     "data": {
      "text/plain": [
       "Index(['cda', 'tipo_divida', 'id_pessoa', 'da_aberto', 'percentual_pago_cda',\n",
       "       'valor_total_da', 'idade_divida', 'num_dist_cda',\n",
       "       'quantidade_reparcelamento', 'historico_pagamento_em_valor',\n",
       "       'situacao_cobranca', 'class_contribuinte_peso',\n",
       "       'percentual_pago_cda_faixas'],\n",
       "      dtype='object')"
      ]
     },
     "execution_count": 49,
     "metadata": {},
     "output_type": "execute_result"
    }
   ],
   "source": [
    "df.columns"
   ]
  },
  {
   "cell_type": "code",
   "execution_count": 50,
   "metadata": {},
   "outputs": [],
   "source": [
    "# Retirando variáveis que não serão usadas no modelo\n",
    "df_feature_store = df.drop(columns=['da_aberto', 'percentual_pago_cda_faixas'])\n",
    "df_feature_store = df_feature_store.set_index(['cda', 'tipo_divida', 'id_pessoa'])"
   ]
  },
  {
   "cell_type": "code",
   "execution_count": 51,
   "metadata": {},
   "outputs": [
    {
     "data": {
      "text/plain": [
       "percentual_pago_cda             0\n",
       "valor_total_da                  0\n",
       "idade_divida                    0\n",
       "num_dist_cda                    0\n",
       "quantidade_reparcelamento       0\n",
       "historico_pagamento_em_valor    0\n",
       "situacao_cobranca               0\n",
       "class_contribuinte_peso         0\n",
       "dtype: int64"
      ]
     },
     "execution_count": 51,
     "metadata": {},
     "output_type": "execute_result"
    }
   ],
   "source": [
    "df_feature_store.isnull().sum()"
   ]
  },
  {
   "attachments": {},
   "cell_type": "markdown",
   "metadata": {},
   "source": [
    "# 03) Visualizando a variável target"
   ]
  },
  {
   "cell_type": "code",
   "execution_count": 52,
   "metadata": {},
   "outputs": [],
   "source": [
    "matriz_correlacao = df_feature_store.corr()"
   ]
  },
  {
   "cell_type": "code",
   "execution_count": 53,
   "metadata": {},
   "outputs": [
    {
     "data": {
      "image/png": "[encoded data removed]",
      "text/plain": [
       "<Figure size 1000x500 with 2 Axes>"
      ]
     },
     "metadata": {},
     "output_type": "display_data"
    }
   ],
   "source": [
    "plt.figure(figsize=(10,5))\n",
    "sns.heatmap(matriz_correlacao, annot = True, fmt = \".2f\")\n",
    "plt.show()"
   ]
  },
  {
   "attachments": {},
   "cell_type": "markdown",
   "metadata": {},
   "source": [
    "# 04) Definindo pipeline de treinamento dos modelos"
   ]
  },
  {
   "cell_type": "code",
   "execution_count": 54,
   "metadata": {},
   "outputs": [],
   "source": [
    "seed = 1337 # Semente fixando a aleatoridade dos experimentos"
   ]
  },
  {
   "cell_type": "code",
   "execution_count": 55,
   "metadata": {},
   "outputs": [
    {
     "data": {
      "text/plain": [
       "0.2560105111661003"
      ]
     },
     "execution_count": 55,
     "metadata": {},
     "output_type": "execute_result"
    }
   ],
   "source": [
    "df_feature_store['percentual_pago_cda'].mean()"
   ]
  },
  {
   "cell_type": "code",
   "execution_count": 56,
   "metadata": {},
   "outputs": [],
   "source": [
    "y = df_feature_store['percentual_pago_cda']\n",
    "x = df_feature_store.drop(columns=['percentual_pago_cda'])"
   ]
  },
  {
   "cell_type": "code",
   "execution_count": 57,
   "metadata": {},
   "outputs": [
    {
     "data": {
      "text/plain": [
       "Index(['valor_total_da', 'idade_divida', 'num_dist_cda',\n",
       "       'quantidade_reparcelamento', 'historico_pagamento_em_valor',\n",
       "       'situacao_cobranca', 'class_contribuinte_peso'],\n",
       "      dtype='object')"
      ]
     },
     "execution_count": 57,
     "metadata": {},
     "output_type": "execute_result"
    }
   ],
   "source": [
    "x.columns"
   ]
  },
  {
   "cell_type": "code",
   "execution_count": 58,
   "metadata": {},
   "outputs": [],
   "source": [
    "X_train, X_test, y_train, y_test = train_test_split(x, y, random_state=seed, test_size=0.3)"
   ]
  },
  {
   "cell_type": "code",
   "execution_count": 59,
   "metadata": {},
   "outputs": [
    {
     "data": {
      "text/plain": [
       "629166"
      ]
     },
     "execution_count": 59,
     "metadata": {},
     "output_type": "execute_result"
    }
   ],
   "source": [
    "X_train.shape[0]"
   ]
  },
  {
   "cell_type": "code",
   "execution_count": 60,
   "metadata": {},
   "outputs": [],
   "source": [
    "def ccc_score(y_true, y_pred):\n",
    "    rho = np.corrcoef(y_true, y_pred)[0, 1] # calcula o coeficiente de pearson entre valores reais e os valores preditos/ 0 e 1 acessa a matriz\n",
    "    std_true = np.std(y_true)               # calcula o desvio padrao dos valores reais\n",
    "    std_pred = np.std(y_pred)               # calcula o desvio padrão das previsões do modelo \n",
    "    mean_true = np.mean(y_true)             # calcula a média dos valores reais\n",
    "    mean_pred = np.mean(y_pred)             # calcula a média das previsões do modelo\n",
    "    \n",
    "    # fórmula do índice de concordância de Lin\n",
    "    # O índice de concordância de Lin avalia a concordância entre as previsões do modelo (y_pred) e os valores reais (y_true)\n",
    "    ccc = (2 * rho * std_true * std_pred) / (std_true**2 + std_pred**2 + (mean_true - mean_pred)**2)\n",
    "    \n",
    "    return ccc"
   ]
  },
  {
   "cell_type": "code",
   "execution_count": 61,
   "metadata": {},
   "outputs": [],
   "source": [
    "def roda_pipeline(algoritmo_normalizador, algoritmo_regressao, X_train, y_train, X_test, y_test):\n",
    "\n",
    "    pipeline = Pipeline([('scaler', algoritmo_normalizador), ('regressor', algoritmo_regressao)])\n",
    "    pipeline.fit(X_train, y_train)\n",
    "\n",
    "    previsoes = pipeline.predict(X_test)\n",
    "\n",
    "    r2 = r2_score(y_test, previsoes)\n",
    "    mse = mean_squared_error(y_test, previsoes)\n",
    "    ccc = ccc_score(y_test, previsoes)\n",
    "    \n",
    "    print(\"\\nModelo treinado:\", str(algoritmo_regressao))\n",
    "    print(\"R2 ->\", r2)\n",
    "    print(\"MSE ->\", mse)\n",
    "    print(\"CCC ->\", ccc)"
   ]
  },
  {
   "cell_type": "code",
   "execution_count": 62,
   "metadata": {},
   "outputs": [],
   "source": [
    "biblioteca_modelos = {\n",
    "    'dummy': DummyRegressor(), # Dados dummy - Usado para baseline\n",
    "    'random_forest': RandomForestRegressor(random_state=seed)\n",
    "}\n",
    "\n",
    "pipeline_modelos = ['dummy','random_forest']"
   ]
  },
  {
   "attachments": {},
   "cell_type": "markdown",
   "metadata": {},
   "source": [
    "# 05) Executando o experimento de treinamento do modelo"
   ]
  },
  {
   "cell_type": "code",
   "execution_count": 63,
   "metadata": {},
   "outputs": [
    {
     "name": "stdout",
     "output_type": "stream",
     "text": [
      "\n",
      "Modelo treinado: DummyRegressor()\n",
      "R2 -> -8.704964986616659e-07\n",
      "MSE -> 0.16530379931407047\n",
      "CCC -> -3.2984970822308314e-33\n",
      "\n",
      "Modelo treinado: RandomForestRegressor(random_state=1337)\n",
      "R2 -> 0.829766626833428\n",
      "MSE -> 0.028140198858539713\n",
      "CCC -> 0.9069464463057845\n"
     ]
    }
   ],
   "source": [
    "for modelos in pipeline_modelos:\n",
    "    roda_pipeline(\n",
    "        algoritmo_normalizador= StandardScaler(),\n",
    "        algoritmo_regressao= biblioteca_modelos.get(modelos), \n",
    "        X_train=X_train, X_test=X_test, y_train=y_train, y_test=y_test\n",
    "    )"
   ]
  },
  {
   "cell_type": "code",
   "execution_count": null,
   "metadata": {},
   "outputs": [],
   "source": [
    "# for modelos in pipeline_modelos:\n",
    "#     roda_pipeline(\n",
    "#         algoritmo_normalizador= MinMaxScaler(),\n",
    "#         algoritmo_regressao= biblioteca_modelos.get(modelos), \n",
    "#         X_train=X_train, X_test=X_test, y_train=y_train, y_test=y_test\n",
    "#         )"
   ]
  },
  {
   "cell_type": "code",
   "execution_count": 63,
   "metadata": {},
   "outputs": [
    {
     "name": "stdout",
     "output_type": "stream",
     "text": [
      "\n",
      "Modelo treinado: DummyRegressor()\n",
      "R2 -> -8.704964986616659e-07\n",
      "MSE -> 0.16530379931407047\n",
      "CCC -> -3.2984970822308314e-33\n",
      "\n",
      "Modelo treinado: RandomForestRegressor(random_state=1337)\n",
      "R2 -> 0.8289276449621242\n",
      "MSE -> 0.028278885628695506\n",
      "CCC -> 0.9064978735638473\n"
     ]
    }
   ],
   "source": [
    "for modelos in pipeline_modelos:\n",
    "    roda_pipeline(\n",
    "        algoritmo_normalizador= RobustScaler(),\n",
    "        algoritmo_regressao= biblioteca_modelos.get(modelos), \n",
    "        X_train=X_train, X_test=X_test, y_train=y_train, y_test=y_test\n",
    "    )"
   ]
  },
  {
   "attachments": {},
   "cell_type": "markdown",
   "metadata": {},
   "source": [
    "**Conclusão:** \n",
    "- Adotar StandardScaler"
   ]
  },
  {
   "attachments": {},
   "cell_type": "markdown",
   "metadata": {},
   "source": [
    "# 06) Realizando previsões com o melhor modelo"
   ]
  },
  {
   "cell_type": "code",
   "execution_count": 64,
   "metadata": {},
   "outputs": [],
   "source": [
    "normalizador = StandardScaler() #RobustScaler() #StandardScaler()\n",
    "normalizador.fit(x)\n",
    "dados_normalizados = normalizador.fit_transform(x)\n",
    "\n",
    "colunas = list(normalizador.get_feature_names_out())\n",
    "df_normalizado = pd.DataFrame(dados_normalizados, columns=colunas)"
   ]
  },
  {
   "cell_type": "code",
   "execution_count": 65,
   "metadata": {},
   "outputs": [],
   "source": [
    "x_norm = df_normalizado"
   ]
  },
  {
   "cell_type": "code",
   "execution_count": 66,
   "metadata": {},
   "outputs": [],
   "source": [
    "X_train, X_test, y_train, y_test = train_test_split(x_norm, y, random_state=seed, test_size=0.3)"
   ]
  },
  {
   "cell_type": "code",
   "execution_count": 67,
   "metadata": {},
   "outputs": [
    {
     "data": {
      "text/plain": [
       "RandomForestRegressor(random_state=1337)"
      ]
     },
     "execution_count": 67,
     "metadata": {},
     "output_type": "execute_result"
    }
   ],
   "source": [
    "best_model = RandomForestRegressor(random_state=seed)\n",
    "best_model.fit(X_train, y_train)"
   ]
  },
  {
   "cell_type": "code",
   "execution_count": 68,
   "metadata": {},
   "outputs": [
    {
     "name": "stdout",
     "output_type": "stream",
     "text": [
      "Métricas de validação do modelo:\n",
      "R2  -> 0.829729208295275\n",
      "MSE -> 0.028146384279676803\n",
      "CCC -> 0.9069222328947246\n"
     ]
    }
   ],
   "source": [
    "predict_test = best_model.predict(X_test)\n",
    "\n",
    "r2 = r2_score(y_test, predict_test)\n",
    "mse = mean_squared_error(y_test, predict_test)\n",
    "ccc = ccc_score(y_test, predict_test)\n",
    "\n",
    "print(\"Métricas de validação do modelo:\")\n",
    "print(\"R2  ->\", r2)\n",
    "print(\"MSE ->\", mse)\n",
    "print(\"CCC ->\", ccc)"
   ]
  },
  {
   "cell_type": "code",
   "execution_count": 69,
   "metadata": {},
   "outputs": [
    {
     "data": {
      "text/plain": [
       "{'bootstrap': True,\n",
       " 'ccp_alpha': 0.0,\n",
       " 'criterion': 'squared_error',\n",
       " 'max_depth': None,\n",
       " 'max_features': 'auto',\n",
       " 'max_leaf_nodes': None,\n",
       " 'max_samples': None,\n",
       " 'min_impurity_decrease': 0.0,\n",
       " 'min_samples_leaf': 1,\n",
       " 'min_samples_split': 2,\n",
       " 'min_weight_fraction_leaf': 0.0,\n",
       " 'n_estimators': 100,\n",
       " 'n_jobs': None,\n",
       " 'oob_score': False,\n",
       " 'random_state': 1337,\n",
       " 'verbose': 0,\n",
       " 'warm_start': False}"
      ]
     },
     "execution_count": 69,
     "metadata": {},
     "output_type": "execute_result"
    }
   ],
   "source": [
    "best_model.get_params() # Parâmetros utilizados"
   ]
  },
  {
   "cell_type": "markdown",
   "metadata": {},
   "source": [
    "# RESUMO DE DESEMPENHO DO MODELO DE REGRESSÃO"
   ]
  },
  {
   "cell_type": "markdown",
   "metadata": {},
   "source": [
    "- R² (R-squared):\n",
    "\n",
    "Valor Obtido: 0.8288\n",
    "\n",
    "O R² quantifica o quão bem as variáveis independentes explicam a variação na variável dependente (Target) do modelo.\n",
    "0.8288 indica que aproximadamente 82.88% da variabilidade na variável de resposta é explicada pelas variáveis independentes.\n",
    "o modelo está capturando uma quantidade significativa da variação nos dados.\n",
    "\n",
    "- MSE (Erro Quadrático Médio):\n",
    "\n",
    "Valor Obtido: 0.0282\n",
    "\n",
    "O MSE mede a média dos erros quadrados entre as previsões do modelo e os valores reais. É uma medida de quão distantes estão as previsões do modelo em relação aos valores reais.\n",
    "0.0282 é uma métrica de erro bastante baixa. Quanto mais próxima de zero, melhor. \n",
    "O modelo está fazendo previsões precisas, com erros médios pequenos.\n",
    "\n",
    "- CCC (Índice de Concordância de Lin):\n",
    "\n",
    "Valor Obtido: 0.9064\n",
    "\n",
    "O CCC é uma métrica que avalia a concordância entre as previsões do modelo e os valores reais. Varia de -1 a 1, onde 1 indica uma concordância perfeita.\n",
    "É útil para medir a consistência das previsões \n",
    "90.64% é um valor muito próximo de 1, o que sugere uma concordância excelente entre as previsões do modelo e valores reais. \n",
    "O modelo está fazendo previsões precisas, com uma excelente consistência e assertividade.\n",
    "\n",
    "# Conclusão\n",
    "Em síntese, o modelo está funcionando muito bem. Ele explica uma alta proporção da variação nos dados, tem um erro médio quadrático baixo e uma excelente concordância com os valores reais. \n",
    "Esses resultados indicam que o modelo de regressão está com excelente desempenho no contexto aplicado."
   ]
  },
  {
   "cell_type": "code",
   "execution_count": 70,
   "metadata": {},
   "outputs": [
    {
     "name": "stdout",
     "output_type": "stream",
     "text": [
      "Variáveis preditoras:\n",
      "\n",
      " ['valor_total_da' 'idade_divida' 'num_dist_cda'\n",
      " 'quantidade_reparcelamento' 'historico_pagamento_em_valor'\n",
      " 'situacao_cobranca' 'class_contribuinte_peso']\n"
     ]
    }
   ],
   "source": [
    "variaveis_preditoras = best_model.feature_names_in_\n",
    "importancia_variaveis = best_model.feature_importances_\n",
    "\n",
    "print(\"Variáveis preditoras:\")\n",
    "print('\\n', variaveis_preditoras)"
   ]
  },
  {
   "cell_type": "code",
   "execution_count": 71,
   "metadata": {},
   "outputs": [
    {
     "data": {
      "text/html": [
       "<div>\n",
       "<style scoped>\n",
       "    .dataframe tbody tr th:only-of-type {\n",
       "        vertical-align: middle;\n",
       "    }\n",
       "\n",
       "    .dataframe tbody tr th {\n",
       "        vertical-align: top;\n",
       "    }\n",
       "\n",
       "    .dataframe thead th {\n",
       "        text-align: right;\n",
       "    }\n",
       "</style>\n",
       "<table border=\"1\" class=\"dataframe\">\n",
       "  <thead>\n",
       "    <tr style=\"text-align: right;\">\n",
       "      <th></th>\n",
       "      <th>features</th>\n",
       "      <th>importancia</th>\n",
       "    </tr>\n",
       "  </thead>\n",
       "  <tbody>\n",
       "    <tr>\n",
       "      <th>0</th>\n",
       "      <td>historico_pagamento_em_valor</td>\n",
       "      <td>0.745583</td>\n",
       "    </tr>\n",
       "    <tr>\n",
       "      <th>1</th>\n",
       "      <td>valor_total_da</td>\n",
       "      <td>0.139736</td>\n",
       "    </tr>\n",
       "    <tr>\n",
       "      <th>2</th>\n",
       "      <td>num_dist_cda</td>\n",
       "      <td>0.038828</td>\n",
       "    </tr>\n",
       "    <tr>\n",
       "      <th>3</th>\n",
       "      <td>idade_divida</td>\n",
       "      <td>0.031737</td>\n",
       "    </tr>\n",
       "    <tr>\n",
       "      <th>4</th>\n",
       "      <td>quantidade_reparcelamento</td>\n",
       "      <td>0.026928</td>\n",
       "    </tr>\n",
       "    <tr>\n",
       "      <th>5</th>\n",
       "      <td>situacao_cobranca</td>\n",
       "      <td>0.011751</td>\n",
       "    </tr>\n",
       "    <tr>\n",
       "      <th>6</th>\n",
       "      <td>class_contribuinte_peso</td>\n",
       "      <td>0.005438</td>\n",
       "    </tr>\n",
       "  </tbody>\n",
       "</table>\n",
       "</div>"
      ],
      "text/plain": [
       "                       features  importancia\n",
       "0  historico_pagamento_em_valor     0.745583\n",
       "1                valor_total_da     0.139736\n",
       "2                  num_dist_cda     0.038828\n",
       "3                  idade_divida     0.031737\n",
       "4     quantidade_reparcelamento     0.026928\n",
       "5             situacao_cobranca     0.011751\n",
       "6       class_contribuinte_peso     0.005438"
      ]
     },
     "execution_count": 71,
     "metadata": {},
     "output_type": "execute_result"
    }
   ],
   "source": [
    "dados_features = {\n",
    "    'features': variaveis_preditoras,\n",
    "    'importancia': importancia_variaveis\n",
    "}\n",
    "matriz_importancia = pd.DataFrame(dados_features).sort_values('importancia', ascending=False).reset_index(drop='index')\n",
    "matriz_importancia"
   ]
  },
  {
   "cell_type": "code",
   "execution_count": 72,
   "metadata": {},
   "outputs": [],
   "source": [
    "# Realizando predições para avaliações do modelo\n",
    "\n",
    "previsoes_norm = best_model.predict(x_norm)"
   ]
  },
  {
   "cell_type": "code",
   "execution_count": 73,
   "metadata": {},
   "outputs": [
    {
     "data": {
      "text/html": [
       "<div>\n",
       "<style scoped>\n",
       "    .dataframe tbody tr th:only-of-type {\n",
       "        vertical-align: middle;\n",
       "    }\n",
       "\n",
       "    .dataframe tbody tr th {\n",
       "        vertical-align: top;\n",
       "    }\n",
       "\n",
       "    .dataframe thead th {\n",
       "        text-align: right;\n",
       "    }\n",
       "</style>\n",
       "<table border=\"1\" class=\"dataframe\">\n",
       "  <thead>\n",
       "    <tr style=\"text-align: right;\">\n",
       "      <th></th>\n",
       "      <th></th>\n",
       "      <th></th>\n",
       "      <th>percentual_pago_cda</th>\n",
       "      <th>valor_total_da</th>\n",
       "      <th>idade_divida</th>\n",
       "      <th>num_dist_cda</th>\n",
       "      <th>quantidade_reparcelamento</th>\n",
       "      <th>historico_pagamento_em_valor</th>\n",
       "      <th>situacao_cobranca</th>\n",
       "      <th>class_contribuinte_peso</th>\n",
       "    </tr>\n",
       "    <tr>\n",
       "      <th>cda</th>\n",
       "      <th>tipo_divida</th>\n",
       "      <th>id_pessoa</th>\n",
       "      <th></th>\n",
       "      <th></th>\n",
       "      <th></th>\n",
       "      <th></th>\n",
       "      <th></th>\n",
       "      <th></th>\n",
       "      <th></th>\n",
       "      <th></th>\n",
       "    </tr>\n",
       "  </thead>\n",
       "  <tbody>\n",
       "    <tr>\n",
       "      <th>0000521b64bf28c8e52281a70553db461</th>\n",
       "      <th>imovel</th>\n",
       "      <th>b5df816e1786f0a3</th>\n",
       "      <td>0.00000</td>\n",
       "      <td>490.83</td>\n",
       "      <td>7.0</td>\n",
       "      <td>8</td>\n",
       "      <td>0</td>\n",
       "      <td>0.000000</td>\n",
       "      <td>4.0</td>\n",
       "      <td>-1.02688</td>\n",
       "    </tr>\n",
       "    <tr>\n",
       "      <th>000057f68f7b77276b3a8e268c80aedf1</th>\n",
       "      <th>imovel</th>\n",
       "      <th>e3df827c83c5efa8</th>\n",
       "      <td>0.00000</td>\n",
       "      <td>1148.06</td>\n",
       "      <td>5.0</td>\n",
       "      <td>14</td>\n",
       "      <td>9</td>\n",
       "      <td>0.282706</td>\n",
       "      <td>4.0</td>\n",
       "      <td>-0.96509</td>\n",
       "    </tr>\n",
       "    <tr>\n",
       "      <th>0000662885c684004bd01ecb8277da0b2</th>\n",
       "      <th>mercantil</th>\n",
       "      <th>bac1362812257f05</th>\n",
       "      <td>0.00000</td>\n",
       "      <td>2894.57</td>\n",
       "      <td>9.0</td>\n",
       "      <td>5</td>\n",
       "      <td>4</td>\n",
       "      <td>0.271914</td>\n",
       "      <td>0.0</td>\n",
       "      <td>-1.20205</td>\n",
       "    </tr>\n",
       "    <tr>\n",
       "      <th>0000681a0944cefb6b3a8e268c80aedf1</th>\n",
       "      <th>imovel</th>\n",
       "      <th>47d6248500cb7b7d</th>\n",
       "      <td>0.00000</td>\n",
       "      <td>513.48</td>\n",
       "      <td>4.0</td>\n",
       "      <td>10</td>\n",
       "      <td>0</td>\n",
       "      <td>0.000000</td>\n",
       "      <td>4.0</td>\n",
       "      <td>-1.02688</td>\n",
       "    </tr>\n",
       "    <tr>\n",
       "      <th>00007af008add2c7e52281a70553db461</th>\n",
       "      <th>imovel</th>\n",
       "      <th>d22c7618647dcf14</th>\n",
       "      <td>0.00000</td>\n",
       "      <td>930.47</td>\n",
       "      <td>9.0</td>\n",
       "      <td>8</td>\n",
       "      <td>0</td>\n",
       "      <td>0.000000</td>\n",
       "      <td>0.0</td>\n",
       "      <td>-1.02688</td>\n",
       "    </tr>\n",
       "    <tr>\n",
       "      <th>...</th>\n",
       "      <th>...</th>\n",
       "      <th>...</th>\n",
       "      <td>...</td>\n",
       "      <td>...</td>\n",
       "      <td>...</td>\n",
       "      <td>...</td>\n",
       "      <td>...</td>\n",
       "      <td>...</td>\n",
       "      <td>...</td>\n",
       "      <td>...</td>\n",
       "    </tr>\n",
       "    <tr>\n",
       "      <th>ffffd120a8f3f2799fcacff532cf50c41</th>\n",
       "      <th>imovel</th>\n",
       "      <th>934532c6c448a899</th>\n",
       "      <td>0.00000</td>\n",
       "      <td>802.85</td>\n",
       "      <td>9.0</td>\n",
       "      <td>8</td>\n",
       "      <td>0</td>\n",
       "      <td>0.000000</td>\n",
       "      <td>4.0</td>\n",
       "      <td>-1.02688</td>\n",
       "    </tr>\n",
       "    <tr>\n",
       "      <th>ffffd79d8aa612ac9fcacff532cf50c41</th>\n",
       "      <th>imovel</th>\n",
       "      <th>c6b16a1235d987d3</th>\n",
       "      <td>1.00000</td>\n",
       "      <td>26104.42</td>\n",
       "      <td>1.0</td>\n",
       "      <td>2</td>\n",
       "      <td>1</td>\n",
       "      <td>1.000000</td>\n",
       "      <td>4.0</td>\n",
       "      <td>1.66216</td>\n",
       "    </tr>\n",
       "    <tr>\n",
       "      <th>ffffd79d8aa612ac9fcacff532cf50c42</th>\n",
       "      <th>mercantil</th>\n",
       "      <th>cc5afb41f6fbc367</th>\n",
       "      <td>0.18519</td>\n",
       "      <td>1431.77</td>\n",
       "      <td>1.0</td>\n",
       "      <td>3</td>\n",
       "      <td>2</td>\n",
       "      <td>0.234058</td>\n",
       "      <td>3.0</td>\n",
       "      <td>1.66216</td>\n",
       "    </tr>\n",
       "    <tr>\n",
       "      <th>ffffd8af5760cada9fcacff532cf50c41</th>\n",
       "      <th>imovel</th>\n",
       "      <th>d411f54ad97d1f39</th>\n",
       "      <td>0.00000</td>\n",
       "      <td>1728.13</td>\n",
       "      <td>4.0</td>\n",
       "      <td>8</td>\n",
       "      <td>0</td>\n",
       "      <td>0.000000</td>\n",
       "      <td>1.0</td>\n",
       "      <td>-1.02688</td>\n",
       "    </tr>\n",
       "    <tr>\n",
       "      <th>ffffdb721b90282718565e26094f06ee2</th>\n",
       "      <th>mercantil</th>\n",
       "      <th>51d6043a4efa1ed1</th>\n",
       "      <td>0.00000</td>\n",
       "      <td>240.77</td>\n",
       "      <td>6.0</td>\n",
       "      <td>4</td>\n",
       "      <td>0</td>\n",
       "      <td>0.043960</td>\n",
       "      <td>3.0</td>\n",
       "      <td>1.66216</td>\n",
       "    </tr>\n",
       "  </tbody>\n",
       "</table>\n",
       "<p>898809 rows × 8 columns</p>\n",
       "</div>"
      ],
      "text/plain": [
       "                                                                percentual_pago_cda  \\\n",
       "cda                               tipo_divida id_pessoa                               \n",
       "0000521b64bf28c8e52281a70553db461 imovel      b5df816e1786f0a3              0.00000   \n",
       "000057f68f7b77276b3a8e268c80aedf1 imovel      e3df827c83c5efa8              0.00000   \n",
       "0000662885c684004bd01ecb8277da0b2 mercantil   bac1362812257f05              0.00000   \n",
       "0000681a0944cefb6b3a8e268c80aedf1 imovel      47d6248500cb7b7d              0.00000   \n",
       "00007af008add2c7e52281a70553db461 imovel      d22c7618647dcf14              0.00000   \n",
       "...                                                                             ...   \n",
       "ffffd120a8f3f2799fcacff532cf50c41 imovel      934532c6c448a899              0.00000   \n",
       "ffffd79d8aa612ac9fcacff532cf50c41 imovel      c6b16a1235d987d3              1.00000   \n",
       "ffffd79d8aa612ac9fcacff532cf50c42 mercantil   cc5afb41f6fbc367              0.18519   \n",
       "ffffd8af5760cada9fcacff532cf50c41 imovel      d411f54ad97d1f39              0.00000   \n",
       "ffffdb721b90282718565e26094f06ee2 mercantil   51d6043a4efa1ed1              0.00000   \n",
       "\n",
       "                                                                valor_total_da  \\\n",
       "cda                               tipo_divida id_pessoa                          \n",
       "0000521b64bf28c8e52281a70553db461 imovel      b5df816e1786f0a3          490.83   \n",
       "000057f68f7b77276b3a8e268c80aedf1 imovel      e3df827c83c5efa8         1148.06   \n",
       "0000662885c684004bd01ecb8277da0b2 mercantil   bac1362812257f05         2894.57   \n",
       "0000681a0944cefb6b3a8e268c80aedf1 imovel      47d6248500cb7b7d          513.48   \n",
       "00007af008add2c7e52281a70553db461 imovel      d22c7618647dcf14          930.47   \n",
       "...                                                                        ...   \n",
       "ffffd120a8f3f2799fcacff532cf50c41 imovel      934532c6c448a899          802.85   \n",
       "ffffd79d8aa612ac9fcacff532cf50c41 imovel      c6b16a1235d987d3        26104.42   \n",
       "ffffd79d8aa612ac9fcacff532cf50c42 mercantil   cc5afb41f6fbc367         1431.77   \n",
       "ffffd8af5760cada9fcacff532cf50c41 imovel      d411f54ad97d1f39         1728.13   \n",
       "ffffdb721b90282718565e26094f06ee2 mercantil   51d6043a4efa1ed1          240.77   \n",
       "\n",
       "                                                                idade_divida  \\\n",
       "cda                               tipo_divida id_pessoa                        \n",
       "0000521b64bf28c8e52281a70553db461 imovel      b5df816e1786f0a3           7.0   \n",
       "000057f68f7b77276b3a8e268c80aedf1 imovel      e3df827c83c5efa8           5.0   \n",
       "0000662885c684004bd01ecb8277da0b2 mercantil   bac1362812257f05           9.0   \n",
       "0000681a0944cefb6b3a8e268c80aedf1 imovel      47d6248500cb7b7d           4.0   \n",
       "00007af008add2c7e52281a70553db461 imovel      d22c7618647dcf14           9.0   \n",
       "...                                                                      ...   \n",
       "ffffd120a8f3f2799fcacff532cf50c41 imovel      934532c6c448a899           9.0   \n",
       "ffffd79d8aa612ac9fcacff532cf50c41 imovel      c6b16a1235d987d3           1.0   \n",
       "ffffd79d8aa612ac9fcacff532cf50c42 mercantil   cc5afb41f6fbc367           1.0   \n",
       "ffffd8af5760cada9fcacff532cf50c41 imovel      d411f54ad97d1f39           4.0   \n",
       "ffffdb721b90282718565e26094f06ee2 mercantil   51d6043a4efa1ed1           6.0   \n",
       "\n",
       "                                                                num_dist_cda  \\\n",
       "cda                               tipo_divida id_pessoa                        \n",
       "0000521b64bf28c8e52281a70553db461 imovel      b5df816e1786f0a3             8   \n",
       "000057f68f7b77276b3a8e268c80aedf1 imovel      e3df827c83c5efa8            14   \n",
       "0000662885c684004bd01ecb8277da0b2 mercantil   bac1362812257f05             5   \n",
       "0000681a0944cefb6b3a8e268c80aedf1 imovel      47d6248500cb7b7d            10   \n",
       "00007af008add2c7e52281a70553db461 imovel      d22c7618647dcf14             8   \n",
       "...                                                                      ...   \n",
       "ffffd120a8f3f2799fcacff532cf50c41 imovel      934532c6c448a899             8   \n",
       "ffffd79d8aa612ac9fcacff532cf50c41 imovel      c6b16a1235d987d3             2   \n",
       "ffffd79d8aa612ac9fcacff532cf50c42 mercantil   cc5afb41f6fbc367             3   \n",
       "ffffd8af5760cada9fcacff532cf50c41 imovel      d411f54ad97d1f39             8   \n",
       "ffffdb721b90282718565e26094f06ee2 mercantil   51d6043a4efa1ed1             4   \n",
       "\n",
       "                                                                quantidade_reparcelamento  \\\n",
       "cda                               tipo_divida id_pessoa                                     \n",
       "0000521b64bf28c8e52281a70553db461 imovel      b5df816e1786f0a3                          0   \n",
       "000057f68f7b77276b3a8e268c80aedf1 imovel      e3df827c83c5efa8                          9   \n",
       "0000662885c684004bd01ecb8277da0b2 mercantil   bac1362812257f05                          4   \n",
       "0000681a0944cefb6b3a8e268c80aedf1 imovel      47d6248500cb7b7d                          0   \n",
       "00007af008add2c7e52281a70553db461 imovel      d22c7618647dcf14                          0   \n",
       "...                                                                                   ...   \n",
       "ffffd120a8f3f2799fcacff532cf50c41 imovel      934532c6c448a899                          0   \n",
       "ffffd79d8aa612ac9fcacff532cf50c41 imovel      c6b16a1235d987d3                          1   \n",
       "ffffd79d8aa612ac9fcacff532cf50c42 mercantil   cc5afb41f6fbc367                          2   \n",
       "ffffd8af5760cada9fcacff532cf50c41 imovel      d411f54ad97d1f39                          0   \n",
       "ffffdb721b90282718565e26094f06ee2 mercantil   51d6043a4efa1ed1                          0   \n",
       "\n",
       "                                                                historico_pagamento_em_valor  \\\n",
       "cda                               tipo_divida id_pessoa                                        \n",
       "0000521b64bf28c8e52281a70553db461 imovel      b5df816e1786f0a3                      0.000000   \n",
       "000057f68f7b77276b3a8e268c80aedf1 imovel      e3df827c83c5efa8                      0.282706   \n",
       "0000662885c684004bd01ecb8277da0b2 mercantil   bac1362812257f05                      0.271914   \n",
       "0000681a0944cefb6b3a8e268c80aedf1 imovel      47d6248500cb7b7d                      0.000000   \n",
       "00007af008add2c7e52281a70553db461 imovel      d22c7618647dcf14                      0.000000   \n",
       "...                                                                                      ...   \n",
       "ffffd120a8f3f2799fcacff532cf50c41 imovel      934532c6c448a899                      0.000000   \n",
       "ffffd79d8aa612ac9fcacff532cf50c41 imovel      c6b16a1235d987d3                      1.000000   \n",
       "ffffd79d8aa612ac9fcacff532cf50c42 mercantil   cc5afb41f6fbc367                      0.234058   \n",
       "ffffd8af5760cada9fcacff532cf50c41 imovel      d411f54ad97d1f39                      0.000000   \n",
       "ffffdb721b90282718565e26094f06ee2 mercantil   51d6043a4efa1ed1                      0.043960   \n",
       "\n",
       "                                                                situacao_cobranca  \\\n",
       "cda                               tipo_divida id_pessoa                             \n",
       "0000521b64bf28c8e52281a70553db461 imovel      b5df816e1786f0a3                4.0   \n",
       "000057f68f7b77276b3a8e268c80aedf1 imovel      e3df827c83c5efa8                4.0   \n",
       "0000662885c684004bd01ecb8277da0b2 mercantil   bac1362812257f05                0.0   \n",
       "0000681a0944cefb6b3a8e268c80aedf1 imovel      47d6248500cb7b7d                4.0   \n",
       "00007af008add2c7e52281a70553db461 imovel      d22c7618647dcf14                0.0   \n",
       "...                                                                           ...   \n",
       "ffffd120a8f3f2799fcacff532cf50c41 imovel      934532c6c448a899                4.0   \n",
       "ffffd79d8aa612ac9fcacff532cf50c41 imovel      c6b16a1235d987d3                4.0   \n",
       "ffffd79d8aa612ac9fcacff532cf50c42 mercantil   cc5afb41f6fbc367                3.0   \n",
       "ffffd8af5760cada9fcacff532cf50c41 imovel      d411f54ad97d1f39                1.0   \n",
       "ffffdb721b90282718565e26094f06ee2 mercantil   51d6043a4efa1ed1                3.0   \n",
       "\n",
       "                                                                class_contribuinte_peso  \n",
       "cda                               tipo_divida id_pessoa                                  \n",
       "0000521b64bf28c8e52281a70553db461 imovel      b5df816e1786f0a3                 -1.02688  \n",
       "000057f68f7b77276b3a8e268c80aedf1 imovel      e3df827c83c5efa8                 -0.96509  \n",
       "0000662885c684004bd01ecb8277da0b2 mercantil   bac1362812257f05                 -1.20205  \n",
       "0000681a0944cefb6b3a8e268c80aedf1 imovel      47d6248500cb7b7d                 -1.02688  \n",
       "00007af008add2c7e52281a70553db461 imovel      d22c7618647dcf14                 -1.02688  \n",
       "...                                                                                 ...  \n",
       "ffffd120a8f3f2799fcacff532cf50c41 imovel      934532c6c448a899                 -1.02688  \n",
       "ffffd79d8aa612ac9fcacff532cf50c41 imovel      c6b16a1235d987d3                  1.66216  \n",
       "ffffd79d8aa612ac9fcacff532cf50c42 mercantil   cc5afb41f6fbc367                  1.66216  \n",
       "ffffd8af5760cada9fcacff532cf50c41 imovel      d411f54ad97d1f39                 -1.02688  \n",
       "ffffdb721b90282718565e26094f06ee2 mercantil   51d6043a4efa1ed1                  1.66216  \n",
       "\n",
       "[898809 rows x 8 columns]"
      ]
     },
     "execution_count": 73,
     "metadata": {},
     "output_type": "execute_result"
    }
   ],
   "source": [
    "df_feature_store"
   ]
  },
  {
   "cell_type": "code",
   "execution_count": 74,
   "metadata": {},
   "outputs": [],
   "source": [
    "# Gerando resíduos da predição (observado - previsão)\n",
    "df_feature_store['y_predict'] = previsoes_norm\n",
    "df_feature_store['residuos'] =  df_feature_store['percentual_pago_cda'] - df_feature_store['y_predict']"
   ]
  },
  {
   "cell_type": "code",
   "execution_count": 75,
   "metadata": {},
   "outputs": [
    {
     "data": {
      "text/plain": [
       "cda                                tipo_divida  id_pessoa       \n",
       "0000521b64bf28c8e52281a70553db461  imovel       b5df816e1786f0a3    0.000000\n",
       "000057f68f7b77276b3a8e268c80aedf1  imovel       e3df827c83c5efa8   -0.350495\n",
       "0000662885c684004bd01ecb8277da0b2  mercantil    bac1362812257f05   -0.165747\n",
       "0000681a0944cefb6b3a8e268c80aedf1  imovel       47d6248500cb7b7d    0.000000\n",
       "00007af008add2c7e52281a70553db461  imovel       d22c7618647dcf14    0.000000\n",
       "                                                                      ...   \n",
       "ffffd120a8f3f2799fcacff532cf50c41  imovel       934532c6c448a899    0.000000\n",
       "ffffd79d8aa612ac9fcacff532cf50c41  imovel       c6b16a1235d987d3    0.000000\n",
       "ffffd79d8aa612ac9fcacff532cf50c42  mercantil    cc5afb41f6fbc367   -0.020901\n",
       "ffffd8af5760cada9fcacff532cf50c41  imovel       d411f54ad97d1f39    0.000000\n",
       "ffffdb721b90282718565e26094f06ee2  mercantil    51d6043a4efa1ed1    0.000000\n",
       "Name: residuos, Length: 898809, dtype: float64"
      ]
     },
     "execution_count": 75,
     "metadata": {},
     "output_type": "execute_result"
    }
   ],
   "source": [
    "resid_1 = df_feature_store['residuos']\n",
    "resid_1"
   ]
  },
  {
   "cell_type": "code",
   "execution_count": 76,
   "metadata": {},
   "outputs": [
    {
     "data": {
      "text/plain": [
       "count    898809.000000\n",
       "mean          0.256011\n",
       "std           0.406663\n",
       "min           0.000000\n",
       "25%           0.000000\n",
       "50%           0.000000\n",
       "75%           0.494184\n",
       "max           1.000000\n",
       "Name: percentual_pago_cda, dtype: float64"
      ]
     },
     "execution_count": 76,
     "metadata": {},
     "output_type": "execute_result"
    }
   ],
   "source": [
    "df_feature_store['percentual_pago_cda'].describe()"
   ]
  },
  {
   "cell_type": "code",
   "execution_count": 77,
   "metadata": {},
   "outputs": [
    {
     "data": {
      "text/plain": [
       "count    898809.000000\n",
       "mean          0.256229\n",
       "std           0.380953\n",
       "min           0.000000\n",
       "25%           0.000000\n",
       "50%           0.000000\n",
       "75%           0.512713\n",
       "max           1.000000\n",
       "Name: y_predict, dtype: float64"
      ]
     },
     "execution_count": 77,
     "metadata": {},
     "output_type": "execute_result"
    }
   ],
   "source": [
    "df_feature_store['y_predict'].describe()"
   ]
  },
  {
   "cell_type": "code",
   "execution_count": 78,
   "metadata": {},
   "outputs": [
    {
     "data": {
      "text/html": [
       "<div>\n",
       "<style scoped>\n",
       "    .dataframe tbody tr th:only-of-type {\n",
       "        vertical-align: middle;\n",
       "    }\n",
       "\n",
       "    .dataframe tbody tr th {\n",
       "        vertical-align: top;\n",
       "    }\n",
       "\n",
       "    .dataframe thead th {\n",
       "        text-align: right;\n",
       "    }\n",
       "</style>\n",
       "<table border=\"1\" class=\"dataframe\">\n",
       "  <thead>\n",
       "    <tr style=\"text-align: right;\">\n",
       "      <th></th>\n",
       "      <th></th>\n",
       "      <th></th>\n",
       "      <th>y_predict</th>\n",
       "      <th>percentual_pago_cda</th>\n",
       "      <th>residuos</th>\n",
       "    </tr>\n",
       "    <tr>\n",
       "      <th>cda</th>\n",
       "      <th>tipo_divida</th>\n",
       "      <th>id_pessoa</th>\n",
       "      <th></th>\n",
       "      <th></th>\n",
       "      <th></th>\n",
       "    </tr>\n",
       "  </thead>\n",
       "  <tbody>\n",
       "    <tr>\n",
       "      <th>81ed54d3822e76fb9989bae6f4af91ee1</th>\n",
       "      <th>imovel</th>\n",
       "      <th>7dd935d69eddf059</th>\n",
       "      <td>0.000217</td>\n",
       "      <td>1.0</td>\n",
       "      <td>0.999783</td>\n",
       "    </tr>\n",
       "    <tr>\n",
       "      <th>1695016f9063c3789fcacff532cf50c41</th>\n",
       "      <th>imovel</th>\n",
       "      <th>f042070eeca7126d</th>\n",
       "      <td>0.000687</td>\n",
       "      <td>1.0</td>\n",
       "      <td>0.999313</td>\n",
       "    </tr>\n",
       "    <tr>\n",
       "      <th>a64aa1733e317bb64bd01ecb8277da0b1</th>\n",
       "      <th>imovel</th>\n",
       "      <th>a76661b73267ac39</th>\n",
       "      <td>0.000842</td>\n",
       "      <td>1.0</td>\n",
       "      <td>0.999158</td>\n",
       "    </tr>\n",
       "    <tr>\n",
       "      <th>b57f0bedd67ff13b7c8fa7a67092eaab1</th>\n",
       "      <th>imovel</th>\n",
       "      <th>acc1c99386aebb19</th>\n",
       "      <td>0.000926</td>\n",
       "      <td>1.0</td>\n",
       "      <td>0.999074</td>\n",
       "    </tr>\n",
       "    <tr>\n",
       "      <th>7c66bfd44e6815c52b46f673bf0c6125E</th>\n",
       "      <th>mercantil</th>\n",
       "      <th>0b64f1d3ba071a14</th>\n",
       "      <td>0.001006</td>\n",
       "      <td>1.0</td>\n",
       "      <td>0.998994</td>\n",
       "    </tr>\n",
       "    <tr>\n",
       "      <th>...</th>\n",
       "      <th>...</th>\n",
       "      <th>...</th>\n",
       "      <td>...</td>\n",
       "      <td>...</td>\n",
       "      <td>...</td>\n",
       "    </tr>\n",
       "    <tr>\n",
       "      <th>339e69a6bc605e1e6b3a8e268c80aedf1</th>\n",
       "      <th>imovel</th>\n",
       "      <th>3d036afe4f44d6da</th>\n",
       "      <td>0.990057</td>\n",
       "      <td>0.0</td>\n",
       "      <td>-0.990057</td>\n",
       "    </tr>\n",
       "    <tr>\n",
       "      <th>76c2eabc557b44876b3a8e268c80aedf1</th>\n",
       "      <th>imovel</th>\n",
       "      <th>82cd4b87659fff27</th>\n",
       "      <td>0.991802</td>\n",
       "      <td>0.0</td>\n",
       "      <td>-0.991802</td>\n",
       "    </tr>\n",
       "    <tr>\n",
       "      <th>5c8adeaf65e5a5322b46f673bf0c61251</th>\n",
       "      <th>imovel</th>\n",
       "      <th>8884d8bcc3b1ee6d</th>\n",
       "      <td>0.992769</td>\n",
       "      <td>0.0</td>\n",
       "      <td>-0.992769</td>\n",
       "    </tr>\n",
       "    <tr>\n",
       "      <th>7f366b6a1bb97f034bd01ecb8277da0b1</th>\n",
       "      <th>imovel</th>\n",
       "      <th>86040178c9e1eebf</th>\n",
       "      <td>0.994933</td>\n",
       "      <td>0.0</td>\n",
       "      <td>-0.994933</td>\n",
       "    </tr>\n",
       "    <tr>\n",
       "      <th>53ec7d0ff9122d469fcacff532cf50c41</th>\n",
       "      <th>imovel</th>\n",
       "      <th>117253e52bf2c54a</th>\n",
       "      <td>0.995775</td>\n",
       "      <td>0.0</td>\n",
       "      <td>-0.995775</td>\n",
       "    </tr>\n",
       "  </tbody>\n",
       "</table>\n",
       "<p>323564 rows × 3 columns</p>\n",
       "</div>"
      ],
      "text/plain": [
       "                                                                y_predict  \\\n",
       "cda                               tipo_divida id_pessoa                     \n",
       "81ed54d3822e76fb9989bae6f4af91ee1 imovel      7dd935d69eddf059   0.000217   \n",
       "1695016f9063c3789fcacff532cf50c41 imovel      f042070eeca7126d   0.000687   \n",
       "a64aa1733e317bb64bd01ecb8277da0b1 imovel      a76661b73267ac39   0.000842   \n",
       "b57f0bedd67ff13b7c8fa7a67092eaab1 imovel      acc1c99386aebb19   0.000926   \n",
       "7c66bfd44e6815c52b46f673bf0c6125E mercantil   0b64f1d3ba071a14   0.001006   \n",
       "...                                                                   ...   \n",
       "339e69a6bc605e1e6b3a8e268c80aedf1 imovel      3d036afe4f44d6da   0.990057   \n",
       "76c2eabc557b44876b3a8e268c80aedf1 imovel      82cd4b87659fff27   0.991802   \n",
       "5c8adeaf65e5a5322b46f673bf0c61251 imovel      8884d8bcc3b1ee6d   0.992769   \n",
       "7f366b6a1bb97f034bd01ecb8277da0b1 imovel      86040178c9e1eebf   0.994933   \n",
       "53ec7d0ff9122d469fcacff532cf50c41 imovel      117253e52bf2c54a   0.995775   \n",
       "\n",
       "                                                                percentual_pago_cda  \\\n",
       "cda                               tipo_divida id_pessoa                               \n",
       "81ed54d3822e76fb9989bae6f4af91ee1 imovel      7dd935d69eddf059                  1.0   \n",
       "1695016f9063c3789fcacff532cf50c41 imovel      f042070eeca7126d                  1.0   \n",
       "a64aa1733e317bb64bd01ecb8277da0b1 imovel      a76661b73267ac39                  1.0   \n",
       "b57f0bedd67ff13b7c8fa7a67092eaab1 imovel      acc1c99386aebb19                  1.0   \n",
       "7c66bfd44e6815c52b46f673bf0c6125E mercantil   0b64f1d3ba071a14                  1.0   \n",
       "...                                                                             ...   \n",
       "339e69a6bc605e1e6b3a8e268c80aedf1 imovel      3d036afe4f44d6da                  0.0   \n",
       "76c2eabc557b44876b3a8e268c80aedf1 imovel      82cd4b87659fff27                  0.0   \n",
       "5c8adeaf65e5a5322b46f673bf0c61251 imovel      8884d8bcc3b1ee6d                  0.0   \n",
       "7f366b6a1bb97f034bd01ecb8277da0b1 imovel      86040178c9e1eebf                  0.0   \n",
       "53ec7d0ff9122d469fcacff532cf50c41 imovel      117253e52bf2c54a                  0.0   \n",
       "\n",
       "                                                                residuos  \n",
       "cda                               tipo_divida id_pessoa                   \n",
       "81ed54d3822e76fb9989bae6f4af91ee1 imovel      7dd935d69eddf059  0.999783  \n",
       "1695016f9063c3789fcacff532cf50c41 imovel      f042070eeca7126d  0.999313  \n",
       "a64aa1733e317bb64bd01ecb8277da0b1 imovel      a76661b73267ac39  0.999158  \n",
       "b57f0bedd67ff13b7c8fa7a67092eaab1 imovel      acc1c99386aebb19  0.999074  \n",
       "7c66bfd44e6815c52b46f673bf0c6125E mercantil   0b64f1d3ba071a14  0.998994  \n",
       "...                                                                  ...  \n",
       "339e69a6bc605e1e6b3a8e268c80aedf1 imovel      3d036afe4f44d6da -0.990057  \n",
       "76c2eabc557b44876b3a8e268c80aedf1 imovel      82cd4b87659fff27 -0.991802  \n",
       "5c8adeaf65e5a5322b46f673bf0c61251 imovel      8884d8bcc3b1ee6d -0.992769  \n",
       "7f366b6a1bb97f034bd01ecb8277da0b1 imovel      86040178c9e1eebf -0.994933  \n",
       "53ec7d0ff9122d469fcacff532cf50c41 imovel      117253e52bf2c54a -0.995775  \n",
       "\n",
       "[323564 rows x 3 columns]"
      ]
     },
     "execution_count": 78,
     "metadata": {},
     "output_type": "execute_result"
    }
   ],
   "source": [
    "resid = df_feature_store[['y_predict', 'percentual_pago_cda', 'residuos']]\n",
    "resid = resid.sort_values(by = 'residuos', ascending = False)\n",
    "resid_not0 = resid[resid['y_predict'] != 0]\n",
    "resid_not0_not1 = resid_not0[resid_not0['y_predict'] != 1]\n",
    "resid_not0_not1"
   ]
  },
  {
   "cell_type": "code",
   "execution_count": 79,
   "metadata": {},
   "outputs": [
    {
     "data": {
      "text/html": [
       "<div>\n",
       "<style scoped>\n",
       "    .dataframe tbody tr th:only-of-type {\n",
       "        vertical-align: middle;\n",
       "    }\n",
       "\n",
       "    .dataframe tbody tr th {\n",
       "        vertical-align: top;\n",
       "    }\n",
       "\n",
       "    .dataframe thead th {\n",
       "        text-align: right;\n",
       "    }\n",
       "</style>\n",
       "<table border=\"1\" class=\"dataframe\">\n",
       "  <thead>\n",
       "    <tr style=\"text-align: right;\">\n",
       "      <th></th>\n",
       "      <th>inf</th>\n",
       "      <th>sup</th>\n",
       "      <th>intervalo</th>\n",
       "    </tr>\n",
       "  </thead>\n",
       "  <tbody>\n",
       "    <tr>\n",
       "      <th>0</th>\n",
       "      <td>-1.00</td>\n",
       "      <td>-0.75</td>\n",
       "      <td>[-1.0, -0.75)</td>\n",
       "    </tr>\n",
       "    <tr>\n",
       "      <th>1</th>\n",
       "      <td>-0.75</td>\n",
       "      <td>-0.50</td>\n",
       "      <td>[-0.75, -0.5)</td>\n",
       "    </tr>\n",
       "    <tr>\n",
       "      <th>2</th>\n",
       "      <td>-0.50</td>\n",
       "      <td>-0.25</td>\n",
       "      <td>[-0.5, -0.25)</td>\n",
       "    </tr>\n",
       "    <tr>\n",
       "      <th>3</th>\n",
       "      <td>-0.25</td>\n",
       "      <td>-0.20</td>\n",
       "      <td>[-0.25, -0.2)</td>\n",
       "    </tr>\n",
       "    <tr>\n",
       "      <th>4</th>\n",
       "      <td>-0.20</td>\n",
       "      <td>-0.15</td>\n",
       "      <td>[-0.2, -0.15)</td>\n",
       "    </tr>\n",
       "    <tr>\n",
       "      <th>5</th>\n",
       "      <td>-0.15</td>\n",
       "      <td>-0.10</td>\n",
       "      <td>[-0.15, -0.1)</td>\n",
       "    </tr>\n",
       "    <tr>\n",
       "      <th>6</th>\n",
       "      <td>-0.10</td>\n",
       "      <td>-0.05</td>\n",
       "      <td>[-0.1, -0.05)</td>\n",
       "    </tr>\n",
       "    <tr>\n",
       "      <th>7</th>\n",
       "      <td>-0.05</td>\n",
       "      <td>0.00</td>\n",
       "      <td>[-0.05, 0.0)</td>\n",
       "    </tr>\n",
       "    <tr>\n",
       "      <th>8</th>\n",
       "      <td>0.00</td>\n",
       "      <td>0.05</td>\n",
       "      <td>[0.0, 0.05)</td>\n",
       "    </tr>\n",
       "    <tr>\n",
       "      <th>9</th>\n",
       "      <td>0.05</td>\n",
       "      <td>0.10</td>\n",
       "      <td>[0.05, 0.1)</td>\n",
       "    </tr>\n",
       "    <tr>\n",
       "      <th>10</th>\n",
       "      <td>0.10</td>\n",
       "      <td>0.15</td>\n",
       "      <td>[0.1, 0.15)</td>\n",
       "    </tr>\n",
       "    <tr>\n",
       "      <th>11</th>\n",
       "      <td>0.15</td>\n",
       "      <td>0.20</td>\n",
       "      <td>[0.15, 0.2)</td>\n",
       "    </tr>\n",
       "    <tr>\n",
       "      <th>12</th>\n",
       "      <td>0.20</td>\n",
       "      <td>0.25</td>\n",
       "      <td>[0.2, 0.25)</td>\n",
       "    </tr>\n",
       "    <tr>\n",
       "      <th>13</th>\n",
       "      <td>0.25</td>\n",
       "      <td>0.50</td>\n",
       "      <td>[0.25, 0.5)</td>\n",
       "    </tr>\n",
       "    <tr>\n",
       "      <th>14</th>\n",
       "      <td>0.50</td>\n",
       "      <td>0.75</td>\n",
       "      <td>[0.5, 0.75)</td>\n",
       "    </tr>\n",
       "    <tr>\n",
       "      <th>15</th>\n",
       "      <td>0.75</td>\n",
       "      <td>1.00</td>\n",
       "      <td>[0.75, 1.0)</td>\n",
       "    </tr>\n",
       "  </tbody>\n",
       "</table>\n",
       "</div>"
      ],
      "text/plain": [
       "     inf   sup      intervalo\n",
       "0  -1.00 -0.75  [-1.0, -0.75)\n",
       "1  -0.75 -0.50  [-0.75, -0.5)\n",
       "2  -0.50 -0.25  [-0.5, -0.25)\n",
       "3  -0.25 -0.20  [-0.25, -0.2)\n",
       "4  -0.20 -0.15  [-0.2, -0.15)\n",
       "5  -0.15 -0.10  [-0.15, -0.1)\n",
       "6  -0.10 -0.05  [-0.1, -0.05)\n",
       "7  -0.05  0.00   [-0.05, 0.0)\n",
       "8   0.00  0.05    [0.0, 0.05)\n",
       "9   0.05  0.10    [0.05, 0.1)\n",
       "10  0.10  0.15    [0.1, 0.15)\n",
       "11  0.15  0.20    [0.15, 0.2)\n",
       "12  0.20  0.25    [0.2, 0.25)\n",
       "13  0.25  0.50    [0.25, 0.5)\n",
       "14  0.50  0.75    [0.5, 0.75)\n",
       "15  0.75  1.00    [0.75, 1.0)"
      ]
     },
     "execution_count": 79,
     "metadata": {},
     "output_type": "execute_result"
    }
   ],
   "source": [
    "data_percentil = {\n",
    "    'inf': [-1, -0.75, -0.5, -0.25, -0.2, -0.15, -0.1, -0.05, 0, 0.05, 0.1, 0.15, 0.2, 0.25, 0.5, 0.75],\n",
    "    'sup': [-0.75, -0.5, -0.25, -0.2, -0.15, -0.1, -0.05, 0, 0.05, 0.1, 0.15, 0.2, 0.25, 0.5, 0.75, 1]\n",
    "}\n",
    "[-1, -0.75, -0.5, -0.25, -0.2, -0.15, -0.1, -0.05, 0, 0.05, 0.1, 0.15, 0.2, 0.25, 0.5, 0.75, 1]\n",
    "\n",
    "# Creating a DataFrame from the dictionary\n",
    "df_cut_percentil = pd.DataFrame(data_percentil)\n",
    "\n",
    "df_cut_percentil['intervalo'] = df_cut_percentil.apply(paste_intervalo, axis = 1)\n",
    "df_cut_percentil "
   ]
  },
  {
   "cell_type": "code",
   "execution_count": 80,
   "metadata": {},
   "outputs": [
    {
     "data": {
      "text/html": [
       "<div>\n",
       "<style scoped>\n",
       "    .dataframe tbody tr th:only-of-type {\n",
       "        vertical-align: middle;\n",
       "    }\n",
       "\n",
       "    .dataframe tbody tr th {\n",
       "        vertical-align: top;\n",
       "    }\n",
       "\n",
       "    .dataframe thead th {\n",
       "        text-align: right;\n",
       "    }\n",
       "</style>\n",
       "<table border=\"1\" class=\"dataframe\">\n",
       "  <thead>\n",
       "    <tr style=\"text-align: right;\">\n",
       "      <th></th>\n",
       "      <th>resid_faixas</th>\n",
       "      <th>perc</th>\n",
       "    </tr>\n",
       "    <tr>\n",
       "      <th>resid_faixas</th>\n",
       "      <th></th>\n",
       "      <th></th>\n",
       "    </tr>\n",
       "  </thead>\n",
       "  <tbody>\n",
       "    <tr>\n",
       "      <th>[-1.0, -0.75)</th>\n",
       "      <td>1019</td>\n",
       "      <td>0.00113</td>\n",
       "    </tr>\n",
       "    <tr>\n",
       "      <th>[-0.75, -0.5)</th>\n",
       "      <td>2956</td>\n",
       "      <td>0.00329</td>\n",
       "    </tr>\n",
       "    <tr>\n",
       "      <th>[-0.5, -0.25)</th>\n",
       "      <td>12906</td>\n",
       "      <td>0.01436</td>\n",
       "    </tr>\n",
       "    <tr>\n",
       "      <th>[-0.25, -0.2)</th>\n",
       "      <td>7571</td>\n",
       "      <td>0.00842</td>\n",
       "    </tr>\n",
       "    <tr>\n",
       "      <th>[-0.2, -0.15)</th>\n",
       "      <td>11646</td>\n",
       "      <td>0.01296</td>\n",
       "    </tr>\n",
       "    <tr>\n",
       "      <th>[-0.15, -0.1)</th>\n",
       "      <td>19378</td>\n",
       "      <td>0.02156</td>\n",
       "    </tr>\n",
       "    <tr>\n",
       "      <th>[-0.1, -0.05)</th>\n",
       "      <td>35489</td>\n",
       "      <td>0.03949</td>\n",
       "    </tr>\n",
       "    <tr>\n",
       "      <th>[-0.05, 0.0)</th>\n",
       "      <td>99936</td>\n",
       "      <td>0.11119</td>\n",
       "    </tr>\n",
       "    <tr>\n",
       "      <th>[0.0, 0.05)</th>\n",
       "      <td>626255</td>\n",
       "      <td>0.69677</td>\n",
       "    </tr>\n",
       "    <tr>\n",
       "      <th>[0.05, 0.1)</th>\n",
       "      <td>26133</td>\n",
       "      <td>0.02908</td>\n",
       "    </tr>\n",
       "    <tr>\n",
       "      <th>[0.1, 0.15)</th>\n",
       "      <td>16263</td>\n",
       "      <td>0.01809</td>\n",
       "    </tr>\n",
       "    <tr>\n",
       "      <th>[0.15, 0.2)</th>\n",
       "      <td>11569</td>\n",
       "      <td>0.01287</td>\n",
       "    </tr>\n",
       "    <tr>\n",
       "      <th>[0.2, 0.25)</th>\n",
       "      <td>7525</td>\n",
       "      <td>0.00837</td>\n",
       "    </tr>\n",
       "    <tr>\n",
       "      <th>[0.25, 0.5)</th>\n",
       "      <td>14803</td>\n",
       "      <td>0.01647</td>\n",
       "    </tr>\n",
       "    <tr>\n",
       "      <th>[0.5, 0.75)</th>\n",
       "      <td>3856</td>\n",
       "      <td>0.00429</td>\n",
       "    </tr>\n",
       "    <tr>\n",
       "      <th>[0.75, 1.0)</th>\n",
       "      <td>1492</td>\n",
       "      <td>0.00166</td>\n",
       "    </tr>\n",
       "  </tbody>\n",
       "</table>\n",
       "</div>"
      ],
      "text/plain": [
       "               resid_faixas     perc\n",
       "resid_faixas                        \n",
       "[-1.0, -0.75)          1019  0.00113\n",
       "[-0.75, -0.5)          2956  0.00329\n",
       "[-0.5, -0.25)         12906  0.01436\n",
       "[-0.25, -0.2)          7571  0.00842\n",
       "[-0.2, -0.15)         11646  0.01296\n",
       "[-0.15, -0.1)         19378  0.02156\n",
       "[-0.1, -0.05)         35489  0.03949\n",
       "[-0.05, 0.0)          99936  0.11119\n",
       "[0.0, 0.05)          626255  0.69677\n",
       "[0.05, 0.1)           26133  0.02908\n",
       "[0.1, 0.15)           16263  0.01809\n",
       "[0.15, 0.2)           11569  0.01287\n",
       "[0.2, 0.25)            7525  0.00837\n",
       "[0.25, 0.5)           14803  0.01647\n",
       "[0.5, 0.75)            3856  0.00429\n",
       "[0.75, 1.0)            1492  0.00166"
      ]
     },
     "execution_count": 80,
     "metadata": {},
     "output_type": "execute_result"
    }
   ],
   "source": [
    "# Define the bins and labels for groups\n",
    "igr_bins = [-1, -0.75, -0.5, -0.25, -0.2, -0.15, -0.1, -0.05, 0, 0.05, 0.1, 0.15, 0.2, 0.25, 0.5, 0.75, 1]\n",
    "igr_labels = df_cut_percentil['intervalo']\n",
    "\n",
    "resid['resid_faixas'] = pd.cut(resid['residuos'], \n",
    "                                bins = igr_bins, \n",
    "                                labels = igr_labels, \n",
    "                                right = False)\n",
    "\n",
    "# Criar a tabela de contingência\n",
    "df_summary_residuos = resid.groupby('resid_faixas')['resid_faixas'].count().to_frame()\n",
    "total = df_summary_residuos['resid_faixas'].sum()\n",
    "df_summary_residuos['perc'] = np.round(df_summary_residuos['resid_faixas']/total, 5)\n",
    "df_summary_residuos  "
   ]
  },
  {
   "cell_type": "code",
   "execution_count": 81,
   "metadata": {},
   "outputs": [
    {
     "data": {
      "text/html": [
       "<div>\n",
       "<style scoped>\n",
       "    .dataframe tbody tr th:only-of-type {\n",
       "        vertical-align: middle;\n",
       "    }\n",
       "\n",
       "    .dataframe tbody tr th {\n",
       "        vertical-align: top;\n",
       "    }\n",
       "\n",
       "    .dataframe thead th {\n",
       "        text-align: right;\n",
       "    }\n",
       "</style>\n",
       "<table border=\"1\" class=\"dataframe\">\n",
       "  <thead>\n",
       "    <tr style=\"text-align: right;\">\n",
       "      <th></th>\n",
       "      <th>resid_faixas</th>\n",
       "      <th>freq</th>\n",
       "      <th>perc</th>\n",
       "    </tr>\n",
       "  </thead>\n",
       "  <tbody>\n",
       "    <tr>\n",
       "      <th>0</th>\n",
       "      <td>[-1.0, -0.75)</td>\n",
       "      <td>1019</td>\n",
       "      <td>0.00113</td>\n",
       "    </tr>\n",
       "    <tr>\n",
       "      <th>1</th>\n",
       "      <td>[-0.75, -0.5)</td>\n",
       "      <td>2956</td>\n",
       "      <td>0.00329</td>\n",
       "    </tr>\n",
       "    <tr>\n",
       "      <th>2</th>\n",
       "      <td>[-0.5, -0.25)</td>\n",
       "      <td>12906</td>\n",
       "      <td>0.01436</td>\n",
       "    </tr>\n",
       "    <tr>\n",
       "      <th>3</th>\n",
       "      <td>[-0.25, -0.2)</td>\n",
       "      <td>7571</td>\n",
       "      <td>0.00842</td>\n",
       "    </tr>\n",
       "    <tr>\n",
       "      <th>4</th>\n",
       "      <td>[-0.2, -0.15)</td>\n",
       "      <td>11646</td>\n",
       "      <td>0.01296</td>\n",
       "    </tr>\n",
       "    <tr>\n",
       "      <th>5</th>\n",
       "      <td>[-0.15, -0.1)</td>\n",
       "      <td>19378</td>\n",
       "      <td>0.02156</td>\n",
       "    </tr>\n",
       "    <tr>\n",
       "      <th>6</th>\n",
       "      <td>[-0.1, -0.05)</td>\n",
       "      <td>35489</td>\n",
       "      <td>0.03949</td>\n",
       "    </tr>\n",
       "    <tr>\n",
       "      <th>7</th>\n",
       "      <td>[-0.05, 0.0)</td>\n",
       "      <td>99936</td>\n",
       "      <td>0.11119</td>\n",
       "    </tr>\n",
       "    <tr>\n",
       "      <th>8</th>\n",
       "      <td>[0.0, 0.05)</td>\n",
       "      <td>626255</td>\n",
       "      <td>0.69677</td>\n",
       "    </tr>\n",
       "    <tr>\n",
       "      <th>9</th>\n",
       "      <td>[0.05, 0.1)</td>\n",
       "      <td>26133</td>\n",
       "      <td>0.02908</td>\n",
       "    </tr>\n",
       "    <tr>\n",
       "      <th>10</th>\n",
       "      <td>[0.1, 0.15)</td>\n",
       "      <td>16263</td>\n",
       "      <td>0.01809</td>\n",
       "    </tr>\n",
       "    <tr>\n",
       "      <th>11</th>\n",
       "      <td>[0.15, 0.2)</td>\n",
       "      <td>11569</td>\n",
       "      <td>0.01287</td>\n",
       "    </tr>\n",
       "    <tr>\n",
       "      <th>12</th>\n",
       "      <td>[0.2, 0.25)</td>\n",
       "      <td>7525</td>\n",
       "      <td>0.00837</td>\n",
       "    </tr>\n",
       "    <tr>\n",
       "      <th>13</th>\n",
       "      <td>[0.25, 0.5)</td>\n",
       "      <td>14803</td>\n",
       "      <td>0.01647</td>\n",
       "    </tr>\n",
       "    <tr>\n",
       "      <th>14</th>\n",
       "      <td>[0.5, 0.75)</td>\n",
       "      <td>3856</td>\n",
       "      <td>0.00429</td>\n",
       "    </tr>\n",
       "    <tr>\n",
       "      <th>15</th>\n",
       "      <td>[0.75, 1.0)</td>\n",
       "      <td>1492</td>\n",
       "      <td>0.00166</td>\n",
       "    </tr>\n",
       "  </tbody>\n",
       "</table>\n",
       "</div>"
      ],
      "text/plain": [
       "     resid_faixas    freq     perc\n",
       "0   [-1.0, -0.75)    1019  0.00113\n",
       "1   [-0.75, -0.5)    2956  0.00329\n",
       "2   [-0.5, -0.25)   12906  0.01436\n",
       "3   [-0.25, -0.2)    7571  0.00842\n",
       "4   [-0.2, -0.15)   11646  0.01296\n",
       "5   [-0.15, -0.1)   19378  0.02156\n",
       "6   [-0.1, -0.05)   35489  0.03949\n",
       "7    [-0.05, 0.0)   99936  0.11119\n",
       "8     [0.0, 0.05)  626255  0.69677\n",
       "9     [0.05, 0.1)   26133  0.02908\n",
       "10    [0.1, 0.15)   16263  0.01809\n",
       "11    [0.15, 0.2)   11569  0.01287\n",
       "12    [0.2, 0.25)    7525  0.00837\n",
       "13    [0.25, 0.5)   14803  0.01647\n",
       "14    [0.5, 0.75)    3856  0.00429\n",
       "15    [0.75, 1.0)    1492  0.00166"
      ]
     },
     "execution_count": 81,
     "metadata": {},
     "output_type": "execute_result"
    }
   ],
   "source": [
    "#df_summary_residuos = resid.groupby('y_faixas')['y_faixas'].count().to_frame()#.reset_index()\n",
    "df_summary_residuos = df_summary_residuos.rename(columns = {'resid_faixas':'freq'})\n",
    "df_summary_residuos = df_summary_residuos.reset_index()\n",
    "df_summary_residuos"
   ]
  },
  {
   "cell_type": "code",
   "execution_count": 82,
   "metadata": {},
   "outputs": [
    {
     "data": {
      "image/png": "[encoded data removed]",
      "text/plain": [
       "<Figure size 640x480 with 1 Axes>"
      ]
     },
     "metadata": {},
     "output_type": "display_data"
    }
   ],
   "source": [
    "# import matplotlib.pyplot as plt\n",
    "\n",
    "# # Dados para o gráfico de barras\n",
    "categorias = df_summary_residuos['resid_faixas']\n",
    "valores = df_summary_residuos['freq']\n",
    "\n",
    "# # Criar o gráfico de barras\n",
    "plt.bar(categorias, valores)\n",
    "\n",
    "# # Adicionar rótulos ao gráfico\n",
    "plt.xlabel('Categorias')\n",
    "plt.ylabel('Valores')\n",
    "plt.title('Gráfico de Barras Simples')\n",
    "\n",
    "plt.xticks(rotation=45)\n",
    "\n",
    "# # Exibir o gráfico\n",
    "plt.show()"
   ]
  },
  {
   "cell_type": "code",
   "execution_count": 83,
   "metadata": {},
   "outputs": [
    {
     "data": {
      "image/png": "[encoded data removed]",
      "text/plain": [
       "<Figure size 500x500 with 1 Axes>"
      ]
     },
     "metadata": {},
     "output_type": "display_data"
    }
   ],
   "source": [
    "# Todos os pontos\n",
    "df_regressao = df_feature_store.query(\"percentual_pago_cda != 1\").query(\"percentual_pago_cda != 0\")\n",
    "\n",
    "sns.lmplot(x='y_predict' , y='percentual_pago_cda', data=df_regressao, scatter_kws={'alpha': 0.5})\n",
    "\n",
    "plt.title(\"Função de regressão do IGR - Valores previstos x Valores reais\")\n",
    "plt.xlabel(\"Valores previstos\")\n",
    "plt.ylabel(\"Valores reais\")\n",
    "\n",
    "plt.show()"
   ]
  },
  {
   "cell_type": "code",
   "execution_count": 84,
   "metadata": {},
   "outputs": [
    {
     "data": {
      "text/plain": [
       "count    898809.000000\n",
       "mean         -0.000218\n",
       "std           0.105895\n",
       "min          -1.000000\n",
       "25%           0.000000\n",
       "50%           0.000000\n",
       "75%           0.000000\n",
       "max           1.000000\n",
       "Name: residuos, dtype: float64"
      ]
     },
     "execution_count": 84,
     "metadata": {},
     "output_type": "execute_result"
    }
   ],
   "source": [
    "resid['residuos'].describe()"
   ]
  },
  {
   "cell_type": "code",
   "execution_count": 85,
   "metadata": {},
   "outputs": [
    {
     "data": {
      "text/plain": [
       "cda                                tipo_divida  id_pessoa       \n",
       "0000521b64bf28c8e52281a70553db461  imovel       b5df816e1786f0a3    0.000000\n",
       "000057f68f7b77276b3a8e268c80aedf1  imovel       e3df827c83c5efa8   -0.350495\n",
       "0000662885c684004bd01ecb8277da0b2  mercantil    bac1362812257f05   -0.165747\n",
       "0000681a0944cefb6b3a8e268c80aedf1  imovel       47d6248500cb7b7d    0.000000\n",
       "00007af008add2c7e52281a70553db461  imovel       d22c7618647dcf14    0.000000\n",
       "                                                                      ...   \n",
       "ffffd120a8f3f2799fcacff532cf50c41  imovel       934532c6c448a899    0.000000\n",
       "ffffd79d8aa612ac9fcacff532cf50c41  imovel       c6b16a1235d987d3    0.000000\n",
       "ffffd79d8aa612ac9fcacff532cf50c42  mercantil    cc5afb41f6fbc367   -0.020901\n",
       "ffffd8af5760cada9fcacff532cf50c41  imovel       d411f54ad97d1f39    0.000000\n",
       "ffffdb721b90282718565e26094f06ee2  mercantil    51d6043a4efa1ed1    0.000000\n",
       "Length: 898809, dtype: float64"
      ]
     },
     "execution_count": 85,
     "metadata": {},
     "output_type": "execute_result"
    }
   ],
   "source": [
    "# Transforme a série em um DataFrame com uma coluna chamada 'nome_da_coluna'\n",
    "resid25 =  df_feature_store['percentual_pago_cda'] - df_feature_store['y_predict']\n",
    "resid25\n"
   ]
  },
  {
   "cell_type": "code",
   "execution_count": 86,
   "metadata": {},
   "outputs": [
    {
     "name": "stdout",
     "output_type": "stream",
     "text": [
      "O modelo se ajusta bem aos dados (p_valor = 1.000)\n"
     ]
    }
   ],
   "source": [
    "from scipy.stats import chisquare\n",
    "\n",
    "stat, p_valor = chisquare(resid25, f_exp=None)\n",
    "nivel_de_significancia = 0.05\n",
    "\n",
    "if (p_valor < nivel_de_significancia).any():\n",
    "    print('O modelo não se ajusta bem aos dados (p_valor = {:.3f})'.format(p_valor))\n",
    "else:\n",
    "    print('O modelo se ajusta bem aos dados (p_valor = {:.3f})'.format(p_valor))"
   ]
  },
  {
   "cell_type": "code",
   "execution_count": 87,
   "metadata": {},
   "outputs": [
    {
     "data": {
      "text/plain": [
       "0.10589478115295753"
      ]
     },
     "execution_count": 87,
     "metadata": {},
     "output_type": "execute_result"
    }
   ],
   "source": [
    "resid['residuos'].std()"
   ]
  },
  {
   "cell_type": "code",
   "execution_count": 89,
   "metadata": {},
   "outputs": [
    {
     "data": {
      "image/png": "[encoded data removed]",
      "text/plain": [
       "<Figure size 500x500 with 1 Axes>"
      ]
     },
     "metadata": {},
     "output_type": "display_data"
    }
   ],
   "source": [
    "# Amostras\n",
    "df_regressao = resid.sample(n=140000)\n",
    "\n",
    "sns.lmplot(x='y_predict' , y='percentual_pago_cda', data=df_regressao, scatter_kws={'alpha': 0.5})\n",
    "\n",
    "plt.title(\"Função de regressão do IGR - Valores previstos x Valores reais\")\n",
    "plt.xlabel(\"Valores previstos\")\n",
    "plt.ylabel(\"Valores reais\")\n",
    "\n",
    "plt.show()\n"
   ]
  },
  {
   "cell_type": "markdown",
   "metadata": {},
   "source": [
    "# Atenção, Larissa\n",
    "\n",
    "### Calcular um tamanho de amostra n para amostrar os resíduos"
   ]
  },
  {
   "cell_type": "code",
   "execution_count": 88,
   "metadata": {},
   "outputs": [
    {
     "data": {
      "image/png": "[encoded data removed]",
      "text/plain": [
       "<Figure size 1000x500 with 2 Axes>"
      ]
     },
     "metadata": {},
     "output_type": "display_data"
    }
   ],
   "source": [
    "matriz_corr_regressao = df_feature_store.corr()\n",
    "plt.figure(figsize=(10,5))\n",
    "sns.heatmap(matriz_corr_regressao, annot = True, fmt = \".2f\")\n",
    "plt.show()"
   ]
  },
  {
   "cell_type": "code",
   "execution_count": 89,
   "metadata": {},
   "outputs": [
    {
     "data": {
      "text/plain": [
       "count    898809.000000\n",
       "mean         -0.000218\n",
       "std           0.105895\n",
       "min          -1.000000\n",
       "25%           0.000000\n",
       "50%           0.000000\n",
       "75%           0.000000\n",
       "max           1.000000\n",
       "Name: residuos, dtype: float64"
      ]
     },
     "execution_count": 89,
     "metadata": {},
     "output_type": "execute_result"
    }
   ],
   "source": [
    "df_feature_store['residuos'].describe()"
   ]
  },
  {
   "cell_type": "code",
   "execution_count": 90,
   "metadata": {},
   "outputs": [
    {
     "data": {
      "text/html": [
       "<div>\n",
       "<style scoped>\n",
       "    .dataframe tbody tr th:only-of-type {\n",
       "        vertical-align: middle;\n",
       "    }\n",
       "\n",
       "    .dataframe tbody tr th {\n",
       "        vertical-align: top;\n",
       "    }\n",
       "\n",
       "    .dataframe thead th {\n",
       "        text-align: right;\n",
       "    }\n",
       "</style>\n",
       "<table border=\"1\" class=\"dataframe\">\n",
       "  <thead>\n",
       "    <tr style=\"text-align: right;\">\n",
       "      <th>ypred_faixas</th>\n",
       "      <th>[0.0, 0.01)</th>\n",
       "      <th>[0.01, 0.25)</th>\n",
       "      <th>[0.25, 0.5)</th>\n",
       "      <th>[0.5, 0.75)</th>\n",
       "      <th>[0.75, 0.99)</th>\n",
       "      <th>[0.99, 1.0)</th>\n",
       "      <th>[1.0, 1.01)</th>\n",
       "    </tr>\n",
       "    <tr>\n",
       "      <th>y_faixas</th>\n",
       "      <th></th>\n",
       "      <th></th>\n",
       "      <th></th>\n",
       "      <th></th>\n",
       "      <th></th>\n",
       "      <th></th>\n",
       "      <th></th>\n",
       "    </tr>\n",
       "  </thead>\n",
       "  <tbody>\n",
       "    <tr>\n",
       "      <th>[0.0, 0.01)</th>\n",
       "      <td>499992</td>\n",
       "      <td>64822</td>\n",
       "      <td>8286</td>\n",
       "      <td>2319</td>\n",
       "      <td>939</td>\n",
       "      <td>16</td>\n",
       "      <td>14</td>\n",
       "    </tr>\n",
       "    <tr>\n",
       "      <th>[0.01, 0.25)</th>\n",
       "      <td>324</td>\n",
       "      <td>50639</td>\n",
       "      <td>11003</td>\n",
       "      <td>1254</td>\n",
       "      <td>223</td>\n",
       "      <td>1</td>\n",
       "      <td>1</td>\n",
       "    </tr>\n",
       "    <tr>\n",
       "      <th>[0.25, 0.5)</th>\n",
       "      <td>18</td>\n",
       "      <td>2407</td>\n",
       "      <td>24870</td>\n",
       "      <td>6914</td>\n",
       "      <td>607</td>\n",
       "      <td>2</td>\n",
       "      <td>7</td>\n",
       "    </tr>\n",
       "    <tr>\n",
       "      <th>[0.5, 0.75)</th>\n",
       "      <td>5</td>\n",
       "      <td>420</td>\n",
       "      <td>3814</td>\n",
       "      <td>30325</td>\n",
       "      <td>2304</td>\n",
       "      <td>1</td>\n",
       "      <td>3</td>\n",
       "    </tr>\n",
       "    <tr>\n",
       "      <th>[0.75, 0.99)</th>\n",
       "      <td>0</td>\n",
       "      <td>8</td>\n",
       "      <td>73</td>\n",
       "      <td>672</td>\n",
       "      <td>522</td>\n",
       "      <td>1</td>\n",
       "      <td>0</td>\n",
       "    </tr>\n",
       "    <tr>\n",
       "      <th>[1.0, 1.01)</th>\n",
       "      <td>41</td>\n",
       "      <td>1444</td>\n",
       "      <td>3676</td>\n",
       "      <td>13260</td>\n",
       "      <td>62506</td>\n",
       "      <td>5235</td>\n",
       "      <td>99841</td>\n",
       "    </tr>\n",
       "  </tbody>\n",
       "</table>\n",
       "</div>"
      ],
      "text/plain": [
       "ypred_faixas  [0.0, 0.01)  [0.01, 0.25)  [0.25, 0.5)  [0.5, 0.75)  \\\n",
       "y_faixas                                                            \n",
       "[0.0, 0.01)        499992         64822         8286         2319   \n",
       "[0.01, 0.25)          324         50639        11003         1254   \n",
       "[0.25, 0.5)            18          2407        24870         6914   \n",
       "[0.5, 0.75)             5           420         3814        30325   \n",
       "[0.75, 0.99)            0             8           73          672   \n",
       "[1.0, 1.01)            41          1444         3676        13260   \n",
       "\n",
       "ypred_faixas  [0.75, 0.99)  [0.99, 1.0)  [1.0, 1.01)  \n",
       "y_faixas                                              \n",
       "[0.0, 0.01)            939           16           14  \n",
       "[0.01, 0.25)           223            1            1  \n",
       "[0.25, 0.5)            607            2            7  \n",
       "[0.5, 0.75)           2304            1            3  \n",
       "[0.75, 0.99)           522            1            0  \n",
       "[1.0, 1.01)          62506         5235        99841  "
      ]
     },
     "execution_count": 90,
     "metadata": {},
     "output_type": "execute_result"
    }
   ],
   "source": [
    "data_percentil = {\n",
    "    'inf': [0, 0.01, 0.25, 0.5, 0.75, 0.99, 1],\n",
    "    'sup': [0.01, 0.25, 0.5, 0.75, 0.99, 1, 1.01]\n",
    "}\n",
    "\n",
    "# Creating a DataFrame from the dictionary\n",
    "df_cut_percentil = pd.DataFrame(data_percentil)\n",
    "\n",
    "df_cut_percentil['intervalo'] = df_cut_percentil.apply(paste_intervalo, axis = 1)\n",
    "\n",
    "# Define the bins and labels for groups\n",
    "igr_bins = [0, 0.01, 0.25, 0.5, 0.75, 0.99, 1, 1.01]\n",
    "igr_labels = df_cut_percentil['intervalo']\n",
    "\n",
    "resid['ypred_faixas'] = pd.cut(resid['y_predict'], \n",
    "                                bins = igr_bins, \n",
    "                                labels = igr_labels, \n",
    "                                right = False)\n",
    "                            \n",
    "resid['y_faixas'] = pd.cut(resid['percentual_pago_cda'], \n",
    "                                bins = igr_bins, \n",
    "                                labels = igr_labels, \n",
    "                                right = False)\n",
    "\n",
    "# Criar a tabela de contingência\n",
    "contingency_table = pd.crosstab(resid['y_faixas'], resid['ypred_faixas'])\n",
    "contingency_table   "
   ]
  },
  {
   "attachments": {},
   "cell_type": "markdown",
   "metadata": {},
   "source": [
    "# 07) Salvando o melhor modelo"
   ]
  },
  {
   "cell_type": "code",
   "execution_count": 92,
   "metadata": {},
   "outputs": [],
   "source": [
    "def salva_modelo_serializado(nome_modelo_serializado, modelo):\n",
    "    sav_best_model = open(nome_modelo_serializado, 'wb')\n",
    "    pickle.dump(modelo, sav_best_model)\n",
    "    sav_best_model.close()\n",
    "\n",
    "    pathModelo = modelsPath+\"\\\\\"+os.path.join(nome_modelo_serializado)\n",
    "    shutil.move(os.path.abspath(nome_modelo_serializado), pathModelo)"
   ]
  },
  {
   "cell_type": "code",
   "execution_count": 93,
   "metadata": {},
   "outputs": [],
   "source": [
    "salva_modelo_serializado(\"modeloDA-igr-divida-prime_maxpg_k5_luan.pkl\", best_model)"
   ]
  }
 ],
 "metadata": {
  "kernelspec": {
   "display_name": "ml-recife",
   "language": "python",
   "name": "python3"
  },
  "language_info": {
   "codemirror_mode": {
    "name": "ipython",
    "version": 3
   },
   "file_extension": ".py",
   "mimetype": "text/x-python",
   "name": "python",
   "nbconvert_exporter": "python",
   "pygments_lexer": "ipython3",
   "version": "3.10.0"
  },
  "orig_nbformat": 4
 },
 "nbformat": 4,
 "nbformat_minor": 2
}
