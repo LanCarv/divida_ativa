{
 "cells": [
  {
   "attachments": {},
   "cell_type": "markdown",
   "metadata": {},
   "source": [
    "# Obtenção de rating do contribuinte\n",
    "\n",
    "Com o objetivo de direcionar o modelo que ditá quais dívidas são melhores de recuperar, será realizado um rating que envolva apenas as variáveis do contribuinte."
   ]
  },
  {
   "cell_type": "code",
   "execution_count": 41,
   "metadata": {},
   "outputs": [],
   "source": [
    "import os\n",
    "import dotenv\n",
    "import zipfile\n",
    "import pandas as pd\n",
    "import numpy as np\n",
    "from datetime import date\n",
    "\n",
    "from sklearn.cluster import KMeans\n",
    "from sklearn.model_selection import train_test_split\n",
    "from sklearn.ensemble import RandomForestClassifier\n",
    "from sklearn.discriminant_analysis import LinearDiscriminantAnalysis\n",
    "from sklearn.preprocessing import OneHotEncoder\n",
    "\n",
    "import seaborn as sns\n",
    "from matplotlib import pyplot as plt\n",
    "import plotly.graph_objects as go\n",
    "\n",
    "import pickle\n",
    "import shutil"
   ]
  },
  {
   "cell_type": "code",
   "execution_count": 42,
   "metadata": {},
   "outputs": [],
   "source": [
    "import warnings\n",
    "warnings.filterwarnings(\"ignore\")"
   ]
  },
  {
   "cell_type": "code",
   "execution_count": 43,
   "metadata": {},
   "outputs": [
    {
     "data": {
      "text/plain": [
       "True"
      ]
     },
     "execution_count": 43,
     "metadata": {},
     "output_type": "execute_result"
    }
   ],
   "source": [
    "rootPath = os.getcwd()\n",
    "dataPath = os.path.join(rootPath, 'data')\n",
    "modelsPath = os.path.join(rootPath, 'models')\n",
    "env = os.path.join(rootPath, '.env')\n",
    "dotenv.load_dotenv(dotenv_path=env)"
   ]
  },
  {
   "cell_type": "code",
   "execution_count": 44,
   "metadata": {},
   "outputs": [],
   "source": [
    "import locale\n",
    "\n",
    "locale.setlocale(locale.LC_ALL, 'pt_BR.UTF-8')\n",
    "\n",
    "def formatar_moeda(valor):\n",
    "    return locale.currency(valor, grouping=True)"
   ]
  },
  {
   "attachments": {},
   "cell_type": "markdown",
   "metadata": {},
   "source": [
    "# 01) Importando dados"
   ]
  },
  {
   "cell_type": "code",
   "execution_count": 45,
   "metadata": {},
   "outputs": [],
   "source": [
    "zip_file = os.path.join(dataPath, 'rating_igr_20_09.zip')\n",
    "z = zipfile.ZipFile(zip_file)"
   ]
  },
  {
   "cell_type": "code",
   "execution_count": 46,
   "metadata": {},
   "outputs": [],
   "source": [
    "def ler_bases_exportadas(nome_arquivo):\n",
    "    z.extract(nome_arquivo)\n",
    "    df = pd.read_csv(nome_arquivo, sep=',')\n",
    "    os.remove(nome_arquivo)\n",
    "    return df"
   ]
  },
  {
   "cell_type": "code",
   "execution_count": 47,
   "metadata": {},
   "outputs": [],
   "source": [
    "base_imovel = ler_bases_exportadas('imovel.csv')\n",
    "base_mercantil = ler_bases_exportadas('mercantil.csv')\n",
    "base_notas_fiscais = ler_bases_exportadas('emissao_notas.csv')"
   ]
  },
  {
   "cell_type": "code",
   "execution_count": 111,
   "metadata": {},
   "outputs": [
    {
     "data": {
      "text/html": [
       "<div>\n",
       "<style scoped>\n",
       "    .dataframe tbody tr th:only-of-type {\n",
       "        vertical-align: middle;\n",
       "    }\n",
       "\n",
       "    .dataframe tbody tr th {\n",
       "        vertical-align: top;\n",
       "    }\n",
       "\n",
       "    .dataframe thead th {\n",
       "        text-align: right;\n",
       "    }\n",
       "</style>\n",
       "<table border=\"1\" class=\"dataframe\">\n",
       "  <thead>\n",
       "    <tr style=\"text-align: right;\">\n",
       "      <th></th>\n",
       "      <th>cda</th>\n",
       "      <th>tipo_divida</th>\n",
       "      <th>da_aberto</th>\n",
       "      <th>deb_totais</th>\n",
       "      <th>valor_tot</th>\n",
       "      <th>deb_pagos</th>\n",
       "      <th>valor_pago</th>\n",
       "      <th>vlr_tributo</th>\n",
       "      <th>vlr_taxa</th>\n",
       "      <th>inscricao_divida</th>\n",
       "      <th>id_pessoa</th>\n",
       "      <th>atividade_principal</th>\n",
       "      <th>situacao</th>\n",
       "      <th>tipo_tributo</th>\n",
       "      <th>cpf_cnpj_existe</th>\n",
       "      <th>protesto</th>\n",
       "      <th>divida_ajuizada</th>\n",
       "      <th>edificacao</th>\n",
       "      <th>anos_idade_da</th>\n",
       "      <th>quantidade_reparcelamento</th>\n",
       "    </tr>\n",
       "  </thead>\n",
       "  <tbody>\n",
       "    <tr>\n",
       "      <th>1</th>\n",
       "      <td>0000331f601a73e52b46f673bf0c61251</td>\n",
       "      <td>imovel</td>\n",
       "      <td>0</td>\n",
       "      <td>6.0</td>\n",
       "      <td>0.0</td>\n",
       "      <td>0.0</td>\n",
       "      <td>0.0</td>\n",
       "      <td>147.2</td>\n",
       "      <td>196.92</td>\n",
       "      <td>2012-10-17</td>\n",
       "      <td>870c08c252b25ad1</td>\n",
       "      <td>APARTAMENTO</td>\n",
       "      <td>ATIVO</td>\n",
       "      <td>IPTU</td>\n",
       "      <td>1</td>\n",
       "      <td>0</td>\n",
       "      <td>0</td>\n",
       "      <td>1</td>\n",
       "      <td>11.0</td>\n",
       "      <td>0</td>\n",
       "    </tr>\n",
       "  </tbody>\n",
       "</table>\n",
       "</div>"
      ],
      "text/plain": [
       "                                 cda tipo_divida  da_aberto  deb_totais  \\\n",
       "1  0000331f601a73e52b46f673bf0c61251      imovel          0         6.0   \n",
       "\n",
       "   valor_tot  deb_pagos  valor_pago  vlr_tributo  vlr_taxa inscricao_divida  \\\n",
       "1        0.0        0.0         0.0        147.2    196.92       2012-10-17   \n",
       "\n",
       "          id_pessoa atividade_principal situacao tipo_tributo  \\\n",
       "1  870c08c252b25ad1         APARTAMENTO    ATIVO         IPTU   \n",
       "\n",
       "   cpf_cnpj_existe  protesto  divida_ajuizada  edificacao  anos_idade_da  \\\n",
       "1                1         0                0           1           11.0   \n",
       "\n",
       "   quantidade_reparcelamento  \n",
       "1                          0  "
      ]
     },
     "execution_count": 111,
     "metadata": {},
     "output_type": "execute_result"
    }
   ],
   "source": [
    "df = base_imovel[base_imovel['cda'] == '0000331f601a73e52b46f673bf0c61251']\n",
    "df"
   ]
  },
  {
   "cell_type": "code",
   "execution_count": 48,
   "metadata": {},
   "outputs": [
    {
     "data": {
      "text/plain": [
       "'R$ 5.884.819.985,56'"
      ]
     },
     "execution_count": 48,
     "metadata": {},
     "output_type": "execute_result"
    }
   ],
   "source": [
    "# VALOR DE IMÓVEL EM ABERTO\n",
    "result_imovel = base_imovel[base_imovel['da_aberto'] == 1]\n",
    "result_imovel = formatar_moeda(result_imovel['valor_tot'].sum())\n",
    "result_imovel"
   ]
  },
  {
   "cell_type": "code",
   "execution_count": 49,
   "metadata": {},
   "outputs": [
    {
     "data": {
      "text/plain": [
       "'R$ 8.722.209.058,04'"
      ]
     },
     "execution_count": 49,
     "metadata": {},
     "output_type": "execute_result"
    }
   ],
   "source": [
    "# VALOR DE MERCANTIL EM ABERTO\n",
    "result_mercantil = base_mercantil[base_mercantil['da_aberto'] == 1]\n",
    "result_mercantil = formatar_moeda(result_mercantil['valor_tot'].sum())\n",
    "result_mercantil"
   ]
  },
  {
   "cell_type": "code",
   "execution_count": 50,
   "metadata": {},
   "outputs": [
    {
     "data": {
      "text/plain": [
       "Index(['cda', 'tipo_divida', 'da_aberto', 'deb_totais', 'valor_tot',\n",
       "       'deb_pagos', 'valor_pago', 'vlr_tributo', 'vlr_taxa',\n",
       "       'inscricao_divida', 'id_pessoa', 'atividade_principal', 'situacao',\n",
       "       'tipo_tributo', 'cpf_cnpj_existe', 'protesto', 'divida_ajuizada',\n",
       "       'edificacao', 'anos_idade_da', 'quantidade_reparcelamento'],\n",
       "      dtype='object')"
      ]
     },
     "execution_count": 50,
     "metadata": {},
     "output_type": "execute_result"
    }
   ],
   "source": [
    "base_mercantil.columns"
   ]
  },
  {
   "cell_type": "code",
   "execution_count": 51,
   "metadata": {},
   "outputs": [
    {
     "data": {
      "text/html": [
       "<div>\n",
       "<style scoped>\n",
       "    .dataframe tbody tr th:only-of-type {\n",
       "        vertical-align: middle;\n",
       "    }\n",
       "\n",
       "    .dataframe tbody tr th {\n",
       "        vertical-align: top;\n",
       "    }\n",
       "\n",
       "    .dataframe thead th {\n",
       "        text-align: right;\n",
       "    }\n",
       "</style>\n",
       "<table border=\"1\" class=\"dataframe\">\n",
       "  <thead>\n",
       "    <tr style=\"text-align: right;\">\n",
       "      <th></th>\n",
       "      <th>cda</th>\n",
       "      <th>contagem</th>\n",
       "    </tr>\n",
       "  </thead>\n",
       "  <tbody>\n",
       "  </tbody>\n",
       "</table>\n",
       "</div>"
      ],
      "text/plain": [
       "Empty DataFrame\n",
       "Columns: [cda, contagem]\n",
       "Index: []"
      ]
     },
     "execution_count": 51,
     "metadata": {},
     "output_type": "execute_result"
    }
   ],
   "source": [
    "contagem_cda = base_imovel['cda'].value_counts()\n",
    "registros_repetidos = contagem_cda[contagem_cda > 1]\n",
    "df_registros_repetidos = registros_repetidos.reset_index()\n",
    "df_registros_repetidos.columns = ['cda', 'contagem']\n",
    "df_registros_repetidos"
   ]
  },
  {
   "cell_type": "code",
   "execution_count": 11,
   "metadata": {},
   "outputs": [
    {
     "data": {
      "text/html": [
       "<div>\n",
       "<style scoped>\n",
       "    .dataframe tbody tr th:only-of-type {\n",
       "        vertical-align: middle;\n",
       "    }\n",
       "\n",
       "    .dataframe tbody tr th {\n",
       "        vertical-align: top;\n",
       "    }\n",
       "\n",
       "    .dataframe thead th {\n",
       "        text-align: right;\n",
       "    }\n",
       "</style>\n",
       "<table border=\"1\" class=\"dataframe\">\n",
       "  <thead>\n",
       "    <tr style=\"text-align: right;\">\n",
       "      <th></th>\n",
       "      <th>cda</th>\n",
       "      <th>tipo_divida</th>\n",
       "      <th>da_aberto</th>\n",
       "      <th>deb_totais</th>\n",
       "      <th>valor_tot</th>\n",
       "      <th>deb_pagos</th>\n",
       "      <th>valor_pago</th>\n",
       "      <th>vlr_tributo</th>\n",
       "      <th>vlr_taxa</th>\n",
       "      <th>inscricao_divida</th>\n",
       "      <th>id_pessoa</th>\n",
       "      <th>atividade_principal</th>\n",
       "      <th>situacao</th>\n",
       "      <th>tipo_tributo</th>\n",
       "      <th>cpf_cnpj_existe</th>\n",
       "      <th>protesto</th>\n",
       "      <th>divida_ajuizada</th>\n",
       "      <th>edificacao</th>\n",
       "      <th>anos_idade_da</th>\n",
       "      <th>quantidade_reparcelamento</th>\n",
       "    </tr>\n",
       "  </thead>\n",
       "  <tbody>\n",
       "    <tr>\n",
       "      <th>516776</th>\n",
       "      <td>661dbac7686f85476b3a8e268c80aedf1</td>\n",
       "      <td>imovel</td>\n",
       "      <td>1</td>\n",
       "      <td>3.0</td>\n",
       "      <td>2038.07</td>\n",
       "      <td>2.0</td>\n",
       "      <td>218.3</td>\n",
       "      <td>2256.37</td>\n",
       "      <td>0.0</td>\n",
       "      <td>2020-01-10</td>\n",
       "      <td>e85d7a978a1b0a9e</td>\n",
       "      <td>CASA</td>\n",
       "      <td>ATIVO</td>\n",
       "      <td>IPTU</td>\n",
       "      <td>1</td>\n",
       "      <td>0</td>\n",
       "      <td>0</td>\n",
       "      <td>1</td>\n",
       "      <td>3.0</td>\n",
       "      <td>0</td>\n",
       "    </tr>\n",
       "  </tbody>\n",
       "</table>\n",
       "</div>"
      ],
      "text/plain": [
       "                                      cda tipo_divida  da_aberto  deb_totais  \\\n",
       "516776  661dbac7686f85476b3a8e268c80aedf1      imovel          1         3.0   \n",
       "\n",
       "        valor_tot  deb_pagos  valor_pago  vlr_tributo  vlr_taxa  \\\n",
       "516776    2038.07        2.0       218.3      2256.37       0.0   \n",
       "\n",
       "       inscricao_divida         id_pessoa atividade_principal situacao  \\\n",
       "516776       2020-01-10  e85d7a978a1b0a9e                CASA    ATIVO   \n",
       "\n",
       "       tipo_tributo  cpf_cnpj_existe  protesto  divida_ajuizada  edificacao  \\\n",
       "516776         IPTU                1         0                0           1   \n",
       "\n",
       "        anos_idade_da  quantidade_reparcelamento  \n",
       "516776            3.0                          0  "
      ]
     },
     "execution_count": 11,
     "metadata": {},
     "output_type": "execute_result"
    }
   ],
   "source": [
    "cda_teste = base_imovel[base_imovel['cda'] == '661dbac7686f85476b3a8e268c80aedf1']\n",
    "cda_teste"
   ]
  },
  {
   "cell_type": "code",
   "execution_count": 52,
   "metadata": {},
   "outputs": [],
   "source": [
    "check = pd.concat([base_imovel, base_mercantil])"
   ]
  },
  {
   "cell_type": "code",
   "execution_count": 54,
   "metadata": {},
   "outputs": [
    {
     "data": {
      "text/plain": [
       "'R$ 14.607.029.043,60'"
      ]
     },
     "execution_count": 54,
     "metadata": {},
     "output_type": "execute_result"
    }
   ],
   "source": [
    "# VALOR DE MERCANTIL QUE ESTA EM ABERTO\n",
    "result_total = check[check['da_aberto'] == 1]\n",
    "result_total = formatar_moeda(result_total['valor_tot'].sum())\n",
    "result_total"
   ]
  },
  {
   "cell_type": "markdown",
   "metadata": {},
   "source": [
    "---"
   ]
  },
  {
   "cell_type": "code",
   "execution_count": 55,
   "metadata": {},
   "outputs": [],
   "source": [
    "base_conjunta = pd.concat([base_imovel, base_mercantil])"
   ]
  },
  {
   "cell_type": "code",
   "execution_count": 56,
   "metadata": {},
   "outputs": [
    {
     "data": {
      "text/plain": [
       "Index(['cda', 'tipo_divida', 'da_aberto', 'deb_totais', 'valor_tot',\n",
       "       'deb_pagos', 'valor_pago', 'vlr_tributo', 'vlr_taxa',\n",
       "       'inscricao_divida', 'id_pessoa', 'atividade_principal', 'situacao',\n",
       "       'tipo_tributo', 'cpf_cnpj_existe', 'protesto', 'divida_ajuizada',\n",
       "       'edificacao', 'anos_idade_da', 'quantidade_reparcelamento'],\n",
       "      dtype='object')"
      ]
     },
     "execution_count": 56,
     "metadata": {},
     "output_type": "execute_result"
    }
   ],
   "source": [
    "base_conjunta.columns"
   ]
  },
  {
   "cell_type": "code",
   "execution_count": 57,
   "metadata": {},
   "outputs": [],
   "source": [
    "base_conjunta['data_divida'] = pd.to_datetime(base_conjunta['inscricao_divida'], infer_datetime_format = True)\n",
    "base_conjunta['ano_inscricao_da'] = base_conjunta['data_divida'].dt.year"
   ]
  },
  {
   "cell_type": "code",
   "execution_count": 58,
   "metadata": {},
   "outputs": [
    {
     "data": {
      "text/plain": [
       "'R$ 478.880.439,14'"
      ]
     },
     "execution_count": 58,
     "metadata": {},
     "output_type": "execute_result"
    }
   ],
   "source": [
    "#status_situacao0 = base_imovel[base_imovel['da_aberto'] == 1]\n",
    "status_situacao0 = base_conjunta[base_conjunta['da_aberto'] == 1]\n",
    "status_situacao0 = status_situacao0[status_situacao0['anos_idade_da'] < 15]\n",
    "status_situacao0 = status_situacao0[status_situacao0['cpf_cnpj_existe'] == 0]\n",
    "status_situacao0 = formatar_moeda(status_situacao0['valor_tot'].sum())\n",
    "status_situacao0"
   ]
  },
  {
   "attachments": {},
   "cell_type": "markdown",
   "metadata": {},
   "source": [
    "# 02) Criando variáveis para clusterização"
   ]
  },
  {
   "cell_type": "code",
   "execution_count": 59,
   "metadata": {},
   "outputs": [],
   "source": [
    "# incorporei a variáve tipo_divida que antes não tinha\n",
    "\n",
    "dados_pessoas = base_conjunta[['cda', 'id_pessoa', 'situacao', 'cpf_cnpj_existe', 'edificacao', 'deb_totais', 'deb_pagos', 'valor_tot', 'valor_pago', 'tipo_divida']]\n",
    "dados_pessoas['id_pessoa'] = dados_pessoas['id_pessoa'].astype(str)  # Convertendo para string\n",
    "\n",
    "dados_pessoas.dropna(subset=['id_pessoa'], inplace=True)\n"
   ]
  },
  {
   "cell_type": "code",
   "execution_count": 78,
   "metadata": {},
   "outputs": [],
   "source": [
    "# # Renomeio a coluna criada anteriormente para valor_pago\n",
    "# dados_pessoas.rename(columns={'valor_pago_vista_parc':'valor_pago'}, inplace=True)"
   ]
  },
  {
   "cell_type": "code",
   "execution_count": 60,
   "metadata": {},
   "outputs": [],
   "source": [
    "# Calculo que apresenta quantas cdas o contribuinte tem\n",
    "\n",
    "frequencia_da_pessoa = dados_pessoas.groupby(['id_pessoa'])['cda'].nunique()\n",
    "total_debitos_pessoa = dados_pessoas.groupby(['id_pessoa'])['deb_totais'].sum()\n",
    "debitos_pagos_pessoa = dados_pessoas.groupby(['id_pessoa'])['deb_pagos'].sum()\n",
    "valor_total_pessoa = dados_pessoas.groupby(['id_pessoa'])['valor_tot'].sum()\n",
    "valor_pago_pessoa = dados_pessoas.groupby(['id_pessoa'])['valor_pago'].sum()"
   ]
  },
  {
   "cell_type": "code",
   "execution_count": 61,
   "metadata": {},
   "outputs": [],
   "source": [
    "# Agrega informação da base de notas fiscais\n",
    "dados_pessoas = pd.merge(\n",
    "    left=dados_pessoas, left_on='id_pessoa', \n",
    "    right=base_notas_fiscais, right_on='id_pessoa', how='left'\n",
    ")"
   ]
  },
  {
   "cell_type": "code",
   "execution_count": 62,
   "metadata": {},
   "outputs": [
    {
     "data": {
      "text/plain": [
       "cda                      0\n",
       "id_pessoa                0\n",
       "situacao                 0\n",
       "cpf_cnpj_existe          0\n",
       "edificacao               0\n",
       "deb_totais               0\n",
       "deb_pagos                0\n",
       "valor_tot                0\n",
       "valor_pago               0\n",
       "tipo_divida              0\n",
       "qtd_notas_2anos    2346979\n",
       "dtype: int64"
      ]
     },
     "execution_count": 62,
     "metadata": {},
     "output_type": "execute_result"
    }
   ],
   "source": [
    "# Verifica valores zerados\n",
    "\n",
    "dados_pessoas.isnull().sum()"
   ]
  },
  {
   "cell_type": "code",
   "execution_count": 63,
   "metadata": {},
   "outputs": [],
   "source": [
    "# Substituindo por zero os valores nulos\n",
    "# dados_pessoas['edificacao'] = dados_pessoas['edificacao'].fillna(0)\n",
    "dados_pessoas['qtd_notas_2anos'] = dados_pessoas['qtd_notas_2anos'].fillna(0)"
   ]
  },
  {
   "cell_type": "code",
   "execution_count": 64,
   "metadata": {},
   "outputs": [],
   "source": [
    "# Cria variável de situação do contribuinte tratando mercantil e imovel em suas respectivas variáveis ( DEBATER COM EQUIPE )\n",
    "\n",
    "# MERCANTIL\n",
    "dados_pessoas.loc[(dados_pessoas['tipo_divida'] == 'mercantil' ) & (dados_pessoas['qtd_notas_2anos'] > 0) & (dados_pessoas['situacao'] == 'ATIVO'), 'situacao_ativa'] = 2\n",
    "dados_pessoas.loc[(dados_pessoas['tipo_divida'] == 'mercantil' ) & (dados_pessoas['qtd_notas_2anos'] > 0) & (dados_pessoas['situacao'] != 'ATIVO'), 'situacao_ativa'] = 1\n",
    "dados_pessoas.loc[(dados_pessoas['tipo_divida'] == 'mercantil' ) & (dados_pessoas['qtd_notas_2anos'] == 0) & (dados_pessoas['situacao'] == 'ATIVO'), 'situacao_ativa'] = 1\n",
    "dados_pessoas.loc[(dados_pessoas['tipo_divida'] == 'mercantil' ) & (dados_pessoas['qtd_notas_2anos'] == 0) & (dados_pessoas['situacao'] != 'ATIVO'), 'situacao_ativa'] = 0\n",
    "\n",
    "# IMOVEL\n",
    "dados_pessoas.loc[(dados_pessoas['tipo_divida'] == 'imovel' ) & (dados_pessoas['edificacao'] == 1), 'situacao_ativa'] = 2\n",
    "dados_pessoas.loc[(dados_pessoas['tipo_divida'] == 'imovel' ) & (dados_pessoas['edificacao'] == 0), 'situacao_ativa'] = 1\n",
    "dados_pessoas.loc[(dados_pessoas['tipo_divida'] == 'imovel' ) & (dados_pessoas['edificacao'] == 0) & (dados_pessoas['cpf_cnpj_existe'] == 0), 'situacao_ativa'] = 0\n",
    "\n",
    "# dados_pessoas.loc[(dados_pessoas['tipo_divida'] == 'imovel' ) & (dados_pessoas['edificacao'] == 1) & (dados_pessoas['situacao'] == 'ATIVO'), 'situacao_ativa'] = 2\n",
    "# dados_pessoas.loc[(dados_pessoas['tipo_divida'] == 'imovel' ) & (dados_pessoas['edificacao'] == 0) & (dados_pessoas['situacao'] == 'ATIVO'), 'situacao_ativa'] = 1\n",
    "# dados_pessoas.loc[(dados_pessoas['tipo_divida'] == 'imovel' ) & (dados_pessoas['edificacao'] == 1) & (dados_pessoas['situacao'] != 'ATIVO'), 'situacao_ativa'] = 0\n",
    "# dados_pessoas.loc[(dados_pessoas['tipo_divida'] == 'imovel' ) & (dados_pessoas['edificacao'] == 0) & (dados_pessoas['situacao'] != 'ATIVO'), 'situacao_ativa'] = 0\n",
    "\n",
    "# o que é nulo colocamos peso 0 \n",
    "dados_pessoas['situacao_ativa'] = dados_pessoas['situacao_ativa'].fillna(0)"
   ]
  },
  {
   "cell_type": "code",
   "execution_count": null,
   "metadata": {},
   "outputs": [],
   "source": [
    "# status_situacao0 = dados_pessoas[dados_pessoas['situacao_ativa'] == 0]\n",
    "# status_situacao0"
   ]
  },
  {
   "cell_type": "code",
   "execution_count": 22,
   "metadata": {},
   "outputs": [
    {
     "data": {
      "text/plain": [
       "INAPTO      711848\n",
       "SUSPENSO    145524\n",
       "BAIXADO      32470\n",
       "Name: situacao, dtype: int64"
      ]
     },
     "execution_count": 22,
     "metadata": {},
     "output_type": "execute_result"
    }
   ],
   "source": [
    "# contagem_situacao = status_situacao0['situacao'].value_counts()\n",
    "# contagem_situacao"
   ]
  },
  {
   "cell_type": "code",
   "execution_count": 23,
   "metadata": {},
   "outputs": [
    {
     "data": {
      "text/plain": [
       "mercantil    889842\n",
       "Name: tipo_divida, dtype: int64"
      ]
     },
     "execution_count": 23,
     "metadata": {},
     "output_type": "execute_result"
    }
   ],
   "source": [
    "# contagem_tipo_divida = status_situacao0['tipo_divida'].value_counts()\n",
    "# contagem_tipo_divida"
   ]
  },
  {
   "cell_type": "code",
   "execution_count": 65,
   "metadata": {},
   "outputs": [],
   "source": [
    "# Cria variável com peso sobre a situação real tratando cpf\n",
    "\n",
    "dados_pessoas['status_situacao'] = dados_pessoas['situacao_ativa'] + dados_pessoas['cpf_cnpj_existe'] \n",
    "dados_pessoas.loc[dados_pessoas['situacao_ativa'] == 0, 'status_situacao'] = 0\n",
    "# dados_pessoas.loc[(dados_pessoas['cpf_cnpj_existe'] == 0 ), 'status_situacao'] = 0"
   ]
  },
  {
   "cell_type": "code",
   "execution_count": null,
   "metadata": {},
   "outputs": [],
   "source": [
    "dados_pessoas"
   ]
  },
  {
   "cell_type": "markdown",
   "metadata": {},
   "source": [
    "---"
   ]
  },
  {
   "cell_type": "code",
   "execution_count": 66,
   "metadata": {},
   "outputs": [],
   "source": [
    "# Remove duplicatas dos dados finalizando o dataframe\n",
    "dados_pessoas.drop_duplicates(subset=['id_pessoa'], inplace=True)\n",
    "dados_pessoas = dados_pessoas.set_index('id_pessoa')\n",
    "\n",
    "dados_pessoas['frequencia_da_pessoa'] = frequencia_da_pessoa\n",
    "dados_pessoas['total_debitos_pessoa'] = total_debitos_pessoa\n",
    "dados_pessoas['debitos_pagos_pessoa'] = debitos_pagos_pessoa\n",
    "dados_pessoas['valor_total_pessoa'] = valor_total_pessoa\n",
    "dados_pessoas['valor_pago_pessoa'] = valor_pago_pessoa"
   ]
  },
  {
   "cell_type": "code",
   "execution_count": 67,
   "metadata": {},
   "outputs": [],
   "source": [
    "# Faz o calculo do historico de pagamento\n",
    "\n",
    "dados_pessoas.loc[(dados_pessoas['total_debitos_pessoa'].isna()) | (dados_pessoas['total_debitos_pessoa'] == 0) , 'total_debitos_pessoa'] = 1\n",
    "dados_pessoas.loc[(dados_pessoas['valor_total_pessoa'].isna()) | (dados_pessoas['valor_total_pessoa'] == 0) , 'valor_total_pessoa'] = 1\n",
    "\n",
    "dados_pessoas['historico_pagamento_em_qtd'] = dados_pessoas['debitos_pagos_pessoa'] / (dados_pessoas['total_debitos_pessoa'])\n",
    "dados_pessoas['historico_pagamento_em_valor'] = dados_pessoas['valor_pago_pessoa'] / (dados_pessoas['valor_total_pessoa'])"
   ]
  },
  {
   "cell_type": "code",
   "execution_count": 72,
   "metadata": {},
   "outputs": [],
   "source": [
    "# Monta dataframe para clusterização\n",
    "\n",
    "df_pipe_cluster = dados_pessoas.query(\"frequencia_da_pessoa > 1\")\n",
    "df_pipe_cluster = df_pipe_cluster[['status_situacao', 'historico_pagamento_em_qtd', 'historico_pagamento_em_valor']]"
   ]
  },
  {
   "cell_type": "code",
   "execution_count": 73,
   "metadata": {},
   "outputs": [],
   "source": [
    "df_pipe_cluster.loc[df_pipe_cluster['historico_pagamento_em_valor'] > 1, 'historico_pagamento_em_valor'] = 1"
   ]
  },
  {
   "cell_type": "code",
   "execution_count": 74,
   "metadata": {},
   "outputs": [
    {
     "data": {
      "text/html": [
       "<div>\n",
       "<style scoped>\n",
       "    .dataframe tbody tr th:only-of-type {\n",
       "        vertical-align: middle;\n",
       "    }\n",
       "\n",
       "    .dataframe tbody tr th {\n",
       "        vertical-align: top;\n",
       "    }\n",
       "\n",
       "    .dataframe thead th {\n",
       "        text-align: right;\n",
       "    }\n",
       "</style>\n",
       "<table border=\"1\" class=\"dataframe\">\n",
       "  <thead>\n",
       "    <tr style=\"text-align: right;\">\n",
       "      <th></th>\n",
       "      <th>status_situacao</th>\n",
       "      <th>historico_pagamento_em_qtd</th>\n",
       "      <th>historico_pagamento_em_valor</th>\n",
       "    </tr>\n",
       "    <tr>\n",
       "      <th>id_pessoa</th>\n",
       "      <th></th>\n",
       "      <th></th>\n",
       "      <th></th>\n",
       "    </tr>\n",
       "  </thead>\n",
       "  <tbody>\n",
       "    <tr>\n",
       "      <th>ac28642d7c82b33f</th>\n",
       "      <td>3.0</td>\n",
       "      <td>0.000000</td>\n",
       "      <td>0.000000</td>\n",
       "    </tr>\n",
       "    <tr>\n",
       "      <th>870c08c252b25ad1</th>\n",
       "      <td>3.0</td>\n",
       "      <td>0.622120</td>\n",
       "      <td>1.000000</td>\n",
       "    </tr>\n",
       "    <tr>\n",
       "      <th>d8b23eda9800b9e3</th>\n",
       "      <td>2.0</td>\n",
       "      <td>0.017699</td>\n",
       "      <td>0.007503</td>\n",
       "    </tr>\n",
       "    <tr>\n",
       "      <th>9f3bac8718dac1fa</th>\n",
       "      <td>3.0</td>\n",
       "      <td>0.524123</td>\n",
       "      <td>1.000000</td>\n",
       "    </tr>\n",
       "    <tr>\n",
       "      <th>0bff42777c16d00c</th>\n",
       "      <td>3.0</td>\n",
       "      <td>0.000000</td>\n",
       "      <td>0.000000</td>\n",
       "    </tr>\n",
       "  </tbody>\n",
       "</table>\n",
       "</div>"
      ],
      "text/plain": [
       "                  status_situacao  historico_pagamento_em_qtd  \\\n",
       "id_pessoa                                                       \n",
       "ac28642d7c82b33f              3.0                    0.000000   \n",
       "870c08c252b25ad1              3.0                    0.622120   \n",
       "d8b23eda9800b9e3              2.0                    0.017699   \n",
       "9f3bac8718dac1fa              3.0                    0.524123   \n",
       "0bff42777c16d00c              3.0                    0.000000   \n",
       "\n",
       "                  historico_pagamento_em_valor  \n",
       "id_pessoa                                       \n",
       "ac28642d7c82b33f                      0.000000  \n",
       "870c08c252b25ad1                      1.000000  \n",
       "d8b23eda9800b9e3                      0.007503  \n",
       "9f3bac8718dac1fa                      1.000000  \n",
       "0bff42777c16d00c                      0.000000  "
      ]
     },
     "execution_count": 74,
     "metadata": {},
     "output_type": "execute_result"
    }
   ],
   "source": [
    "df_pipe_cluster.head()"
   ]
  },
  {
   "cell_type": "code",
   "execution_count": 75,
   "metadata": {},
   "outputs": [
    {
     "data": {
      "text/html": [
       "<div>\n",
       "<style scoped>\n",
       "    .dataframe tbody tr th:only-of-type {\n",
       "        vertical-align: middle;\n",
       "    }\n",
       "\n",
       "    .dataframe tbody tr th {\n",
       "        vertical-align: top;\n",
       "    }\n",
       "\n",
       "    .dataframe thead th {\n",
       "        text-align: right;\n",
       "    }\n",
       "</style>\n",
       "<table border=\"1\" class=\"dataframe\">\n",
       "  <thead>\n",
       "    <tr style=\"text-align: right;\">\n",
       "      <th></th>\n",
       "      <th>count</th>\n",
       "      <th>mean</th>\n",
       "      <th>std</th>\n",
       "      <th>min</th>\n",
       "      <th>25%</th>\n",
       "      <th>50%</th>\n",
       "      <th>75%</th>\n",
       "      <th>max</th>\n",
       "    </tr>\n",
       "  </thead>\n",
       "  <tbody>\n",
       "    <tr>\n",
       "      <th>status_situacao</th>\n",
       "      <td>352303.0</td>\n",
       "      <td>1.694425</td>\n",
       "      <td>1.370388</td>\n",
       "      <td>0.0</td>\n",
       "      <td>0.0</td>\n",
       "      <td>2.0</td>\n",
       "      <td>3.000000</td>\n",
       "      <td>3.0</td>\n",
       "    </tr>\n",
       "    <tr>\n",
       "      <th>historico_pagamento_em_qtd</th>\n",
       "      <td>352303.0</td>\n",
       "      <td>0.253483</td>\n",
       "      <td>0.355775</td>\n",
       "      <td>0.0</td>\n",
       "      <td>0.0</td>\n",
       "      <td>0.0</td>\n",
       "      <td>0.491848</td>\n",
       "      <td>1.0</td>\n",
       "    </tr>\n",
       "    <tr>\n",
       "      <th>historico_pagamento_em_valor</th>\n",
       "      <td>352303.0</td>\n",
       "      <td>0.292062</td>\n",
       "      <td>0.424889</td>\n",
       "      <td>0.0</td>\n",
       "      <td>0.0</td>\n",
       "      <td>0.0</td>\n",
       "      <td>0.817820</td>\n",
       "      <td>1.0</td>\n",
       "    </tr>\n",
       "  </tbody>\n",
       "</table>\n",
       "</div>"
      ],
      "text/plain": [
       "                                 count      mean       std  min  25%  50%  \\\n",
       "status_situacao               352303.0  1.694425  1.370388  0.0  0.0  2.0   \n",
       "historico_pagamento_em_qtd    352303.0  0.253483  0.355775  0.0  0.0  0.0   \n",
       "historico_pagamento_em_valor  352303.0  0.292062  0.424889  0.0  0.0  0.0   \n",
       "\n",
       "                                   75%  max  \n",
       "status_situacao               3.000000  3.0  \n",
       "historico_pagamento_em_qtd    0.491848  1.0  \n",
       "historico_pagamento_em_valor  0.817820  1.0  "
      ]
     },
     "execution_count": 75,
     "metadata": {},
     "output_type": "execute_result"
    }
   ],
   "source": [
    "df_pipe_cluster.describe().T"
   ]
  },
  {
   "attachments": {},
   "cell_type": "markdown",
   "metadata": {},
   "source": [
    "# 03) Clusterização dos contribuintes"
   ]
  },
  {
   "cell_type": "code",
   "execution_count": 76,
   "metadata": {},
   "outputs": [
    {
     "name": "stdout",
     "output_type": "stream",
     "text": [
      "Treinamento do agrupador para K= 2 finalizado\n",
      "Inércia calculada para o agrupador de K= 2. Inércia: 134032.21022719314\n",
      "Score calculado para o agrupador de K= 2. Socre: -134032.21022719314\n",
      "Treinamento do agrupador para K= 3 finalizado\n",
      "Inércia calculada para o agrupador de K= 3. Inércia: 66523.26077403652\n",
      "Score calculado para o agrupador de K= 3. Socre: -66523.26077403652\n",
      "Treinamento do agrupador para K= 4 finalizado\n",
      "Inércia calculada para o agrupador de K= 4. Inércia: 36103.049979940995\n",
      "Score calculado para o agrupador de K= 4. Socre: -36103.049979941\n",
      "Treinamento do agrupador para K= 5 finalizado\n",
      "Inércia calculada para o agrupador de K= 5. Inércia: 25306.643766638135\n",
      "Score calculado para o agrupador de K= 5. Socre: -25306.64376663814\n",
      "Treinamento do agrupador para K= 6 finalizado\n",
      "Inércia calculada para o agrupador de K= 6. Inércia: 15840.303603680202\n",
      "Score calculado para o agrupador de K= 6. Socre: -15840.3036036802\n",
      "Treinamento do agrupador para K= 7 finalizado\n",
      "Inércia calculada para o agrupador de K= 7. Inércia: 11841.330616888874\n",
      "Score calculado para o agrupador de K= 7. Socre: -11841.330616888872\n",
      "Treinamento do agrupador para K= 8 finalizado\n",
      "Inércia calculada para o agrupador de K= 8. Inércia: 9185.108314585581\n",
      "Score calculado para o agrupador de K= 8. Socre: -9185.108314585581\n",
      "Treinamento do agrupador para K= 9 finalizado\n",
      "Inércia calculada para o agrupador de K= 9. Inércia: 7702.156355141201\n",
      "Score calculado para o agrupador de K= 9. Socre: -7702.156355141201\n",
      "Treinamento do agrupador para K= 10 finalizado\n",
      "Inércia calculada para o agrupador de K= 10. Inércia: 6768.284524836122\n",
      "Score calculado para o agrupador de K= 10. Socre: -6768.284524836122\n",
      "Treinamento do agrupador para K= 11 finalizado\n",
      "Inércia calculada para o agrupador de K= 11. Inércia: 5963.683390228862\n",
      "Score calculado para o agrupador de K= 11. Socre: -5963.683390228862\n",
      "Treinamento do agrupador para K= 12 finalizado\n",
      "Inércia calculada para o agrupador de K= 12. Inércia: 5362.032403132867\n",
      "Score calculado para o agrupador de K= 12. Socre: -5362.0324031328655\n",
      "Treinamento do agrupador para K= 13 finalizado\n",
      "Inércia calculada para o agrupador de K= 13. Inércia: 4715.390212168025\n",
      "Score calculado para o agrupador de K= 13. Socre: -4715.390212168025\n",
      "Treinamento do agrupador para K= 14 finalizado\n",
      "Inércia calculada para o agrupador de K= 14. Inércia: 4089.007684535094\n",
      "Score calculado para o agrupador de K= 14. Socre: -4089.007684535094\n",
      "Treinamento do agrupador para K= 15 finalizado\n",
      "Inércia calculada para o agrupador de K= 15. Inércia: 3487.5331222031978\n",
      "Score calculado para o agrupador de K= 15. Socre: -3487.5331222031978\n"
     ]
    }
   ],
   "source": [
    "faixa_n_clusters = [i for i in range(2,16)]\n",
    "valores_inercia = []\n",
    "valores_score = []\n",
    "\n",
    "for k in faixa_n_clusters:\n",
    "    agrupador = KMeans(n_clusters=k, random_state=1337)\n",
    "    label = agrupador.fit_predict(df_pipe_cluster)\n",
    "    print(f\"Treinamento do agrupador para K= {k} finalizado\")\n",
    "    \n",
    "    media_inercia = agrupador.inertia_\n",
    "    valores_inercia.append(media_inercia)\n",
    "    print(f\"Inércia calculada para o agrupador de K= {k}. Inércia: {media_inercia}\")\n",
    "\n",
    "    media_score = agrupador.score(df_pipe_cluster)\n",
    "    valores_score.append(media_score)\n",
    "    print(f\"Score calculado para o agrupador de K= {k}. Socre: {media_score}\")"
   ]
  },
  {
   "cell_type": "code",
   "execution_count": 77,
   "metadata": {},
   "outputs": [
    {
     "data": {
      "application/vnd.plotly.v1+json": {
       "config": {
        "plotlyServerURL": "https://plot.ly"
       },
       "data": [
        {
         "type": "scatter",
         "x": [
          2,
          3,
          4,
          5,
          6,
          7,
          8,
          9,
          10,
          11,
          12,
          13,
          14,
          15
         ],
         "y": [
          134032.21022719314,
          66523.26077403652,
          36103.049979940995,
          25306.643766638135,
          15840.303603680202,
          11841.330616888874,
          9185.108314585581,
          7702.156355141201,
          6768.284524836122,
          5963.683390228862,
          5362.032403132867,
          4715.390212168025,
          4089.007684535094,
          3487.5331222031978
         ]
        }
       ],
       "layout": {
        "font": {
         "color": "#7f7f7f",
         "family": "Courier New, monospace",
         "size": 18
        },
        "template": {
         "data": {
          "bar": [
           {
            "error_x": {
             "color": "#2a3f5f"
            },
            "error_y": {
             "color": "#2a3f5f"
            },
            "marker": {
             "line": {
              "color": "#E5ECF6",
              "width": 0.5
             },
             "pattern": {
              "fillmode": "overlay",
              "size": 10,
              "solidity": 0.2
             }
            },
            "type": "bar"
           }
          ],
          "barpolar": [
           {
            "marker": {
             "line": {
              "color": "#E5ECF6",
              "width": 0.5
             },
             "pattern": {
              "fillmode": "overlay",
              "size": 10,
              "solidity": 0.2
             }
            },
            "type": "barpolar"
           }
          ],
          "carpet": [
           {
            "aaxis": {
             "endlinecolor": "#2a3f5f",
             "gridcolor": "white",
             "linecolor": "white",
             "minorgridcolor": "white",
             "startlinecolor": "#2a3f5f"
            },
            "baxis": {
             "endlinecolor": "#2a3f5f",
             "gridcolor": "white",
             "linecolor": "white",
             "minorgridcolor": "white",
             "startlinecolor": "#2a3f5f"
            },
            "type": "carpet"
           }
          ],
          "choropleth": [
           {
            "colorbar": {
             "outlinewidth": 0,
             "ticks": ""
            },
            "type": "choropleth"
           }
          ],
          "contour": [
           {
            "colorbar": {
             "outlinewidth": 0,
             "ticks": ""
            },
            "colorscale": [
             [
              0,
              "#0d0887"
             ],
             [
              0.1111111111111111,
              "#46039f"
             ],
             [
              0.2222222222222222,
              "#7201a8"
             ],
             [
              0.3333333333333333,
              "#9c179e"
             ],
             [
              0.4444444444444444,
              "#bd3786"
             ],
             [
              0.5555555555555556,
              "#d8576b"
             ],
             [
              0.6666666666666666,
              "#ed7953"
             ],
             [
              0.7777777777777778,
              "#fb9f3a"
             ],
             [
              0.8888888888888888,
              "#fdca26"
             ],
             [
              1,
              "#f0f921"
             ]
            ],
            "type": "contour"
           }
          ],
          "contourcarpet": [
           {
            "colorbar": {
             "outlinewidth": 0,
             "ticks": ""
            },
            "type": "contourcarpet"
           }
          ],
          "heatmap": [
           {
            "colorbar": {
             "outlinewidth": 0,
             "ticks": ""
            },
            "colorscale": [
             [
              0,
              "#0d0887"
             ],
             [
              0.1111111111111111,
              "#46039f"
             ],
             [
              0.2222222222222222,
              "#7201a8"
             ],
             [
              0.3333333333333333,
              "#9c179e"
             ],
             [
              0.4444444444444444,
              "#bd3786"
             ],
             [
              0.5555555555555556,
              "#d8576b"
             ],
             [
              0.6666666666666666,
              "#ed7953"
             ],
             [
              0.7777777777777778,
              "#fb9f3a"
             ],
             [
              0.8888888888888888,
              "#fdca26"
             ],
             [
              1,
              "#f0f921"
             ]
            ],
            "type": "heatmap"
           }
          ],
          "heatmapgl": [
           {
            "colorbar": {
             "outlinewidth": 0,
             "ticks": ""
            },
            "colorscale": [
             [
              0,
              "#0d0887"
             ],
             [
              0.1111111111111111,
              "#46039f"
             ],
             [
              0.2222222222222222,
              "#7201a8"
             ],
             [
              0.3333333333333333,
              "#9c179e"
             ],
             [
              0.4444444444444444,
              "#bd3786"
             ],
             [
              0.5555555555555556,
              "#d8576b"
             ],
             [
              0.6666666666666666,
              "#ed7953"
             ],
             [
              0.7777777777777778,
              "#fb9f3a"
             ],
             [
              0.8888888888888888,
              "#fdca26"
             ],
             [
              1,
              "#f0f921"
             ]
            ],
            "type": "heatmapgl"
           }
          ],
          "histogram": [
           {
            "marker": {
             "pattern": {
              "fillmode": "overlay",
              "size": 10,
              "solidity": 0.2
             }
            },
            "type": "histogram"
           }
          ],
          "histogram2d": [
           {
            "colorbar": {
             "outlinewidth": 0,
             "ticks": ""
            },
            "colorscale": [
             [
              0,
              "#0d0887"
             ],
             [
              0.1111111111111111,
              "#46039f"
             ],
             [
              0.2222222222222222,
              "#7201a8"
             ],
             [
              0.3333333333333333,
              "#9c179e"
             ],
             [
              0.4444444444444444,
              "#bd3786"
             ],
             [
              0.5555555555555556,
              "#d8576b"
             ],
             [
              0.6666666666666666,
              "#ed7953"
             ],
             [
              0.7777777777777778,
              "#fb9f3a"
             ],
             [
              0.8888888888888888,
              "#fdca26"
             ],
             [
              1,
              "#f0f921"
             ]
            ],
            "type": "histogram2d"
           }
          ],
          "histogram2dcontour": [
           {
            "colorbar": {
             "outlinewidth": 0,
             "ticks": ""
            },
            "colorscale": [
             [
              0,
              "#0d0887"
             ],
             [
              0.1111111111111111,
              "#46039f"
             ],
             [
              0.2222222222222222,
              "#7201a8"
             ],
             [
              0.3333333333333333,
              "#9c179e"
             ],
             [
              0.4444444444444444,
              "#bd3786"
             ],
             [
              0.5555555555555556,
              "#d8576b"
             ],
             [
              0.6666666666666666,
              "#ed7953"
             ],
             [
              0.7777777777777778,
              "#fb9f3a"
             ],
             [
              0.8888888888888888,
              "#fdca26"
             ],
             [
              1,
              "#f0f921"
             ]
            ],
            "type": "histogram2dcontour"
           }
          ],
          "mesh3d": [
           {
            "colorbar": {
             "outlinewidth": 0,
             "ticks": ""
            },
            "type": "mesh3d"
           }
          ],
          "parcoords": [
           {
            "line": {
             "colorbar": {
              "outlinewidth": 0,
              "ticks": ""
             }
            },
            "type": "parcoords"
           }
          ],
          "pie": [
           {
            "automargin": true,
            "type": "pie"
           }
          ],
          "scatter": [
           {
            "fillpattern": {
             "fillmode": "overlay",
             "size": 10,
             "solidity": 0.2
            },
            "type": "scatter"
           }
          ],
          "scatter3d": [
           {
            "line": {
             "colorbar": {
              "outlinewidth": 0,
              "ticks": ""
             }
            },
            "marker": {
             "colorbar": {
              "outlinewidth": 0,
              "ticks": ""
             }
            },
            "type": "scatter3d"
           }
          ],
          "scattercarpet": [
           {
            "marker": {
             "colorbar": {
              "outlinewidth": 0,
              "ticks": ""
             }
            },
            "type": "scattercarpet"
           }
          ],
          "scattergeo": [
           {
            "marker": {
             "colorbar": {
              "outlinewidth": 0,
              "ticks": ""
             }
            },
            "type": "scattergeo"
           }
          ],
          "scattergl": [
           {
            "marker": {
             "colorbar": {
              "outlinewidth": 0,
              "ticks": ""
             }
            },
            "type": "scattergl"
           }
          ],
          "scattermapbox": [
           {
            "marker": {
             "colorbar": {
              "outlinewidth": 0,
              "ticks": ""
             }
            },
            "type": "scattermapbox"
           }
          ],
          "scatterpolar": [
           {
            "marker": {
             "colorbar": {
              "outlinewidth": 0,
              "ticks": ""
             }
            },
            "type": "scatterpolar"
           }
          ],
          "scatterpolargl": [
           {
            "marker": {
             "colorbar": {
              "outlinewidth": 0,
              "ticks": ""
             }
            },
            "type": "scatterpolargl"
           }
          ],
          "scatterternary": [
           {
            "marker": {
             "colorbar": {
              "outlinewidth": 0,
              "ticks": ""
             }
            },
            "type": "scatterternary"
           }
          ],
          "surface": [
           {
            "colorbar": {
             "outlinewidth": 0,
             "ticks": ""
            },
            "colorscale": [
             [
              0,
              "#0d0887"
             ],
             [
              0.1111111111111111,
              "#46039f"
             ],
             [
              0.2222222222222222,
              "#7201a8"
             ],
             [
              0.3333333333333333,
              "#9c179e"
             ],
             [
              0.4444444444444444,
              "#bd3786"
             ],
             [
              0.5555555555555556,
              "#d8576b"
             ],
             [
              0.6666666666666666,
              "#ed7953"
             ],
             [
              0.7777777777777778,
              "#fb9f3a"
             ],
             [
              0.8888888888888888,
              "#fdca26"
             ],
             [
              1,
              "#f0f921"
             ]
            ],
            "type": "surface"
           }
          ],
          "table": [
           {
            "cells": {
             "fill": {
              "color": "#EBF0F8"
             },
             "line": {
              "color": "white"
             }
            },
            "header": {
             "fill": {
              "color": "#C8D4E3"
             },
             "line": {
              "color": "white"
             }
            },
            "type": "table"
           }
          ]
         },
         "layout": {
          "annotationdefaults": {
           "arrowcolor": "#2a3f5f",
           "arrowhead": 0,
           "arrowwidth": 1
          },
          "autotypenumbers": "strict",
          "coloraxis": {
           "colorbar": {
            "outlinewidth": 0,
            "ticks": ""
           }
          },
          "colorscale": {
           "diverging": [
            [
             0,
             "#8e0152"
            ],
            [
             0.1,
             "#c51b7d"
            ],
            [
             0.2,
             "#de77ae"
            ],
            [
             0.3,
             "#f1b6da"
            ],
            [
             0.4,
             "#fde0ef"
            ],
            [
             0.5,
             "#f7f7f7"
            ],
            [
             0.6,
             "#e6f5d0"
            ],
            [
             0.7,
             "#b8e186"
            ],
            [
             0.8,
             "#7fbc41"
            ],
            [
             0.9,
             "#4d9221"
            ],
            [
             1,
             "#276419"
            ]
           ],
           "sequential": [
            [
             0,
             "#0d0887"
            ],
            [
             0.1111111111111111,
             "#46039f"
            ],
            [
             0.2222222222222222,
             "#7201a8"
            ],
            [
             0.3333333333333333,
             "#9c179e"
            ],
            [
             0.4444444444444444,
             "#bd3786"
            ],
            [
             0.5555555555555556,
             "#d8576b"
            ],
            [
             0.6666666666666666,
             "#ed7953"
            ],
            [
             0.7777777777777778,
             "#fb9f3a"
            ],
            [
             0.8888888888888888,
             "#fdca26"
            ],
            [
             1,
             "#f0f921"
            ]
           ],
           "sequentialminus": [
            [
             0,
             "#0d0887"
            ],
            [
             0.1111111111111111,
             "#46039f"
            ],
            [
             0.2222222222222222,
             "#7201a8"
            ],
            [
             0.3333333333333333,
             "#9c179e"
            ],
            [
             0.4444444444444444,
             "#bd3786"
            ],
            [
             0.5555555555555556,
             "#d8576b"
            ],
            [
             0.6666666666666666,
             "#ed7953"
            ],
            [
             0.7777777777777778,
             "#fb9f3a"
            ],
            [
             0.8888888888888888,
             "#fdca26"
            ],
            [
             1,
             "#f0f921"
            ]
           ]
          },
          "colorway": [
           "#636efa",
           "#EF553B",
           "#00cc96",
           "#ab63fa",
           "#FFA15A",
           "#19d3f3",
           "#FF6692",
           "#B6E880",
           "#FF97FF",
           "#FECB52"
          ],
          "font": {
           "color": "#2a3f5f"
          },
          "geo": {
           "bgcolor": "white",
           "lakecolor": "white",
           "landcolor": "#E5ECF6",
           "showlakes": true,
           "showland": true,
           "subunitcolor": "white"
          },
          "hoverlabel": {
           "align": "left"
          },
          "hovermode": "closest",
          "mapbox": {
           "style": "light"
          },
          "paper_bgcolor": "white",
          "plot_bgcolor": "#E5ECF6",
          "polar": {
           "angularaxis": {
            "gridcolor": "white",
            "linecolor": "white",
            "ticks": ""
           },
           "bgcolor": "#E5ECF6",
           "radialaxis": {
            "gridcolor": "white",
            "linecolor": "white",
            "ticks": ""
           }
          },
          "scene": {
           "xaxis": {
            "backgroundcolor": "#E5ECF6",
            "gridcolor": "white",
            "gridwidth": 2,
            "linecolor": "white",
            "showbackground": true,
            "ticks": "",
            "zerolinecolor": "white"
           },
           "yaxis": {
            "backgroundcolor": "#E5ECF6",
            "gridcolor": "white",
            "gridwidth": 2,
            "linecolor": "white",
            "showbackground": true,
            "ticks": "",
            "zerolinecolor": "white"
           },
           "zaxis": {
            "backgroundcolor": "#E5ECF6",
            "gridcolor": "white",
            "gridwidth": 2,
            "linecolor": "white",
            "showbackground": true,
            "ticks": "",
            "zerolinecolor": "white"
           }
          },
          "shapedefaults": {
           "line": {
            "color": "#2a3f5f"
           }
          },
          "ternary": {
           "aaxis": {
            "gridcolor": "white",
            "linecolor": "white",
            "ticks": ""
           },
           "baxis": {
            "gridcolor": "white",
            "linecolor": "white",
            "ticks": ""
           },
           "bgcolor": "#E5ECF6",
           "caxis": {
            "gridcolor": "white",
            "linecolor": "white",
            "ticks": ""
           }
          },
          "title": {
           "x": 0.05
          },
          "xaxis": {
           "automargin": true,
           "gridcolor": "white",
           "linecolor": "white",
           "ticks": "",
           "title": {
            "standoff": 15
           },
           "zerolinecolor": "white",
           "zerolinewidth": 2
          },
          "yaxis": {
           "automargin": true,
           "gridcolor": "white",
           "linecolor": "white",
           "ticks": "",
           "title": {
            "standoff": 15
           },
           "zerolinecolor": "white",
           "zerolinewidth": 2
          }
         }
        },
        "title": {
         "text": "INDICADOR: Inercia para K grupos"
        },
        "xaxis": {
         "title": {
          "text": "Valores de K"
         }
        },
        "yaxis": {
         "title": {
          "text": "Inércia"
         }
        }
       }
      }
     },
     "metadata": {},
     "output_type": "display_data"
    }
   ],
   "source": [
    "fig =go.Figure()\n",
    "fig.add_trace(go.Scatter(x = faixa_n_clusters, y = valores_inercia))\n",
    "fig.update_layout(\n",
    "    title=\"INDICADOR: Inercia para K grupos\",\n",
    "    xaxis_title=\"Valores de K\",\n",
    "    yaxis_title=\"Inércia\",\n",
    "    font=dict(\n",
    "        family=\"Courier New, monospace\",\n",
    "        size=18,\n",
    "        color=\"#7f7f7f\"\n",
    "    )\n",
    ")\n",
    "fig.show()"
   ]
  },
  {
   "cell_type": "code",
   "execution_count": 78,
   "metadata": {},
   "outputs": [
    {
     "data": {
      "application/vnd.plotly.v1+json": {
       "config": {
        "plotlyServerURL": "https://plot.ly"
       },
       "data": [
        {
         "type": "scatter",
         "x": [
          2,
          3,
          4,
          5,
          6,
          7,
          8,
          9,
          10,
          11,
          12,
          13,
          14,
          15
         ],
         "y": [
          -134032.21022719314,
          -66523.26077403652,
          -36103.049979941,
          -25306.64376663814,
          -15840.3036036802,
          -11841.330616888872,
          -9185.108314585581,
          -7702.156355141201,
          -6768.284524836122,
          -5963.683390228862,
          -5362.0324031328655,
          -4715.390212168025,
          -4089.007684535094,
          -3487.5331222031978
         ]
        }
       ],
       "layout": {
        "font": {
         "color": "#7f7f7f",
         "family": "Courier New, monospace",
         "size": 18
        },
        "template": {
         "data": {
          "bar": [
           {
            "error_x": {
             "color": "#2a3f5f"
            },
            "error_y": {
             "color": "#2a3f5f"
            },
            "marker": {
             "line": {
              "color": "#E5ECF6",
              "width": 0.5
             },
             "pattern": {
              "fillmode": "overlay",
              "size": 10,
              "solidity": 0.2
             }
            },
            "type": "bar"
           }
          ],
          "barpolar": [
           {
            "marker": {
             "line": {
              "color": "#E5ECF6",
              "width": 0.5
             },
             "pattern": {
              "fillmode": "overlay",
              "size": 10,
              "solidity": 0.2
             }
            },
            "type": "barpolar"
           }
          ],
          "carpet": [
           {
            "aaxis": {
             "endlinecolor": "#2a3f5f",
             "gridcolor": "white",
             "linecolor": "white",
             "minorgridcolor": "white",
             "startlinecolor": "#2a3f5f"
            },
            "baxis": {
             "endlinecolor": "#2a3f5f",
             "gridcolor": "white",
             "linecolor": "white",
             "minorgridcolor": "white",
             "startlinecolor": "#2a3f5f"
            },
            "type": "carpet"
           }
          ],
          "choropleth": [
           {
            "colorbar": {
             "outlinewidth": 0,
             "ticks": ""
            },
            "type": "choropleth"
           }
          ],
          "contour": [
           {
            "colorbar": {
             "outlinewidth": 0,
             "ticks": ""
            },
            "colorscale": [
             [
              0,
              "#0d0887"
             ],
             [
              0.1111111111111111,
              "#46039f"
             ],
             [
              0.2222222222222222,
              "#7201a8"
             ],
             [
              0.3333333333333333,
              "#9c179e"
             ],
             [
              0.4444444444444444,
              "#bd3786"
             ],
             [
              0.5555555555555556,
              "#d8576b"
             ],
             [
              0.6666666666666666,
              "#ed7953"
             ],
             [
              0.7777777777777778,
              "#fb9f3a"
             ],
             [
              0.8888888888888888,
              "#fdca26"
             ],
             [
              1,
              "#f0f921"
             ]
            ],
            "type": "contour"
           }
          ],
          "contourcarpet": [
           {
            "colorbar": {
             "outlinewidth": 0,
             "ticks": ""
            },
            "type": "contourcarpet"
           }
          ],
          "heatmap": [
           {
            "colorbar": {
             "outlinewidth": 0,
             "ticks": ""
            },
            "colorscale": [
             [
              0,
              "#0d0887"
             ],
             [
              0.1111111111111111,
              "#46039f"
             ],
             [
              0.2222222222222222,
              "#7201a8"
             ],
             [
              0.3333333333333333,
              "#9c179e"
             ],
             [
              0.4444444444444444,
              "#bd3786"
             ],
             [
              0.5555555555555556,
              "#d8576b"
             ],
             [
              0.6666666666666666,
              "#ed7953"
             ],
             [
              0.7777777777777778,
              "#fb9f3a"
             ],
             [
              0.8888888888888888,
              "#fdca26"
             ],
             [
              1,
              "#f0f921"
             ]
            ],
            "type": "heatmap"
           }
          ],
          "heatmapgl": [
           {
            "colorbar": {
             "outlinewidth": 0,
             "ticks": ""
            },
            "colorscale": [
             [
              0,
              "#0d0887"
             ],
             [
              0.1111111111111111,
              "#46039f"
             ],
             [
              0.2222222222222222,
              "#7201a8"
             ],
             [
              0.3333333333333333,
              "#9c179e"
             ],
             [
              0.4444444444444444,
              "#bd3786"
             ],
             [
              0.5555555555555556,
              "#d8576b"
             ],
             [
              0.6666666666666666,
              "#ed7953"
             ],
             [
              0.7777777777777778,
              "#fb9f3a"
             ],
             [
              0.8888888888888888,
              "#fdca26"
             ],
             [
              1,
              "#f0f921"
             ]
            ],
            "type": "heatmapgl"
           }
          ],
          "histogram": [
           {
            "marker": {
             "pattern": {
              "fillmode": "overlay",
              "size": 10,
              "solidity": 0.2
             }
            },
            "type": "histogram"
           }
          ],
          "histogram2d": [
           {
            "colorbar": {
             "outlinewidth": 0,
             "ticks": ""
            },
            "colorscale": [
             [
              0,
              "#0d0887"
             ],
             [
              0.1111111111111111,
              "#46039f"
             ],
             [
              0.2222222222222222,
              "#7201a8"
             ],
             [
              0.3333333333333333,
              "#9c179e"
             ],
             [
              0.4444444444444444,
              "#bd3786"
             ],
             [
              0.5555555555555556,
              "#d8576b"
             ],
             [
              0.6666666666666666,
              "#ed7953"
             ],
             [
              0.7777777777777778,
              "#fb9f3a"
             ],
             [
              0.8888888888888888,
              "#fdca26"
             ],
             [
              1,
              "#f0f921"
             ]
            ],
            "type": "histogram2d"
           }
          ],
          "histogram2dcontour": [
           {
            "colorbar": {
             "outlinewidth": 0,
             "ticks": ""
            },
            "colorscale": [
             [
              0,
              "#0d0887"
             ],
             [
              0.1111111111111111,
              "#46039f"
             ],
             [
              0.2222222222222222,
              "#7201a8"
             ],
             [
              0.3333333333333333,
              "#9c179e"
             ],
             [
              0.4444444444444444,
              "#bd3786"
             ],
             [
              0.5555555555555556,
              "#d8576b"
             ],
             [
              0.6666666666666666,
              "#ed7953"
             ],
             [
              0.7777777777777778,
              "#fb9f3a"
             ],
             [
              0.8888888888888888,
              "#fdca26"
             ],
             [
              1,
              "#f0f921"
             ]
            ],
            "type": "histogram2dcontour"
           }
          ],
          "mesh3d": [
           {
            "colorbar": {
             "outlinewidth": 0,
             "ticks": ""
            },
            "type": "mesh3d"
           }
          ],
          "parcoords": [
           {
            "line": {
             "colorbar": {
              "outlinewidth": 0,
              "ticks": ""
             }
            },
            "type": "parcoords"
           }
          ],
          "pie": [
           {
            "automargin": true,
            "type": "pie"
           }
          ],
          "scatter": [
           {
            "fillpattern": {
             "fillmode": "overlay",
             "size": 10,
             "solidity": 0.2
            },
            "type": "scatter"
           }
          ],
          "scatter3d": [
           {
            "line": {
             "colorbar": {
              "outlinewidth": 0,
              "ticks": ""
             }
            },
            "marker": {
             "colorbar": {
              "outlinewidth": 0,
              "ticks": ""
             }
            },
            "type": "scatter3d"
           }
          ],
          "scattercarpet": [
           {
            "marker": {
             "colorbar": {
              "outlinewidth": 0,
              "ticks": ""
             }
            },
            "type": "scattercarpet"
           }
          ],
          "scattergeo": [
           {
            "marker": {
             "colorbar": {
              "outlinewidth": 0,
              "ticks": ""
             }
            },
            "type": "scattergeo"
           }
          ],
          "scattergl": [
           {
            "marker": {
             "colorbar": {
              "outlinewidth": 0,
              "ticks": ""
             }
            },
            "type": "scattergl"
           }
          ],
          "scattermapbox": [
           {
            "marker": {
             "colorbar": {
              "outlinewidth": 0,
              "ticks": ""
             }
            },
            "type": "scattermapbox"
           }
          ],
          "scatterpolar": [
           {
            "marker": {
             "colorbar": {
              "outlinewidth": 0,
              "ticks": ""
             }
            },
            "type": "scatterpolar"
           }
          ],
          "scatterpolargl": [
           {
            "marker": {
             "colorbar": {
              "outlinewidth": 0,
              "ticks": ""
             }
            },
            "type": "scatterpolargl"
           }
          ],
          "scatterternary": [
           {
            "marker": {
             "colorbar": {
              "outlinewidth": 0,
              "ticks": ""
             }
            },
            "type": "scatterternary"
           }
          ],
          "surface": [
           {
            "colorbar": {
             "outlinewidth": 0,
             "ticks": ""
            },
            "colorscale": [
             [
              0,
              "#0d0887"
             ],
             [
              0.1111111111111111,
              "#46039f"
             ],
             [
              0.2222222222222222,
              "#7201a8"
             ],
             [
              0.3333333333333333,
              "#9c179e"
             ],
             [
              0.4444444444444444,
              "#bd3786"
             ],
             [
              0.5555555555555556,
              "#d8576b"
             ],
             [
              0.6666666666666666,
              "#ed7953"
             ],
             [
              0.7777777777777778,
              "#fb9f3a"
             ],
             [
              0.8888888888888888,
              "#fdca26"
             ],
             [
              1,
              "#f0f921"
             ]
            ],
            "type": "surface"
           }
          ],
          "table": [
           {
            "cells": {
             "fill": {
              "color": "#EBF0F8"
             },
             "line": {
              "color": "white"
             }
            },
            "header": {
             "fill": {
              "color": "#C8D4E3"
             },
             "line": {
              "color": "white"
             }
            },
            "type": "table"
           }
          ]
         },
         "layout": {
          "annotationdefaults": {
           "arrowcolor": "#2a3f5f",
           "arrowhead": 0,
           "arrowwidth": 1
          },
          "autotypenumbers": "strict",
          "coloraxis": {
           "colorbar": {
            "outlinewidth": 0,
            "ticks": ""
           }
          },
          "colorscale": {
           "diverging": [
            [
             0,
             "#8e0152"
            ],
            [
             0.1,
             "#c51b7d"
            ],
            [
             0.2,
             "#de77ae"
            ],
            [
             0.3,
             "#f1b6da"
            ],
            [
             0.4,
             "#fde0ef"
            ],
            [
             0.5,
             "#f7f7f7"
            ],
            [
             0.6,
             "#e6f5d0"
            ],
            [
             0.7,
             "#b8e186"
            ],
            [
             0.8,
             "#7fbc41"
            ],
            [
             0.9,
             "#4d9221"
            ],
            [
             1,
             "#276419"
            ]
           ],
           "sequential": [
            [
             0,
             "#0d0887"
            ],
            [
             0.1111111111111111,
             "#46039f"
            ],
            [
             0.2222222222222222,
             "#7201a8"
            ],
            [
             0.3333333333333333,
             "#9c179e"
            ],
            [
             0.4444444444444444,
             "#bd3786"
            ],
            [
             0.5555555555555556,
             "#d8576b"
            ],
            [
             0.6666666666666666,
             "#ed7953"
            ],
            [
             0.7777777777777778,
             "#fb9f3a"
            ],
            [
             0.8888888888888888,
             "#fdca26"
            ],
            [
             1,
             "#f0f921"
            ]
           ],
           "sequentialminus": [
            [
             0,
             "#0d0887"
            ],
            [
             0.1111111111111111,
             "#46039f"
            ],
            [
             0.2222222222222222,
             "#7201a8"
            ],
            [
             0.3333333333333333,
             "#9c179e"
            ],
            [
             0.4444444444444444,
             "#bd3786"
            ],
            [
             0.5555555555555556,
             "#d8576b"
            ],
            [
             0.6666666666666666,
             "#ed7953"
            ],
            [
             0.7777777777777778,
             "#fb9f3a"
            ],
            [
             0.8888888888888888,
             "#fdca26"
            ],
            [
             1,
             "#f0f921"
            ]
           ]
          },
          "colorway": [
           "#636efa",
           "#EF553B",
           "#00cc96",
           "#ab63fa",
           "#FFA15A",
           "#19d3f3",
           "#FF6692",
           "#B6E880",
           "#FF97FF",
           "#FECB52"
          ],
          "font": {
           "color": "#2a3f5f"
          },
          "geo": {
           "bgcolor": "white",
           "lakecolor": "white",
           "landcolor": "#E5ECF6",
           "showlakes": true,
           "showland": true,
           "subunitcolor": "white"
          },
          "hoverlabel": {
           "align": "left"
          },
          "hovermode": "closest",
          "mapbox": {
           "style": "light"
          },
          "paper_bgcolor": "white",
          "plot_bgcolor": "#E5ECF6",
          "polar": {
           "angularaxis": {
            "gridcolor": "white",
            "linecolor": "white",
            "ticks": ""
           },
           "bgcolor": "#E5ECF6",
           "radialaxis": {
            "gridcolor": "white",
            "linecolor": "white",
            "ticks": ""
           }
          },
          "scene": {
           "xaxis": {
            "backgroundcolor": "#E5ECF6",
            "gridcolor": "white",
            "gridwidth": 2,
            "linecolor": "white",
            "showbackground": true,
            "ticks": "",
            "zerolinecolor": "white"
           },
           "yaxis": {
            "backgroundcolor": "#E5ECF6",
            "gridcolor": "white",
            "gridwidth": 2,
            "linecolor": "white",
            "showbackground": true,
            "ticks": "",
            "zerolinecolor": "white"
           },
           "zaxis": {
            "backgroundcolor": "#E5ECF6",
            "gridcolor": "white",
            "gridwidth": 2,
            "linecolor": "white",
            "showbackground": true,
            "ticks": "",
            "zerolinecolor": "white"
           }
          },
          "shapedefaults": {
           "line": {
            "color": "#2a3f5f"
           }
          },
          "ternary": {
           "aaxis": {
            "gridcolor": "white",
            "linecolor": "white",
            "ticks": ""
           },
           "baxis": {
            "gridcolor": "white",
            "linecolor": "white",
            "ticks": ""
           },
           "bgcolor": "#E5ECF6",
           "caxis": {
            "gridcolor": "white",
            "linecolor": "white",
            "ticks": ""
           }
          },
          "title": {
           "x": 0.05
          },
          "xaxis": {
           "automargin": true,
           "gridcolor": "white",
           "linecolor": "white",
           "ticks": "",
           "title": {
            "standoff": 15
           },
           "zerolinecolor": "white",
           "zerolinewidth": 2
          },
          "yaxis": {
           "automargin": true,
           "gridcolor": "white",
           "linecolor": "white",
           "ticks": "",
           "title": {
            "standoff": 15
           },
           "zerolinecolor": "white",
           "zerolinewidth": 2
          }
         }
        },
        "title": {
         "text": "Indicador: Erro quadratico médio para K grupos"
        },
        "xaxis": {
         "title": {
          "text": "Valores de K"
         }
        },
        "yaxis": {
         "title": {
          "text": "MSE"
         }
        }
       }
      }
     },
     "metadata": {},
     "output_type": "display_data"
    }
   ],
   "source": [
    "fig =go.Figure()\n",
    "fig.add_trace(go.Scatter(x = faixa_n_clusters, y = valores_score))\n",
    "fig.update_layout(\n",
    "    title=\"Indicador: Erro quadratico médio para K grupos\",\n",
    "    xaxis_title=\"Valores de K\",\n",
    "    yaxis_title=\"MSE\",\n",
    "    font=dict(\n",
    "        family=\"Courier New, monospace\",\n",
    "        size=18,\n",
    "        color=\"#7f7f7f\"\n",
    "    )\n",
    ")\n",
    "fig.show()"
   ]
  },
  {
   "cell_type": "code",
   "execution_count": 79,
   "metadata": {},
   "outputs": [],
   "source": [
    "def optimal_number_of_clusters(wcss):\n",
    "    x1, y1 = 2, wcss[0]\n",
    "    x2, y2 = 15, wcss[len(wcss)-1]\n",
    "\n",
    "    distances = []\n",
    "    for i in range(len(wcss)):\n",
    "        x0 = i+2\n",
    "        y0 = wcss[i]\n",
    "        numerator = abs((y2-y1)*x0 - (x2-x1)*y0 + x2*y1 - y2*x1)\n",
    "        denominator = np.sqrt((y2 - y1)**2 + (x2 - x1)**2)\n",
    "        distances.append(numerator/denominator)\n",
    "    \n",
    "    return distances.index(max(distances)) + 2"
   ]
  },
  {
   "cell_type": "code",
   "execution_count": 80,
   "metadata": {},
   "outputs": [
    {
     "name": "stdout",
     "output_type": "stream",
     "text": [
      "Melhor valor de K: 5\n"
     ]
    }
   ],
   "source": [
    "valor_ideal_k = optimal_number_of_clusters(valores_inercia)\n",
    "\n",
    "print(\"Melhor valor de K:\", valor_ideal_k)"
   ]
  },
  {
   "cell_type": "code",
   "execution_count": 81,
   "metadata": {},
   "outputs": [],
   "source": [
    "# Construindo o melhor agrupador de clusteres\n",
    "valor_de_k = 4\n",
    "\n",
    "agrupador = KMeans(n_clusters=valor_de_k, random_state=1337)\n",
    "agrupador.fit_transform(df_pipe_cluster)\n",
    "\n",
    "# Obtendo o ponto central dos clusteres\n",
    "centros = agrupador.cluster_centers_\n",
    "df_centroide = pd.DataFrame(centros, columns = df_pipe_cluster.columns).round(3)\n",
    "df_centroide['cluster'] = df_centroide.index\n",
    "\n",
    "# Obtendo o label para cada pessoa\n",
    "df_pipe_cluster['label_cluster'] = agrupador.labels_"
   ]
  },
  {
   "cell_type": "code",
   "execution_count": 82,
   "metadata": {},
   "outputs": [
    {
     "data": {
      "text/html": [
       "<div>\n",
       "<style scoped>\n",
       "    .dataframe tbody tr th:only-of-type {\n",
       "        vertical-align: middle;\n",
       "    }\n",
       "\n",
       "    .dataframe tbody tr th {\n",
       "        vertical-align: top;\n",
       "    }\n",
       "\n",
       "    .dataframe thead th {\n",
       "        text-align: right;\n",
       "    }\n",
       "</style>\n",
       "<table border=\"1\" class=\"dataframe\">\n",
       "  <thead>\n",
       "    <tr style=\"text-align: right;\">\n",
       "      <th></th>\n",
       "      <th>status_situacao</th>\n",
       "      <th>historico_pagamento_em_qtd</th>\n",
       "      <th>historico_pagamento_em_valor</th>\n",
       "      <th>cluster</th>\n",
       "    </tr>\n",
       "  </thead>\n",
       "  <tbody>\n",
       "    <tr>\n",
       "      <th>0</th>\n",
       "      <td>3.000</td>\n",
       "      <td>0.120</td>\n",
       "      <td>0.088</td>\n",
       "      <td>0</td>\n",
       "    </tr>\n",
       "    <tr>\n",
       "      <th>1</th>\n",
       "      <td>0.006</td>\n",
       "      <td>0.076</td>\n",
       "      <td>0.069</td>\n",
       "      <td>1</td>\n",
       "    </tr>\n",
       "    <tr>\n",
       "      <th>2</th>\n",
       "      <td>2.893</td>\n",
       "      <td>0.766</td>\n",
       "      <td>0.968</td>\n",
       "      <td>2</td>\n",
       "    </tr>\n",
       "    <tr>\n",
       "      <th>3</th>\n",
       "      <td>2.000</td>\n",
       "      <td>0.077</td>\n",
       "      <td>0.076</td>\n",
       "      <td>3</td>\n",
       "    </tr>\n",
       "  </tbody>\n",
       "</table>\n",
       "</div>"
      ],
      "text/plain": [
       "   status_situacao  historico_pagamento_em_qtd  historico_pagamento_em_valor  \\\n",
       "0            3.000                       0.120                         0.088   \n",
       "1            0.006                       0.076                         0.069   \n",
       "2            2.893                       0.766                         0.968   \n",
       "3            2.000                       0.077                         0.076   \n",
       "\n",
       "   cluster  \n",
       "0        0  \n",
       "1        1  \n",
       "2        2  \n",
       "3        3  "
      ]
     },
     "execution_count": 82,
     "metadata": {},
     "output_type": "execute_result"
    }
   ],
   "source": [
    "df_centroide"
   ]
  },
  {
   "attachments": {},
   "cell_type": "markdown",
   "metadata": {},
   "source": [
    "Na totalidade temos +1 cluster especial que é do contribuinte que apareceu a primiera vez em DA"
   ]
  },
  {
   "cell_type": "code",
   "execution_count": 83,
   "metadata": {},
   "outputs": [],
   "source": [
    "dicionario_clusteres ={\n",
    "    4: 'PRIMEIRA DIVIDA',\n",
    "    1: 'PIOR PAGADOR',\n",
    "    3: 'PAGADOR INTERMEDIARIO',\n",
    "    0: 'BOM PAGADOR',\n",
    "    2: 'MELHOR PAGADOR'\n",
    "}"
   ]
  },
  {
   "cell_type": "code",
   "execution_count": 84,
   "metadata": {},
   "outputs": [
    {
     "data": {
      "text/html": [
       "<div>\n",
       "<style scoped>\n",
       "    .dataframe tbody tr th:only-of-type {\n",
       "        vertical-align: middle;\n",
       "    }\n",
       "\n",
       "    .dataframe tbody tr th {\n",
       "        vertical-align: top;\n",
       "    }\n",
       "\n",
       "    .dataframe thead th {\n",
       "        text-align: right;\n",
       "    }\n",
       "</style>\n",
       "<table border=\"1\" class=\"dataframe\">\n",
       "  <thead>\n",
       "    <tr style=\"text-align: right;\">\n",
       "      <th></th>\n",
       "      <th></th>\n",
       "      <th>label_cluster</th>\n",
       "      <th>perc</th>\n",
       "    </tr>\n",
       "    <tr>\n",
       "      <th>label_cluster</th>\n",
       "      <th>label_cluster</th>\n",
       "      <th></th>\n",
       "      <th></th>\n",
       "    </tr>\n",
       "  </thead>\n",
       "  <tbody>\n",
       "    <tr>\n",
       "      <th>0</th>\n",
       "      <th>0</th>\n",
       "      <td>83868</td>\n",
       "      <td>0.238056</td>\n",
       "    </tr>\n",
       "    <tr>\n",
       "      <th>1</th>\n",
       "      <th>1</th>\n",
       "      <td>134231</td>\n",
       "      <td>0.381010</td>\n",
       "    </tr>\n",
       "    <tr>\n",
       "      <th>2</th>\n",
       "      <th>2</th>\n",
       "      <td>85263</td>\n",
       "      <td>0.242016</td>\n",
       "    </tr>\n",
       "    <tr>\n",
       "      <th>3</th>\n",
       "      <th>3</th>\n",
       "      <td>48941</td>\n",
       "      <td>0.138917</td>\n",
       "    </tr>\n",
       "  </tbody>\n",
       "</table>\n",
       "</div>"
      ],
      "text/plain": [
       "                             label_cluster      perc\n",
       "label_cluster label_cluster                         \n",
       "0             0                      83868  0.238056\n",
       "1             1                     134231  0.381010\n",
       "2             2                      85263  0.242016\n",
       "3             3                      48941  0.138917"
      ]
     },
     "execution_count": 84,
     "metadata": {},
     "output_type": "execute_result"
    }
   ],
   "source": [
    "df_cluster = df_pipe_cluster.groupby('label_cluster')['label_cluster'].value_counts().to_frame()\n",
    "total = df_cluster['label_cluster'].sum()\n",
    "df_cluster['perc'] = df_cluster['label_cluster']/total\n",
    "df_cluster"
   ]
  },
  {
   "attachments": {},
   "cell_type": "markdown",
   "metadata": {},
   "source": [
    "Classificações dos contribuintes com base no melhor ao pior pagador, baseado no seu histórico e na sua situação atual."
   ]
  },
  {
   "attachments": {},
   "cell_type": "markdown",
   "metadata": {},
   "source": [
    "# 04) Cria classificador de class do contribuinte"
   ]
  },
  {
   "cell_type": "code",
   "execution_count": 85,
   "metadata": {},
   "outputs": [],
   "source": [
    "# Constroi o modelo que prevê qual o grupo do contribuinte\n",
    "\n",
    "x_cluster = df_pipe_cluster.drop(columns=['label_cluster'])\n",
    "y_cluster = df_pipe_cluster['label_cluster']\n",
    "\n",
    "X_train, X_test, y_train, y_test = train_test_split(x_cluster, y_cluster, test_size=0.3, random_state=1337)"
   ]
  },
  {
   "cell_type": "code",
   "execution_count": 86,
   "metadata": {},
   "outputs": [
    {
     "name": "stdout",
     "output_type": "stream",
     "text": [
      "Score de validacao: 0.9997256152368698\n"
     ]
    }
   ],
   "source": [
    "model_predict_contribuinte = RandomForestClassifier(random_state=1337)\n",
    "model_predict_contribuinte.fit(X_train, y_train)\n",
    "\n",
    "score_validacao = model_predict_contribuinte.score(X_test, y_test)\n",
    "print(\"Score de validacao:\", score_validacao)"
   ]
  },
  {
   "cell_type": "code",
   "execution_count": 87,
   "metadata": {},
   "outputs": [],
   "source": [
    "# Previsão da classificação para a base total de contribuintes\n",
    "\n",
    "matriz_previsao_class = dados_pessoas[['status_situacao', 'historico_pagamento_em_qtd', 'historico_pagamento_em_valor']]\n",
    "dados_pessoas['class_contribuinte'] = model_predict_contribuinte.predict(matriz_previsao_class)\n",
    "dados_pessoas.loc[dados_pessoas['frequencia_da_pessoa'] == 1, 'class_contribuinte'] = 4\n"
   ]
  },
  {
   "cell_type": "code",
   "execution_count": 88,
   "metadata": {},
   "outputs": [
    {
     "data": {
      "text/html": [
       "<div>\n",
       "<style scoped>\n",
       "    .dataframe tbody tr th:only-of-type {\n",
       "        vertical-align: middle;\n",
       "    }\n",
       "\n",
       "    .dataframe tbody tr th {\n",
       "        vertical-align: top;\n",
       "    }\n",
       "\n",
       "    .dataframe thead th {\n",
       "        text-align: right;\n",
       "    }\n",
       "</style>\n",
       "<table border=\"1\" class=\"dataframe\">\n",
       "  <thead>\n",
       "    <tr style=\"text-align: right;\">\n",
       "      <th></th>\n",
       "      <th></th>\n",
       "      <th>num_contrib</th>\n",
       "      <th>perc</th>\n",
       "    </tr>\n",
       "    <tr>\n",
       "      <th>class_contribuinte</th>\n",
       "      <th>class_contribuinte</th>\n",
       "      <th></th>\n",
       "      <th></th>\n",
       "    </tr>\n",
       "  </thead>\n",
       "  <tbody>\n",
       "    <tr>\n",
       "      <th>4</th>\n",
       "      <th>4</th>\n",
       "      <td>72729</td>\n",
       "      <td>1.0</td>\n",
       "    </tr>\n",
       "  </tbody>\n",
       "</table>\n",
       "</div>"
      ],
      "text/plain": [
       "                                       num_contrib  perc\n",
       "class_contribuinte class_contribuinte                   \n",
       "4                  4                         72729   1.0"
      ]
     },
     "execution_count": 88,
     "metadata": {},
     "output_type": "execute_result"
    }
   ],
   "source": [
    "primeira_divida = dados_pessoas[dados_pessoas['frequencia_da_pessoa'] == 1]\n",
    "\n",
    "# Como ficou a nossa classificação originalmente\n",
    "\n",
    "df_primeira_divida = primeira_divida.groupby('class_contribuinte')['class_contribuinte'].value_counts().to_frame()#.reset_index()\n",
    "df_primeira_divida.rename(columns = {'class_contribuinte':'num_contrib'}, inplace = True)\n",
    "total = df_primeira_divida['num_contrib'].sum()\n",
    "df_primeira_divida['perc'] = np.round(df_primeira_divida['num_contrib']/total, 3)\n",
    "df_primeira_divida"
   ]
  },
  {
   "cell_type": "code",
   "execution_count": 89,
   "metadata": {},
   "outputs": [
    {
     "data": {
      "text/html": [
       "<div>\n",
       "<style scoped>\n",
       "    .dataframe tbody tr th:only-of-type {\n",
       "        vertical-align: middle;\n",
       "    }\n",
       "\n",
       "    .dataframe tbody tr th {\n",
       "        vertical-align: top;\n",
       "    }\n",
       "\n",
       "    .dataframe thead th {\n",
       "        text-align: right;\n",
       "    }\n",
       "</style>\n",
       "<table border=\"1\" class=\"dataframe\">\n",
       "  <thead>\n",
       "    <tr style=\"text-align: right;\">\n",
       "      <th></th>\n",
       "      <th></th>\n",
       "      <th>num_contrib</th>\n",
       "      <th>perc</th>\n",
       "    </tr>\n",
       "    <tr>\n",
       "      <th>class_contribuinte</th>\n",
       "      <th>class_contribuinte</th>\n",
       "      <th></th>\n",
       "      <th></th>\n",
       "    </tr>\n",
       "  </thead>\n",
       "  <tbody>\n",
       "    <tr>\n",
       "      <th>0</th>\n",
       "      <th>0</th>\n",
       "      <td>83877</td>\n",
       "      <td>0.197</td>\n",
       "    </tr>\n",
       "    <tr>\n",
       "      <th>1</th>\n",
       "      <th>1</th>\n",
       "      <td>134233</td>\n",
       "      <td>0.316</td>\n",
       "    </tr>\n",
       "    <tr>\n",
       "      <th>2</th>\n",
       "      <th>2</th>\n",
       "      <td>85254</td>\n",
       "      <td>0.201</td>\n",
       "    </tr>\n",
       "    <tr>\n",
       "      <th>3</th>\n",
       "      <th>3</th>\n",
       "      <td>48939</td>\n",
       "      <td>0.115</td>\n",
       "    </tr>\n",
       "    <tr>\n",
       "      <th>4</th>\n",
       "      <th>4</th>\n",
       "      <td>72729</td>\n",
       "      <td>0.171</td>\n",
       "    </tr>\n",
       "  </tbody>\n",
       "</table>\n",
       "</div>"
      ],
      "text/plain": [
       "                                       num_contrib   perc\n",
       "class_contribuinte class_contribuinte                    \n",
       "0                  0                         83877  0.197\n",
       "1                  1                        134233  0.316\n",
       "2                  2                         85254  0.201\n",
       "3                  3                         48939  0.115\n",
       "4                  4                         72729  0.171"
      ]
     },
     "execution_count": 89,
     "metadata": {},
     "output_type": "execute_result"
    }
   ],
   "source": [
    "\n",
    "# Como ficou a nossa classificação originalmente\n",
    "\n",
    "df_descritiva = dados_pessoas.groupby('class_contribuinte')['class_contribuinte'].value_counts().to_frame()#.reset_index()\n",
    "df_descritiva.rename(columns = {'class_contribuinte':'num_contrib'}, inplace = True)\n",
    "total = df_descritiva['num_contrib'].sum()\n",
    "df_descritiva['perc'] = np.round(df_descritiva['num_contrib']/total, 3)\n",
    "df_descritiva"
   ]
  },
  {
   "cell_type": "code",
   "execution_count": 90,
   "metadata": {},
   "outputs": [],
   "source": [
    "# Nomeando a classificação com label de prioridade\n",
    "dados_pessoas.loc[dados_pessoas['class_contribuinte'] == 4, 'class_contribuinte_nome'] = 'PRIMEIRA DIVIDA'\n",
    "dados_pessoas.loc[dados_pessoas['class_contribuinte'] == 1, 'class_contribuinte_nome'] = 'PIOR PAGADOR'\n",
    "dados_pessoas.loc[dados_pessoas['class_contribuinte'] == 3, 'class_contribuinte_nome'] = 'PAGADOR INTERMEDIARIO'\n",
    "dados_pessoas.loc[dados_pessoas['class_contribuinte'] == 0, 'class_contribuinte_nome'] = 'BOM PAGADOR'\n",
    "dados_pessoas.loc[dados_pessoas['class_contribuinte'] == 2, 'class_contribuinte_nome'] = 'MELHOR PAGADOR'"
   ]
  },
  {
   "cell_type": "code",
   "execution_count": 91,
   "metadata": {},
   "outputs": [],
   "source": [
    "df_classificao_contribuinte = dados_pessoas[['class_contribuinte_nome']].reset_index()"
   ]
  },
  {
   "cell_type": "code",
   "execution_count": 97,
   "metadata": {},
   "outputs": [
    {
     "data": {
      "text/html": [
       "<div>\n",
       "<style scoped>\n",
       "    .dataframe tbody tr th:only-of-type {\n",
       "        vertical-align: middle;\n",
       "    }\n",
       "\n",
       "    .dataframe tbody tr th {\n",
       "        vertical-align: top;\n",
       "    }\n",
       "\n",
       "    .dataframe thead th {\n",
       "        text-align: right;\n",
       "    }\n",
       "</style>\n",
       "<table border=\"1\" class=\"dataframe\">\n",
       "  <thead>\n",
       "    <tr style=\"text-align: right;\">\n",
       "      <th></th>\n",
       "      <th>id_pessoa</th>\n",
       "      <th>class_contribuinte_nome</th>\n",
       "    </tr>\n",
       "  </thead>\n",
       "  <tbody>\n",
       "    <tr>\n",
       "      <th>0</th>\n",
       "      <td>ac28642d7c82b33f</td>\n",
       "      <td>BOM PAGADOR</td>\n",
       "    </tr>\n",
       "    <tr>\n",
       "      <th>1</th>\n",
       "      <td>870c08c252b25ad1</td>\n",
       "      <td>MELHOR PAGADOR</td>\n",
       "    </tr>\n",
       "    <tr>\n",
       "      <th>2</th>\n",
       "      <td>d8b23eda9800b9e3</td>\n",
       "      <td>PAGADOR INTERMEDIARIO</td>\n",
       "    </tr>\n",
       "    <tr>\n",
       "      <th>3</th>\n",
       "      <td>9f3bac8718dac1fa</td>\n",
       "      <td>MELHOR PAGADOR</td>\n",
       "    </tr>\n",
       "    <tr>\n",
       "      <th>4</th>\n",
       "      <td>0bff42777c16d00c</td>\n",
       "      <td>BOM PAGADOR</td>\n",
       "    </tr>\n",
       "    <tr>\n",
       "      <th>...</th>\n",
       "      <td>...</td>\n",
       "      <td>...</td>\n",
       "    </tr>\n",
       "    <tr>\n",
       "      <th>425027</th>\n",
       "      <td>aba0af9479986a18</td>\n",
       "      <td>PRIMEIRA DIVIDA</td>\n",
       "    </tr>\n",
       "    <tr>\n",
       "      <th>425028</th>\n",
       "      <td>49bc65f01166e4e7</td>\n",
       "      <td>PRIMEIRA DIVIDA</td>\n",
       "    </tr>\n",
       "    <tr>\n",
       "      <th>425029</th>\n",
       "      <td>bf79480d4e9ebf0e</td>\n",
       "      <td>PRIMEIRA DIVIDA</td>\n",
       "    </tr>\n",
       "    <tr>\n",
       "      <th>425030</th>\n",
       "      <td>391c352ffdfe4e93</td>\n",
       "      <td>PRIMEIRA DIVIDA</td>\n",
       "    </tr>\n",
       "    <tr>\n",
       "      <th>425031</th>\n",
       "      <td>6d2acb2a8db6ecda</td>\n",
       "      <td>PRIMEIRA DIVIDA</td>\n",
       "    </tr>\n",
       "  </tbody>\n",
       "</table>\n",
       "<p>425032 rows × 2 columns</p>\n",
       "</div>"
      ],
      "text/plain": [
       "               id_pessoa class_contribuinte_nome\n",
       "0       ac28642d7c82b33f             BOM PAGADOR\n",
       "1       870c08c252b25ad1          MELHOR PAGADOR\n",
       "2       d8b23eda9800b9e3   PAGADOR INTERMEDIARIO\n",
       "3       9f3bac8718dac1fa          MELHOR PAGADOR\n",
       "4       0bff42777c16d00c             BOM PAGADOR\n",
       "...                  ...                     ...\n",
       "425027  aba0af9479986a18         PRIMEIRA DIVIDA\n",
       "425028  49bc65f01166e4e7         PRIMEIRA DIVIDA\n",
       "425029  bf79480d4e9ebf0e         PRIMEIRA DIVIDA\n",
       "425030  391c352ffdfe4e93         PRIMEIRA DIVIDA\n",
       "425031  6d2acb2a8db6ecda         PRIMEIRA DIVIDA\n",
       "\n",
       "[425032 rows x 2 columns]"
      ]
     },
     "execution_count": 97,
     "metadata": {},
     "output_type": "execute_result"
    }
   ],
   "source": [
    "df_classificao_contribuinte"
   ]
  },
  {
   "cell_type": "code",
   "execution_count": 99,
   "metadata": {},
   "outputs": [
    {
     "data": {
      "text/plain": [
       "Index(['cda', 'tipo_divida', 'da_aberto', 'deb_totais', 'valor_tot',\n",
       "       'deb_pagos', 'valor_pago', 'vlr_tributo', 'vlr_taxa',\n",
       "       'inscricao_divida', 'id_pessoa', 'atividade_principal', 'situacao',\n",
       "       'tipo_tributo', 'cpf_cnpj_existe', 'protesto', 'divida_ajuizada',\n",
       "       'edificacao', 'anos_idade_da', 'quantidade_reparcelamento',\n",
       "       'data_divida', 'ano_inscricao_da', 'percentual_pago_cda'],\n",
       "      dtype='object')"
      ]
     },
     "execution_count": 99,
     "metadata": {},
     "output_type": "execute_result"
    }
   ],
   "source": [
    "base_conjunta.columns"
   ]
  },
  {
   "attachments": {},
   "cell_type": "markdown",
   "metadata": {},
   "source": [
    "# 05) Análise discriminante da classificação do contribuintes para o % Pago das dívidas de cada CDA"
   ]
  },
  {
   "cell_type": "code",
   "execution_count": 92,
   "metadata": {},
   "outputs": [],
   "source": [
    "# Calcula variável target y\n",
    "base_conjunta['percentual_pago_cda'] = base_conjunta['valor_pago'] / base_conjunta['valor_tot']"
   ]
  },
  {
   "cell_type": "code",
   "execution_count": null,
   "metadata": {},
   "outputs": [],
   "source": [
    "# Substitui por zero os valores nulos em que a divisão for zero\n",
    "base_conjunta['percentual_pago_cda'] = base_conjunta['percentual_pago_cda'].fillna(0)"
   ]
  },
  {
   "cell_type": "code",
   "execution_count": 106,
   "metadata": {},
   "outputs": [
    {
     "data": {
      "text/plain": [
       "Index(['cda', 'tipo_divida', 'da_aberto', 'deb_totais', 'valor_tot',\n",
       "       'deb_pagos', 'valor_pago', 'vlr_tributo', 'vlr_taxa',\n",
       "       'inscricao_divida', 'id_pessoa', 'atividade_principal', 'situacao',\n",
       "       'tipo_tributo', 'cpf_cnpj_existe', 'protesto', 'divida_ajuizada',\n",
       "       'edificacao', 'anos_idade_da', 'quantidade_reparcelamento',\n",
       "       'data_divida', 'ano_inscricao_da', 'percentual_pago_cda'],\n",
       "      dtype='object')"
      ]
     },
     "execution_count": 106,
     "metadata": {},
     "output_type": "execute_result"
    }
   ],
   "source": [
    "base_conjunta.columns"
   ]
  },
  {
   "cell_type": "code",
   "execution_count": 110,
   "metadata": {},
   "outputs": [
    {
     "data": {
      "text/html": [
       "<div>\n",
       "<style scoped>\n",
       "    .dataframe tbody tr th:only-of-type {\n",
       "        vertical-align: middle;\n",
       "    }\n",
       "\n",
       "    .dataframe tbody tr th {\n",
       "        vertical-align: top;\n",
       "    }\n",
       "\n",
       "    .dataframe thead th {\n",
       "        text-align: right;\n",
       "    }\n",
       "</style>\n",
       "<table border=\"1\" class=\"dataframe\">\n",
       "  <thead>\n",
       "    <tr style=\"text-align: right;\">\n",
       "      <th></th>\n",
       "      <th>cda</th>\n",
       "      <th>tipo_divida</th>\n",
       "      <th>valor_tot</th>\n",
       "      <th>valor_pago</th>\n",
       "      <th>vlr_tributo</th>\n",
       "      <th>vlr_taxa</th>\n",
       "      <th>anos_idade_da</th>\n",
       "      <th>ano_inscricao_da</th>\n",
       "      <th>percentual_pago_cda</th>\n",
       "    </tr>\n",
       "  </thead>\n",
       "  <tbody>\n",
       "    <tr>\n",
       "      <th>1</th>\n",
       "      <td>0000331f601a73e52b46f673bf0c61251</td>\n",
       "      <td>imovel</td>\n",
       "      <td>0.0</td>\n",
       "      <td>0.0</td>\n",
       "      <td>147.20</td>\n",
       "      <td>196.92</td>\n",
       "      <td>11.0</td>\n",
       "      <td>2012</td>\n",
       "      <td>NaN</td>\n",
       "    </tr>\n",
       "    <tr>\n",
       "      <th>5</th>\n",
       "      <td>0000521b64bf28c8e52281a70553db461</td>\n",
       "      <td>imovel</td>\n",
       "      <td>0.0</td>\n",
       "      <td>0.0</td>\n",
       "      <td>245.50</td>\n",
       "      <td>245.33</td>\n",
       "      <td>7.0</td>\n",
       "      <td>2016</td>\n",
       "      <td>NaN</td>\n",
       "    </tr>\n",
       "    <tr>\n",
       "      <th>6</th>\n",
       "      <td>000057f68f7b77276b3a8e268c80aedf1</td>\n",
       "      <td>imovel</td>\n",
       "      <td>0.0</td>\n",
       "      <td>0.0</td>\n",
       "      <td>555.67</td>\n",
       "      <td>592.39</td>\n",
       "      <td>5.0</td>\n",
       "      <td>2018</td>\n",
       "      <td>NaN</td>\n",
       "    </tr>\n",
       "    <tr>\n",
       "      <th>8</th>\n",
       "      <td>0000681a0944cefb6b3a8e268c80aedf1</td>\n",
       "      <td>imovel</td>\n",
       "      <td>0.0</td>\n",
       "      <td>0.0</td>\n",
       "      <td>264.24</td>\n",
       "      <td>249.24</td>\n",
       "      <td>4.0</td>\n",
       "      <td>2019</td>\n",
       "      <td>NaN</td>\n",
       "    </tr>\n",
       "    <tr>\n",
       "      <th>10</th>\n",
       "      <td>00007af008add2c7e52281a70553db461</td>\n",
       "      <td>imovel</td>\n",
       "      <td>0.0</td>\n",
       "      <td>0.0</td>\n",
       "      <td>745.57</td>\n",
       "      <td>184.90</td>\n",
       "      <td>9.0</td>\n",
       "      <td>2014</td>\n",
       "      <td>NaN</td>\n",
       "    </tr>\n",
       "    <tr>\n",
       "      <th>...</th>\n",
       "      <td>...</td>\n",
       "      <td>...</td>\n",
       "      <td>...</td>\n",
       "      <td>...</td>\n",
       "      <td>...</td>\n",
       "      <td>...</td>\n",
       "      <td>...</td>\n",
       "      <td>...</td>\n",
       "      <td>...</td>\n",
       "    </tr>\n",
       "    <tr>\n",
       "      <th>1188172</th>\n",
       "      <td>febe110bfbc654739ceed47545e621dd2</td>\n",
       "      <td>mercantil</td>\n",
       "      <td>0.0</td>\n",
       "      <td>0.0</td>\n",
       "      <td>604.45</td>\n",
       "      <td>0.00</td>\n",
       "      <td>21.0</td>\n",
       "      <td>2002</td>\n",
       "      <td>NaN</td>\n",
       "    </tr>\n",
       "    <tr>\n",
       "      <th>1188173</th>\n",
       "      <td>bff0d52848d50c739989bae6f4af91ee2</td>\n",
       "      <td>mercantil</td>\n",
       "      <td>0.0</td>\n",
       "      <td>0.0</td>\n",
       "      <td>0.00</td>\n",
       "      <td>2983.66</td>\n",
       "      <td>9.0</td>\n",
       "      <td>2014</td>\n",
       "      <td>NaN</td>\n",
       "    </tr>\n",
       "    <tr>\n",
       "      <th>1188174</th>\n",
       "      <td>f370a631c8957ce86b3a8e268c80aedf2</td>\n",
       "      <td>mercantil</td>\n",
       "      <td>0.0</td>\n",
       "      <td>0.0</td>\n",
       "      <td>0.00</td>\n",
       "      <td>1833.42</td>\n",
       "      <td>11.0</td>\n",
       "      <td>2012</td>\n",
       "      <td>NaN</td>\n",
       "    </tr>\n",
       "    <tr>\n",
       "      <th>1188175</th>\n",
       "      <td>cb6508b33f8cfd86d8a3e5cebc255ca62</td>\n",
       "      <td>mercantil</td>\n",
       "      <td>0.0</td>\n",
       "      <td>0.0</td>\n",
       "      <td>0.00</td>\n",
       "      <td>2983.66</td>\n",
       "      <td>9.0</td>\n",
       "      <td>2014</td>\n",
       "      <td>NaN</td>\n",
       "    </tr>\n",
       "    <tr>\n",
       "      <th>1188176</th>\n",
       "      <td>a2e355c95f49b6e59989bae6f4af91ee2</td>\n",
       "      <td>mercantil</td>\n",
       "      <td>0.0</td>\n",
       "      <td>0.0</td>\n",
       "      <td>0.00</td>\n",
       "      <td>2148.66</td>\n",
       "      <td>9.0</td>\n",
       "      <td>2014</td>\n",
       "      <td>NaN</td>\n",
       "    </tr>\n",
       "  </tbody>\n",
       "</table>\n",
       "<p>1039610 rows × 9 columns</p>\n",
       "</div>"
      ],
      "text/plain": [
       "                                       cda tipo_divida  valor_tot  valor_pago  \\\n",
       "1        0000331f601a73e52b46f673bf0c61251      imovel        0.0         0.0   \n",
       "5        0000521b64bf28c8e52281a70553db461      imovel        0.0         0.0   \n",
       "6        000057f68f7b77276b3a8e268c80aedf1      imovel        0.0         0.0   \n",
       "8        0000681a0944cefb6b3a8e268c80aedf1      imovel        0.0         0.0   \n",
       "10       00007af008add2c7e52281a70553db461      imovel        0.0         0.0   \n",
       "...                                    ...         ...        ...         ...   \n",
       "1188172  febe110bfbc654739ceed47545e621dd2   mercantil        0.0         0.0   \n",
       "1188173  bff0d52848d50c739989bae6f4af91ee2   mercantil        0.0         0.0   \n",
       "1188174  f370a631c8957ce86b3a8e268c80aedf2   mercantil        0.0         0.0   \n",
       "1188175  cb6508b33f8cfd86d8a3e5cebc255ca62   mercantil        0.0         0.0   \n",
       "1188176  a2e355c95f49b6e59989bae6f4af91ee2   mercantil        0.0         0.0   \n",
       "\n",
       "         vlr_tributo  vlr_taxa  anos_idade_da  ano_inscricao_da  \\\n",
       "1             147.20    196.92           11.0              2012   \n",
       "5             245.50    245.33            7.0              2016   \n",
       "6             555.67    592.39            5.0              2018   \n",
       "8             264.24    249.24            4.0              2019   \n",
       "10            745.57    184.90            9.0              2014   \n",
       "...              ...       ...            ...               ...   \n",
       "1188172       604.45      0.00           21.0              2002   \n",
       "1188173         0.00   2983.66            9.0              2014   \n",
       "1188174         0.00   1833.42           11.0              2012   \n",
       "1188175         0.00   2983.66            9.0              2014   \n",
       "1188176         0.00   2148.66            9.0              2014   \n",
       "\n",
       "         percentual_pago_cda  \n",
       "1                        NaN  \n",
       "5                        NaN  \n",
       "6                        NaN  \n",
       "8                        NaN  \n",
       "10                       NaN  \n",
       "...                      ...  \n",
       "1188172                  NaN  \n",
       "1188173                  NaN  \n",
       "1188174                  NaN  \n",
       "1188175                  NaN  \n",
       "1188176                  NaN  \n",
       "\n",
       "[1039610 rows x 9 columns]"
      ]
     },
     "execution_count": 110,
     "metadata": {},
     "output_type": "execute_result"
    }
   ],
   "source": [
    "df = base_conjunta[base_conjunta['percentual_pago_cda'].isna()]\n",
    "df[['cda', 'tipo_divida', 'valor_tot', 'valor_pago', 'vlr_tributo', 'vlr_taxa', 'anos_idade_da', 'ano_inscricao_da', 'percentual_pago_cda']]"
   ]
  },
  {
   "cell_type": "code",
   "execution_count": 116,
   "metadata": {},
   "outputs": [
    {
     "data": {
      "text/html": [
       "<div>\n",
       "<style scoped>\n",
       "    .dataframe tbody tr th:only-of-type {\n",
       "        vertical-align: middle;\n",
       "    }\n",
       "\n",
       "    .dataframe tbody tr th {\n",
       "        vertical-align: top;\n",
       "    }\n",
       "\n",
       "    .dataframe thead th {\n",
       "        text-align: right;\n",
       "    }\n",
       "</style>\n",
       "<table border=\"1\" class=\"dataframe\">\n",
       "  <thead>\n",
       "    <tr style=\"text-align: right;\">\n",
       "      <th></th>\n",
       "      <th>cda</th>\n",
       "      <th>tipo_divida</th>\n",
       "      <th>da_aberto</th>\n",
       "      <th>deb_totais</th>\n",
       "      <th>valor_tot</th>\n",
       "      <th>deb_pagos</th>\n",
       "      <th>valor_pago</th>\n",
       "      <th>vlr_tributo</th>\n",
       "      <th>vlr_taxa</th>\n",
       "      <th>inscricao_divida</th>\n",
       "      <th>...</th>\n",
       "      <th>tipo_tributo</th>\n",
       "      <th>cpf_cnpj_existe</th>\n",
       "      <th>protesto</th>\n",
       "      <th>divida_ajuizada</th>\n",
       "      <th>edificacao</th>\n",
       "      <th>anos_idade_da</th>\n",
       "      <th>quantidade_reparcelamento</th>\n",
       "      <th>data_divida</th>\n",
       "      <th>ano_inscricao_da</th>\n",
       "      <th>percentual_pago_cda</th>\n",
       "    </tr>\n",
       "  </thead>\n",
       "  <tbody>\n",
       "    <tr>\n",
       "      <th>3</th>\n",
       "      <td>000040eda866e3d19ceed47545e621dd1</td>\n",
       "      <td>imovel</td>\n",
       "      <td>0</td>\n",
       "      <td>4.0</td>\n",
       "      <td>0.0</td>\n",
       "      <td>3.0</td>\n",
       "      <td>5438.40</td>\n",
       "      <td>10779.87</td>\n",
       "      <td>0.00</td>\n",
       "      <td>2015-01-30</td>\n",
       "      <td>...</td>\n",
       "      <td>IPTU</td>\n",
       "      <td>1</td>\n",
       "      <td>0</td>\n",
       "      <td>1</td>\n",
       "      <td>1</td>\n",
       "      <td>8.0</td>\n",
       "      <td>2</td>\n",
       "      <td>2015-01-30</td>\n",
       "      <td>2015</td>\n",
       "      <td>inf</td>\n",
       "    </tr>\n",
       "    <tr>\n",
       "      <th>9</th>\n",
       "      <td>00006f113b5e15229ceed47545e621dd1</td>\n",
       "      <td>imovel</td>\n",
       "      <td>0</td>\n",
       "      <td>110.0</td>\n",
       "      <td>0.0</td>\n",
       "      <td>50.0</td>\n",
       "      <td>3522.19</td>\n",
       "      <td>11929.83</td>\n",
       "      <td>372.43</td>\n",
       "      <td>2015-06-30</td>\n",
       "      <td>...</td>\n",
       "      <td>IPTU</td>\n",
       "      <td>1</td>\n",
       "      <td>0</td>\n",
       "      <td>1</td>\n",
       "      <td>1</td>\n",
       "      <td>8.0</td>\n",
       "      <td>1</td>\n",
       "      <td>2015-06-30</td>\n",
       "      <td>2015</td>\n",
       "      <td>inf</td>\n",
       "    </tr>\n",
       "    <tr>\n",
       "      <th>12</th>\n",
       "      <td>0000905d980177f36b3a8e268c80aedf1</td>\n",
       "      <td>imovel</td>\n",
       "      <td>0</td>\n",
       "      <td>14.0</td>\n",
       "      <td>0.0</td>\n",
       "      <td>14.0</td>\n",
       "      <td>528.49</td>\n",
       "      <td>272.20</td>\n",
       "      <td>256.29</td>\n",
       "      <td>2020-12-31</td>\n",
       "      <td>...</td>\n",
       "      <td>IPTU</td>\n",
       "      <td>1</td>\n",
       "      <td>1</td>\n",
       "      <td>0</td>\n",
       "      <td>1</td>\n",
       "      <td>3.0</td>\n",
       "      <td>0</td>\n",
       "      <td>2020-12-31</td>\n",
       "      <td>2020</td>\n",
       "      <td>inf</td>\n",
       "    </tr>\n",
       "    <tr>\n",
       "      <th>16</th>\n",
       "      <td>0000ea1f35374e602b46f673bf0c61251</td>\n",
       "      <td>imovel</td>\n",
       "      <td>0</td>\n",
       "      <td>12.0</td>\n",
       "      <td>0.0</td>\n",
       "      <td>12.0</td>\n",
       "      <td>423.24</td>\n",
       "      <td>241.56</td>\n",
       "      <td>181.68</td>\n",
       "      <td>2017-10-21</td>\n",
       "      <td>...</td>\n",
       "      <td>IPTU</td>\n",
       "      <td>1</td>\n",
       "      <td>0</td>\n",
       "      <td>0</td>\n",
       "      <td>1</td>\n",
       "      <td>6.0</td>\n",
       "      <td>0</td>\n",
       "      <td>2017-10-21</td>\n",
       "      <td>2017</td>\n",
       "      <td>inf</td>\n",
       "    </tr>\n",
       "    <tr>\n",
       "      <th>18</th>\n",
       "      <td>0000f7ef8630f89c9ceed47545e621dd1</td>\n",
       "      <td>imovel</td>\n",
       "      <td>0</td>\n",
       "      <td>35.0</td>\n",
       "      <td>0.0</td>\n",
       "      <td>34.0</td>\n",
       "      <td>2161.46</td>\n",
       "      <td>7154.44</td>\n",
       "      <td>0.00</td>\n",
       "      <td>2008-10-30</td>\n",
       "      <td>...</td>\n",
       "      <td>IPTU</td>\n",
       "      <td>1</td>\n",
       "      <td>0</td>\n",
       "      <td>1</td>\n",
       "      <td>1</td>\n",
       "      <td>15.0</td>\n",
       "      <td>1</td>\n",
       "      <td>2008-10-30</td>\n",
       "      <td>2008</td>\n",
       "      <td>inf</td>\n",
       "    </tr>\n",
       "    <tr>\n",
       "      <th>...</th>\n",
       "      <td>...</td>\n",
       "      <td>...</td>\n",
       "      <td>...</td>\n",
       "      <td>...</td>\n",
       "      <td>...</td>\n",
       "      <td>...</td>\n",
       "      <td>...</td>\n",
       "      <td>...</td>\n",
       "      <td>...</td>\n",
       "      <td>...</td>\n",
       "      <td>...</td>\n",
       "      <td>...</td>\n",
       "      <td>...</td>\n",
       "      <td>...</td>\n",
       "      <td>...</td>\n",
       "      <td>...</td>\n",
       "      <td>...</td>\n",
       "      <td>...</td>\n",
       "      <td>...</td>\n",
       "      <td>...</td>\n",
       "      <td>...</td>\n",
       "    </tr>\n",
       "    <tr>\n",
       "      <th>1188099</th>\n",
       "      <td>d2f8b2880b29a956e52281a70553db46E</td>\n",
       "      <td>mercantil</td>\n",
       "      <td>0</td>\n",
       "      <td>13.0</td>\n",
       "      <td>0.0</td>\n",
       "      <td>12.0</td>\n",
       "      <td>5229.52</td>\n",
       "      <td>10498.82</td>\n",
       "      <td>0.00</td>\n",
       "      <td>2022-08-07</td>\n",
       "      <td>...</td>\n",
       "      <td>ISS</td>\n",
       "      <td>1</td>\n",
       "      <td>0</td>\n",
       "      <td>1</td>\n",
       "      <td>0</td>\n",
       "      <td>1.0</td>\n",
       "      <td>1</td>\n",
       "      <td>2022-08-07</td>\n",
       "      <td>2022</td>\n",
       "      <td>inf</td>\n",
       "    </tr>\n",
       "    <tr>\n",
       "      <th>1188124</th>\n",
       "      <td>8b2ff1092bf27d6318565e26094f06ee2</td>\n",
       "      <td>mercantil</td>\n",
       "      <td>0</td>\n",
       "      <td>33.0</td>\n",
       "      <td>0.0</td>\n",
       "      <td>2.0</td>\n",
       "      <td>570.84</td>\n",
       "      <td>14863.62</td>\n",
       "      <td>0.00</td>\n",
       "      <td>2025-12-25</td>\n",
       "      <td>...</td>\n",
       "      <td>ISS</td>\n",
       "      <td>1</td>\n",
       "      <td>1</td>\n",
       "      <td>0</td>\n",
       "      <td>0</td>\n",
       "      <td>-2.0</td>\n",
       "      <td>1</td>\n",
       "      <td>2025-12-25</td>\n",
       "      <td>2025</td>\n",
       "      <td>inf</td>\n",
       "    </tr>\n",
       "    <tr>\n",
       "      <th>1188127</th>\n",
       "      <td>8373db41370473909989bae6f4af91ee2</td>\n",
       "      <td>mercantil</td>\n",
       "      <td>0</td>\n",
       "      <td>2.0</td>\n",
       "      <td>0.0</td>\n",
       "      <td>2.0</td>\n",
       "      <td>990.88</td>\n",
       "      <td>0.00</td>\n",
       "      <td>990.88</td>\n",
       "      <td>2016-05-14</td>\n",
       "      <td>...</td>\n",
       "      <td>ISS</td>\n",
       "      <td>1</td>\n",
       "      <td>0</td>\n",
       "      <td>0</td>\n",
       "      <td>0</td>\n",
       "      <td>7.0</td>\n",
       "      <td>0</td>\n",
       "      <td>2016-05-14</td>\n",
       "      <td>2016</td>\n",
       "      <td>inf</td>\n",
       "    </tr>\n",
       "    <tr>\n",
       "      <th>1188137</th>\n",
       "      <td>d5c15aec74f8551de52281a70553db462</td>\n",
       "      <td>mercantil</td>\n",
       "      <td>0</td>\n",
       "      <td>6.0</td>\n",
       "      <td>0.0</td>\n",
       "      <td>6.0</td>\n",
       "      <td>310.75</td>\n",
       "      <td>310.75</td>\n",
       "      <td>0.00</td>\n",
       "      <td>2011-05-25</td>\n",
       "      <td>...</td>\n",
       "      <td>ISS</td>\n",
       "      <td>1</td>\n",
       "      <td>0</td>\n",
       "      <td>0</td>\n",
       "      <td>0</td>\n",
       "      <td>12.0</td>\n",
       "      <td>1</td>\n",
       "      <td>2011-05-25</td>\n",
       "      <td>2011</td>\n",
       "      <td>inf</td>\n",
       "    </tr>\n",
       "    <tr>\n",
       "      <th>1188154</th>\n",
       "      <td>fe4dae0b27c63c9e7c8fa7a67092eaab2</td>\n",
       "      <td>mercantil</td>\n",
       "      <td>0</td>\n",
       "      <td>12.0</td>\n",
       "      <td>0.0</td>\n",
       "      <td>10.0</td>\n",
       "      <td>1067.03</td>\n",
       "      <td>1530.99</td>\n",
       "      <td>0.00</td>\n",
       "      <td>2017-11-10</td>\n",
       "      <td>...</td>\n",
       "      <td>ISS</td>\n",
       "      <td>1</td>\n",
       "      <td>1</td>\n",
       "      <td>0</td>\n",
       "      <td>0</td>\n",
       "      <td>6.0</td>\n",
       "      <td>2</td>\n",
       "      <td>2017-11-10</td>\n",
       "      <td>2017</td>\n",
       "      <td>inf</td>\n",
       "    </tr>\n",
       "  </tbody>\n",
       "</table>\n",
       "<p>459606 rows × 23 columns</p>\n",
       "</div>"
      ],
      "text/plain": [
       "                                       cda tipo_divida  da_aberto  deb_totais  \\\n",
       "3        000040eda866e3d19ceed47545e621dd1      imovel          0         4.0   \n",
       "9        00006f113b5e15229ceed47545e621dd1      imovel          0       110.0   \n",
       "12       0000905d980177f36b3a8e268c80aedf1      imovel          0        14.0   \n",
       "16       0000ea1f35374e602b46f673bf0c61251      imovel          0        12.0   \n",
       "18       0000f7ef8630f89c9ceed47545e621dd1      imovel          0        35.0   \n",
       "...                                    ...         ...        ...         ...   \n",
       "1188099  d2f8b2880b29a956e52281a70553db46E   mercantil          0        13.0   \n",
       "1188124  8b2ff1092bf27d6318565e26094f06ee2   mercantil          0        33.0   \n",
       "1188127  8373db41370473909989bae6f4af91ee2   mercantil          0         2.0   \n",
       "1188137  d5c15aec74f8551de52281a70553db462   mercantil          0         6.0   \n",
       "1188154  fe4dae0b27c63c9e7c8fa7a67092eaab2   mercantil          0        12.0   \n",
       "\n",
       "         valor_tot  deb_pagos  valor_pago  vlr_tributo  vlr_taxa  \\\n",
       "3              0.0        3.0     5438.40     10779.87      0.00   \n",
       "9              0.0       50.0     3522.19     11929.83    372.43   \n",
       "12             0.0       14.0      528.49       272.20    256.29   \n",
       "16             0.0       12.0      423.24       241.56    181.68   \n",
       "18             0.0       34.0     2161.46      7154.44      0.00   \n",
       "...            ...        ...         ...          ...       ...   \n",
       "1188099        0.0       12.0     5229.52     10498.82      0.00   \n",
       "1188124        0.0        2.0      570.84     14863.62      0.00   \n",
       "1188127        0.0        2.0      990.88         0.00    990.88   \n",
       "1188137        0.0        6.0      310.75       310.75      0.00   \n",
       "1188154        0.0       10.0     1067.03      1530.99      0.00   \n",
       "\n",
       "        inscricao_divida  ... tipo_tributo cpf_cnpj_existe protesto  \\\n",
       "3             2015-01-30  ...         IPTU               1        0   \n",
       "9             2015-06-30  ...         IPTU               1        0   \n",
       "12            2020-12-31  ...         IPTU               1        1   \n",
       "16            2017-10-21  ...         IPTU               1        0   \n",
       "18            2008-10-30  ...         IPTU               1        0   \n",
       "...                  ...  ...          ...             ...      ...   \n",
       "1188099       2022-08-07  ...          ISS               1        0   \n",
       "1188124       2025-12-25  ...          ISS               1        1   \n",
       "1188127       2016-05-14  ...          ISS               1        0   \n",
       "1188137       2011-05-25  ...          ISS               1        0   \n",
       "1188154       2017-11-10  ...          ISS               1        1   \n",
       "\n",
       "        divida_ajuizada  edificacao  anos_idade_da  quantidade_reparcelamento  \\\n",
       "3                     1           1            8.0                          2   \n",
       "9                     1           1            8.0                          1   \n",
       "12                    0           1            3.0                          0   \n",
       "16                    0           1            6.0                          0   \n",
       "18                    1           1           15.0                          1   \n",
       "...                 ...         ...            ...                        ...   \n",
       "1188099               1           0            1.0                          1   \n",
       "1188124               0           0           -2.0                          1   \n",
       "1188127               0           0            7.0                          0   \n",
       "1188137               0           0           12.0                          1   \n",
       "1188154               0           0            6.0                          2   \n",
       "\n",
       "         data_divida  ano_inscricao_da  percentual_pago_cda  \n",
       "3         2015-01-30              2015                  inf  \n",
       "9         2015-06-30              2015                  inf  \n",
       "12        2020-12-31              2020                  inf  \n",
       "16        2017-10-21              2017                  inf  \n",
       "18        2008-10-30              2008                  inf  \n",
       "...              ...               ...                  ...  \n",
       "1188099   2022-08-07              2022                  inf  \n",
       "1188124   2025-12-25              2025                  inf  \n",
       "1188127   2016-05-14              2016                  inf  \n",
       "1188137   2011-05-25              2011                  inf  \n",
       "1188154   2017-11-10              2017                  inf  \n",
       "\n",
       "[459606 rows x 23 columns]"
      ]
     },
     "execution_count": 116,
     "metadata": {},
     "output_type": "execute_result"
    }
   ],
   "source": [
    "df2 = base_conjunta[base_conjunta['percentual_pago_cda'] == np.inf]\n",
    "df2[['cda', 'tipo_divida', 'valor_tot', 'valor_pago', 'vlr_tributo', 'vlr_taxa', 'anos_idade_da', 'ano_inscricao_da', 'percentual_pago_cda']]\n",
    "# df2 = formatar_moeda(df2['vlr_tributo'].sum())\n",
    "df2"
   ]
  },
  {
   "cell_type": "code",
   "execution_count": 93,
   "metadata": {},
   "outputs": [],
   "source": [
    "# Separação dos dados para a análise discriminante dos grupos de contribuintes\n",
    "\n",
    "df_analise_discriminante = pd.merge(\n",
    "    left=base_conjunta, left_on='id_pessoa', right=df_classificao_contribuinte, right_on='id_pessoa', how='left'\n",
    ")\n",
    "\n",
    "df_analise_discriminante = df_analise_discriminante[['percentual_pago_cda', 'class_contribuinte_nome']]"
   ]
  },
  {
   "cell_type": "code",
   "execution_count": 94,
   "metadata": {},
   "outputs": [
    {
     "data": {
      "text/html": [
       "<div>\n",
       "<style scoped>\n",
       "    .dataframe tbody tr th:only-of-type {\n",
       "        vertical-align: middle;\n",
       "    }\n",
       "\n",
       "    .dataframe tbody tr th {\n",
       "        vertical-align: top;\n",
       "    }\n",
       "\n",
       "    .dataframe thead th {\n",
       "        text-align: right;\n",
       "    }\n",
       "</style>\n",
       "<table border=\"1\" class=\"dataframe\">\n",
       "  <thead>\n",
       "    <tr style=\"text-align: right;\">\n",
       "      <th></th>\n",
       "      <th>class_contribuinte_nome</th>\n",
       "      <th>BOM PAGADOR</th>\n",
       "      <th>MELHOR PAGADOR</th>\n",
       "      <th>PAGADOR INTERMEDIARIO</th>\n",
       "      <th>PIOR PAGADOR</th>\n",
       "      <th>PRIMEIRA DIVIDA</th>\n",
       "    </tr>\n",
       "  </thead>\n",
       "  <tbody>\n",
       "    <tr>\n",
       "      <th rowspan=\"8\" valign=\"top\">percentual_pago_cda</th>\n",
       "      <th>count</th>\n",
       "      <td>4.633300e+05</td>\n",
       "      <td>377291.0</td>\n",
       "      <td>227857.0</td>\n",
       "      <td>327429.0</td>\n",
       "      <td>49098.0</td>\n",
       "    </tr>\n",
       "    <tr>\n",
       "      <th>mean</th>\n",
       "      <td>inf</td>\n",
       "      <td>inf</td>\n",
       "      <td>inf</td>\n",
       "      <td>inf</td>\n",
       "      <td>inf</td>\n",
       "    </tr>\n",
       "    <tr>\n",
       "      <th>std</th>\n",
       "      <td>NaN</td>\n",
       "      <td>NaN</td>\n",
       "      <td>NaN</td>\n",
       "      <td>NaN</td>\n",
       "      <td>NaN</td>\n",
       "    </tr>\n",
       "    <tr>\n",
       "      <th>min</th>\n",
       "      <td>0.000000e+00</td>\n",
       "      <td>0.0</td>\n",
       "      <td>0.0</td>\n",
       "      <td>0.0</td>\n",
       "      <td>0.0</td>\n",
       "    </tr>\n",
       "    <tr>\n",
       "      <th>25%</th>\n",
       "      <td>0.000000e+00</td>\n",
       "      <td>NaN</td>\n",
       "      <td>0.0</td>\n",
       "      <td>0.0</td>\n",
       "      <td>0.0</td>\n",
       "    </tr>\n",
       "    <tr>\n",
       "      <th>50%</th>\n",
       "      <td>0.000000e+00</td>\n",
       "      <td>NaN</td>\n",
       "      <td>0.0</td>\n",
       "      <td>0.0</td>\n",
       "      <td>NaN</td>\n",
       "    </tr>\n",
       "    <tr>\n",
       "      <th>75%</th>\n",
       "      <td>7.086523e-02</td>\n",
       "      <td>NaN</td>\n",
       "      <td>0.0</td>\n",
       "      <td>0.0</td>\n",
       "      <td>NaN</td>\n",
       "    </tr>\n",
       "    <tr>\n",
       "      <th>max</th>\n",
       "      <td>inf</td>\n",
       "      <td>inf</td>\n",
       "      <td>inf</td>\n",
       "      <td>inf</td>\n",
       "      <td>inf</td>\n",
       "    </tr>\n",
       "  </tbody>\n",
       "</table>\n",
       "</div>"
      ],
      "text/plain": [
       "class_contribuinte_nome     BOM PAGADOR  MELHOR PAGADOR  \\\n",
       "percentual_pago_cda count  4.633300e+05        377291.0   \n",
       "                    mean            inf             inf   \n",
       "                    std             NaN             NaN   \n",
       "                    min    0.000000e+00             0.0   \n",
       "                    25%    0.000000e+00             NaN   \n",
       "                    50%    0.000000e+00             NaN   \n",
       "                    75%    7.086523e-02             NaN   \n",
       "                    max             inf             inf   \n",
       "\n",
       "class_contribuinte_nome    PAGADOR INTERMEDIARIO  PIOR PAGADOR  \\\n",
       "percentual_pago_cda count               227857.0      327429.0   \n",
       "                    mean                     inf           inf   \n",
       "                    std                      NaN           NaN   \n",
       "                    min                      0.0           0.0   \n",
       "                    25%                      0.0           0.0   \n",
       "                    50%                      0.0           0.0   \n",
       "                    75%                      0.0           0.0   \n",
       "                    max                      inf           inf   \n",
       "\n",
       "class_contribuinte_nome    PRIMEIRA DIVIDA  \n",
       "percentual_pago_cda count          49098.0  \n",
       "                    mean               inf  \n",
       "                    std                NaN  \n",
       "                    min                0.0  \n",
       "                    25%                0.0  \n",
       "                    50%                NaN  \n",
       "                    75%                NaN  \n",
       "                    max                inf  "
      ]
     },
     "execution_count": 94,
     "metadata": {},
     "output_type": "execute_result"
    }
   ],
   "source": [
    "df_analise_discriminante.groupby(\"class_contribuinte_nome\").describe().T"
   ]
  },
  {
   "cell_type": "code",
   "execution_count": 95,
   "metadata": {},
   "outputs": [],
   "source": [
    "# Dummyzando a variável de classificação \n",
    "\n",
    "ohe = OneHotEncoder(dtype=int)\n",
    "\n",
    "colunas_ohe = ohe.fit_transform(df_analise_discriminante[['class_contribuinte_nome']]).toarray()\n",
    "df_2 = pd.DataFrame(colunas_ohe, columns=ohe.get_feature_names_out(['class_contribuinte_nome']))\n",
    "\n",
    "df_n_categorico = df_analise_discriminante.drop(columns=['class_contribuinte_nome'], axis=1)\n",
    "df_pipe_discriminante = pd.concat([df_n_categorico, df_2], axis=1)"
   ]
  },
  {
   "cell_type": "code",
   "execution_count": 96,
   "metadata": {},
   "outputs": [
    {
     "ename": "IntCastingNaNError",
     "evalue": "Cannot convert non-finite values (NA or inf) to integer",
     "output_type": "error",
     "traceback": [
      "\u001b[1;31m---------------------------------------------------------------------------\u001b[0m",
      "\u001b[1;31mIntCastingNaNError\u001b[0m                        Traceback (most recent call last)",
      "\u001b[1;32mc:\\Users\\Consultor\\divida_ativa\\not_feature_store_contribuinte.ipynb Cell 67\u001b[0m line \u001b[0;36m2\n\u001b[0;32m      <a href='vscode-notebook-cell:/c%3A/Users/Consultor/divida_ativa/not_feature_store_contribuinte.ipynb#Y131sZmlsZQ%3D%3D?line=0'>1</a>\u001b[0m x_analise_discriminante \u001b[39m=\u001b[39m df_pipe_discriminante\u001b[39m.\u001b[39mdrop(columns\u001b[39m=\u001b[39m[\u001b[39m'\u001b[39m\u001b[39mpercentual_pago_cda\u001b[39m\u001b[39m'\u001b[39m])\n\u001b[1;32m----> <a href='vscode-notebook-cell:/c%3A/Users/Consultor/divida_ativa/not_feature_store_contribuinte.ipynb#Y131sZmlsZQ%3D%3D?line=1'>2</a>\u001b[0m y_analise_discriminante \u001b[39m=\u001b[39m df_pipe_discriminante[\u001b[39m'\u001b[39;49m\u001b[39mpercentual_pago_cda\u001b[39;49m\u001b[39m'\u001b[39;49m]\u001b[39m.\u001b[39;49mastype(\u001b[39m'\u001b[39;49m\u001b[39mint\u001b[39;49m\u001b[39m'\u001b[39;49m)\n",
      "File \u001b[1;32mc:\\Users\\Consultor\\AppData\\Local\\Programs\\Python\\Python310\\lib\\site-packages\\pandas\\core\\generic.py:5912\u001b[0m, in \u001b[0;36mNDFrame.astype\u001b[1;34m(self, dtype, copy, errors)\u001b[0m\n\u001b[0;32m   5905\u001b[0m     results \u001b[39m=\u001b[39m [\n\u001b[0;32m   5906\u001b[0m         \u001b[39mself\u001b[39m\u001b[39m.\u001b[39miloc[:, i]\u001b[39m.\u001b[39mastype(dtype, copy\u001b[39m=\u001b[39mcopy)\n\u001b[0;32m   5907\u001b[0m         \u001b[39mfor\u001b[39;00m i \u001b[39min\u001b[39;00m \u001b[39mrange\u001b[39m(\u001b[39mlen\u001b[39m(\u001b[39mself\u001b[39m\u001b[39m.\u001b[39mcolumns))\n\u001b[0;32m   5908\u001b[0m     ]\n\u001b[0;32m   5910\u001b[0m \u001b[39melse\u001b[39;00m:\n\u001b[0;32m   5911\u001b[0m     \u001b[39m# else, only a single dtype is given\u001b[39;00m\n\u001b[1;32m-> 5912\u001b[0m     new_data \u001b[39m=\u001b[39m \u001b[39mself\u001b[39;49m\u001b[39m.\u001b[39;49m_mgr\u001b[39m.\u001b[39;49mastype(dtype\u001b[39m=\u001b[39;49mdtype, copy\u001b[39m=\u001b[39;49mcopy, errors\u001b[39m=\u001b[39;49merrors)\n\u001b[0;32m   5913\u001b[0m     \u001b[39mreturn\u001b[39;00m \u001b[39mself\u001b[39m\u001b[39m.\u001b[39m_constructor(new_data)\u001b[39m.\u001b[39m__finalize__(\u001b[39mself\u001b[39m, method\u001b[39m=\u001b[39m\u001b[39m\"\u001b[39m\u001b[39mastype\u001b[39m\u001b[39m\"\u001b[39m)\n\u001b[0;32m   5915\u001b[0m \u001b[39m# GH 33113: handle empty frame or series\u001b[39;00m\n",
      "File \u001b[1;32mc:\\Users\\Consultor\\AppData\\Local\\Programs\\Python\\Python310\\lib\\site-packages\\pandas\\core\\internals\\managers.py:419\u001b[0m, in \u001b[0;36mBaseBlockManager.astype\u001b[1;34m(self, dtype, copy, errors)\u001b[0m\n\u001b[0;32m    418\u001b[0m \u001b[39mdef\u001b[39;00m \u001b[39mastype\u001b[39m(\u001b[39mself\u001b[39m: T, dtype, copy: \u001b[39mbool\u001b[39m \u001b[39m=\u001b[39m \u001b[39mFalse\u001b[39;00m, errors: \u001b[39mstr\u001b[39m \u001b[39m=\u001b[39m \u001b[39m\"\u001b[39m\u001b[39mraise\u001b[39m\u001b[39m\"\u001b[39m) \u001b[39m-\u001b[39m\u001b[39m>\u001b[39m T:\n\u001b[1;32m--> 419\u001b[0m     \u001b[39mreturn\u001b[39;00m \u001b[39mself\u001b[39;49m\u001b[39m.\u001b[39;49mapply(\u001b[39m\"\u001b[39;49m\u001b[39mastype\u001b[39;49m\u001b[39m\"\u001b[39;49m, dtype\u001b[39m=\u001b[39;49mdtype, copy\u001b[39m=\u001b[39;49mcopy, errors\u001b[39m=\u001b[39;49merrors)\n",
      "File \u001b[1;32mc:\\Users\\Consultor\\AppData\\Local\\Programs\\Python\\Python310\\lib\\site-packages\\pandas\\core\\internals\\managers.py:304\u001b[0m, in \u001b[0;36mBaseBlockManager.apply\u001b[1;34m(self, f, align_keys, ignore_failures, **kwargs)\u001b[0m\n\u001b[0;32m    302\u001b[0m         applied \u001b[39m=\u001b[39m b\u001b[39m.\u001b[39mapply(f, \u001b[39m*\u001b[39m\u001b[39m*\u001b[39mkwargs)\n\u001b[0;32m    303\u001b[0m     \u001b[39melse\u001b[39;00m:\n\u001b[1;32m--> 304\u001b[0m         applied \u001b[39m=\u001b[39m \u001b[39mgetattr\u001b[39m(b, f)(\u001b[39m*\u001b[39m\u001b[39m*\u001b[39mkwargs)\n\u001b[0;32m    305\u001b[0m \u001b[39mexcept\u001b[39;00m (\u001b[39mTypeError\u001b[39;00m, \u001b[39mNotImplementedError\u001b[39;00m):\n\u001b[0;32m    306\u001b[0m     \u001b[39mif\u001b[39;00m \u001b[39mnot\u001b[39;00m ignore_failures:\n",
      "File \u001b[1;32mc:\\Users\\Consultor\\AppData\\Local\\Programs\\Python\\Python310\\lib\\site-packages\\pandas\\core\\internals\\blocks.py:580\u001b[0m, in \u001b[0;36mBlock.astype\u001b[1;34m(self, dtype, copy, errors)\u001b[0m\n\u001b[0;32m    562\u001b[0m \u001b[39m\u001b[39m\u001b[39m\"\"\"\u001b[39;00m\n\u001b[0;32m    563\u001b[0m \u001b[39mCoerce to the new dtype.\u001b[39;00m\n\u001b[0;32m    564\u001b[0m \n\u001b[1;32m   (...)\u001b[0m\n\u001b[0;32m    576\u001b[0m \u001b[39mBlock\u001b[39;00m\n\u001b[0;32m    577\u001b[0m \u001b[39m\"\"\"\u001b[39;00m\n\u001b[0;32m    578\u001b[0m values \u001b[39m=\u001b[39m \u001b[39mself\u001b[39m\u001b[39m.\u001b[39mvalues\n\u001b[1;32m--> 580\u001b[0m new_values \u001b[39m=\u001b[39m astype_array_safe(values, dtype, copy\u001b[39m=\u001b[39;49mcopy, errors\u001b[39m=\u001b[39;49merrors)\n\u001b[0;32m    582\u001b[0m new_values \u001b[39m=\u001b[39m maybe_coerce_values(new_values)\n\u001b[0;32m    583\u001b[0m newb \u001b[39m=\u001b[39m \u001b[39mself\u001b[39m\u001b[39m.\u001b[39mmake_block(new_values)\n",
      "File \u001b[1;32mc:\\Users\\Consultor\\AppData\\Local\\Programs\\Python\\Python310\\lib\\site-packages\\pandas\\core\\dtypes\\cast.py:1292\u001b[0m, in \u001b[0;36mastype_array_safe\u001b[1;34m(values, dtype, copy, errors)\u001b[0m\n\u001b[0;32m   1289\u001b[0m     dtype \u001b[39m=\u001b[39m dtype\u001b[39m.\u001b[39mnumpy_dtype\n\u001b[0;32m   1291\u001b[0m \u001b[39mtry\u001b[39;00m:\n\u001b[1;32m-> 1292\u001b[0m     new_values \u001b[39m=\u001b[39m astype_array(values, dtype, copy\u001b[39m=\u001b[39;49mcopy)\n\u001b[0;32m   1293\u001b[0m \u001b[39mexcept\u001b[39;00m (\u001b[39mValueError\u001b[39;00m, \u001b[39mTypeError\u001b[39;00m):\n\u001b[0;32m   1294\u001b[0m     \u001b[39m# e.g. astype_nansafe can fail on object-dtype of strings\u001b[39;00m\n\u001b[0;32m   1295\u001b[0m     \u001b[39m#  trying to convert to float\u001b[39;00m\n\u001b[0;32m   1296\u001b[0m     \u001b[39mif\u001b[39;00m errors \u001b[39m==\u001b[39m \u001b[39m\"\u001b[39m\u001b[39mignore\u001b[39m\u001b[39m\"\u001b[39m:\n",
      "File \u001b[1;32mc:\\Users\\Consultor\\AppData\\Local\\Programs\\Python\\Python310\\lib\\site-packages\\pandas\\core\\dtypes\\cast.py:1237\u001b[0m, in \u001b[0;36mastype_array\u001b[1;34m(values, dtype, copy)\u001b[0m\n\u001b[0;32m   1234\u001b[0m     values \u001b[39m=\u001b[39m values\u001b[39m.\u001b[39mastype(dtype, copy\u001b[39m=\u001b[39mcopy)\n\u001b[0;32m   1236\u001b[0m \u001b[39melse\u001b[39;00m:\n\u001b[1;32m-> 1237\u001b[0m     values \u001b[39m=\u001b[39m astype_nansafe(values, dtype, copy\u001b[39m=\u001b[39;49mcopy)\n\u001b[0;32m   1239\u001b[0m \u001b[39m# in pandas we don't store numpy str dtypes, so convert to object\u001b[39;00m\n\u001b[0;32m   1240\u001b[0m \u001b[39mif\u001b[39;00m \u001b[39misinstance\u001b[39m(dtype, np\u001b[39m.\u001b[39mdtype) \u001b[39mand\u001b[39;00m \u001b[39missubclass\u001b[39m(values\u001b[39m.\u001b[39mdtype\u001b[39m.\u001b[39mtype, \u001b[39mstr\u001b[39m):\n",
      "File \u001b[1;32mc:\\Users\\Consultor\\AppData\\Local\\Programs\\Python\\Python310\\lib\\site-packages\\pandas\\core\\dtypes\\cast.py:1148\u001b[0m, in \u001b[0;36mastype_nansafe\u001b[1;34m(arr, dtype, copy, skipna)\u001b[0m\n\u001b[0;32m   1145\u001b[0m     \u001b[39mraise\u001b[39;00m \u001b[39mTypeError\u001b[39;00m(\u001b[39mf\u001b[39m\u001b[39m\"\u001b[39m\u001b[39mcannot astype a timedelta from [\u001b[39m\u001b[39m{\u001b[39;00marr\u001b[39m.\u001b[39mdtype\u001b[39m}\u001b[39;00m\u001b[39m] to [\u001b[39m\u001b[39m{\u001b[39;00mdtype\u001b[39m}\u001b[39;00m\u001b[39m]\u001b[39m\u001b[39m\"\u001b[39m)\n\u001b[0;32m   1147\u001b[0m \u001b[39melif\u001b[39;00m np\u001b[39m.\u001b[39missubdtype(arr\u001b[39m.\u001b[39mdtype, np\u001b[39m.\u001b[39mfloating) \u001b[39mand\u001b[39;00m np\u001b[39m.\u001b[39missubdtype(dtype, np\u001b[39m.\u001b[39minteger):\n\u001b[1;32m-> 1148\u001b[0m     \u001b[39mreturn\u001b[39;00m astype_float_to_int_nansafe(arr, dtype, copy)\n\u001b[0;32m   1150\u001b[0m \u001b[39melif\u001b[39;00m is_object_dtype(arr\u001b[39m.\u001b[39mdtype):\n\u001b[0;32m   1151\u001b[0m \n\u001b[0;32m   1152\u001b[0m     \u001b[39m# work around NumPy brokenness, #1987\u001b[39;00m\n\u001b[0;32m   1153\u001b[0m     \u001b[39mif\u001b[39;00m np\u001b[39m.\u001b[39missubdtype(dtype\u001b[39m.\u001b[39mtype, np\u001b[39m.\u001b[39minteger):\n",
      "File \u001b[1;32mc:\\Users\\Consultor\\AppData\\Local\\Programs\\Python\\Python310\\lib\\site-packages\\pandas\\core\\dtypes\\cast.py:1193\u001b[0m, in \u001b[0;36mastype_float_to_int_nansafe\u001b[1;34m(values, dtype, copy)\u001b[0m\n\u001b[0;32m   1189\u001b[0m \u001b[39m\u001b[39m\u001b[39m\"\"\"\u001b[39;00m\n\u001b[0;32m   1190\u001b[0m \u001b[39mastype with a check preventing converting NaN to an meaningless integer value.\u001b[39;00m\n\u001b[0;32m   1191\u001b[0m \u001b[39m\"\"\"\u001b[39;00m\n\u001b[0;32m   1192\u001b[0m \u001b[39mif\u001b[39;00m \u001b[39mnot\u001b[39;00m np\u001b[39m.\u001b[39misfinite(values)\u001b[39m.\u001b[39mall():\n\u001b[1;32m-> 1193\u001b[0m     \u001b[39mraise\u001b[39;00m IntCastingNaNError(\n\u001b[0;32m   1194\u001b[0m         \u001b[39m\"\u001b[39m\u001b[39mCannot convert non-finite values (NA or inf) to integer\u001b[39m\u001b[39m\"\u001b[39m\n\u001b[0;32m   1195\u001b[0m     )\n\u001b[0;32m   1196\u001b[0m \u001b[39mreturn\u001b[39;00m values\u001b[39m.\u001b[39mastype(dtype, copy\u001b[39m=\u001b[39mcopy)\n",
      "\u001b[1;31mIntCastingNaNError\u001b[0m: Cannot convert non-finite values (NA or inf) to integer"
     ]
    }
   ],
   "source": [
    "x_analise_discriminante = df_pipe_discriminante.drop(columns=['percentual_pago_cda'])\n",
    "y_analise_discriminante = df_pipe_discriminante['percentual_pago_cda'].astype('int')"
   ]
  },
  {
   "cell_type": "code",
   "execution_count": 143,
   "metadata": {},
   "outputs": [
    {
     "data": {
      "text/plain": [
       "LinearDiscriminantAnalysis()"
      ]
     },
     "execution_count": 143,
     "metadata": {},
     "output_type": "execute_result"
    }
   ],
   "source": [
    "analise_discriminante = LinearDiscriminantAnalysis()\n",
    "analise_discriminante.fit(x_analise_discriminante, y_analise_discriminante)"
   ]
  },
  {
   "cell_type": "code",
   "execution_count": 144,
   "metadata": {},
   "outputs": [],
   "source": [
    "dados_analise_disc = {'variavel': analise_discriminante.feature_names_in_, 'coeficiente' : analise_discriminante.coef_[0].round(5)}\n",
    "pesos_analise_disc = pd.DataFrame(dados_analise_disc).sort_values('variavel').reset_index().drop(columns=['index'])"
   ]
  },
  {
   "cell_type": "code",
   "execution_count": 145,
   "metadata": {},
   "outputs": [
    {
     "data": {
      "text/html": [
       "<div>\n",
       "<style scoped>\n",
       "    .dataframe tbody tr th:only-of-type {\n",
       "        vertical-align: middle;\n",
       "    }\n",
       "\n",
       "    .dataframe tbody tr th {\n",
       "        vertical-align: top;\n",
       "    }\n",
       "\n",
       "    .dataframe thead th {\n",
       "        text-align: right;\n",
       "    }\n",
       "</style>\n",
       "<table border=\"1\" class=\"dataframe\">\n",
       "  <thead>\n",
       "    <tr style=\"text-align: right;\">\n",
       "      <th></th>\n",
       "      <th>variavel</th>\n",
       "      <th>coeficiente</th>\n",
       "    </tr>\n",
       "  </thead>\n",
       "  <tbody>\n",
       "    <tr>\n",
       "      <th>0</th>\n",
       "      <td>class_contribuinte_nome_BOM PAGADOR</td>\n",
       "      <td>-0.49070</td>\n",
       "    </tr>\n",
       "    <tr>\n",
       "      <th>1</th>\n",
       "      <td>class_contribuinte_nome_MELHOR PAGADOR</td>\n",
       "      <td>14.31889</td>\n",
       "    </tr>\n",
       "    <tr>\n",
       "      <th>2</th>\n",
       "      <td>class_contribuinte_nome_PAGADOR INTERMEDIARIO</td>\n",
       "      <td>-1.31495</td>\n",
       "    </tr>\n",
       "    <tr>\n",
       "      <th>3</th>\n",
       "      <td>class_contribuinte_nome_PIOR PAGADOR</td>\n",
       "      <td>-1.59910</td>\n",
       "    </tr>\n",
       "    <tr>\n",
       "      <th>4</th>\n",
       "      <td>class_contribuinte_nome_PRIMEIRA DIVIDA</td>\n",
       "      <td>4.70957</td>\n",
       "    </tr>\n",
       "  </tbody>\n",
       "</table>\n",
       "</div>"
      ],
      "text/plain": [
       "                                        variavel  coeficiente\n",
       "0            class_contribuinte_nome_BOM PAGADOR     -0.49070\n",
       "1         class_contribuinte_nome_MELHOR PAGADOR     14.31889\n",
       "2  class_contribuinte_nome_PAGADOR INTERMEDIARIO     -1.31495\n",
       "3           class_contribuinte_nome_PIOR PAGADOR     -1.59910\n",
       "4        class_contribuinte_nome_PRIMEIRA DIVIDA      4.70957"
      ]
     },
     "execution_count": 145,
     "metadata": {},
     "output_type": "execute_result"
    }
   ],
   "source": [
    "pesos_analise_disc"
   ]
  },
  {
   "attachments": {},
   "cell_type": "markdown",
   "metadata": {},
   "source": [
    "Conclusão: O modelo pode se utilizar do fator de multiplicação do rating do contribuinte para identificar O melhor pagador, o pior pagador, e a primeira dívida. Os demais são intermediários e terão o mesmo peso de atribuição. "
   ]
  },
  {
   "attachments": {},
   "cell_type": "markdown",
   "metadata": {},
   "source": [
    "**Como fica a modelagem da regressão**\n",
    "\n",
    "Variável target:\n",
    "- % pago da dívida ativa\n",
    "\n",
    "Variáveis explicativas: \n",
    "- Rating do contribuinte baseado no Cluster encontrado\n",
    "- Idade da dívida em anos\n",
    "- % De pagamento dos processos de parcelamento (em valor)\n",
    "- Quantidade de reparcelamentos\n",
    "- Tipo de dívida"
   ]
  },
  {
   "attachments": {},
   "cell_type": "markdown",
   "metadata": {},
   "source": [
    "# 06) Salva o modelo de classificação dos contribuintes"
   ]
  },
  {
   "cell_type": "code",
   "execution_count": 146,
   "metadata": {},
   "outputs": [],
   "source": [
    "def salva_modelo_serializado(nome_modelo_serializado, modelo):\n",
    "    sav_best_model = open(nome_modelo_serializado, 'wb')\n",
    "    pickle.dump(modelo, sav_best_model)\n",
    "    sav_best_model.close()\n",
    "\n",
    "    #os.makedirs(modelsPath) # nao entendi e tive que colocar isso pra abrir um novo diretorio\n",
    "    pathModelo = modelsPath+\"\\\\\"+os.path.join(nome_modelo_serializado)\n",
    "    shutil.move(os.path.abspath(nome_modelo_serializado), pathModelo)"
   ]
  },
  {
   "cell_type": "code",
   "execution_count": 147,
   "metadata": {},
   "outputs": [],
   "source": [
    "salva_modelo_serializado(\"classificador-contribuinte-v2.pkl\", model_predict_contribuinte)"
   ]
  }
 ],
 "metadata": {
  "kernelspec": {
   "display_name": "ml-recife",
   "language": "python",
   "name": "python3"
  },
  "language_info": {
   "codemirror_mode": {
    "name": "ipython",
    "version": 3
   },
   "file_extension": ".py",
   "mimetype": "text/x-python",
   "name": "python",
   "nbconvert_exporter": "python",
   "pygments_lexer": "ipython3",
   "version": "3.10.0"
  },
  "orig_nbformat": 4
 },
 "nbformat": 4,
 "nbformat_minor": 2
}
