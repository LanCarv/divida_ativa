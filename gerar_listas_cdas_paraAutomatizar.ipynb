{
 "cells": [
  {
   "cell_type": "markdown",
   "metadata": {},
   "source": [
    "# Bibliotecas"
   ]
  },
  {
   "cell_type": "code",
   "execution_count": 1,
   "metadata": {},
   "outputs": [
    {
     "data": {
      "text/plain": [
       "'pt_BR.utf8'"
      ]
     },
     "execution_count": 1,
     "metadata": {},
     "output_type": "execute_result"
    }
   ],
   "source": [
    "import os\n",
    "import dotenv\n",
    "\n",
    "import boto3\n",
    "import pandas as pd\n",
    "import numpy as np\n",
    "\n",
    "from itertools import product # expand.grid\n",
    "from pathlib import Path # salvar amostras\n",
    "import openpyxl\n",
    "\n",
    "import zipfile\n",
    "\n",
    "import locale\n",
    "locale.setlocale(locale.LC_ALL, 'pt_BR.utf8')"
   ]
  },
  {
   "cell_type": "code",
   "execution_count": 2,
   "metadata": {},
   "outputs": [],
   "source": [
    "import warnings\n",
    "warnings.filterwarnings(\"ignore\")"
   ]
  },
  {
   "cell_type": "code",
   "execution_count": 3,
   "metadata": {},
   "outputs": [
    {
     "data": {
      "text/plain": [
       "True"
      ]
     },
     "execution_count": 3,
     "metadata": {},
     "output_type": "execute_result"
    }
   ],
   "source": [
    "rootPath = os.getcwd()\n",
    "dataPath = os.path.join(rootPath, 'data')\n",
    "modelsPath = os.path.join(rootPath, 'models')\n",
    "env = os.path.join(rootPath, '.env')\n",
    "dotenv.load_dotenv(dotenv_path=env)"
   ]
  },
  {
   "cell_type": "markdown",
   "metadata": {},
   "source": [
    "# Funções"
   ]
  },
  {
   "cell_type": "code",
   "execution_count": 4,
   "metadata": {},
   "outputs": [],
   "source": [
    "def formatar_moeda(valor):\n",
    "    return locale.currency(valor, grouping=True)"
   ]
  },
  {
   "attachments": {},
   "cell_type": "markdown",
   "metadata": {},
   "source": [
    "# 01) Importando dados"
   ]
  },
  {
   "cell_type": "code",
   "execution_count": 5,
   "metadata": {},
   "outputs": [],
   "source": [
    "s3 = boto3.resource(\n",
    "    service_name='s3',\n",
    "    region_name='us-east-1',\n",
    "    aws_access_key_id=os.getenv(\"AWS_ACCESS_KEY\"),\n",
    "    aws_secret_access_key=os.getenv(\"AWS_SECRET_ACCESS_KEY\")\n",
    "    )\n",
    "\n",
    "def read_s3(bucket_name, folder_name, file_name):\n",
    "    file_key_aws = folder_name + file_name\n",
    "    obj = s3.Bucket(bucket_name).Object(file_key_aws).get()\n",
    "    df = pd.read_csv(obj['Body'], sep=';')\n",
    "    return df"
   ]
  },
  {
   "cell_type": "markdown",
   "metadata": {},
   "source": [
    "# Importa o predict do bucket"
   ]
  },
  {
   "cell_type": "code",
   "execution_count": 6,
   "metadata": {},
   "outputs": [],
   "source": [
    "dados_igr = read_s3(\n",
    "    bucket_name=os.getenv(\"S3_BUCKET_NAME\"), \n",
    "    folder_name=os.getenv(\"S3_FOLDER_NAME\"),\n",
    "    file_name='prime_k5_dez.csv')"
   ]
  },
  {
   "cell_type": "markdown",
   "metadata": {},
   "source": [
    "# Importa dados do arquivo IGR feature store"
   ]
  },
  {
   "cell_type": "code",
   "execution_count": 12,
   "metadata": {},
   "outputs": [
    {
     "name": "stdout",
     "output_type": "stream",
     "text": [
      "Carregando dados do feature_store_igr\n"
     ]
    },
    {
     "ename": "NoSuchKey",
     "evalue": "An error occurred (NoSuchKey) when calling the GetObject operation: The specified key does not exist.",
     "output_type": "error",
     "traceback": [
      "\u001b[1;31m---------------------------------------------------------------------------\u001b[0m",
      "\u001b[1;31mNoSuchKey\u001b[0m                                 Traceback (most recent call last)",
      "\u001b[1;32mc:\\Users\\Consultor\\projetos\\divida_ativa\\gerar_listas_cdas_paraAutomatizar.ipynb Cell 12\u001b[0m line \u001b[0;36m3\n\u001b[0;32m      <a href='vscode-notebook-cell:/c%3A/Users/Consultor/projetos/divida_ativa/gerar_listas_cdas_paraAutomatizar.ipynb#Y161sZmlsZQ%3D%3D?line=0'>1</a>\u001b[0m \u001b[39mprint\u001b[39m(\u001b[39m\"\u001b[39m\u001b[39mCarregando dados do feature_store_igr\u001b[39m\u001b[39m\"\u001b[39m)\n\u001b[1;32m----> <a href='vscode-notebook-cell:/c%3A/Users/Consultor/projetos/divida_ativa/gerar_listas_cdas_paraAutomatizar.ipynb#Y161sZmlsZQ%3D%3D?line=2'>3</a>\u001b[0m dados_feat_store_igr \u001b[39m=\u001b[39m read_s3(\n\u001b[0;32m      <a href='vscode-notebook-cell:/c%3A/Users/Consultor/projetos/divida_ativa/gerar_listas_cdas_paraAutomatizar.ipynb#Y161sZmlsZQ%3D%3D?line=3'>4</a>\u001b[0m      bucket_name\u001b[39m=\u001b[39;49mos\u001b[39m.\u001b[39;49mgetenv(\u001b[39m\"\u001b[39;49m\u001b[39mS3_BUCKET_NAME\u001b[39;49m\u001b[39m\"\u001b[39;49m), \n\u001b[0;32m      <a href='vscode-notebook-cell:/c%3A/Users/Consultor/projetos/divida_ativa/gerar_listas_cdas_paraAutomatizar.ipynb#Y161sZmlsZQ%3D%3D?line=4'>5</a>\u001b[0m      folder_name\u001b[39m=\u001b[39;49mos\u001b[39m.\u001b[39;49mgetenv(\u001b[39m\"\u001b[39;49m\u001b[39mS3_FOLDER_NAME\u001b[39;49m\u001b[39m\"\u001b[39;49m), \n\u001b[0;32m      <a href='vscode-notebook-cell:/c%3A/Users/Consultor/projetos/divida_ativa/gerar_listas_cdas_paraAutomatizar.ipynb#Y161sZmlsZQ%3D%3D?line=5'>6</a>\u001b[0m      file_name\u001b[39m=\u001b[39;49m\u001b[39m'\u001b[39;49m\u001b[39mfeature_store_igr_prime_ab1_k5_dez.csv\u001b[39;49m\u001b[39m'\u001b[39;49m)\n",
      "\u001b[1;32mc:\\Users\\Consultor\\projetos\\divida_ativa\\gerar_listas_cdas_paraAutomatizar.ipynb Cell 12\u001b[0m line \u001b[0;36m1\n\u001b[0;32m      <a href='vscode-notebook-cell:/c%3A/Users/Consultor/projetos/divida_ativa/gerar_listas_cdas_paraAutomatizar.ipynb#Y161sZmlsZQ%3D%3D?line=7'>8</a>\u001b[0m \u001b[39mdef\u001b[39;00m \u001b[39mread_s3\u001b[39m(bucket_name, folder_name, file_name):\n\u001b[0;32m      <a href='vscode-notebook-cell:/c%3A/Users/Consultor/projetos/divida_ativa/gerar_listas_cdas_paraAutomatizar.ipynb#Y161sZmlsZQ%3D%3D?line=8'>9</a>\u001b[0m     file_key_aws \u001b[39m=\u001b[39m folder_name \u001b[39m+\u001b[39m file_name\n\u001b[1;32m---> <a href='vscode-notebook-cell:/c%3A/Users/Consultor/projetos/divida_ativa/gerar_listas_cdas_paraAutomatizar.ipynb#Y161sZmlsZQ%3D%3D?line=9'>10</a>\u001b[0m     obj \u001b[39m=\u001b[39m s3\u001b[39m.\u001b[39;49mBucket(bucket_name)\u001b[39m.\u001b[39;49mObject(file_key_aws)\u001b[39m.\u001b[39;49mget()\n\u001b[0;32m     <a href='vscode-notebook-cell:/c%3A/Users/Consultor/projetos/divida_ativa/gerar_listas_cdas_paraAutomatizar.ipynb#Y161sZmlsZQ%3D%3D?line=10'>11</a>\u001b[0m     df \u001b[39m=\u001b[39m pd\u001b[39m.\u001b[39mread_csv(obj[\u001b[39m'\u001b[39m\u001b[39mBody\u001b[39m\u001b[39m'\u001b[39m], sep\u001b[39m=\u001b[39m\u001b[39m'\u001b[39m\u001b[39m;\u001b[39m\u001b[39m'\u001b[39m)\n\u001b[0;32m     <a href='vscode-notebook-cell:/c%3A/Users/Consultor/projetos/divida_ativa/gerar_listas_cdas_paraAutomatizar.ipynb#Y161sZmlsZQ%3D%3D?line=11'>12</a>\u001b[0m     \u001b[39mreturn\u001b[39;00m df\n",
      "File \u001b[1;32mc:\\Users\\Consultor\\AppData\\Local\\Programs\\Python\\Python310\\lib\\site-packages\\boto3\\resources\\factory.py:580\u001b[0m, in \u001b[0;36mResourceFactory._create_action.<locals>.do_action\u001b[1;34m(self, *args, **kwargs)\u001b[0m\n\u001b[0;32m    579\u001b[0m \u001b[39mdef\u001b[39;00m \u001b[39mdo_action\u001b[39m(\u001b[39mself\u001b[39m, \u001b[39m*\u001b[39margs, \u001b[39m*\u001b[39m\u001b[39m*\u001b[39mkwargs):\n\u001b[1;32m--> 580\u001b[0m     response \u001b[39m=\u001b[39m action(\u001b[39mself\u001b[39m, \u001b[39m*\u001b[39margs, \u001b[39m*\u001b[39m\u001b[39m*\u001b[39mkwargs)\n\u001b[0;32m    582\u001b[0m     \u001b[39mif\u001b[39;00m \u001b[39mhasattr\u001b[39m(\u001b[39mself\u001b[39m, \u001b[39m'\u001b[39m\u001b[39mload\u001b[39m\u001b[39m'\u001b[39m):\n\u001b[0;32m    583\u001b[0m         \u001b[39m# Clear cached data. It will be reloaded the next\u001b[39;00m\n\u001b[0;32m    584\u001b[0m         \u001b[39m# time that an attribute is accessed.\u001b[39;00m\n\u001b[0;32m    585\u001b[0m         \u001b[39m# TODO: Make this configurable in the future?\u001b[39;00m\n\u001b[0;32m    586\u001b[0m         \u001b[39mself\u001b[39m\u001b[39m.\u001b[39mmeta\u001b[39m.\u001b[39mdata \u001b[39m=\u001b[39m \u001b[39mNone\u001b[39;00m\n",
      "File \u001b[1;32mc:\\Users\\Consultor\\AppData\\Local\\Programs\\Python\\Python310\\lib\\site-packages\\boto3\\resources\\action.py:88\u001b[0m, in \u001b[0;36mServiceAction.__call__\u001b[1;34m(self, parent, *args, **kwargs)\u001b[0m\n\u001b[0;32m     79\u001b[0m params\u001b[39m.\u001b[39mupdate(kwargs)\n\u001b[0;32m     81\u001b[0m logger\u001b[39m.\u001b[39mdebug(\n\u001b[0;32m     82\u001b[0m     \u001b[39m'\u001b[39m\u001b[39mCalling \u001b[39m\u001b[39m%s\u001b[39;00m\u001b[39m:\u001b[39m\u001b[39m%s\u001b[39;00m\u001b[39m with \u001b[39m\u001b[39m%r\u001b[39;00m\u001b[39m'\u001b[39m,\n\u001b[0;32m     83\u001b[0m     parent\u001b[39m.\u001b[39mmeta\u001b[39m.\u001b[39mservice_name,\n\u001b[0;32m     84\u001b[0m     operation_name,\n\u001b[0;32m     85\u001b[0m     params,\n\u001b[0;32m     86\u001b[0m )\n\u001b[1;32m---> 88\u001b[0m response \u001b[39m=\u001b[39m \u001b[39mgetattr\u001b[39m(parent\u001b[39m.\u001b[39mmeta\u001b[39m.\u001b[39mclient, operation_name)(\u001b[39m*\u001b[39margs, \u001b[39m*\u001b[39m\u001b[39m*\u001b[39mparams)\n\u001b[0;32m     90\u001b[0m logger\u001b[39m.\u001b[39mdebug(\u001b[39m'\u001b[39m\u001b[39mResponse: \u001b[39m\u001b[39m%r\u001b[39;00m\u001b[39m'\u001b[39m, response)\n\u001b[0;32m     92\u001b[0m \u001b[39mreturn\u001b[39;00m \u001b[39mself\u001b[39m\u001b[39m.\u001b[39m_response_handler(parent, params, response)\n",
      "File \u001b[1;32mc:\\Users\\Consultor\\AppData\\Local\\Programs\\Python\\Python310\\lib\\site-packages\\botocore\\client.py:530\u001b[0m, in \u001b[0;36mClientCreator._create_api_method.<locals>._api_call\u001b[1;34m(self, *args, **kwargs)\u001b[0m\n\u001b[0;32m    526\u001b[0m     \u001b[39mraise\u001b[39;00m \u001b[39mTypeError\u001b[39;00m(\n\u001b[0;32m    527\u001b[0m         \u001b[39mf\u001b[39m\u001b[39m\"\u001b[39m\u001b[39m{\u001b[39;00mpy_operation_name\u001b[39m}\u001b[39;00m\u001b[39m() only accepts keyword arguments.\u001b[39m\u001b[39m\"\u001b[39m\n\u001b[0;32m    528\u001b[0m     )\n\u001b[0;32m    529\u001b[0m \u001b[39m# The \"self\" in this scope is referring to the BaseClient.\u001b[39;00m\n\u001b[1;32m--> 530\u001b[0m \u001b[39mreturn\u001b[39;00m \u001b[39mself\u001b[39;49m\u001b[39m.\u001b[39;49m_make_api_call(operation_name, kwargs)\n",
      "File \u001b[1;32mc:\\Users\\Consultor\\AppData\\Local\\Programs\\Python\\Python310\\lib\\site-packages\\botocore\\client.py:964\u001b[0m, in \u001b[0;36mBaseClient._make_api_call\u001b[1;34m(self, operation_name, api_params)\u001b[0m\n\u001b[0;32m    962\u001b[0m     error_code \u001b[39m=\u001b[39m parsed_response\u001b[39m.\u001b[39mget(\u001b[39m\"\u001b[39m\u001b[39mError\u001b[39m\u001b[39m\"\u001b[39m, {})\u001b[39m.\u001b[39mget(\u001b[39m\"\u001b[39m\u001b[39mCode\u001b[39m\u001b[39m\"\u001b[39m)\n\u001b[0;32m    963\u001b[0m     error_class \u001b[39m=\u001b[39m \u001b[39mself\u001b[39m\u001b[39m.\u001b[39mexceptions\u001b[39m.\u001b[39mfrom_code(error_code)\n\u001b[1;32m--> 964\u001b[0m     \u001b[39mraise\u001b[39;00m error_class(parsed_response, operation_name)\n\u001b[0;32m    965\u001b[0m \u001b[39melse\u001b[39;00m:\n\u001b[0;32m    966\u001b[0m     \u001b[39mreturn\u001b[39;00m parsed_response\n",
      "\u001b[1;31mNoSuchKey\u001b[0m: An error occurred (NoSuchKey) when calling the GetObject operation: The specified key does not exist."
     ]
    }
   ],
   "source": [
    "print(\"Carregando dados do feature_store_igr\")\n",
    "\n",
    "dados_feat_store_igr = read_s3(\n",
    "     bucket_name=os.getenv(\"S3_BUCKET_NAME\"), \n",
    "     folder_name=os.getenv(\"S3_FOLDER_NAME\"), \n",
    "     file_name='feature_store_igr_prime_ab1_k5_dez.csv')"
   ]
  },
  {
   "cell_type": "markdown",
   "metadata": {},
   "source": [
    "# Importa dados do arquivo do contribuinte feature store"
   ]
  },
  {
   "cell_type": "code",
   "execution_count": 10,
   "metadata": {},
   "outputs": [
    {
     "name": "stdout",
     "output_type": "stream",
     "text": [
      "Carregando dados do feature_store_contribuinte\n"
     ]
    }
   ],
   "source": [
    "print(\"Carregando dados do feature_store_contribuinte\")\n",
    "\n",
    "dados_contribuinte = read_s3(\n",
    "    bucket_name=os.getenv(\"S3_BUCKET_NAME\"), \n",
    "    folder_name=os.getenv(\"S3_FOLDER_NAME\"), \n",
    "    file_name='feature_store_contribuinte_prime_k5_dez.csv') # Como podemos salvar? Adotar um padrão de nome p o arquivo"
   ]
  },
  {
   "cell_type": "code",
   "execution_count": null,
   "metadata": {},
   "outputs": [],
   "source": [
    "print(\"Carregando dados de imovel e mercantil\")\n",
    "zip_file = os.path.join(dataPath, 'base_treino.zip')\n",
    "z = zipfile.ZipFile(zip_file)\n",
    "\n",
    "def ler_bases_exportadas(nome_arquivo):\n",
    "    z.extract(nome_arquivo)\n",
    "    df = pd.read_csv(nome_arquivo, sep=',')\n",
    "    os.remove(nome_arquivo)\n",
    "    return df\n",
    "\n",
    "base_conjunta = ler_bases_exportadas('imovel_mercantil.csv')"
   ]
  },
  {
   "cell_type": "markdown",
   "metadata": {},
   "source": [
    "# 03) Filtro"
   ]
  },
  {
   "cell_type": "code",
   "execution_count": 48,
   "metadata": {},
   "outputs": [
    {
     "data": {
      "text/plain": [
       "956966"
      ]
     },
     "execution_count": 48,
     "metadata": {},
     "output_type": "execute_result"
    }
   ],
   "source": [
    "dados_igr = dados_igr.loc[(dados_igr['da_aberto'] == 1)]"
   ]
  },
  {
   "cell_type": "markdown",
   "metadata": {},
   "source": [
    "--------------------------------------------------\n",
    "# Momento em que começa o tratamento dos filtros para geração das listas"
   ]
  },
  {
   "cell_type": "code",
   "execution_count": null,
   "metadata": {},
   "outputs": [],
   "source": [
    "# Colunas/variáveis que exportaremos no csv\n",
    "col = ['cda',\n",
    "       'id_pessoa',\n",
    "       'atividade_principal',\n",
    "       'idade_divida',\n",
    "       'vlr_tributo',\n",
    "       'vlr_taxa',\n",
    "       'valor_total_da',\n",
    "       'num_dist_cda',\n",
    "       'quantidade_reparcelamento',\n",
    "       'historico_pagamento_em_valor',\n",
    "       'qtd_notas_2anos',\n",
    "       'edificacao',\n",
    "       'situacao',\n",
    "       'situacao_cobranca',\n",
    "       'endereco_existe',\n",
    "       'cpf_cnpj_existe',\n",
    "       'class_contribuinte_nome',\n",
    "       'class_contribuinte_perfil',\n",
    "       'igr',\n",
    "       'rating_divida']"
   ]
  },
  {
   "cell_type": "markdown",
   "metadata": {},
   "source": [
    "### Filtrando para manter: apenas registros de DAs abertas não ajuizadas"
   ]
  },
  {
   "cell_type": "code",
   "execution_count": 81,
   "metadata": {},
   "outputs": [],
   "source": [
    "base_conjunta_aux = base_conjunta[['cda', 'tipo_divida', 'id_pessoa', 'da_aberto',\n",
    "                                  'atividade_principal', 'situacao', 'tipo_tributo',  \n",
    "                                   'vlr_tributo', 'vlr_taxa',\n",
    "                                   'edificacao', 'cpf_cnpj_existe', 'protesto',\n",
    "                                   'ajuizamento', 'refis', \n",
    "                                   'endereco_existe']]\n",
    "\n",
    "chave = ['cda', 'tipo_divida', 'id_pessoa', 'da_aberto']"
   ]
  },
  {
   "cell_type": "code",
   "execution_count": 82,
   "metadata": {},
   "outputs": [
    {
     "data": {
      "text/plain": [
       "956966"
      ]
     },
     "execution_count": 82,
     "metadata": {},
     "output_type": "execute_result"
    }
   ],
   "source": [
    "dados_igr3 = pd.merge(dados_igr, base_conjunta_aux, on = chave, how = \"left\")"
   ]
  },
  {
   "cell_type": "code",
   "execution_count": 84,
   "metadata": {},
   "outputs": [
    {
     "data": {
      "text/plain": [
       "Index(['id_pessoa', 'tipo_divida', 'da_aberto', 'qtd_notas_2anos'], dtype='object')"
      ]
     },
     "execution_count": 84,
     "metadata": {},
     "output_type": "execute_result"
    }
   ],
   "source": [
    "dados_contribuinte_aux = dados_contribuinte[['id_pessoa', 'tipo_divida', 'da_aberto', 'qtd_notas_2anos']]"
   ]
  },
  {
   "cell_type": "code",
   "execution_count": 85,
   "metadata": {},
   "outputs": [
    {
     "data": {
      "text/plain": [
       "Index(['cda', 'tipo_divida', 'id_pessoa', 'da_aberto', 'percentual_pago_cda',\n",
       "       'valor_total_da', 'idade_divida', 'num_dist_cda',\n",
       "       'quantidade_reparcelamento', 'historico_pagamento_em_valor',\n",
       "       'situacao_cobranca', 'class_contribuinte', 'class_contribuinte_peso',\n",
       "       'igr', 'class_contribuinte_nome', 'class_contribuinte_perfil',\n",
       "       'rating_divida', 'atividade_principal', 'situacao', 'tipo_tributo',\n",
       "       'vlr_tributo', 'vlr_taxa', 'edificacao', 'cpf_cnpj_existe', 'protesto',\n",
       "       'ajuizamento', 'refis', 'endereco_existe', 'qtd_notas_2anos'],\n",
       "      dtype='object')"
      ]
     },
     "execution_count": 85,
     "metadata": {},
     "output_type": "execute_result"
    }
   ],
   "source": [
    "dados_igr3 = pd.merge(dados_igr3, dados_contribuinte_aux, on = ['tipo_divida', 'id_pessoa', 'da_aberto'], how = \"left\")"
   ]
  },
  {
   "cell_type": "code",
   "execution_count": 87,
   "metadata": {},
   "outputs": [
    {
     "data": {
      "text/plain": [
       "424105"
      ]
     },
     "execution_count": 87,
     "metadata": {},
     "output_type": "execute_result"
    }
   ],
   "source": [
    "dados_igr3 = dados_igr3[(dados_igr3['ajuizamento'] == 0)]"
   ]
  },
  {
   "cell_type": "markdown",
   "metadata": {},
   "source": [
    "### Filtrando para manter: apenas registros de DAs abertas não protestadas"
   ]
  },
  {
   "cell_type": "code",
   "execution_count": 89,
   "metadata": {},
   "outputs": [
    {
     "data": {
      "text/plain": [
       "336452"
      ]
     },
     "execution_count": 89,
     "metadata": {},
     "output_type": "execute_result"
    }
   ],
   "source": [
    "dados_igr3 = dados_igr3[(dados_igr3['protesto'] == 0)]"
   ]
  },
  {
   "cell_type": "markdown",
   "metadata": {},
   "source": [
    "### Filtrando para manter: apenas registros de DAs abertas entre 0 e 3 anos "
   ]
  },
  {
   "cell_type": "code",
   "execution_count": 91,
   "metadata": {},
   "outputs": [
    {
     "data": {
      "text/plain": [
       "231757"
      ]
     },
     "execution_count": 91,
     "metadata": {},
     "output_type": "execute_result"
    }
   ],
   "source": [
    "dados_igr3 = dados_igr3[(dados_igr3['idade_divida'] >= 0) & (dados_igr3['idade_divida'] <= 3)]"
   ]
  },
  {
   "cell_type": "markdown",
   "metadata": {},
   "source": [
    "### Filtrando para manter: IGR classificou como de média, alta e altíssima prob de recuperação"
   ]
  },
  {
   "cell_type": "code",
   "execution_count": 93,
   "metadata": {},
   "outputs": [
    {
     "data": {
      "text/plain": [
       "117819"
      ]
     },
     "execution_count": 93,
     "metadata": {},
     "output_type": "execute_result"
    }
   ],
   "source": [
    "valores_filtrar = [\"MEDIA\", \"ALTA\", \"ALTISSIMA\"]\n",
    "dados_igr3 = dados_igr3[dados_igr3['rating_divida'].isin(valores_filtrar)]"
   ]
  },
  {
   "cell_type": "markdown",
   "metadata": {},
   "source": [
    "# 04) Separando Bases por Tipo de Tributo"
   ]
  },
  {
   "cell_type": "code",
   "execution_count": 99,
   "metadata": {},
   "outputs": [],
   "source": [
    "dados_igr_imovel = dados_igr3[dados_igr3['tipo_divida'] == 'imovel'] \n",
    "dados_igr_merc = dados_igr3[dados_igr3['tipo_divida'] == 'mercantil'] "
   ]
  },
  {
   "cell_type": "markdown",
   "metadata": {},
   "source": [
    "## Imóvel"
   ]
  },
  {
   "cell_type": "code",
   "execution_count": 104,
   "metadata": {},
   "outputs": [],
   "source": [
    "imovel_ajuizamento = dados_igr_imovel[dados_igr_imovel['valor_total_da'] >= 50000] \n",
    "imovel_protesto =  dados_igr_imovel[(dados_igr_imovel['valor_total_da'] >= 3000) & \n",
    "                                     (dados_igr_imovel['valor_total_da'] < 50000)]\n",
    "imovel_negativar = dados_igr_imovel[(dados_igr_imovel['valor_total_da'] >= 1000) & \n",
    "                               (dados_igr_imovel['valor_total_da'] < 3000)] "
   ]
  },
  {
   "cell_type": "markdown",
   "metadata": {},
   "source": [
    "### entre 1.000 e 3.000"
   ]
  },
  {
   "cell_type": "code",
   "execution_count": 107,
   "metadata": {},
   "outputs": [],
   "source": [
    "imovel_negativar = imovel_negativar.sort_values(by = \"igr\", ascending = False)\n",
    "imovel_negativar = imovel_negativar[col]\n",
    "\n",
    "caminho_arquivo_csv = r'C:\\Users\\BHN\\datascience\\divida_ativa\\analysis\\relacao_cdas_por_cenario_recuperacao\\imovel_negativar.csv'\n",
    "imovel_negativar.to_csv(caminho_arquivo_csv, index=False, sep = \";\", decimal = \",\")"
   ]
  },
  {
   "cell_type": "markdown",
   "metadata": {},
   "source": [
    "### Entre 3.000 e 50.000"
   ]
  },
  {
   "cell_type": "code",
   "execution_count": 114,
   "metadata": {},
   "outputs": [
    {
     "data": {
      "text/plain": [
       "64321191.44"
      ]
     },
     "execution_count": 114,
     "metadata": {},
     "output_type": "execute_result"
    }
   ],
   "source": [
    "imovel_protesto = imovel_protesto.sort_values(by = \"igr\", ascending = False)\n",
    "imovel_protesto = imovel_protesto[col]\n",
    "\n",
    "caminho_arquivo_csv = r'C:\\Users\\BHN\\datascience\\divida_ativa\\analysis\\relacao_cdas_por_cenario_recuperacao\\imovel_protesto.csv'\n",
    "imovel_protesto.to_csv(caminho_arquivo_csv, index=False, sep = \";\", decimal = \",\")"
   ]
  },
  {
   "cell_type": "markdown",
   "metadata": {},
   "source": [
    "### Acima de 50.000"
   ]
  },
  {
   "cell_type": "code",
   "execution_count": 120,
   "metadata": {},
   "outputs": [
    {
     "data": {
      "text/plain": [
       "14296760.129999999"
      ]
     },
     "execution_count": 120,
     "metadata": {},
     "output_type": "execute_result"
    }
   ],
   "source": [
    "imovel_ajuizamento = imovel_ajuizamento.sort_values(by = \"igr\", ascending = False)\n",
    "imovel_ajuizamento = imovel_ajuizamento[col]\n",
    "\n",
    "caminho_arquivo_csv = r'C:\\Users\\BHN\\datascience\\divida_ativa\\analysis\\relacao_cdas_por_cenario_recuperacao\\imovel_ajuizamento.csv'\n",
    "imovel_ajuizamento.to_csv(caminho_arquivo_csv, index=False, sep = \";\", decimal = \",\")"
   ]
  },
  {
   "cell_type": "markdown",
   "metadata": {},
   "source": [
    "## Mercantil"
   ]
  },
  {
   "cell_type": "code",
   "execution_count": 126,
   "metadata": {},
   "outputs": [],
   "source": [
    "mercantil_ajuizar = dados_igr_merc[dados_igr_merc['valor_total_da'] >= 200000] \n",
    "mercantil_protestar =  dados_igr_merc[(dados_igr_merc['valor_total_da'] >= 3000) & (dados_igr_merc['valor_total_da'] < 200000)]\n",
    "mercantil_negativar = dados_igr_merc[(dados_igr_merc['valor_total_da'] >= 1000) & (dados_igr_merc['valor_total_da'] < 3000)] "
   ]
  },
  {
   "cell_type": "markdown",
   "metadata": {},
   "source": [
    "## Entre 1000 e 3000"
   ]
  },
  {
   "cell_type": "code",
   "execution_count": 128,
   "metadata": {},
   "outputs": [],
   "source": [
    "mercantil_negativar = mercantil_negativar.sort_values(by = \"igr\", ascending = False)\n",
    "mercantil_negativar = mercantil_negativar[col]\n",
    "\n",
    "caminho_arquivo_csv = r'C:\\Users\\BHN\\datascience\\divida_ativa\\analysis\\relacao_cdas_por_cenario_recuperacao\\mercantil_negativacao.csv'\n",
    "mercantil_negativar.to_csv(caminho_arquivo_csv, index=False, sep = \";\", decimal = \",\")"
   ]
  },
  {
   "cell_type": "markdown",
   "metadata": {},
   "source": [
    "## Entre 3.000 e 200.000"
   ]
  },
  {
   "cell_type": "code",
   "execution_count": 136,
   "metadata": {},
   "outputs": [
    {
     "data": {
      "text/plain": [
       "15581097.77"
      ]
     },
     "execution_count": 136,
     "metadata": {},
     "output_type": "execute_result"
    }
   ],
   "source": [
    "mercantil_protestar = mercantil_protestar.sort_values(by = \"igr\", ascending = False)\n",
    "mercantil_protestar = mercantil_protestar[col]\n",
    "\n",
    "caminho_arquivo_csv = r'C:\\Users\\BHN\\datascience\\divida_ativa\\analysis\\relacao_cdas_por_cenario_recuperacao\\mercantil_protesto.csv'\n",
    "igr_dagt03klt200k_media_alta_altissima_exportar.to_csv(caminho_arquivo_csv, index=False, sep = \";\", decimal = \",\")"
   ]
  },
  {
   "cell_type": "markdown",
   "metadata": {},
   "source": [
    "## Maior que 200.000"
   ]
  },
  {
   "cell_type": "code",
   "execution_count": 143,
   "metadata": {},
   "outputs": [
    {
     "data": {
      "text/plain": [
       "8916550.33"
      ]
     },
     "execution_count": 143,
     "metadata": {},
     "output_type": "execute_result"
    }
   ],
   "source": [
    "mercantil_ajuizar = mercantil_ajuizar.sort_values(by = \"igr\", ascending = False)\n",
    "mercantil_ajuizar = mercantil_ajuizar[col]\n",
    "\n",
    "caminho_arquivo_csv = r'C:\\Users\\BHN\\datascience\\divida_ativa\\analysis\\relacao_cdas_por_cenario_recuperacao\\mercantil_ajuizamento.csv'\n",
    "mercantil_ajuizar.to_csv(caminho_arquivo_csv, index=False, sep = \";\", decimal = \",\")"
   ]
  }
 ],
 "metadata": {
  "kernelspec": {
   "display_name": "ml-recife",
   "language": "python",
   "name": "python3"
  },
  "language_info": {
   "codemirror_mode": {
    "name": "ipython",
    "version": 3
   },
   "file_extension": ".py",
   "mimetype": "text/x-python",
   "name": "python",
   "nbconvert_exporter": "python",
   "pygments_lexer": "ipython3",
   "version": "3.10.0"
  },
  "orig_nbformat": 4
 },
 "nbformat": 4,
 "nbformat_minor": 2
}
